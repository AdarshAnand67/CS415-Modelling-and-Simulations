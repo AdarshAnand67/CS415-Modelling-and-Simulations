{
    "cells": [
        {
            "cell_type": "code",
            "execution_count": 1,
            "metadata": {},
            "outputs": [],
            "source": ["# !pip install simpy"],
        },
        {
            "cell_type": "code",
            "execution_count": 2,
            "metadata": {},
            "outputs": [],
            "source": ["import simpy\n"],
        },
        {
            "cell_type": "markdown",
            "metadata": {},
            "source": [
                "One of SimPy’s main goals is to be easy to use. Here is an example for a simple SimPy simulation: a clock process that prints the current simulation time at each step:\n",
                "\n",
            ],
        },
        {
            "cell_type": "code",
            "execution_count": 3,
            "metadata": {},
            "outputs": [],
            "source": [
                "def clock(env, name, tick):\n",
                "    while True:\n",
                "        print(name, env.now)\n",
                "        yield env.timeout(tick)",
            ],
        },
        {
            "cell_type": "code",
            "execution_count": 4,
            "metadata": {},
            "outputs": [
                {
                    "data": {
                        "text/plain": ["<Process(clock) object at 0x22bb7a5cc40>"]
                    },
                    "execution_count": 4,
                    "metadata": {},
                    "output_type": "execute_result",
                }
            ],
            "source": [
                "env = simpy.Environment()\n",
                "env.process(clock(env, 'fast_clock', 0.5))",
            ],
        },
        {
            "cell_type": "code",
            "execution_count": 5,
            "metadata": {},
            "outputs": [
                {
                    "data": {
                        "text/plain": ["<Process(clock) object at 0x22bb7832580>"]
                    },
                    "execution_count": 5,
                    "metadata": {},
                    "output_type": "execute_result",
                }
            ],
            "source": ["env.process(clock(env, 'slow_clock', 1))"],
        },
        {
            "cell_type": "code",
            "execution_count": 6,
            "metadata": {},
            "outputs": [
                {
                    "name": "stdout",
                    "output_type": "stream",
                    "text": [
                        "fast_clock 0\n",
                        "slow_clock 0\n",
                        "fast_clock 0.5\n",
                        "slow_clock 1\n",
                        "fast_clock 1.0\n",
                        "fast_clock 1.5\n",
                    ],
                }
            ],
            "source": ["env.run(until=2)\n"],
        },
        {
            "cell_type": "markdown",
            "metadata": {},
            "source": [
                "Our first example will be a car process. The car will alternately drive and park for a while. When it starts driving (or parking), it will print the current simulation time.\n",
                "\n",
            ],
        },
        {
            "cell_type": "code",
            "execution_count": 7,
            "metadata": {},
            "outputs": [],
            "source": [
                "def car(env):\n",
                "    while True:\n",
                "        print('Start parking at %d' % env.now)\n",
                "        parking_duration = 5\n",
                "        yield env.timeout(parking_duration)\n",
                "        \n",
                "        print('Start driving at %d' % env.now)\n",
                "        trip_duration = 2\n",
                "        yield env.timeout(trip_duration)",
            ],
        },
        {
            "cell_type": "code",
            "execution_count": 8,
            "metadata": {},
            "outputs": [
                {
                    "data": {"text/plain": ["<Process(car) object at 0x22bb7825a90>"]},
                    "execution_count": 8,
                    "metadata": {},
                    "output_type": "execute_result",
                }
            ],
            "source": ["env = simpy.Environment()\n", "env.process(car(env))"],
        },
        {
            "cell_type": "code",
            "execution_count": 9,
            "metadata": {},
            "outputs": [
                {
                    "name": "stdout",
                    "output_type": "stream",
                    "text": [
                        "Start parking at 0\n",
                        "Start driving at 5\n",
                        "Start parking at 7\n",
                        "Start driving at 12\n",
                        "Start parking at 14\n",
                    ],
                }
            ],
            "source": ["env.run(until=15)"],
        },
        {
            "cell_type": "code",
            "execution_count": null,
            "metadata": {},
            "outputs": [],
            "source": [],
        },
    ],
    "metadata": {
        "interpreter": {
            "hash": "c0f70214c0dd213f07f54ee5d6e0ea644bdbba35113c9bfe8aaa0d1db03ad5dd"
        },
        "kernelspec": {
            "display_name": "Python 3.9.7 64-bit ('base': conda)",
            "language": "python",
            "name": "python3",
        },
        "language_info": {
            "codemirror_mode": {"name": "ipython", "version": 3},
            "file_extension": ".py",
            "mimetype": "text/x-python",
            "name": "python",
            "nbconvert_exporter": "python",
            "pygments_lexer": "ipython3",
            "version": "3.9.7",
        },
        "orig_nbformat": 4,
    },
    "nbformat": 4,
    "nbformat_minor": 2,
}
