{
 "cells": [
  {
   "cell_type": "code",
   "execution_count": 1,
   "metadata": {},
   "outputs": [],
   "source": [
    "# A Python  utility to observe the Central Limit Theorem (CLT) in action.\n",
    "# Author: Neha Karanjkar\n",
    "\n",
    "# Changes made by : Aniket Akshay Chaudhri\n",
    "# Roll No. 2003104\n",
    "# B.Tech CSE 2020\n",
    "# Date : 13/04/2022\n",
    "\n",
    "\n"
   ]
  },
  {
   "cell_type": "code",
   "execution_count": 2,
   "metadata": {},
   "outputs": [
    {
     "name": "stdout",
     "output_type": "stream",
     "text": [
      "Num samples= 5000\n",
      "Population Distribution =  uniform\n"
     ]
    }
   ],
   "source": [
    "import matplotlib.pyplot as plt\n",
    "import random\n",
    "import numpy as np\n",
    "import math\n",
    "import scipy.stats as stats\n",
    "\n",
    "# The population can have an arbitrary distribution\n",
    "# It has an expectation MU and std-dev SIGMA\n",
    "MU = 0\n",
    "SIGMA = 0\n",
    "\n",
    "# define some functions to generate samples from a given distribution:\n",
    "\n",
    "\n",
    "def normal():\n",
    "\tglobal MU, SIGMA\n",
    "\tMU = 3\n",
    "\tSIGMA = 3\n",
    "\twhile True:\n",
    "\t\tyield random.gauss(MU, SIGMA)  # normal distribution\n",
    "\n",
    "\n",
    "def uniform():\n",
    "\tglobal MU, SIGMA\n",
    "\tMU = 0.5\n",
    "\tSIGMA = 1/math.sqrt(12)\n",
    "\twhile True:\n",
    "\t\tyield random.uniform(0, 1)  # uniform distribution\n",
    "\n",
    "\n",
    "def triangular():\n",
    "\tglobal MU, SIGMA\n",
    "\ta, b, c = -5, 20, 0\n",
    "\tMU = (a+b+c)/3\n",
    "\tSIGMA = math.sqrt((a*a + b*b + c*c - a*b-a*c-b*c)/18)\n",
    "\twhile True:\n",
    "\t\tyield random.triangular(a, b, c)  # triangular distribution\n",
    "\n",
    "\n",
    "def bernoulli():\n",
    "\tglobal MU, SIGMA\n",
    "\tp = 0.5\n",
    "\tMU = p\n",
    "\tSIGMA = math.sqrt(p*(1-p))\n",
    "\twhile True:\n",
    "\t\tif random.random() > 0.5:\n",
    "\t\t\tyield 1\n",
    "\t\telse:\n",
    "\t\t\tyield 0\n",
    "\n",
    "def exponential():\n",
    "\tglobal MU, SIGMA\n",
    "\tlambd = 2\n",
    "\tMU = 1/lambd\n",
    "\tSIGMA = 1/(lambd**2)\n",
    "\twhile True:\n",
    "\t\tyield random.expovariate(lambd)\n",
    "\n",
    "\n",
    "# set the distribution here\n",
    "RAND = uniform()\n",
    "\n",
    "# histogram settings\n",
    "sample_sizes = [25, 100, 400, 1600]\n",
    "num_samples = 5000\n",
    "print(\"Num samples=\", num_samples)\n",
    "print(\"Population Distribution = \", str(RAND.__name__))\n",
    "\n",
    "def plot():\n",
    "\tfor N in sample_sizes:\n",
    "\t\tdata = []  # a list of sample averages\n",
    "\n",
    "\t\tfor i in range(num_samples):\n",
    "\t\t\t# pick a sample of size N and find the sample average\n",
    "\t\t\tx = 0\n",
    "\t\t\tfor i in range(N):\n",
    "\t\t\t\tx += next(RAND)\n",
    "\t\t\tx = x/N\n",
    "\t\t\t# store the sample average in the data list\n",
    "\t\t\tdata.append(x)\n",
    "\n",
    "\t\tprint(\"plotting for sample size=\", N, \"...\")\n",
    "\t\t# plot a histogram of all sample averages\n",
    "\t\tnum_bins = 50\n",
    "\t\tplt.hist(data, bins=num_bins, label=\"sample size:\" +\n",
    "\t\t\t\tstr(N), density=True, alpha=0.5)\n",
    "\n",
    "\t\t# plot a normal curve superimposed on the histogram\n",
    "\t\tS = SIGMA/(math.sqrt(N))\n",
    "\t\tx_axis = np.linspace(min(data), max(data), num_bins*3)\n",
    "\t\tplt.plot(x_axis, stats.norm.pdf(x_axis, MU, S), color='k')\n",
    "\t\t# Sample Standard Deviation\n",
    "\t\tstd_dev_sample = math.sqrt(sum((data - np.mean(data))**2)/N)\n",
    "\t\tprint(f'Expected std_dev = {S}\\n Found std_dev = {std_dev_sample}\\n')\n",
    "\n",
    "\n",
    "\tplt.legend()\n",
    "\tplt.show()\n"
   ]
  },
  {
   "cell_type": "code",
   "execution_count": 3,
   "metadata": {},
   "outputs": [
    {
     "name": "stdout",
     "output_type": "stream",
     "text": [
      "plotting for sample size= 25 ...\n",
      "Expected std_dev = 1.0801234497346432\n",
      " Found std_dev = 15.174050552557189\n",
      "\n",
      "plotting for sample size= 100 ...\n",
      "Expected std_dev = 0.5400617248673216\n",
      " Found std_dev = 3.7893150270274014\n",
      "\n",
      "plotting for sample size= 400 ...\n",
      "Expected std_dev = 0.2700308624336608\n",
      " Found std_dev = 0.9613681595919936\n",
      "\n"
     ]
    }
   ],
   "source": [
    "RAND = triangular()\n",
    "plot()\n"
   ]
  },
  {
   "cell_type": "code",
   "execution_count": null,
   "metadata": {},
   "outputs": [],
   "source": [
    "RAND = bernoulli()\n",
    "plot()\n"
   ]
  },
  {
   "cell_type": "code",
   "execution_count": null,
   "metadata": {},
   "outputs": [],
   "source": [
    "RAND = exponential()\n",
    "plot()"
   ]
  },
  {
   "cell_type": "code",
   "execution_count": null,
   "metadata": {},
   "outputs": [],
   "source": [
    "sample_sizes = [100, 400, 1600, 6400]\n",
    "RAND = exponential()\n",
    "plot()\n"
   ]
  },
  {
   "cell_type": "code",
   "execution_count": null,
   "metadata": {},
   "outputs": [],
   "source": [
    "sample_sizes = [25, 100, 400, 1600]\n",
    "RAND = exponential()\n",
    "plot()\n"
   ]
  },
  {
   "cell_type": "markdown",
   "metadata": {},
   "source": [
    "**Report**\n",
    "\n",
    "Observations:\n",
    "\n",
    "1. As sample size is increasing, the expected std_dev and measured std_dev are coming closer\n",
    "2. As Number of samples is increasing, the std_dev is decreasing\n",
    "3. All functions (Bernoulli, Triangular, Exponential, Uniform) have nearly - normal distribution with large samples size\n"
   ]
  }
 ],
 "metadata": {
  "interpreter": {
   "hash": "47ccd083bff159a32f791b74231e0206b115d0ff3099ff1dac4d189b65c69515"
  },
  "kernelspec": {
   "display_name": "Python 3.9.5 64-bit",
   "language": "python",
   "name": "python3"
  },
  "language_info": {
   "codemirror_mode": {
    "name": "ipython",
    "version": 3
   },
   "file_extension": ".py",
   "mimetype": "text/x-python",
   "name": "python",
   "nbconvert_exporter": "python",
   "pygments_lexer": "ipython3",
   "version": "3.9.7"
  },
  "orig_nbformat": 4
 },
 "nbformat": 4,
 "nbformat_minor": 2
}
