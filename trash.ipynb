{
 "cells": [
  {
   "cell_type": "code",
   "execution_count": 8,
   "metadata": {},
   "outputs": [
    {
     "data": {
      "text/plain": [
       "' Library imports '"
      ]
     },
     "execution_count": 8,
     "metadata": {},
     "output_type": "execute_result"
    },
    {
     "data": {
      "text/plain": [
       "'Defining the constants'"
      ]
     },
     "execution_count": 8,
     "metadata": {},
     "output_type": "execute_result"
    },
    {
     "data": {
      "text/plain": [
       "' Main simpy function code '"
      ]
     },
     "execution_count": 8,
     "metadata": {},
     "output_type": "execute_result"
    },
    {
     "name": "stdout",
     "output_type": "stream",
     "text": [
      "🌕 Power is on at 0 minutes\n",
      "TIME=0 - 🙂 Student #0 started working.Work left=289 minutes\n",
      "TIME=0 - 🙂 Student #1 started working.Work left=268 minutes\n",
      "TIME=0 - 🙂 Student #2 started working.Work left=255 minutes\n",
      "TIME=0 - 🙂 Student #3 started working.Work left=273 minutes\n",
      "TIME=0 - 🙂 Student #4 started working.Work left=292 minutes\n",
      "TIME=0 - 🙂 Student #5 started working.Work left=280 minutes\n",
      "TIME=0 - 🙂 Student #6 started working.Work left=283 minutes\n",
      "TIME=0 - 🙂 Student #7 started working.Work left=240 minutes\n",
      "TIME=0 - 🙂 Student #8 started working.Work left=254 minutes\n",
      "TIME=0 - 🙂 Student #9 started working.Work left=286 minutes\n",
      "🌑 Power is off at 70 minutes\n",
      "TIME=70 - 😓 Student #0 interrupted by power cut. Task remaining=219 minutes\n",
      "TIME=70 - 😓 Student #1 interrupted by power cut. Task remaining=198 minutes\n",
      "TIME=70 - 😓 Student #2 interrupted by power cut. Task remaining=185 minutes\n",
      "TIME=70 - 😓 Student #3 interrupted by power cut. Task remaining=203 minutes\n",
      "TIME=70 - 😓 Student #4 interrupted by power cut. Task remaining=222 minutes\n",
      "TIME=70 - 😓 Student #5 interrupted by power cut. Task remaining=210 minutes\n",
      "TIME=70 - 😓 Student #6 interrupted by power cut. Task remaining=213 minutes\n",
      "TIME=70 - 😓 Student #7 interrupted by power cut. Task remaining=170 minutes\n",
      "TIME=70 - 😓 Student #8 interrupted by power cut. Task remaining=184 minutes\n",
      "TIME=70 - 😓 Student #9 interrupted by power cut. Task remaining=216 minutes\n",
      "🌕 Power is on at 81 minutes\n",
      "TIME=81 - 😃 Student #0 resumes working. Work left to do=219 minutes\n",
      "TIME=81 - 😃 Student #1 resumes working. Work left to do=198 minutes\n",
      "TIME=81 - 😃 Student #2 resumes working. Work left to do=185 minutes\n",
      "TIME=81 - 😃 Student #3 resumes working. Work left to do=203 minutes\n",
      "TIME=81 - 😃 Student #4 resumes working. Work left to do=222 minutes\n",
      "TIME=81 - 😃 Student #5 resumes working. Work left to do=210 minutes\n",
      "TIME=81 - 😃 Student #6 resumes working. Work left to do=213 minutes\n",
      "TIME=81 - 😃 Student #7 resumes working. Work left to do=170 minutes\n",
      "TIME=81 - 😃 Student #8 resumes working. Work left to do=184 minutes\n",
      "TIME=81 - 😃 Student #9 resumes working. Work left to do=216 minutes\n",
      "🌑 Power is off at 153 minutes\n",
      "TIME=153 - 😓 Student #0 interrupted by power cut. Task remaining=147 minutes\n",
      "TIME=153 - 😓 Student #1 interrupted by power cut. Task remaining=126 minutes\n",
      "TIME=153 - 😓 Student #2 interrupted by power cut. Task remaining=113 minutes\n",
      "TIME=153 - 😓 Student #3 interrupted by power cut. Task remaining=131 minutes\n",
      "TIME=153 - 😓 Student #4 interrupted by power cut. Task remaining=150 minutes\n",
      "TIME=153 - 😓 Student #5 interrupted by power cut. Task remaining=138 minutes\n",
      "TIME=153 - 😓 Student #6 interrupted by power cut. Task remaining=141 minutes\n",
      "TIME=153 - 😓 Student #7 interrupted by power cut. Task remaining=98 minutes\n",
      "TIME=153 - 😓 Student #8 interrupted by power cut. Task remaining=112 minutes\n",
      "TIME=153 - 😓 Student #9 interrupted by power cut. Task remaining=144 minutes\n",
      "🌕 Power is on at 167 minutes\n",
      "TIME=167 - 😃 Student #0 resumes working. Work left to do=147 minutes\n",
      "TIME=167 - 😃 Student #1 resumes working. Work left to do=126 minutes\n",
      "TIME=167 - 😃 Student #2 resumes working. Work left to do=113 minutes\n",
      "TIME=167 - 😃 Student #3 resumes working. Work left to do=131 minutes\n",
      "TIME=167 - 😃 Student #4 resumes working. Work left to do=150 minutes\n",
      "TIME=167 - 😃 Student #5 resumes working. Work left to do=138 minutes\n",
      "TIME=167 - 😃 Student #6 resumes working. Work left to do=141 minutes\n",
      "TIME=167 - 😃 Student #7 resumes working. Work left to do=98 minutes\n",
      "TIME=167 - 😃 Student #8 resumes working. Work left to do=112 minutes\n",
      "TIME=167 - 😃 Student #9 resumes working. Work left to do=144 minutes\n",
      "🌑 Power is off at 253 minutes\n",
      "TIME=253 - 😓 Student #0 interrupted by power cut. Task remaining=61 minutes\n",
      "TIME=253 - 😓 Student #1 interrupted by power cut. Task remaining=40 minutes\n",
      "TIME=253 - 😓 Student #2 interrupted by power cut. Task remaining=27 minutes\n",
      "TIME=253 - 😓 Student #3 interrupted by power cut. Task remaining=45 minutes\n",
      "TIME=253 - 😓 Student #4 interrupted by power cut. Task remaining=64 minutes\n",
      "TIME=253 - 😓 Student #5 interrupted by power cut. Task remaining=52 minutes\n",
      "TIME=253 - 😓 Student #6 interrupted by power cut. Task remaining=55 minutes\n",
      "TIME=253 - 😓 Student #7 interrupted by power cut. Task remaining=12 minutes\n",
      "TIME=253 - 😓 Student #8 interrupted by power cut. Task remaining=26 minutes\n",
      "TIME=253 - 😓 Student #9 interrupted by power cut. Task remaining=58 minutes\n",
      "TIME=258 - 😴 Student #4 slept. Assignment pending. Work left was=64 minutes\n",
      "🌕 Power is on at 267 minutes\n",
      "TIME=267 - 😃 Student #0 resumes working. Work left to do=61 minutes\n",
      "TIME=267 - 😃 Student #1 resumes working. Work left to do=40 minutes\n",
      "TIME=267 - 😃 Student #2 resumes working. Work left to do=27 minutes\n",
      "TIME=267 - 😃 Student #3 resumes working. Work left to do=45 minutes\n",
      "TIME=267 - 😃 Student #5 resumes working. Work left to do=52 minutes\n",
      "TIME=267 - 😃 Student #6 resumes working. Work left to do=55 minutes\n",
      "TIME=267 - 😃 Student #7 resumes working. Work left to do=12 minutes\n",
      "TIME=267 - 😃 Student #8 resumes working. Work left to do=26 minutes\n",
      "TIME=267 - 😃 Student #9 resumes working. Work left to do=58 minutes\n",
      "TIME=279 - 🥳 Student #7 finished working.\n",
      "TIME=293 - 🥳 Student #8 finished working.\n",
      "TIME=294 - 🥳 Student #2 finished working.\n",
      "TIME=307 - 🥳 Student #1 finished working.\n",
      "TIME=312 - 🥳 Student #3 finished working.\n",
      "TIME=319 - 🥳 Student #5 finished working.\n",
      "TIME=322 - 🥳 Student #6 finished working.\n",
      "TIME=325 - 🥳 Student #9 finished working.\n",
      "TIME=328 - 🥳 Student #0 finished working.\n"
     ]
    },
    {
     "data": {
      "text/plain": [
       "<ConditionValue {<Event() object at 0x1fecfb8ee50>: None}>"
      ]
     },
     "execution_count": 8,
     "metadata": {},
     "output_type": "execute_result"
    },
    {
     "name": "stdout",
     "output_type": "stream",
     "text": [
      "\n",
      "\n"
     ]
    },
    {
     "data": {
      "text/plain": [
       "'Summary of the simulation'"
      ]
     },
     "execution_count": 8,
     "metadata": {},
     "output_type": "execute_result"
    },
    {
     "name": "stdout",
     "output_type": "stream",
     "text": [
      "-----------------------------------------------------------------------------\n",
      "                     📊Summary of the simulation📊                     \n",
      "-----------------------------------------------------------------------------\n",
      "Number of students who finished assignment on time 🥳                  9\n",
      "Number of students who Slept😴                                         1\n",
      "Number of students👦                                                   10\n",
      "Percentage of students who finished assignment on time (in %)         90.0\n",
      "Average time to finish assignment                                     308.78\n",
      "Number of power cuts🌑🌕                                                3\n",
      "-----------------------------------------------------------------------------\n",
      "🌕 Power is on at 0 minutes\n",
      "TIME=0 - 🙂 Student #0 started working.Work left=290 minutes\n",
      "TIME=0 - 🙂 Student #1 started working.Work left=297 minutes\n",
      "TIME=0 - 🙂 Student #2 started working.Work left=290 minutes\n",
      "TIME=0 - 🙂 Student #3 started working.Work left=286 minutes\n",
      "TIME=0 - 🙂 Student #4 started working.Work left=248 minutes\n",
      "TIME=0 - 🙂 Student #5 started working.Work left=292 minutes\n",
      "TIME=0 - 🙂 Student #6 started working.Work left=259 minutes\n",
      "TIME=0 - 🙂 Student #7 started working.Work left=264 minutes\n",
      "TIME=0 - 🙂 Student #8 started working.Work left=268 minutes\n",
      "TIME=0 - 🙂 Student #9 started working.Work left=274 minutes\n",
      "🌑 Power is off at 111 minutes\n",
      "TIME=111 - 😓 Student #0 interrupted by power cut. Task remaining=179 minutes\n",
      "TIME=111 - 😓 Student #1 interrupted by power cut. Task remaining=186 minutes\n",
      "TIME=111 - 😓 Student #2 interrupted by power cut. Task remaining=179 minutes\n",
      "TIME=111 - 😓 Student #3 interrupted by power cut. Task remaining=175 minutes\n",
      "TIME=111 - 😓 Student #4 interrupted by power cut. Task remaining=137 minutes\n",
      "TIME=111 - 😓 Student #5 interrupted by power cut. Task remaining=181 minutes\n",
      "TIME=111 - 😓 Student #6 interrupted by power cut. Task remaining=148 minutes\n",
      "TIME=111 - 😓 Student #7 interrupted by power cut. Task remaining=153 minutes\n",
      "TIME=111 - 😓 Student #8 interrupted by power cut. Task remaining=157 minutes\n",
      "TIME=111 - 😓 Student #9 interrupted by power cut. Task remaining=163 minutes\n",
      "🌕 Power is on at 121 minutes\n",
      "TIME=121 - 😃 Student #0 resumes working. Work left to do=179 minutes\n",
      "TIME=121 - 😃 Student #1 resumes working. Work left to do=186 minutes\n",
      "TIME=121 - 😃 Student #2 resumes working. Work left to do=179 minutes\n",
      "TIME=121 - 😃 Student #3 resumes working. Work left to do=175 minutes\n",
      "TIME=121 - 😃 Student #4 resumes working. Work left to do=137 minutes\n",
      "TIME=121 - 😃 Student #5 resumes working. Work left to do=181 minutes\n",
      "TIME=121 - 😃 Student #6 resumes working. Work left to do=148 minutes\n",
      "TIME=121 - 😃 Student #7 resumes working. Work left to do=153 minutes\n",
      "TIME=121 - 😃 Student #8 resumes working. Work left to do=157 minutes\n",
      "TIME=121 - 😃 Student #9 resumes working. Work left to do=163 minutes\n",
      "🌑 Power is off at 237 minutes\n",
      "TIME=237 - 😓 Student #0 interrupted by power cut. Task remaining=63 minutes\n",
      "TIME=237 - 😓 Student #1 interrupted by power cut. Task remaining=70 minutes\n",
      "TIME=237 - 😓 Student #2 interrupted by power cut. Task remaining=63 minutes\n",
      "TIME=237 - 😓 Student #3 interrupted by power cut. Task remaining=59 minutes\n",
      "TIME=237 - 😓 Student #4 interrupted by power cut. Task remaining=21 minutes\n",
      "TIME=237 - 😓 Student #5 interrupted by power cut. Task remaining=65 minutes\n",
      "TIME=237 - 😓 Student #6 interrupted by power cut. Task remaining=32 minutes\n",
      "TIME=237 - 😓 Student #7 interrupted by power cut. Task remaining=37 minutes\n",
      "TIME=237 - 😓 Student #8 interrupted by power cut. Task remaining=41 minutes\n",
      "TIME=237 - 😓 Student #9 interrupted by power cut. Task remaining=47 minutes\n",
      "🌕 Power is on at 250 minutes\n",
      "TIME=250 - 😃 Student #0 resumes working. Work left to do=63 minutes\n",
      "TIME=250 - 😃 Student #1 resumes working. Work left to do=70 minutes\n",
      "TIME=250 - 😃 Student #2 resumes working. Work left to do=63 minutes\n",
      "TIME=250 - 😃 Student #3 resumes working. Work left to do=59 minutes\n",
      "TIME=250 - 😃 Student #4 resumes working. Work left to do=21 minutes\n",
      "TIME=250 - 😃 Student #5 resumes working. Work left to do=65 minutes\n",
      "TIME=250 - 😃 Student #6 resumes working. Work left to do=32 minutes\n",
      "TIME=250 - 😃 Student #7 resumes working. Work left to do=37 minutes\n",
      "TIME=250 - 😃 Student #8 resumes working. Work left to do=41 minutes\n",
      "TIME=250 - 😃 Student #9 resumes working. Work left to do=47 minutes\n",
      "TIME=271 - 🥳 Student #4 finished working.\n",
      "TIME=282 - 🥳 Student #6 finished working.\n",
      "TIME=287 - 🥳 Student #7 finished working.\n",
      "TIME=291 - 🥳 Student #8 finished working.\n",
      "TIME=297 - 🥳 Student #9 finished working.\n",
      "TIME=309 - 🥳 Student #3 finished working.\n",
      "TIME=313 - 🥳 Student #0 finished working.\n",
      "TIME=313 - 🥳 Student #2 finished working.\n",
      "TIME=315 - 🥳 Student #5 finished working.\n",
      "TIME=320 - 🥳 Student #1 finished working.\n",
      "🌑 Power is off at 334 minutes\n",
      "🌕 Power is on at 346 minutes\n",
      "🌑 Power is off at 408 minutes\n",
      "🌕 Power is on at 419 minutes\n",
      "The time is 420 minutes\n",
      "The time is 420 minutes\n"
     ]
    },
    {
     "data": {
      "text/plain": [
       "<ConditionValue {<Process(timeduration) object at 0x1fecfb61100>: None}>"
      ]
     },
     "execution_count": 8,
     "metadata": {},
     "output_type": "execute_result"
    },
    {
     "name": "stdout",
     "output_type": "stream",
     "text": [
      "\n",
      "\n"
     ]
    },
    {
     "data": {
      "text/plain": [
       "'Summary of the simulation'"
      ]
     },
     "execution_count": 8,
     "metadata": {},
     "output_type": "execute_result"
    },
    {
     "name": "stdout",
     "output_type": "stream",
     "text": [
      "-----------------------------------------------------------------------------\n",
      "                     📊Summary of the simulation📊                     \n",
      "-----------------------------------------------------------------------------\n",
      "Number of students who finished assignment on time 🥳                  10\n",
      "Number of students who Slept😴                                         0\n",
      "Number of students👦                                                   10\n",
      "Percentage of students who finished assignment on time (in %)         100.0\n",
      "Average time to finish assignment                                     304.05\n",
      "Number of power cuts🌑🌕                                                7\n",
      "-----------------------------------------------------------------------------\n",
      "🌕 Power is on at 0 minutes\n",
      "TIME=0 - 🙂 Student #0 started working.Work left=271 minutes\n",
      "TIME=0 - 🙂 Student #1 started working.Work left=252 minutes\n",
      "TIME=0 - 🙂 Student #2 started working.Work left=250 minutes\n",
      "TIME=0 - 🙂 Student #3 started working.Work left=247 minutes\n",
      "TIME=0 - 🙂 Student #4 started working.Work left=242 minutes\n",
      "TIME=0 - 🙂 Student #5 started working.Work left=269 minutes\n",
      "TIME=0 - 🙂 Student #6 started working.Work left=246 minutes\n",
      "TIME=0 - 🙂 Student #7 started working.Work left=253 minutes\n",
      "TIME=0 - 🙂 Student #8 started working.Work left=275 minutes\n",
      "TIME=0 - 🙂 Student #9 started working.Work left=242 minutes\n",
      "🌑 Power is off at 105 minutes\n",
      "TIME=105 - 😓 Student #0 interrupted by power cut. Task remaining=166 minutes\n",
      "TIME=105 - 😓 Student #1 interrupted by power cut. Task remaining=147 minutes\n",
      "TIME=105 - 😓 Student #2 interrupted by power cut. Task remaining=145 minutes\n",
      "TIME=105 - 😓 Student #3 interrupted by power cut. Task remaining=142 minutes\n",
      "TIME=105 - 😓 Student #4 interrupted by power cut. Task remaining=137 minutes\n",
      "TIME=105 - 😓 Student #5 interrupted by power cut. Task remaining=164 minutes\n",
      "TIME=105 - 😓 Student #6 interrupted by power cut. Task remaining=141 minutes\n",
      "TIME=105 - 😓 Student #7 interrupted by power cut. Task remaining=148 minutes\n",
      "TIME=105 - 😓 Student #8 interrupted by power cut. Task remaining=170 minutes\n",
      "TIME=105 - 😓 Student #9 interrupted by power cut. Task remaining=137 minutes\n",
      "TIME=110 - 😴 Student #8 slept. Assignment pending. Work left was=170 minutes\n",
      "🌕 Power is on at 115 minutes\n",
      "TIME=115 - 😃 Student #0 resumes working. Work left to do=166 minutes\n",
      "TIME=115 - 😃 Student #1 resumes working. Work left to do=147 minutes\n",
      "TIME=115 - 😃 Student #2 resumes working. Work left to do=145 minutes\n",
      "TIME=115 - 😃 Student #3 resumes working. Work left to do=142 minutes\n",
      "TIME=115 - 😃 Student #4 resumes working. Work left to do=137 minutes\n",
      "TIME=115 - 😃 Student #5 resumes working. Work left to do=164 minutes\n",
      "TIME=115 - 😃 Student #6 resumes working. Work left to do=141 minutes\n",
      "TIME=115 - 😃 Student #7 resumes working. Work left to do=148 minutes\n",
      "TIME=115 - 😃 Student #9 resumes working. Work left to do=137 minutes\n",
      "🌑 Power is off at 208 minutes\n",
      "TIME=208 - 😓 Student #0 interrupted by power cut. Task remaining=73 minutes\n",
      "TIME=208 - 😓 Student #1 interrupted by power cut. Task remaining=54 minutes\n",
      "TIME=208 - 😓 Student #2 interrupted by power cut. Task remaining=52 minutes\n",
      "TIME=208 - 😓 Student #3 interrupted by power cut. Task remaining=49 minutes\n",
      "TIME=208 - 😓 Student #4 interrupted by power cut. Task remaining=44 minutes\n",
      "TIME=208 - 😓 Student #5 interrupted by power cut. Task remaining=71 minutes\n",
      "TIME=208 - 😓 Student #6 interrupted by power cut. Task remaining=48 minutes\n",
      "TIME=208 - 😓 Student #7 interrupted by power cut. Task remaining=55 minutes\n",
      "TIME=208 - 😓 Student #9 interrupted by power cut. Task remaining=44 minutes\n",
      "🌕 Power is on at 218 minutes\n",
      "TIME=218 - 😃 Student #0 resumes working. Work left to do=73 minutes\n",
      "TIME=218 - 😃 Student #1 resumes working. Work left to do=54 minutes\n",
      "TIME=218 - 😃 Student #2 resumes working. Work left to do=52 minutes\n",
      "TIME=218 - 😃 Student #3 resumes working. Work left to do=49 minutes\n",
      "TIME=218 - 😃 Student #4 resumes working. Work left to do=44 minutes\n",
      "TIME=218 - 😃 Student #5 resumes working. Work left to do=71 minutes\n",
      "TIME=218 - 😃 Student #6 resumes working. Work left to do=48 minutes\n",
      "TIME=218 - 😃 Student #7 resumes working. Work left to do=55 minutes\n",
      "TIME=218 - 😃 Student #9 resumes working. Work left to do=44 minutes\n",
      "TIME=262 - 🥳 Student #4 finished working.\n",
      "TIME=262 - 🥳 Student #9 finished working.\n",
      "TIME=266 - 🥳 Student #6 finished working.\n",
      "TIME=267 - 🥳 Student #3 finished working.\n",
      "TIME=270 - 🥳 Student #2 finished working.\n",
      "TIME=272 - 🥳 Student #1 finished working.\n",
      "TIME=273 - 🥳 Student #7 finished working.\n",
      "TIME=289 - 🥳 Student #5 finished working.\n",
      "TIME=291 - 🥳 Student #0 finished working.\n",
      "🌑 Power is off at 320 minutes\n",
      "🌕 Power is on at 331 minutes\n",
      "The time is 420 minutes\n",
      "The time is 420 minutes\n"
     ]
    },
    {
     "data": {
      "text/plain": [
       "<ConditionValue {<Process(timeduration) object at 0x1fecfb8e700>: None}>"
      ]
     },
     "execution_count": 8,
     "metadata": {},
     "output_type": "execute_result"
    },
    {
     "name": "stdout",
     "output_type": "stream",
     "text": [
      "\n",
      "\n"
     ]
    },
    {
     "data": {
      "text/plain": [
       "'Summary of the simulation'"
      ]
     },
     "execution_count": 8,
     "metadata": {},
     "output_type": "execute_result"
    },
    {
     "name": "stdout",
     "output_type": "stream",
     "text": [
      "-----------------------------------------------------------------------------\n",
      "                     📊Summary of the simulation📊                     \n",
      "-----------------------------------------------------------------------------\n",
      "Number of students who finished assignment on time 🥳                  9\n",
      "Number of students who Slept😴                                         1\n",
      "Number of students👦                                                   10\n",
      "Percentage of students who finished assignment on time (in %)         90.0\n",
      "Average time to finish assignment                                     293.89\n",
      "Number of power cuts🌑🌕                                                10\n",
      "-----------------------------------------------------------------------------\n",
      "🌕 Power is on at 0 minutes\n",
      "TIME=0 - 🙂 Student #0 started working.Work left=267 minutes\n",
      "TIME=0 - 🙂 Student #1 started working.Work left=295 minutes\n",
      "TIME=0 - 🙂 Student #2 started working.Work left=242 minutes\n",
      "TIME=0 - 🙂 Student #3 started working.Work left=260 minutes\n",
      "TIME=0 - 🙂 Student #4 started working.Work left=288 minutes\n",
      "TIME=0 - 🙂 Student #5 started working.Work left=289 minutes\n",
      "TIME=0 - 🙂 Student #6 started working.Work left=241 minutes\n",
      "TIME=0 - 🙂 Student #7 started working.Work left=273 minutes\n",
      "TIME=0 - 🙂 Student #8 started working.Work left=291 minutes\n",
      "TIME=0 - 🙂 Student #9 started working.Work left=271 minutes\n",
      "🌑 Power is off at 64 minutes\n",
      "TIME=64 - 😓 Student #0 interrupted by power cut. Task remaining=203 minutes\n",
      "TIME=64 - 😓 Student #1 interrupted by power cut. Task remaining=231 minutes\n",
      "TIME=64 - 😓 Student #2 interrupted by power cut. Task remaining=178 minutes\n",
      "TIME=64 - 😓 Student #3 interrupted by power cut. Task remaining=196 minutes\n",
      "TIME=64 - 😓 Student #4 interrupted by power cut. Task remaining=224 minutes\n",
      "TIME=64 - 😓 Student #5 interrupted by power cut. Task remaining=225 minutes\n",
      "TIME=64 - 😓 Student #6 interrupted by power cut. Task remaining=177 minutes\n",
      "TIME=64 - 😓 Student #7 interrupted by power cut. Task remaining=209 minutes\n",
      "TIME=64 - 😓 Student #8 interrupted by power cut. Task remaining=227 minutes\n",
      "TIME=64 - 😓 Student #9 interrupted by power cut. Task remaining=207 minutes\n",
      "🌕 Power is on at 77 minutes\n",
      "TIME=77 - 😃 Student #0 resumes working. Work left to do=203 minutes\n",
      "TIME=77 - 😃 Student #1 resumes working. Work left to do=231 minutes\n",
      "TIME=77 - 😃 Student #2 resumes working. Work left to do=178 minutes\n",
      "TIME=77 - 😃 Student #3 resumes working. Work left to do=196 minutes\n",
      "TIME=77 - 😃 Student #4 resumes working. Work left to do=224 minutes\n",
      "TIME=77 - 😃 Student #5 resumes working. Work left to do=225 minutes\n",
      "TIME=77 - 😃 Student #6 resumes working. Work left to do=177 minutes\n",
      "TIME=77 - 😃 Student #7 resumes working. Work left to do=209 minutes\n",
      "TIME=77 - 😃 Student #8 resumes working. Work left to do=227 minutes\n",
      "TIME=77 - 😃 Student #9 resumes working. Work left to do=207 minutes\n",
      "🌑 Power is off at 147 minutes\n",
      "TIME=147 - 😓 Student #0 interrupted by power cut. Task remaining=133 minutes\n",
      "TIME=147 - 😓 Student #1 interrupted by power cut. Task remaining=161 minutes\n",
      "TIME=147 - 😓 Student #2 interrupted by power cut. Task remaining=108 minutes\n",
      "TIME=147 - 😓 Student #3 interrupted by power cut. Task remaining=126 minutes\n",
      "TIME=147 - 😓 Student #4 interrupted by power cut. Task remaining=154 minutes\n",
      "TIME=147 - 😓 Student #5 interrupted by power cut. Task remaining=155 minutes\n",
      "TIME=147 - 😓 Student #6 interrupted by power cut. Task remaining=107 minutes\n",
      "TIME=147 - 😓 Student #7 interrupted by power cut. Task remaining=139 minutes\n",
      "TIME=147 - 😓 Student #8 interrupted by power cut. Task remaining=157 minutes\n",
      "TIME=147 - 😓 Student #9 interrupted by power cut. Task remaining=137 minutes\n",
      "TIME=152 - 😴 Student #0 slept. Assignment pending. Work left was=133 minutes\n",
      "🌕 Power is on at 159 minutes\n",
      "TIME=159 - 😃 Student #1 resumes working. Work left to do=161 minutes\n",
      "TIME=159 - 😃 Student #2 resumes working. Work left to do=108 minutes\n",
      "TIME=159 - 😃 Student #3 resumes working. Work left to do=126 minutes\n",
      "TIME=159 - 😃 Student #4 resumes working. Work left to do=154 minutes\n",
      "TIME=159 - 😃 Student #5 resumes working. Work left to do=155 minutes\n",
      "TIME=159 - 😃 Student #6 resumes working. Work left to do=107 minutes\n",
      "TIME=159 - 😃 Student #7 resumes working. Work left to do=139 minutes\n",
      "TIME=159 - 😃 Student #8 resumes working. Work left to do=157 minutes\n",
      "TIME=159 - 😃 Student #9 resumes working. Work left to do=137 minutes\n",
      "🌑 Power is off at 237 minutes\n",
      "TIME=237 - 😓 Student #1 interrupted by power cut. Task remaining=83 minutes\n",
      "TIME=237 - 😓 Student #2 interrupted by power cut. Task remaining=30 minutes\n",
      "TIME=237 - 😓 Student #3 interrupted by power cut. Task remaining=48 minutes\n",
      "TIME=237 - 😓 Student #4 interrupted by power cut. Task remaining=76 minutes\n",
      "TIME=237 - 😓 Student #5 interrupted by power cut. Task remaining=77 minutes\n",
      "TIME=237 - 😓 Student #6 interrupted by power cut. Task remaining=29 minutes\n",
      "TIME=237 - 😓 Student #7 interrupted by power cut. Task remaining=61 minutes\n",
      "TIME=237 - 😓 Student #8 interrupted by power cut. Task remaining=79 minutes\n",
      "TIME=237 - 😓 Student #9 interrupted by power cut. Task remaining=59 minutes\n",
      "🌕 Power is on at 250 minutes\n",
      "TIME=250 - 😃 Student #1 resumes working. Work left to do=83 minutes\n",
      "TIME=250 - 😃 Student #2 resumes working. Work left to do=30 minutes\n",
      "TIME=250 - 😃 Student #3 resumes working. Work left to do=48 minutes\n",
      "TIME=250 - 😃 Student #4 resumes working. Work left to do=76 minutes\n",
      "TIME=250 - 😃 Student #5 resumes working. Work left to do=77 minutes\n",
      "TIME=250 - 😃 Student #6 resumes working. Work left to do=29 minutes\n",
      "TIME=250 - 😃 Student #7 resumes working. Work left to do=61 minutes\n",
      "TIME=250 - 😃 Student #8 resumes working. Work left to do=79 minutes\n",
      "TIME=250 - 😃 Student #9 resumes working. Work left to do=59 minutes\n",
      "TIME=279 - 🥳 Student #6 finished working.\n",
      "TIME=280 - 🥳 Student #2 finished working.\n",
      "TIME=298 - 🥳 Student #3 finished working.\n",
      "TIME=309 - 🥳 Student #9 finished working.\n",
      "TIME=311 - 🥳 Student #7 finished working.\n",
      "TIME=326 - 🥳 Student #4 finished working.\n",
      "TIME=327 - 🥳 Student #5 finished working.\n",
      "TIME=329 - 🥳 Student #8 finished working.\n",
      "🌑 Power is off at 333 minutes\n",
      "TIME=333 - 🥳 Student #1 finished working.\n",
      "🌕 Power is on at 347 minutes\n",
      "The time is 420 minutes\n",
      "The time is 420 minutes\n"
     ]
    },
    {
     "data": {
      "text/plain": [
       "<ConditionValue {<Process(timeduration) object at 0x1fecfb0dfd0>: None}>"
      ]
     },
     "execution_count": 8,
     "metadata": {},
     "output_type": "execute_result"
    },
    {
     "name": "stdout",
     "output_type": "stream",
     "text": [
      "\n",
      "\n"
     ]
    },
    {
     "data": {
      "text/plain": [
       "'Summary of the simulation'"
      ]
     },
     "execution_count": 8,
     "metadata": {},
     "output_type": "execute_result"
    },
    {
     "name": "stdout",
     "output_type": "stream",
     "text": [
      "-----------------------------------------------------------------------------\n",
      "                     📊Summary of the simulation📊                     \n",
      "-----------------------------------------------------------------------------\n",
      "Number of students who finished assignment on time 🥳                  9\n",
      "Number of students who Slept😴                                         1\n",
      "Number of students👦                                                   10\n",
      "Percentage of students who finished assignment on time (in %)         90.0\n",
      "Average time to finish assignment                                     297.86\n",
      "Number of power cuts🌑🌕                                                14\n",
      "-----------------------------------------------------------------------------\n",
      "🌕 Power is on at 0 minutes\n",
      "TIME=0 - 🙂 Student #0 started working.Work left=253 minutes\n",
      "TIME=0 - 🙂 Student #1 started working.Work left=296 minutes\n",
      "TIME=0 - 🙂 Student #2 started working.Work left=299 minutes\n",
      "TIME=0 - 🙂 Student #3 started working.Work left=272 minutes\n",
      "TIME=0 - 🙂 Student #4 started working.Work left=267 minutes\n",
      "TIME=0 - 🙂 Student #5 started working.Work left=300 minutes\n",
      "TIME=0 - 🙂 Student #6 started working.Work left=296 minutes\n",
      "TIME=0 - 🙂 Student #7 started working.Work left=291 minutes\n",
      "TIME=0 - 🙂 Student #8 started working.Work left=261 minutes\n",
      "TIME=0 - 🙂 Student #9 started working.Work left=280 minutes\n",
      "🌑 Power is off at 102 minutes\n",
      "TIME=102 - 😓 Student #0 interrupted by power cut. Task remaining=151 minutes\n",
      "TIME=102 - 😓 Student #1 interrupted by power cut. Task remaining=194 minutes\n",
      "TIME=102 - 😓 Student #2 interrupted by power cut. Task remaining=197 minutes\n",
      "TIME=102 - 😓 Student #3 interrupted by power cut. Task remaining=170 minutes\n",
      "TIME=102 - 😓 Student #4 interrupted by power cut. Task remaining=165 minutes\n",
      "TIME=102 - 😓 Student #5 interrupted by power cut. Task remaining=198 minutes\n",
      "TIME=102 - 😓 Student #6 interrupted by power cut. Task remaining=194 minutes\n",
      "TIME=102 - 😓 Student #7 interrupted by power cut. Task remaining=189 minutes\n",
      "TIME=102 - 😓 Student #8 interrupted by power cut. Task remaining=159 minutes\n",
      "TIME=102 - 😓 Student #9 interrupted by power cut. Task remaining=178 minutes\n",
      "🌕 Power is on at 114 minutes\n",
      "TIME=114 - 😃 Student #0 resumes working. Work left to do=151 minutes\n",
      "TIME=114 - 😃 Student #1 resumes working. Work left to do=194 minutes\n",
      "TIME=114 - 😃 Student #2 resumes working. Work left to do=197 minutes\n",
      "TIME=114 - 😃 Student #3 resumes working. Work left to do=170 minutes\n",
      "TIME=114 - 😃 Student #4 resumes working. Work left to do=165 minutes\n",
      "TIME=114 - 😃 Student #5 resumes working. Work left to do=198 minutes\n",
      "TIME=114 - 😃 Student #6 resumes working. Work left to do=194 minutes\n",
      "TIME=114 - 😃 Student #7 resumes working. Work left to do=189 minutes\n",
      "TIME=114 - 😃 Student #8 resumes working. Work left to do=159 minutes\n",
      "TIME=114 - 😃 Student #9 resumes working. Work left to do=178 minutes\n",
      "🌑 Power is off at 209 minutes\n",
      "TIME=209 - 😓 Student #0 interrupted by power cut. Task remaining=56 minutes\n",
      "TIME=209 - 😓 Student #1 interrupted by power cut. Task remaining=99 minutes\n",
      "TIME=209 - 😓 Student #2 interrupted by power cut. Task remaining=102 minutes\n",
      "TIME=209 - 😓 Student #3 interrupted by power cut. Task remaining=75 minutes\n",
      "TIME=209 - 😓 Student #4 interrupted by power cut. Task remaining=70 minutes\n",
      "TIME=209 - 😓 Student #5 interrupted by power cut. Task remaining=103 minutes\n",
      "TIME=209 - 😓 Student #6 interrupted by power cut. Task remaining=99 minutes\n",
      "TIME=209 - 😓 Student #7 interrupted by power cut. Task remaining=94 minutes\n",
      "TIME=209 - 😓 Student #8 interrupted by power cut. Task remaining=64 minutes\n",
      "TIME=209 - 😓 Student #9 interrupted by power cut. Task remaining=83 minutes\n",
      "🌕 Power is on at 224 minutes\n",
      "TIME=224 - 😃 Student #0 resumes working. Work left to do=56 minutes\n",
      "TIME=224 - 😃 Student #1 resumes working. Work left to do=99 minutes\n",
      "TIME=224 - 😃 Student #2 resumes working. Work left to do=102 minutes\n",
      "TIME=224 - 😃 Student #3 resumes working. Work left to do=75 minutes\n",
      "TIME=224 - 😃 Student #4 resumes working. Work left to do=70 minutes\n",
      "TIME=224 - 😃 Student #5 resumes working. Work left to do=103 minutes\n",
      "TIME=224 - 😃 Student #6 resumes working. Work left to do=99 minutes\n",
      "TIME=224 - 😃 Student #7 resumes working. Work left to do=94 minutes\n",
      "TIME=224 - 😃 Student #8 resumes working. Work left to do=64 minutes\n",
      "TIME=224 - 😃 Student #9 resumes working. Work left to do=83 minutes\n",
      "TIME=280 - 🥳 Student #0 finished working.\n",
      "TIME=288 - 🥳 Student #8 finished working.\n",
      "TIME=294 - 🥳 Student #4 finished working.\n",
      "TIME=299 - 🥳 Student #3 finished working.\n",
      "TIME=307 - 🥳 Student #9 finished working.\n",
      "TIME=318 - 🥳 Student #7 finished working.\n",
      "🌑 Power is off at 320 minutes\n",
      "TIME=320 - 😓 Student #1 interrupted by power cut. Task remaining=3 minutes\n",
      "TIME=320 - 😓 Student #2 interrupted by power cut. Task remaining=6 minutes\n",
      "TIME=320 - 😓 Student #5 interrupted by power cut. Task remaining=7 minutes\n",
      "TIME=320 - 😓 Student #6 interrupted by power cut. Task remaining=3 minutes\n",
      "TIME=325 - 😴 Student #1 slept. Assignment pending. Work left was=3 minutes\n",
      "🌕 Power is on at 333 minutes\n",
      "TIME=333 - 😃 Student #2 resumes working. Work left to do=6 minutes\n",
      "TIME=333 - 😃 Student #5 resumes working. Work left to do=7 minutes\n",
      "TIME=333 - 😃 Student #6 resumes working. Work left to do=3 minutes\n",
      "TIME=336 - 🥳 Student #6 finished working.\n",
      "TIME=339 - 🥳 Student #2 finished working.\n",
      "TIME=340 - 🥳 Student #5 finished working.\n",
      "The time is 420 minutes\n",
      "The time is 420 minutes\n"
     ]
    },
    {
     "data": {
      "text/plain": [
       "<ConditionValue {<Process(timeduration) object at 0x1fecfb7eca0>: None}>"
      ]
     },
     "execution_count": 8,
     "metadata": {},
     "output_type": "execute_result"
    },
    {
     "name": "stdout",
     "output_type": "stream",
     "text": [
      "\n",
      "\n"
     ]
    },
    {
     "data": {
      "text/plain": [
       "'Summary of the simulation'"
      ]
     },
     "execution_count": 8,
     "metadata": {},
     "output_type": "execute_result"
    },
    {
     "name": "stdout",
     "output_type": "stream",
     "text": [
      "-----------------------------------------------------------------------------\n",
      "                     📊Summary of the simulation📊                     \n",
      "-----------------------------------------------------------------------------\n",
      "Number of students who finished assignment on time 🥳                  9\n",
      "Number of students who Slept😴                                         1\n",
      "Number of students👦                                                   10\n",
      "Percentage of students who finished assignment on time (in %)         90.0\n",
      "Average time to finish assignment                                     300.48\n",
      "Number of power cuts🌑🌕                                                17\n",
      "-----------------------------------------------------------------------------\n",
      "🌕 Power is on at 0 minutes\n",
      "TIME=0 - 🙂 Student #0 started working.Work left=293 minutes\n",
      "TIME=0 - 🙂 Student #1 started working.Work left=247 minutes\n",
      "TIME=0 - 🙂 Student #2 started working.Work left=281 minutes\n",
      "TIME=0 - 🙂 Student #3 started working.Work left=276 minutes\n",
      "TIME=0 - 🙂 Student #4 started working.Work left=273 minutes\n",
      "TIME=0 - 🙂 Student #5 started working.Work left=247 minutes\n",
      "TIME=0 - 🙂 Student #6 started working.Work left=250 minutes\n",
      "TIME=0 - 🙂 Student #7 started working.Work left=277 minutes\n",
      "TIME=0 - 🙂 Student #8 started working.Work left=254 minutes\n",
      "TIME=0 - 🙂 Student #9 started working.Work left=248 minutes\n",
      "🌑 Power is off at 111 minutes\n",
      "TIME=111 - 😓 Student #0 interrupted by power cut. Task remaining=182 minutes\n",
      "TIME=111 - 😓 Student #1 interrupted by power cut. Task remaining=136 minutes\n",
      "TIME=111 - 😓 Student #2 interrupted by power cut. Task remaining=170 minutes\n",
      "TIME=111 - 😓 Student #3 interrupted by power cut. Task remaining=165 minutes\n",
      "TIME=111 - 😓 Student #4 interrupted by power cut. Task remaining=162 minutes\n",
      "TIME=111 - 😓 Student #5 interrupted by power cut. Task remaining=136 minutes\n",
      "TIME=111 - 😓 Student #6 interrupted by power cut. Task remaining=139 minutes\n",
      "TIME=111 - 😓 Student #7 interrupted by power cut. Task remaining=166 minutes\n",
      "TIME=111 - 😓 Student #8 interrupted by power cut. Task remaining=143 minutes\n",
      "TIME=111 - 😓 Student #9 interrupted by power cut. Task remaining=137 minutes\n",
      "🌕 Power is on at 125 minutes\n",
      "TIME=125 - 😃 Student #0 resumes working. Work left to do=182 minutes\n",
      "TIME=125 - 😃 Student #1 resumes working. Work left to do=136 minutes\n",
      "TIME=125 - 😃 Student #2 resumes working. Work left to do=170 minutes\n",
      "TIME=125 - 😃 Student #3 resumes working. Work left to do=165 minutes\n",
      "TIME=125 - 😃 Student #4 resumes working. Work left to do=162 minutes\n",
      "TIME=125 - 😃 Student #5 resumes working. Work left to do=136 minutes\n",
      "TIME=125 - 😃 Student #6 resumes working. Work left to do=139 minutes\n",
      "TIME=125 - 😃 Student #7 resumes working. Work left to do=166 minutes\n",
      "TIME=125 - 😃 Student #8 resumes working. Work left to do=143 minutes\n",
      "TIME=125 - 😃 Student #9 resumes working. Work left to do=137 minutes\n",
      "🌑 Power is off at 200 minutes\n",
      "TIME=200 - 😓 Student #0 interrupted by power cut. Task remaining=107 minutes\n",
      "TIME=200 - 😓 Student #1 interrupted by power cut. Task remaining=61 minutes\n",
      "TIME=200 - 😓 Student #2 interrupted by power cut. Task remaining=95 minutes\n",
      "TIME=200 - 😓 Student #3 interrupted by power cut. Task remaining=90 minutes\n",
      "TIME=200 - 😓 Student #4 interrupted by power cut. Task remaining=87 minutes\n",
      "TIME=200 - 😓 Student #5 interrupted by power cut. Task remaining=61 minutes\n",
      "TIME=200 - 😓 Student #6 interrupted by power cut. Task remaining=64 minutes\n",
      "TIME=200 - 😓 Student #7 interrupted by power cut. Task remaining=91 minutes\n",
      "TIME=200 - 😓 Student #8 interrupted by power cut. Task remaining=68 minutes\n",
      "TIME=200 - 😓 Student #9 interrupted by power cut. Task remaining=62 minutes\n",
      "TIME=205 - 😴 Student #4 slept. Assignment pending. Work left was=87 minutes\n",
      "🌕 Power is on at 210 minutes\n",
      "TIME=210 - 😃 Student #0 resumes working. Work left to do=107 minutes\n",
      "TIME=210 - 😃 Student #1 resumes working. Work left to do=61 minutes\n",
      "TIME=210 - 😃 Student #2 resumes working. Work left to do=95 minutes\n",
      "TIME=210 - 😃 Student #3 resumes working. Work left to do=90 minutes\n",
      "TIME=210 - 😃 Student #5 resumes working. Work left to do=61 minutes\n",
      "TIME=210 - 😃 Student #6 resumes working. Work left to do=64 minutes\n",
      "TIME=210 - 😃 Student #7 resumes working. Work left to do=91 minutes\n",
      "TIME=210 - 😃 Student #8 resumes working. Work left to do=68 minutes\n",
      "TIME=210 - 😃 Student #9 resumes working. Work left to do=62 minutes\n",
      "TIME=271 - 🥳 Student #1 finished working.\n",
      "TIME=271 - 🥳 Student #5 finished working.\n",
      "TIME=272 - 🥳 Student #9 finished working.\n",
      "TIME=274 - 🥳 Student #6 finished working.\n",
      "🌑 Power is off at 276 minutes\n",
      "TIME=276 - 😓 Student #0 interrupted by power cut. Task remaining=41 minutes\n",
      "TIME=276 - 😓 Student #2 interrupted by power cut. Task remaining=29 minutes\n",
      "TIME=276 - 😓 Student #3 interrupted by power cut. Task remaining=24 minutes\n",
      "TIME=276 - 😓 Student #7 interrupted by power cut. Task remaining=25 minutes\n",
      "TIME=276 - 😓 Student #8 interrupted by power cut. Task remaining=2 minutes\n",
      "🌕 Power is on at 288 minutes\n",
      "TIME=288 - 😃 Student #0 resumes working. Work left to do=41 minutes\n",
      "TIME=288 - 😃 Student #2 resumes working. Work left to do=29 minutes\n",
      "TIME=288 - 😃 Student #3 resumes working. Work left to do=24 minutes\n",
      "TIME=288 - 😃 Student #7 resumes working. Work left to do=25 minutes\n",
      "TIME=288 - 😃 Student #8 resumes working. Work left to do=2 minutes\n",
      "TIME=290 - 🥳 Student #8 finished working.\n",
      "TIME=312 - 🥳 Student #3 finished working.\n",
      "TIME=313 - 🥳 Student #7 finished working.\n",
      "TIME=317 - 🥳 Student #2 finished working.\n",
      "TIME=329 - 🥳 Student #0 finished working.\n",
      "🌑 Power is off at 354 minutes\n",
      "🌕 Power is on at 368 minutes\n",
      "The time is 420 minutes\n",
      "The time is 420 minutes\n"
     ]
    },
    {
     "data": {
      "text/plain": [
       "<ConditionValue {<Process(timeduration) object at 0x1fecfbba790>: None}>"
      ]
     },
     "execution_count": 8,
     "metadata": {},
     "output_type": "execute_result"
    },
    {
     "name": "stdout",
     "output_type": "stream",
     "text": [
      "\n",
      "\n"
     ]
    },
    {
     "data": {
      "text/plain": [
       "'Summary of the simulation'"
      ]
     },
     "execution_count": 8,
     "metadata": {},
     "output_type": "execute_result"
    },
    {
     "name": "stdout",
     "output_type": "stream",
     "text": [
      "-----------------------------------------------------------------------------\n",
      "                     📊Summary of the simulation📊                     \n",
      "-----------------------------------------------------------------------------\n",
      "Number of students who finished assignment on time 🥳                  9\n",
      "Number of students who Slept😴                                         1\n",
      "Number of students👦                                                   10\n",
      "Percentage of students who finished assignment on time (in %)         90.0\n",
      "Average time to finish assignment                                     299.47\n",
      "Number of power cuts🌑🌕                                                21\n",
      "-----------------------------------------------------------------------------\n",
      "🌕 Power is on at 0 minutes\n",
      "TIME=0 - 🙂 Student #0 started working.Work left=247 minutes\n",
      "TIME=0 - 🙂 Student #1 started working.Work left=243 minutes\n",
      "TIME=0 - 🙂 Student #2 started working.Work left=276 minutes\n",
      "TIME=0 - 🙂 Student #3 started working.Work left=263 minutes\n",
      "TIME=0 - 🙂 Student #4 started working.Work left=242 minutes\n",
      "TIME=0 - 🙂 Student #5 started working.Work left=242 minutes\n",
      "TIME=0 - 🙂 Student #6 started working.Work left=251 minutes\n",
      "TIME=0 - 🙂 Student #7 started working.Work left=271 minutes\n",
      "TIME=0 - 🙂 Student #8 started working.Work left=266 minutes\n",
      "TIME=0 - 🙂 Student #9 started working.Work left=257 minutes\n",
      "🌑 Power is off at 64 minutes\n",
      "TIME=64 - 😓 Student #0 interrupted by power cut. Task remaining=183 minutes\n",
      "TIME=64 - 😓 Student #1 interrupted by power cut. Task remaining=179 minutes\n",
      "TIME=64 - 😓 Student #2 interrupted by power cut. Task remaining=212 minutes\n",
      "TIME=64 - 😓 Student #3 interrupted by power cut. Task remaining=199 minutes\n",
      "TIME=64 - 😓 Student #4 interrupted by power cut. Task remaining=178 minutes\n",
      "TIME=64 - 😓 Student #5 interrupted by power cut. Task remaining=178 minutes\n",
      "TIME=64 - 😓 Student #6 interrupted by power cut. Task remaining=187 minutes\n",
      "TIME=64 - 😓 Student #7 interrupted by power cut. Task remaining=207 minutes\n",
      "TIME=64 - 😓 Student #8 interrupted by power cut. Task remaining=202 minutes\n",
      "TIME=64 - 😓 Student #9 interrupted by power cut. Task remaining=193 minutes\n",
      "🌕 Power is on at 78 minutes\n",
      "TIME=78 - 😃 Student #0 resumes working. Work left to do=183 minutes\n",
      "TIME=78 - 😃 Student #1 resumes working. Work left to do=179 minutes\n",
      "TIME=78 - 😃 Student #2 resumes working. Work left to do=212 minutes\n",
      "TIME=78 - 😃 Student #3 resumes working. Work left to do=199 minutes\n",
      "TIME=78 - 😃 Student #4 resumes working. Work left to do=178 minutes\n",
      "TIME=78 - 😃 Student #5 resumes working. Work left to do=178 minutes\n",
      "TIME=78 - 😃 Student #6 resumes working. Work left to do=187 minutes\n",
      "TIME=78 - 😃 Student #7 resumes working. Work left to do=207 minutes\n",
      "TIME=78 - 😃 Student #8 resumes working. Work left to do=202 minutes\n",
      "TIME=78 - 😃 Student #9 resumes working. Work left to do=193 minutes\n",
      "🌑 Power is off at 164 minutes\n",
      "TIME=164 - 😓 Student #0 interrupted by power cut. Task remaining=97 minutes\n",
      "TIME=164 - 😓 Student #1 interrupted by power cut. Task remaining=93 minutes\n",
      "TIME=164 - 😓 Student #2 interrupted by power cut. Task remaining=126 minutes\n",
      "TIME=164 - 😓 Student #3 interrupted by power cut. Task remaining=113 minutes\n",
      "TIME=164 - 😓 Student #4 interrupted by power cut. Task remaining=92 minutes\n",
      "TIME=164 - 😓 Student #5 interrupted by power cut. Task remaining=92 minutes\n",
      "TIME=164 - 😓 Student #6 interrupted by power cut. Task remaining=101 minutes\n",
      "TIME=164 - 😓 Student #7 interrupted by power cut. Task remaining=121 minutes\n",
      "TIME=164 - 😓 Student #8 interrupted by power cut. Task remaining=116 minutes\n",
      "TIME=164 - 😓 Student #9 interrupted by power cut. Task remaining=107 minutes\n",
      "TIME=169 - 😴 Student #2 slept. Assignment pending. Work left was=126 minutes\n",
      "TIME=169 - 😴 Student #7 slept. Assignment pending. Work left was=121 minutes\n",
      "🌕 Power is on at 176 minutes\n",
      "TIME=176 - 😃 Student #0 resumes working. Work left to do=97 minutes\n",
      "TIME=176 - 😃 Student #1 resumes working. Work left to do=93 minutes\n",
      "TIME=176 - 😃 Student #3 resumes working. Work left to do=113 minutes\n",
      "TIME=176 - 😃 Student #4 resumes working. Work left to do=92 minutes\n",
      "TIME=176 - 😃 Student #5 resumes working. Work left to do=92 minutes\n",
      "TIME=176 - 😃 Student #6 resumes working. Work left to do=101 minutes\n",
      "TIME=176 - 😃 Student #8 resumes working. Work left to do=116 minutes\n",
      "TIME=176 - 😃 Student #9 resumes working. Work left to do=107 minutes\n",
      "🌑 Power is off at 266 minutes\n",
      "TIME=266 - 😓 Student #0 interrupted by power cut. Task remaining=7 minutes\n",
      "TIME=266 - 😓 Student #1 interrupted by power cut. Task remaining=3 minutes\n",
      "TIME=266 - 😓 Student #3 interrupted by power cut. Task remaining=23 minutes\n",
      "TIME=266 - 😓 Student #4 interrupted by power cut. Task remaining=2 minutes\n",
      "TIME=266 - 😓 Student #5 interrupted by power cut. Task remaining=2 minutes\n",
      "TIME=266 - 😓 Student #6 interrupted by power cut. Task remaining=11 minutes\n",
      "TIME=266 - 😓 Student #8 interrupted by power cut. Task remaining=26 minutes\n",
      "TIME=266 - 😓 Student #9 interrupted by power cut. Task remaining=17 minutes\n",
      "TIME=271 - 😴 Student #8 slept. Assignment pending. Work left was=26 minutes\n",
      "🌕 Power is on at 280 minutes\n",
      "TIME=280 - 😃 Student #0 resumes working. Work left to do=7 minutes\n",
      "TIME=280 - 😃 Student #1 resumes working. Work left to do=3 minutes\n",
      "TIME=280 - 😃 Student #3 resumes working. Work left to do=23 minutes\n",
      "TIME=280 - 😃 Student #4 resumes working. Work left to do=2 minutes\n",
      "TIME=280 - 😃 Student #5 resumes working. Work left to do=2 minutes\n",
      "TIME=280 - 😃 Student #6 resumes working. Work left to do=11 minutes\n",
      "TIME=280 - 😃 Student #9 resumes working. Work left to do=17 minutes\n",
      "TIME=282 - 🥳 Student #4 finished working.\n",
      "TIME=282 - 🥳 Student #5 finished working.\n",
      "TIME=283 - 🥳 Student #1 finished working.\n",
      "TIME=287 - 🥳 Student #0 finished working.\n",
      "TIME=291 - 🥳 Student #6 finished working.\n",
      "TIME=297 - 🥳 Student #9 finished working.\n",
      "TIME=303 - 🥳 Student #3 finished working.\n",
      "🌑 Power is off at 351 minutes\n",
      "🌕 Power is on at 362 minutes\n",
      "The time is 420 minutes\n",
      "The time is 420 minutes\n"
     ]
    },
    {
     "data": {
      "text/plain": [
       "<ConditionValue {<Process(timeduration) object at 0x1fecfb7e880>: None}>"
      ]
     },
     "execution_count": 8,
     "metadata": {},
     "output_type": "execute_result"
    },
    {
     "name": "stdout",
     "output_type": "stream",
     "text": [
      "\n",
      "\n"
     ]
    },
    {
     "data": {
      "text/plain": [
       "'Summary of the simulation'"
      ]
     },
     "execution_count": 8,
     "metadata": {},
     "output_type": "execute_result"
    },
    {
     "name": "stdout",
     "output_type": "stream",
     "text": [
      "-----------------------------------------------------------------------------\n",
      "                     📊Summary of the simulation📊                     \n",
      "-----------------------------------------------------------------------------\n",
      "Number of students who finished assignment on time 🥳                  7\n",
      "Number of students who Slept😴                                         3\n",
      "Number of students👦                                                   10\n",
      "Percentage of students who finished assignment on time (in %)         70.0\n",
      "Average time to finish assignment                                     298.32\n",
      "Number of power cuts🌑🌕                                                25\n",
      "-----------------------------------------------------------------------------\n",
      "🌕 Power is on at 0 minutes\n",
      "TIME=0 - 🙂 Student #0 started working.Work left=295 minutes\n",
      "TIME=0 - 🙂 Student #1 started working.Work left=246 minutes\n",
      "TIME=0 - 🙂 Student #2 started working.Work left=300 minutes\n",
      "TIME=0 - 🙂 Student #3 started working.Work left=252 minutes\n",
      "TIME=0 - 🙂 Student #4 started working.Work left=284 minutes\n",
      "TIME=0 - 🙂 Student #5 started working.Work left=288 minutes\n",
      "TIME=0 - 🙂 Student #6 started working.Work left=241 minutes\n",
      "TIME=0 - 🙂 Student #7 started working.Work left=276 minutes\n",
      "TIME=0 - 🙂 Student #8 started working.Work left=292 minutes\n",
      "TIME=0 - 🙂 Student #9 started working.Work left=294 minutes\n",
      "🌑 Power is off at 94 minutes\n",
      "TIME=94 - 😓 Student #0 interrupted by power cut. Task remaining=201 minutes\n",
      "TIME=94 - 😓 Student #1 interrupted by power cut. Task remaining=152 minutes\n",
      "TIME=94 - 😓 Student #2 interrupted by power cut. Task remaining=206 minutes\n",
      "TIME=94 - 😓 Student #3 interrupted by power cut. Task remaining=158 minutes\n",
      "TIME=94 - 😓 Student #4 interrupted by power cut. Task remaining=190 minutes\n",
      "TIME=94 - 😓 Student #5 interrupted by power cut. Task remaining=194 minutes\n",
      "TIME=94 - 😓 Student #6 interrupted by power cut. Task remaining=147 minutes\n",
      "TIME=94 - 😓 Student #7 interrupted by power cut. Task remaining=182 minutes\n",
      "TIME=94 - 😓 Student #8 interrupted by power cut. Task remaining=198 minutes\n",
      "TIME=94 - 😓 Student #9 interrupted by power cut. Task remaining=200 minutes\n",
      "TIME=99 - 😴 Student #5 slept. Assignment pending. Work left was=194 minutes\n",
      "🌕 Power is on at 104 minutes\n",
      "TIME=104 - 😃 Student #0 resumes working. Work left to do=201 minutes\n",
      "TIME=104 - 😃 Student #1 resumes working. Work left to do=152 minutes\n",
      "TIME=104 - 😃 Student #2 resumes working. Work left to do=206 minutes\n",
      "TIME=104 - 😃 Student #3 resumes working. Work left to do=158 minutes\n",
      "TIME=104 - 😃 Student #4 resumes working. Work left to do=190 minutes\n",
      "TIME=104 - 😃 Student #6 resumes working. Work left to do=147 minutes\n",
      "TIME=104 - 😃 Student #7 resumes working. Work left to do=182 minutes\n",
      "TIME=104 - 😃 Student #8 resumes working. Work left to do=198 minutes\n",
      "TIME=104 - 😃 Student #9 resumes working. Work left to do=200 minutes\n",
      "🌑 Power is off at 207 minutes\n",
      "TIME=207 - 😓 Student #0 interrupted by power cut. Task remaining=98 minutes\n",
      "TIME=207 - 😓 Student #1 interrupted by power cut. Task remaining=49 minutes\n",
      "TIME=207 - 😓 Student #2 interrupted by power cut. Task remaining=103 minutes\n",
      "TIME=207 - 😓 Student #3 interrupted by power cut. Task remaining=55 minutes\n",
      "TIME=207 - 😓 Student #4 interrupted by power cut. Task remaining=87 minutes\n",
      "TIME=207 - 😓 Student #6 interrupted by power cut. Task remaining=44 minutes\n",
      "TIME=207 - 😓 Student #7 interrupted by power cut. Task remaining=79 minutes\n",
      "TIME=207 - 😓 Student #8 interrupted by power cut. Task remaining=95 minutes\n",
      "TIME=207 - 😓 Student #9 interrupted by power cut. Task remaining=97 minutes\n",
      "TIME=212 - 😴 Student #7 slept. Assignment pending. Work left was=79 minutes\n",
      "🌕 Power is on at 222 minutes\n",
      "TIME=222 - 😃 Student #0 resumes working. Work left to do=98 minutes\n",
      "TIME=222 - 😃 Student #1 resumes working. Work left to do=49 minutes\n",
      "TIME=222 - 😃 Student #2 resumes working. Work left to do=103 minutes\n",
      "TIME=222 - 😃 Student #3 resumes working. Work left to do=55 minutes\n",
      "TIME=222 - 😃 Student #4 resumes working. Work left to do=87 minutes\n",
      "TIME=222 - 😃 Student #6 resumes working. Work left to do=44 minutes\n",
      "TIME=222 - 😃 Student #8 resumes working. Work left to do=95 minutes\n",
      "TIME=222 - 😃 Student #9 resumes working. Work left to do=97 minutes\n",
      "TIME=266 - 🥳 Student #6 finished working.\n",
      "TIME=271 - 🥳 Student #1 finished working.\n",
      "TIME=277 - 🥳 Student #3 finished working.\n",
      "TIME=309 - 🥳 Student #4 finished working.\n",
      "TIME=317 - 🥳 Student #8 finished working.\n",
      "TIME=319 - 🥳 Student #9 finished working.\n",
      "TIME=320 - 🥳 Student #0 finished working.\n",
      "TIME=325 - 🥳 Student #2 finished working.\n",
      "🌑 Power is off at 334 minutes\n",
      "🌕 Power is on at 345 minutes\n",
      "The time is 420 minutes\n",
      "The time is 420 minutes\n"
     ]
    },
    {
     "data": {
      "text/plain": [
       "<ConditionValue {<Process(timeduration) object at 0x1fecfb6e8e0>: None}>"
      ]
     },
     "execution_count": 8,
     "metadata": {},
     "output_type": "execute_result"
    },
    {
     "name": "stdout",
     "output_type": "stream",
     "text": [
      "\n",
      "\n"
     ]
    },
    {
     "data": {
      "text/plain": [
       "'Summary of the simulation'"
      ]
     },
     "execution_count": 8,
     "metadata": {},
     "output_type": "execute_result"
    },
    {
     "name": "stdout",
     "output_type": "stream",
     "text": [
      "-----------------------------------------------------------------------------\n",
      "                     📊Summary of the simulation📊                     \n",
      "-----------------------------------------------------------------------------\n",
      "Number of students who finished assignment on time 🥳                  8\n",
      "Number of students who Slept😴                                         2\n",
      "Number of students👦                                                   10\n",
      "Percentage of students who finished assignment on time (in %)         80.0\n",
      "Average time to finish assignment                                     298.57\n",
      "Number of power cuts🌑🌕                                                28\n",
      "-----------------------------------------------------------------------------\n",
      "🌕 Power is on at 0 minutes\n",
      "TIME=0 - 🙂 Student #0 started working.Work left=291 minutes\n",
      "TIME=0 - 🙂 Student #1 started working.Work left=244 minutes\n",
      "TIME=0 - 🙂 Student #2 started working.Work left=256 minutes\n",
      "TIME=0 - 🙂 Student #3 started working.Work left=292 minutes\n",
      "TIME=0 - 🙂 Student #4 started working.Work left=245 minutes\n",
      "TIME=0 - 🙂 Student #5 started working.Work left=280 minutes\n",
      "TIME=0 - 🙂 Student #6 started working.Work left=281 minutes\n",
      "TIME=0 - 🙂 Student #7 started working.Work left=258 minutes\n",
      "TIME=0 - 🙂 Student #8 started working.Work left=297 minutes\n",
      "TIME=0 - 🙂 Student #9 started working.Work left=246 minutes\n",
      "🌑 Power is off at 111 minutes\n",
      "TIME=111 - 😓 Student #0 interrupted by power cut. Task remaining=180 minutes\n",
      "TIME=111 - 😓 Student #1 interrupted by power cut. Task remaining=133 minutes\n",
      "TIME=111 - 😓 Student #2 interrupted by power cut. Task remaining=145 minutes\n",
      "TIME=111 - 😓 Student #3 interrupted by power cut. Task remaining=181 minutes\n",
      "TIME=111 - 😓 Student #4 interrupted by power cut. Task remaining=134 minutes\n",
      "TIME=111 - 😓 Student #5 interrupted by power cut. Task remaining=169 minutes\n",
      "TIME=111 - 😓 Student #6 interrupted by power cut. Task remaining=170 minutes\n",
      "TIME=111 - 😓 Student #7 interrupted by power cut. Task remaining=147 minutes\n",
      "TIME=111 - 😓 Student #8 interrupted by power cut. Task remaining=186 minutes\n",
      "TIME=111 - 😓 Student #9 interrupted by power cut. Task remaining=135 minutes\n",
      "TIME=116 - 😴 Student #4 slept. Assignment pending. Work left was=134 minutes\n",
      "🌕 Power is on at 123 minutes\n",
      "TIME=123 - 😃 Student #0 resumes working. Work left to do=180 minutes\n",
      "TIME=123 - 😃 Student #1 resumes working. Work left to do=133 minutes\n",
      "TIME=123 - 😃 Student #2 resumes working. Work left to do=145 minutes\n",
      "TIME=123 - 😃 Student #3 resumes working. Work left to do=181 minutes\n",
      "TIME=123 - 😃 Student #5 resumes working. Work left to do=169 minutes\n",
      "TIME=123 - 😃 Student #6 resumes working. Work left to do=170 minutes\n",
      "TIME=123 - 😃 Student #7 resumes working. Work left to do=147 minutes\n",
      "TIME=123 - 😃 Student #8 resumes working. Work left to do=186 minutes\n",
      "TIME=123 - 😃 Student #9 resumes working. Work left to do=135 minutes\n",
      "🌑 Power is off at 213 minutes\n",
      "TIME=213 - 😓 Student #0 interrupted by power cut. Task remaining=90 minutes\n",
      "TIME=213 - 😓 Student #1 interrupted by power cut. Task remaining=43 minutes\n",
      "TIME=213 - 😓 Student #2 interrupted by power cut. Task remaining=55 minutes\n",
      "TIME=213 - 😓 Student #3 interrupted by power cut. Task remaining=91 minutes\n",
      "TIME=213 - 😓 Student #5 interrupted by power cut. Task remaining=79 minutes\n",
      "TIME=213 - 😓 Student #6 interrupted by power cut. Task remaining=80 minutes\n",
      "TIME=213 - 😓 Student #7 interrupted by power cut. Task remaining=57 minutes\n",
      "TIME=213 - 😓 Student #8 interrupted by power cut. Task remaining=96 minutes\n",
      "TIME=213 - 😓 Student #9 interrupted by power cut. Task remaining=45 minutes\n",
      "TIME=218 - 😴 Student #1 slept. Assignment pending. Work left was=43 minutes\n",
      "TIME=218 - 😴 Student #8 slept. Assignment pending. Work left was=96 minutes\n",
      "🌕 Power is on at 228 minutes\n",
      "TIME=228 - 😃 Student #0 resumes working. Work left to do=90 minutes\n",
      "TIME=228 - 😃 Student #2 resumes working. Work left to do=55 minutes\n",
      "TIME=228 - 😃 Student #3 resumes working. Work left to do=91 minutes\n",
      "TIME=228 - 😃 Student #5 resumes working. Work left to do=79 minutes\n",
      "TIME=228 - 😃 Student #6 resumes working. Work left to do=80 minutes\n",
      "TIME=228 - 😃 Student #7 resumes working. Work left to do=57 minutes\n",
      "TIME=228 - 😃 Student #9 resumes working. Work left to do=45 minutes\n",
      "TIME=273 - 🥳 Student #9 finished working.\n",
      "TIME=283 - 🥳 Student #2 finished working.\n",
      "TIME=285 - 🥳 Student #7 finished working.\n",
      "TIME=307 - 🥳 Student #5 finished working.\n",
      "TIME=308 - 🥳 Student #6 finished working.\n",
      "TIME=318 - 🥳 Student #0 finished working.\n",
      "TIME=319 - 🥳 Student #3 finished working.\n",
      "🌑 Power is off at 326 minutes\n",
      "🌕 Power is on at 339 minutes\n",
      "The time is 420 minutes\n",
      "The time is 420 minutes\n"
     ]
    },
    {
     "data": {
      "text/plain": [
       "<ConditionValue {<Process(timeduration) object at 0x1fecfb7e280>: None}>"
      ]
     },
     "execution_count": 8,
     "metadata": {},
     "output_type": "execute_result"
    },
    {
     "name": "stdout",
     "output_type": "stream",
     "text": [
      "\n",
      "\n"
     ]
    },
    {
     "data": {
      "text/plain": [
       "'Summary of the simulation'"
      ]
     },
     "execution_count": 8,
     "metadata": {},
     "output_type": "execute_result"
    },
    {
     "name": "stdout",
     "output_type": "stream",
     "text": [
      "-----------------------------------------------------------------------------\n",
      "                     📊Summary of the simulation📊                     \n",
      "-----------------------------------------------------------------------------\n",
      "Number of students who finished assignment on time 🥳                  7\n",
      "Number of students who Slept😴                                         3\n",
      "Number of students👦                                                   10\n",
      "Percentage of students who finished assignment on time (in %)         70.0\n",
      "Average time to finish assignment                                     298.61\n",
      "Number of power cuts🌑🌕                                                31\n",
      "-----------------------------------------------------------------------------\n",
      "🌕 Power is on at 0 minutes\n",
      "TIME=0 - 🙂 Student #0 started working.Work left=271 minutes\n",
      "TIME=0 - 🙂 Student #1 started working.Work left=283 minutes\n",
      "TIME=0 - 🙂 Student #2 started working.Work left=285 minutes\n",
      "TIME=0 - 🙂 Student #3 started working.Work left=261 minutes\n",
      "TIME=0 - 🙂 Student #4 started working.Work left=240 minutes\n",
      "TIME=0 - 🙂 Student #5 started working.Work left=296 minutes\n",
      "TIME=0 - 🙂 Student #6 started working.Work left=278 minutes\n",
      "TIME=0 - 🙂 Student #7 started working.Work left=245 minutes\n",
      "TIME=0 - 🙂 Student #8 started working.Work left=263 minutes\n",
      "TIME=0 - 🙂 Student #9 started working.Work left=298 minutes\n",
      "🌑 Power is off at 105 minutes\n",
      "TIME=105 - 😓 Student #0 interrupted by power cut. Task remaining=166 minutes\n",
      "TIME=105 - 😓 Student #1 interrupted by power cut. Task remaining=178 minutes\n",
      "TIME=105 - 😓 Student #2 interrupted by power cut. Task remaining=180 minutes\n",
      "TIME=105 - 😓 Student #3 interrupted by power cut. Task remaining=156 minutes\n",
      "TIME=105 - 😓 Student #4 interrupted by power cut. Task remaining=135 minutes\n",
      "TIME=105 - 😓 Student #5 interrupted by power cut. Task remaining=191 minutes\n",
      "TIME=105 - 😓 Student #6 interrupted by power cut. Task remaining=173 minutes\n",
      "TIME=105 - 😓 Student #7 interrupted by power cut. Task remaining=140 minutes\n",
      "TIME=105 - 😓 Student #8 interrupted by power cut. Task remaining=158 minutes\n",
      "TIME=105 - 😓 Student #9 interrupted by power cut. Task remaining=193 minutes\n",
      "TIME=110 - 😴 Student #1 slept. Assignment pending. Work left was=178 minutes\n",
      "🌕 Power is on at 118 minutes\n",
      "TIME=118 - 😃 Student #0 resumes working. Work left to do=166 minutes\n",
      "TIME=118 - 😃 Student #2 resumes working. Work left to do=180 minutes\n",
      "TIME=118 - 😃 Student #3 resumes working. Work left to do=156 minutes\n",
      "TIME=118 - 😃 Student #4 resumes working. Work left to do=135 minutes\n",
      "TIME=118 - 😃 Student #5 resumes working. Work left to do=191 minutes\n",
      "TIME=118 - 😃 Student #6 resumes working. Work left to do=173 minutes\n",
      "TIME=118 - 😃 Student #7 resumes working. Work left to do=140 minutes\n",
      "TIME=118 - 😃 Student #8 resumes working. Work left to do=158 minutes\n",
      "TIME=118 - 😃 Student #9 resumes working. Work left to do=193 minutes\n",
      "🌑 Power is off at 214 minutes\n",
      "TIME=214 - 😓 Student #0 interrupted by power cut. Task remaining=70 minutes\n",
      "TIME=214 - 😓 Student #2 interrupted by power cut. Task remaining=84 minutes\n",
      "TIME=214 - 😓 Student #3 interrupted by power cut. Task remaining=60 minutes\n",
      "TIME=214 - 😓 Student #4 interrupted by power cut. Task remaining=39 minutes\n",
      "TIME=214 - 😓 Student #5 interrupted by power cut. Task remaining=95 minutes\n",
      "TIME=214 - 😓 Student #6 interrupted by power cut. Task remaining=77 minutes\n",
      "TIME=214 - 😓 Student #7 interrupted by power cut. Task remaining=44 minutes\n",
      "TIME=214 - 😓 Student #8 interrupted by power cut. Task remaining=62 minutes\n",
      "TIME=214 - 😓 Student #9 interrupted by power cut. Task remaining=97 minutes\n",
      "TIME=219 - 😴 Student #8 slept. Assignment pending. Work left was=62 minutes\n",
      "🌕 Power is on at 229 minutes\n",
      "TIME=229 - 😃 Student #0 resumes working. Work left to do=70 minutes\n",
      "TIME=229 - 😃 Student #2 resumes working. Work left to do=84 minutes\n",
      "TIME=229 - 😃 Student #3 resumes working. Work left to do=60 minutes\n",
      "TIME=229 - 😃 Student #4 resumes working. Work left to do=39 minutes\n",
      "TIME=229 - 😃 Student #5 resumes working. Work left to do=95 minutes\n",
      "TIME=229 - 😃 Student #6 resumes working. Work left to do=77 minutes\n",
      "TIME=229 - 😃 Student #7 resumes working. Work left to do=44 minutes\n",
      "TIME=229 - 😃 Student #9 resumes working. Work left to do=97 minutes\n",
      "TIME=268 - 🥳 Student #4 finished working.\n",
      "TIME=273 - 🥳 Student #7 finished working.\n",
      "🌑 Power is off at 289 minutes\n",
      "TIME=289 - 🥳 Student #3 finished working.\n",
      "TIME=289 - 😓 Student #0 interrupted by power cut. Task remaining=10 minutes\n",
      "TIME=289 - 😓 Student #2 interrupted by power cut. Task remaining=24 minutes\n",
      "TIME=289 - 😓 Student #5 interrupted by power cut. Task remaining=35 minutes\n",
      "TIME=289 - 😓 Student #6 interrupted by power cut. Task remaining=17 minutes\n",
      "TIME=289 - 😓 Student #9 interrupted by power cut. Task remaining=37 minutes\n",
      "🌕 Power is on at 300 minutes\n",
      "TIME=300 - 😃 Student #0 resumes working. Work left to do=10 minutes\n",
      "TIME=300 - 😃 Student #2 resumes working. Work left to do=24 minutes\n",
      "TIME=300 - 😃 Student #5 resumes working. Work left to do=35 minutes\n",
      "TIME=300 - 😃 Student #6 resumes working. Work left to do=17 minutes\n",
      "TIME=300 - 😃 Student #9 resumes working. Work left to do=37 minutes\n",
      "TIME=310 - 🥳 Student #0 finished working.\n",
      "TIME=317 - 🥳 Student #6 finished working.\n",
      "TIME=324 - 🥳 Student #2 finished working.\n",
      "TIME=335 - 🥳 Student #5 finished working.\n",
      "TIME=337 - 🥳 Student #9 finished working.\n",
      "🌑 Power is off at 371 minutes\n",
      "🌕 Power is on at 381 minutes\n",
      "The time is 420 minutes\n",
      "The time is 420 minutes\n"
     ]
    },
    {
     "data": {
      "text/plain": [
       "<ConditionValue {<Process(timeduration) object at 0x1fecfaffb80>: None}>"
      ]
     },
     "execution_count": 8,
     "metadata": {},
     "output_type": "execute_result"
    },
    {
     "name": "stdout",
     "output_type": "stream",
     "text": [
      "\n",
      "\n"
     ]
    },
    {
     "data": {
      "text/plain": [
       "'Summary of the simulation'"
      ]
     },
     "execution_count": 8,
     "metadata": {},
     "output_type": "execute_result"
    },
    {
     "name": "stdout",
     "output_type": "stream",
     "text": [
      "-----------------------------------------------------------------------------\n",
      "                     📊Summary of the simulation📊                     \n",
      "-----------------------------------------------------------------------------\n",
      "Number of students who finished assignment on time 🥳                  8\n",
      "Number of students who Slept😴                                         2\n",
      "Number of students👦                                                   10\n",
      "Percentage of students who finished assignment on time (in %)         80.0\n",
      "Average time to finish assignment                                     299.36\n",
      "Number of power cuts🌑🌕                                                35\n",
      "-----------------------------------------------------------------------------\n",
      "🌕 Power is on at 0 minutes\n",
      "TIME=0 - 🙂 Student #0 started working.Work left=277 minutes\n",
      "TIME=0 - 🙂 Student #1 started working.Work left=287 minutes\n",
      "TIME=0 - 🙂 Student #2 started working.Work left=280 minutes\n",
      "TIME=0 - 🙂 Student #3 started working.Work left=271 minutes\n",
      "TIME=0 - 🙂 Student #4 started working.Work left=282 minutes\n",
      "TIME=0 - 🙂 Student #5 started working.Work left=266 minutes\n",
      "TIME=0 - 🙂 Student #6 started working.Work left=264 minutes\n",
      "TIME=0 - 🙂 Student #7 started working.Work left=262 minutes\n",
      "TIME=0 - 🙂 Student #8 started working.Work left=264 minutes\n",
      "TIME=0 - 🙂 Student #9 started working.Work left=289 minutes\n",
      "🌑 Power is off at 101 minutes\n",
      "TIME=101 - 😓 Student #0 interrupted by power cut. Task remaining=176 minutes\n",
      "TIME=101 - 😓 Student #1 interrupted by power cut. Task remaining=186 minutes\n",
      "TIME=101 - 😓 Student #2 interrupted by power cut. Task remaining=179 minutes\n",
      "TIME=101 - 😓 Student #3 interrupted by power cut. Task remaining=170 minutes\n",
      "TIME=101 - 😓 Student #4 interrupted by power cut. Task remaining=181 minutes\n",
      "TIME=101 - 😓 Student #5 interrupted by power cut. Task remaining=165 minutes\n",
      "TIME=101 - 😓 Student #6 interrupted by power cut. Task remaining=163 minutes\n",
      "TIME=101 - 😓 Student #7 interrupted by power cut. Task remaining=161 minutes\n",
      "TIME=101 - 😓 Student #8 interrupted by power cut. Task remaining=163 minutes\n",
      "TIME=101 - 😓 Student #9 interrupted by power cut. Task remaining=188 minutes\n",
      "TIME=106 - 😴 Student #6 slept. Assignment pending. Work left was=163 minutes\n",
      "TIME=106 - 😴 Student #9 slept. Assignment pending. Work left was=188 minutes\n",
      "🌕 Power is on at 111 minutes\n",
      "TIME=111 - 😃 Student #0 resumes working. Work left to do=176 minutes\n",
      "TIME=111 - 😃 Student #1 resumes working. Work left to do=186 minutes\n",
      "TIME=111 - 😃 Student #2 resumes working. Work left to do=179 minutes\n",
      "TIME=111 - 😃 Student #3 resumes working. Work left to do=170 minutes\n",
      "TIME=111 - 😃 Student #4 resumes working. Work left to do=181 minutes\n",
      "TIME=111 - 😃 Student #5 resumes working. Work left to do=165 minutes\n",
      "TIME=111 - 😃 Student #7 resumes working. Work left to do=161 minutes\n",
      "TIME=111 - 😃 Student #8 resumes working. Work left to do=163 minutes\n",
      "🌑 Power is off at 181 minutes\n",
      "TIME=181 - 😓 Student #0 interrupted by power cut. Task remaining=106 minutes\n",
      "TIME=181 - 😓 Student #1 interrupted by power cut. Task remaining=116 minutes\n",
      "TIME=181 - 😓 Student #2 interrupted by power cut. Task remaining=109 minutes\n",
      "TIME=181 - 😓 Student #3 interrupted by power cut. Task remaining=100 minutes\n",
      "TIME=181 - 😓 Student #4 interrupted by power cut. Task remaining=111 minutes\n",
      "TIME=181 - 😓 Student #5 interrupted by power cut. Task remaining=95 minutes\n",
      "TIME=181 - 😓 Student #7 interrupted by power cut. Task remaining=91 minutes\n",
      "TIME=181 - 😓 Student #8 interrupted by power cut. Task remaining=93 minutes\n",
      "TIME=186 - 😴 Student #1 slept. Assignment pending. Work left was=116 minutes\n",
      "🌕 Power is on at 194 minutes\n",
      "TIME=194 - 😃 Student #0 resumes working. Work left to do=106 minutes\n",
      "TIME=194 - 😃 Student #2 resumes working. Work left to do=109 minutes\n",
      "TIME=194 - 😃 Student #3 resumes working. Work left to do=100 minutes\n",
      "TIME=194 - 😃 Student #4 resumes working. Work left to do=111 minutes\n",
      "TIME=194 - 😃 Student #5 resumes working. Work left to do=95 minutes\n",
      "TIME=194 - 😃 Student #7 resumes working. Work left to do=91 minutes\n",
      "TIME=194 - 😃 Student #8 resumes working. Work left to do=93 minutes\n",
      "TIME=285 - 🥳 Student #7 finished working.\n",
      "TIME=287 - 🥳 Student #8 finished working.\n",
      "TIME=289 - 🥳 Student #5 finished working.\n",
      "TIME=294 - 🥳 Student #3 finished working.\n",
      "TIME=300 - 🥳 Student #0 finished working.\n",
      "TIME=303 - 🥳 Student #2 finished working.\n",
      "TIME=305 - 🥳 Student #4 finished working.\n",
      "🌑 Power is off at 313 minutes\n",
      "🌕 Power is on at 328 minutes\n",
      "🌑 Power is off at 397 minutes\n",
      "🌕 Power is on at 410 minutes\n",
      "The time is 420 minutes\n",
      "The time is 420 minutes\n"
     ]
    },
    {
     "data": {
      "text/plain": [
       "<ConditionValue {<Process(timeduration) object at 0x1fecfb61c40>: None}>"
      ]
     },
     "execution_count": 8,
     "metadata": {},
     "output_type": "execute_result"
    },
    {
     "name": "stdout",
     "output_type": "stream",
     "text": [
      "\n",
      "\n"
     ]
    },
    {
     "data": {
      "text/plain": [
       "'Summary of the simulation'"
      ]
     },
     "execution_count": 8,
     "metadata": {},
     "output_type": "execute_result"
    },
    {
     "name": "stdout",
     "output_type": "stream",
     "text": [
      "-----------------------------------------------------------------------------\n",
      "                     📊Summary of the simulation📊                     \n",
      "-----------------------------------------------------------------------------\n",
      "Number of students who finished assignment on time 🥳                  7\n",
      "Number of students who Slept😴                                         3\n",
      "Number of students👦                                                   10\n",
      "Percentage of students who finished assignment on time (in %)         70.0\n",
      "Average time to finish assignment                                     299.01\n",
      "Number of power cuts🌑🌕                                                39\n",
      "-----------------------------------------------------------------------------\n",
      "🌕 Power is on at 0 minutes\n",
      "TIME=0 - 🙂 Student #0 started working.Work left=271 minutes\n",
      "TIME=0 - 🙂 Student #1 started working.Work left=290 minutes\n",
      "TIME=0 - 🙂 Student #2 started working.Work left=243 minutes\n",
      "TIME=0 - 🙂 Student #3 started working.Work left=285 minutes\n",
      "TIME=0 - 🙂 Student #4 started working.Work left=300 minutes\n",
      "TIME=0 - 🙂 Student #5 started working.Work left=250 minutes\n",
      "TIME=0 - 🙂 Student #6 started working.Work left=282 minutes\n",
      "TIME=0 - 🙂 Student #7 started working.Work left=273 minutes\n",
      "TIME=0 - 🙂 Student #8 started working.Work left=252 minutes\n",
      "TIME=0 - 🙂 Student #9 started working.Work left=295 minutes\n",
      "🌑 Power is off at 95 minutes\n",
      "TIME=95 - 😓 Student #0 interrupted by power cut. Task remaining=176 minutes\n",
      "TIME=95 - 😓 Student #1 interrupted by power cut. Task remaining=195 minutes\n",
      "TIME=95 - 😓 Student #2 interrupted by power cut. Task remaining=148 minutes\n",
      "TIME=95 - 😓 Student #3 interrupted by power cut. Task remaining=190 minutes\n",
      "TIME=95 - 😓 Student #4 interrupted by power cut. Task remaining=205 minutes\n",
      "TIME=95 - 😓 Student #5 interrupted by power cut. Task remaining=155 minutes\n",
      "TIME=95 - 😓 Student #6 interrupted by power cut. Task remaining=187 minutes\n",
      "TIME=95 - 😓 Student #7 interrupted by power cut. Task remaining=178 minutes\n",
      "TIME=95 - 😓 Student #8 interrupted by power cut. Task remaining=157 minutes\n",
      "TIME=95 - 😓 Student #9 interrupted by power cut. Task remaining=200 minutes\n",
      "TIME=100 - 😴 Student #0 slept. Assignment pending. Work left was=176 minutes\n",
      "🌕 Power is on at 105 minutes\n",
      "TIME=105 - 😃 Student #1 resumes working. Work left to do=195 minutes\n",
      "TIME=105 - 😃 Student #2 resumes working. Work left to do=148 minutes\n",
      "TIME=105 - 😃 Student #3 resumes working. Work left to do=190 minutes\n",
      "TIME=105 - 😃 Student #4 resumes working. Work left to do=205 minutes\n",
      "TIME=105 - 😃 Student #5 resumes working. Work left to do=155 minutes\n",
      "TIME=105 - 😃 Student #6 resumes working. Work left to do=187 minutes\n",
      "TIME=105 - 😃 Student #7 resumes working. Work left to do=178 minutes\n",
      "TIME=105 - 😃 Student #8 resumes working. Work left to do=157 minutes\n",
      "TIME=105 - 😃 Student #9 resumes working. Work left to do=200 minutes\n",
      "🌑 Power is off at 182 minutes\n",
      "TIME=182 - 😓 Student #1 interrupted by power cut. Task remaining=118 minutes\n",
      "TIME=182 - 😓 Student #2 interrupted by power cut. Task remaining=71 minutes\n",
      "TIME=182 - 😓 Student #3 interrupted by power cut. Task remaining=113 minutes\n",
      "TIME=182 - 😓 Student #4 interrupted by power cut. Task remaining=128 minutes\n",
      "TIME=182 - 😓 Student #5 interrupted by power cut. Task remaining=78 minutes\n",
      "TIME=182 - 😓 Student #6 interrupted by power cut. Task remaining=110 minutes\n",
      "TIME=182 - 😓 Student #7 interrupted by power cut. Task remaining=101 minutes\n",
      "TIME=182 - 😓 Student #8 interrupted by power cut. Task remaining=80 minutes\n",
      "TIME=182 - 😓 Student #9 interrupted by power cut. Task remaining=123 minutes\n",
      "🌕 Power is on at 193 minutes\n",
      "TIME=193 - 😃 Student #1 resumes working. Work left to do=118 minutes\n",
      "TIME=193 - 😃 Student #2 resumes working. Work left to do=71 minutes\n",
      "TIME=193 - 😃 Student #3 resumes working. Work left to do=113 minutes\n",
      "TIME=193 - 😃 Student #4 resumes working. Work left to do=128 minutes\n",
      "TIME=193 - 😃 Student #5 resumes working. Work left to do=78 minutes\n",
      "TIME=193 - 😃 Student #6 resumes working. Work left to do=110 minutes\n",
      "TIME=193 - 😃 Student #7 resumes working. Work left to do=101 minutes\n",
      "TIME=193 - 😃 Student #8 resumes working. Work left to do=80 minutes\n",
      "TIME=193 - 😃 Student #9 resumes working. Work left to do=123 minutes\n",
      "TIME=264 - 🥳 Student #2 finished working.\n",
      "🌑 Power is off at 267 minutes\n",
      "TIME=267 - 😓 Student #1 interrupted by power cut. Task remaining=44 minutes\n",
      "TIME=267 - 😓 Student #3 interrupted by power cut. Task remaining=39 minutes\n",
      "TIME=267 - 😓 Student #4 interrupted by power cut. Task remaining=54 minutes\n",
      "TIME=267 - 😓 Student #5 interrupted by power cut. Task remaining=4 minutes\n",
      "TIME=267 - 😓 Student #6 interrupted by power cut. Task remaining=36 minutes\n",
      "TIME=267 - 😓 Student #7 interrupted by power cut. Task remaining=27 minutes\n",
      "TIME=267 - 😓 Student #8 interrupted by power cut. Task remaining=6 minutes\n",
      "TIME=267 - 😓 Student #9 interrupted by power cut. Task remaining=49 minutes\n",
      "🌕 Power is on at 280 minutes\n",
      "TIME=280 - 😃 Student #1 resumes working. Work left to do=44 minutes\n",
      "TIME=280 - 😃 Student #3 resumes working. Work left to do=39 minutes\n",
      "TIME=280 - 😃 Student #4 resumes working. Work left to do=54 minutes\n",
      "TIME=280 - 😃 Student #5 resumes working. Work left to do=4 minutes\n",
      "TIME=280 - 😃 Student #6 resumes working. Work left to do=36 minutes\n",
      "TIME=280 - 😃 Student #7 resumes working. Work left to do=27 minutes\n",
      "TIME=280 - 😃 Student #8 resumes working. Work left to do=6 minutes\n",
      "TIME=280 - 😃 Student #9 resumes working. Work left to do=49 minutes\n",
      "TIME=284 - 🥳 Student #5 finished working.\n",
      "TIME=286 - 🥳 Student #8 finished working.\n",
      "TIME=307 - 🥳 Student #7 finished working.\n",
      "TIME=316 - 🥳 Student #6 finished working.\n",
      "TIME=319 - 🥳 Student #3 finished working.\n",
      "TIME=324 - 🥳 Student #1 finished working.\n",
      "TIME=329 - 🥳 Student #9 finished working.\n",
      "TIME=334 - 🥳 Student #4 finished working.\n",
      "🌑 Power is off at 399 minutes\n",
      "🌕 Power is on at 409 minutes\n",
      "The time is 420 minutes\n",
      "The time is 420 minutes\n"
     ]
    },
    {
     "data": {
      "text/plain": [
       "<ConditionValue {<Process(timeduration) object at 0x1fecfb8a2e0>: None}>"
      ]
     },
     "execution_count": 8,
     "metadata": {},
     "output_type": "execute_result"
    },
    {
     "name": "stdout",
     "output_type": "stream",
     "text": [
      "\n",
      "\n"
     ]
    },
    {
     "data": {
      "text/plain": [
       "'Summary of the simulation'"
      ]
     },
     "execution_count": 8,
     "metadata": {},
     "output_type": "execute_result"
    },
    {
     "name": "stdout",
     "output_type": "stream",
     "text": [
      "-----------------------------------------------------------------------------\n",
      "                     📊Summary of the simulation📊                     \n",
      "-----------------------------------------------------------------------------\n",
      "Number of students who finished assignment on time 🥳                  9\n",
      "Number of students who Slept😴                                         1\n",
      "Number of students👦                                                   10\n",
      "Percentage of students who finished assignment on time (in %)         90.0\n",
      "Average time to finish assignment                                     299.72\n",
      "Number of power cuts🌑🌕                                                43\n",
      "-----------------------------------------------------------------------------\n",
      "🌕 Power is on at 0 minutes\n",
      "TIME=0 - 🙂 Student #0 started working.Work left=283 minutes\n",
      "TIME=0 - 🙂 Student #1 started working.Work left=256 minutes\n",
      "TIME=0 - 🙂 Student #2 started working.Work left=267 minutes\n",
      "TIME=0 - 🙂 Student #3 started working.Work left=270 minutes\n",
      "TIME=0 - 🙂 Student #4 started working.Work left=288 minutes\n",
      "TIME=0 - 🙂 Student #5 started working.Work left=241 minutes\n",
      "TIME=0 - 🙂 Student #6 started working.Work left=240 minutes\n",
      "TIME=0 - 🙂 Student #7 started working.Work left=267 minutes\n",
      "TIME=0 - 🙂 Student #8 started working.Work left=252 minutes\n",
      "TIME=0 - 🙂 Student #9 started working.Work left=256 minutes\n",
      "🌑 Power is off at 81 minutes\n",
      "TIME=81 - 😓 Student #0 interrupted by power cut. Task remaining=202 minutes\n",
      "TIME=81 - 😓 Student #1 interrupted by power cut. Task remaining=175 minutes\n",
      "TIME=81 - 😓 Student #2 interrupted by power cut. Task remaining=186 minutes\n",
      "TIME=81 - 😓 Student #3 interrupted by power cut. Task remaining=189 minutes\n",
      "TIME=81 - 😓 Student #4 interrupted by power cut. Task remaining=207 minutes\n",
      "TIME=81 - 😓 Student #5 interrupted by power cut. Task remaining=160 minutes\n",
      "TIME=81 - 😓 Student #6 interrupted by power cut. Task remaining=159 minutes\n",
      "TIME=81 - 😓 Student #7 interrupted by power cut. Task remaining=186 minutes\n",
      "TIME=81 - 😓 Student #8 interrupted by power cut. Task remaining=171 minutes\n",
      "TIME=81 - 😓 Student #9 interrupted by power cut. Task remaining=175 minutes\n",
      "TIME=86 - 😴 Student #7 slept. Assignment pending. Work left was=186 minutes\n",
      "TIME=86 - 😴 Student #9 slept. Assignment pending. Work left was=175 minutes\n",
      "🌕 Power is on at 91 minutes\n",
      "TIME=91 - 😃 Student #0 resumes working. Work left to do=202 minutes\n",
      "TIME=91 - 😃 Student #1 resumes working. Work left to do=175 minutes\n",
      "TIME=91 - 😃 Student #2 resumes working. Work left to do=186 minutes\n",
      "TIME=91 - 😃 Student #3 resumes working. Work left to do=189 minutes\n",
      "TIME=91 - 😃 Student #4 resumes working. Work left to do=207 minutes\n",
      "TIME=91 - 😃 Student #5 resumes working. Work left to do=160 minutes\n",
      "TIME=91 - 😃 Student #6 resumes working. Work left to do=159 minutes\n",
      "TIME=91 - 😃 Student #8 resumes working. Work left to do=171 minutes\n",
      "🌑 Power is off at 188 minutes\n",
      "TIME=188 - 😓 Student #0 interrupted by power cut. Task remaining=105 minutes\n",
      "TIME=188 - 😓 Student #1 interrupted by power cut. Task remaining=78 minutes\n",
      "TIME=188 - 😓 Student #2 interrupted by power cut. Task remaining=89 minutes\n",
      "TIME=188 - 😓 Student #3 interrupted by power cut. Task remaining=92 minutes\n",
      "TIME=188 - 😓 Student #4 interrupted by power cut. Task remaining=110 minutes\n",
      "TIME=188 - 😓 Student #5 interrupted by power cut. Task remaining=63 minutes\n",
      "TIME=188 - 😓 Student #6 interrupted by power cut. Task remaining=62 minutes\n",
      "TIME=188 - 😓 Student #8 interrupted by power cut. Task remaining=74 minutes\n",
      "TIME=193 - 😴 Student #6 slept. Assignment pending. Work left was=62 minutes\n",
      "🌕 Power is on at 198 minutes\n",
      "TIME=198 - 😃 Student #0 resumes working. Work left to do=105 minutes\n",
      "TIME=198 - 😃 Student #1 resumes working. Work left to do=78 minutes\n",
      "TIME=198 - 😃 Student #2 resumes working. Work left to do=89 minutes\n",
      "TIME=198 - 😃 Student #3 resumes working. Work left to do=92 minutes\n",
      "TIME=198 - 😃 Student #4 resumes working. Work left to do=110 minutes\n",
      "TIME=198 - 😃 Student #5 resumes working. Work left to do=63 minutes\n",
      "TIME=198 - 😃 Student #8 resumes working. Work left to do=74 minutes\n",
      "TIME=261 - 🥳 Student #5 finished working.\n",
      "TIME=272 - 🥳 Student #8 finished working.\n",
      "TIME=276 - 🥳 Student #1 finished working.\n",
      "TIME=287 - 🥳 Student #2 finished working.\n",
      "TIME=290 - 🥳 Student #3 finished working.\n",
      "🌑 Power is off at 294 minutes\n",
      "TIME=294 - 😓 Student #0 interrupted by power cut. Task remaining=9 minutes\n",
      "TIME=294 - 😓 Student #4 interrupted by power cut. Task remaining=14 minutes\n",
      "🌕 Power is on at 309 minutes\n",
      "TIME=309 - 😃 Student #0 resumes working. Work left to do=9 minutes\n",
      "TIME=309 - 😃 Student #4 resumes working. Work left to do=14 minutes\n",
      "TIME=318 - 🥳 Student #0 finished working.\n",
      "TIME=323 - 🥳 Student #4 finished working.\n",
      "🌑 Power is off at 416 minutes\n",
      "The time is 420 minutes\n",
      "The time is 420 minutes\n"
     ]
    },
    {
     "data": {
      "text/plain": [
       "<ConditionValue {<Process(timeduration) object at 0x1fecfb8e160>: None}>"
      ]
     },
     "execution_count": 8,
     "metadata": {},
     "output_type": "execute_result"
    },
    {
     "name": "stdout",
     "output_type": "stream",
     "text": [
      "\n",
      "\n"
     ]
    },
    {
     "data": {
      "text/plain": [
       "'Summary of the simulation'"
      ]
     },
     "execution_count": 8,
     "metadata": {},
     "output_type": "execute_result"
    },
    {
     "name": "stdout",
     "output_type": "stream",
     "text": [
      "-----------------------------------------------------------------------------\n",
      "                     📊Summary of the simulation📊                     \n",
      "-----------------------------------------------------------------------------\n",
      "Number of students who finished assignment on time 🥳                  7\n",
      "Number of students who Slept😴                                         3\n",
      "Number of students👦                                                   10\n",
      "Percentage of students who finished assignment on time (in %)         70.0\n",
      "Average time to finish assignment                                     299.06\n",
      "Number of power cuts🌑🌕                                                47\n",
      "-----------------------------------------------------------------------------\n",
      "🌕 Power is on at 0 minutes\n",
      "TIME=0 - 🙂 Student #0 started working.Work left=282 minutes\n",
      "TIME=0 - 🙂 Student #1 started working.Work left=252 minutes\n",
      "TIME=0 - 🙂 Student #2 started working.Work left=278 minutes\n",
      "TIME=0 - 🙂 Student #3 started working.Work left=294 minutes\n",
      "TIME=0 - 🙂 Student #4 started working.Work left=284 minutes\n",
      "TIME=0 - 🙂 Student #5 started working.Work left=274 minutes\n",
      "TIME=0 - 🙂 Student #6 started working.Work left=294 minutes\n",
      "TIME=0 - 🙂 Student #7 started working.Work left=243 minutes\n",
      "TIME=0 - 🙂 Student #8 started working.Work left=296 minutes\n",
      "TIME=0 - 🙂 Student #9 started working.Work left=296 minutes\n",
      "🌑 Power is off at 103 minutes\n",
      "TIME=103 - 😓 Student #0 interrupted by power cut. Task remaining=179 minutes\n",
      "TIME=103 - 😓 Student #1 interrupted by power cut. Task remaining=149 minutes\n",
      "TIME=103 - 😓 Student #2 interrupted by power cut. Task remaining=175 minutes\n",
      "TIME=103 - 😓 Student #3 interrupted by power cut. Task remaining=191 minutes\n",
      "TIME=103 - 😓 Student #4 interrupted by power cut. Task remaining=181 minutes\n",
      "TIME=103 - 😓 Student #5 interrupted by power cut. Task remaining=171 minutes\n",
      "TIME=103 - 😓 Student #6 interrupted by power cut. Task remaining=191 minutes\n",
      "TIME=103 - 😓 Student #7 interrupted by power cut. Task remaining=140 minutes\n",
      "TIME=103 - 😓 Student #8 interrupted by power cut. Task remaining=193 minutes\n",
      "TIME=103 - 😓 Student #9 interrupted by power cut. Task remaining=193 minutes\n",
      "🌕 Power is on at 115 minutes\n",
      "TIME=115 - 😃 Student #0 resumes working. Work left to do=179 minutes\n",
      "TIME=115 - 😃 Student #1 resumes working. Work left to do=149 minutes\n",
      "TIME=115 - 😃 Student #2 resumes working. Work left to do=175 minutes\n",
      "TIME=115 - 😃 Student #3 resumes working. Work left to do=191 minutes\n",
      "TIME=115 - 😃 Student #4 resumes working. Work left to do=181 minutes\n",
      "TIME=115 - 😃 Student #5 resumes working. Work left to do=171 minutes\n",
      "TIME=115 - 😃 Student #6 resumes working. Work left to do=191 minutes\n",
      "TIME=115 - 😃 Student #7 resumes working. Work left to do=140 minutes\n",
      "TIME=115 - 😃 Student #8 resumes working. Work left to do=193 minutes\n",
      "TIME=115 - 😃 Student #9 resumes working. Work left to do=193 minutes\n",
      "🌑 Power is off at 234 minutes\n",
      "TIME=234 - 😓 Student #0 interrupted by power cut. Task remaining=60 minutes\n",
      "TIME=234 - 😓 Student #1 interrupted by power cut. Task remaining=30 minutes\n",
      "TIME=234 - 😓 Student #2 interrupted by power cut. Task remaining=56 minutes\n",
      "TIME=234 - 😓 Student #3 interrupted by power cut. Task remaining=72 minutes\n",
      "TIME=234 - 😓 Student #4 interrupted by power cut. Task remaining=62 minutes\n",
      "TIME=234 - 😓 Student #5 interrupted by power cut. Task remaining=52 minutes\n",
      "TIME=234 - 😓 Student #6 interrupted by power cut. Task remaining=72 minutes\n",
      "TIME=234 - 😓 Student #7 interrupted by power cut. Task remaining=21 minutes\n",
      "TIME=234 - 😓 Student #8 interrupted by power cut. Task remaining=74 minutes\n",
      "TIME=234 - 😓 Student #9 interrupted by power cut. Task remaining=74 minutes\n",
      "🌕 Power is on at 248 minutes\n",
      "TIME=248 - 😃 Student #0 resumes working. Work left to do=60 minutes\n",
      "TIME=248 - 😃 Student #1 resumes working. Work left to do=30 minutes\n",
      "TIME=248 - 😃 Student #2 resumes working. Work left to do=56 minutes\n",
      "TIME=248 - 😃 Student #3 resumes working. Work left to do=72 minutes\n",
      "TIME=248 - 😃 Student #4 resumes working. Work left to do=62 minutes\n",
      "TIME=248 - 😃 Student #5 resumes working. Work left to do=52 minutes\n",
      "TIME=248 - 😃 Student #6 resumes working. Work left to do=72 minutes\n",
      "TIME=248 - 😃 Student #7 resumes working. Work left to do=21 minutes\n",
      "TIME=248 - 😃 Student #8 resumes working. Work left to do=74 minutes\n",
      "TIME=248 - 😃 Student #9 resumes working. Work left to do=74 minutes\n",
      "TIME=269 - 🥳 Student #7 finished working.\n",
      "TIME=278 - 🥳 Student #1 finished working.\n",
      "TIME=300 - 🥳 Student #5 finished working.\n",
      "TIME=304 - 🥳 Student #2 finished working.\n",
      "TIME=308 - 🥳 Student #0 finished working.\n",
      "TIME=310 - 🥳 Student #4 finished working.\n",
      "TIME=320 - 🥳 Student #3 finished working.\n",
      "TIME=320 - 🥳 Student #6 finished working.\n",
      "TIME=322 - 🥳 Student #8 finished working.\n",
      "TIME=322 - 🥳 Student #9 finished working.\n",
      "🌑 Power is off at 354 minutes\n",
      "🌕 Power is on at 365 minutes\n",
      "The time is 420 minutes\n",
      "The time is 420 minutes\n"
     ]
    },
    {
     "data": {
      "text/plain": [
       "<ConditionValue {<Process(timeduration) object at 0x1fecfb1e820>: None}>"
      ]
     },
     "execution_count": 8,
     "metadata": {},
     "output_type": "execute_result"
    },
    {
     "name": "stdout",
     "output_type": "stream",
     "text": [
      "\n",
      "\n"
     ]
    },
    {
     "data": {
      "text/plain": [
       "'Summary of the simulation'"
      ]
     },
     "execution_count": 8,
     "metadata": {},
     "output_type": "execute_result"
    },
    {
     "name": "stdout",
     "output_type": "stream",
     "text": [
      "-----------------------------------------------------------------------------\n",
      "                     📊Summary of the simulation📊                     \n",
      "-----------------------------------------------------------------------------\n",
      "Number of students who finished assignment on time 🥳                  10\n",
      "Number of students who Slept😴                                         0\n",
      "Number of students👦                                                   10\n",
      "Percentage of students who finished assignment on time (in %)         100.0\n",
      "Average time to finish assignment                                     299.59\n",
      "Number of power cuts🌑🌕                                                50\n",
      "-----------------------------------------------------------------------------\n",
      "🌕 Power is on at 0 minutes\n",
      "TIME=0 - 🙂 Student #0 started working.Work left=277 minutes\n",
      "TIME=0 - 🙂 Student #1 started working.Work left=271 minutes\n",
      "TIME=0 - 🙂 Student #2 started working.Work left=296 minutes\n",
      "TIME=0 - 🙂 Student #3 started working.Work left=254 minutes\n",
      "TIME=0 - 🙂 Student #4 started working.Work left=286 minutes\n",
      "TIME=0 - 🙂 Student #5 started working.Work left=282 minutes\n",
      "TIME=0 - 🙂 Student #6 started working.Work left=299 minutes\n",
      "TIME=0 - 🙂 Student #7 started working.Work left=247 minutes\n",
      "TIME=0 - 🙂 Student #8 started working.Work left=253 minutes\n",
      "TIME=0 - 🙂 Student #9 started working.Work left=257 minutes\n",
      "🌑 Power is off at 63 minutes\n",
      "TIME=63 - 😓 Student #0 interrupted by power cut. Task remaining=214 minutes\n",
      "TIME=63 - 😓 Student #1 interrupted by power cut. Task remaining=208 minutes\n",
      "TIME=63 - 😓 Student #2 interrupted by power cut. Task remaining=233 minutes\n",
      "TIME=63 - 😓 Student #3 interrupted by power cut. Task remaining=191 minutes\n",
      "TIME=63 - 😓 Student #4 interrupted by power cut. Task remaining=223 minutes\n",
      "TIME=63 - 😓 Student #5 interrupted by power cut. Task remaining=219 minutes\n",
      "TIME=63 - 😓 Student #6 interrupted by power cut. Task remaining=236 minutes\n",
      "TIME=63 - 😓 Student #7 interrupted by power cut. Task remaining=184 minutes\n",
      "TIME=63 - 😓 Student #8 interrupted by power cut. Task remaining=190 minutes\n",
      "TIME=63 - 😓 Student #9 interrupted by power cut. Task remaining=194 minutes\n",
      "TIME=68 - 😴 Student #1 slept. Assignment pending. Work left was=208 minutes\n",
      "🌕 Power is on at 75 minutes\n",
      "TIME=75 - 😃 Student #0 resumes working. Work left to do=214 minutes\n",
      "TIME=75 - 😃 Student #2 resumes working. Work left to do=233 minutes\n",
      "TIME=75 - 😃 Student #3 resumes working. Work left to do=191 minutes\n",
      "TIME=75 - 😃 Student #4 resumes working. Work left to do=223 minutes\n",
      "TIME=75 - 😃 Student #5 resumes working. Work left to do=219 minutes\n",
      "TIME=75 - 😃 Student #6 resumes working. Work left to do=236 minutes\n",
      "TIME=75 - 😃 Student #7 resumes working. Work left to do=184 minutes\n",
      "TIME=75 - 😃 Student #8 resumes working. Work left to do=190 minutes\n",
      "TIME=75 - 😃 Student #9 resumes working. Work left to do=194 minutes\n",
      "🌑 Power is off at 145 minutes\n",
      "TIME=145 - 😓 Student #0 interrupted by power cut. Task remaining=144 minutes\n",
      "TIME=145 - 😓 Student #2 interrupted by power cut. Task remaining=163 minutes\n",
      "TIME=145 - 😓 Student #3 interrupted by power cut. Task remaining=121 minutes\n",
      "TIME=145 - 😓 Student #4 interrupted by power cut. Task remaining=153 minutes\n",
      "TIME=145 - 😓 Student #5 interrupted by power cut. Task remaining=149 minutes\n",
      "TIME=145 - 😓 Student #6 interrupted by power cut. Task remaining=166 minutes\n",
      "TIME=145 - 😓 Student #7 interrupted by power cut. Task remaining=114 minutes\n",
      "TIME=145 - 😓 Student #8 interrupted by power cut. Task remaining=120 minutes\n",
      "TIME=145 - 😓 Student #9 interrupted by power cut. Task remaining=124 minutes\n",
      "TIME=150 - 😴 Student #0 slept. Assignment pending. Work left was=144 minutes\n",
      "🌕 Power is on at 159 minutes\n",
      "TIME=159 - 😃 Student #2 resumes working. Work left to do=163 minutes\n",
      "TIME=159 - 😃 Student #3 resumes working. Work left to do=121 minutes\n",
      "TIME=159 - 😃 Student #4 resumes working. Work left to do=153 minutes\n",
      "TIME=159 - 😃 Student #5 resumes working. Work left to do=149 minutes\n",
      "TIME=159 - 😃 Student #6 resumes working. Work left to do=166 minutes\n",
      "TIME=159 - 😃 Student #7 resumes working. Work left to do=114 minutes\n",
      "TIME=159 - 😃 Student #8 resumes working. Work left to do=120 minutes\n",
      "TIME=159 - 😃 Student #9 resumes working. Work left to do=124 minutes\n",
      "🌑 Power is off at 235 minutes\n",
      "TIME=235 - 😓 Student #2 interrupted by power cut. Task remaining=87 minutes\n",
      "TIME=235 - 😓 Student #3 interrupted by power cut. Task remaining=45 minutes\n",
      "TIME=235 - 😓 Student #4 interrupted by power cut. Task remaining=77 minutes\n",
      "TIME=235 - 😓 Student #5 interrupted by power cut. Task remaining=73 minutes\n",
      "TIME=235 - 😓 Student #6 interrupted by power cut. Task remaining=90 minutes\n",
      "TIME=235 - 😓 Student #7 interrupted by power cut. Task remaining=38 minutes\n",
      "TIME=235 - 😓 Student #8 interrupted by power cut. Task remaining=44 minutes\n",
      "TIME=235 - 😓 Student #9 interrupted by power cut. Task remaining=48 minutes\n",
      "TIME=240 - 😴 Student #7 slept. Assignment pending. Work left was=38 minutes\n",
      "🌕 Power is on at 247 minutes\n",
      "TIME=247 - 😃 Student #2 resumes working. Work left to do=87 minutes\n",
      "TIME=247 - 😃 Student #3 resumes working. Work left to do=45 minutes\n",
      "TIME=247 - 😃 Student #4 resumes working. Work left to do=77 minutes\n",
      "TIME=247 - 😃 Student #5 resumes working. Work left to do=73 minutes\n",
      "TIME=247 - 😃 Student #6 resumes working. Work left to do=90 minutes\n",
      "TIME=247 - 😃 Student #8 resumes working. Work left to do=44 minutes\n",
      "TIME=247 - 😃 Student #9 resumes working. Work left to do=48 minutes\n",
      "TIME=291 - 🥳 Student #8 finished working.\n",
      "TIME=292 - 🥳 Student #3 finished working.\n",
      "TIME=295 - 🥳 Student #9 finished working.\n",
      "TIME=320 - 🥳 Student #5 finished working.\n",
      "TIME=324 - 🥳 Student #4 finished working.\n",
      "TIME=334 - 🥳 Student #2 finished working.\n",
      "TIME=337 - 🥳 Student #6 finished working.\n",
      "🌑 Power is off at 364 minutes\n",
      "🌕 Power is on at 376 minutes\n",
      "The time is 420 minutes\n",
      "The time is 420 minutes\n"
     ]
    },
    {
     "data": {
      "text/plain": [
       "<ConditionValue {<Process(timeduration) object at 0x1fecfb7e0a0>: None}>"
      ]
     },
     "execution_count": 8,
     "metadata": {},
     "output_type": "execute_result"
    },
    {
     "name": "stdout",
     "output_type": "stream",
     "text": [
      "\n",
      "\n"
     ]
    },
    {
     "data": {
      "text/plain": [
       "'Summary of the simulation'"
      ]
     },
     "execution_count": 8,
     "metadata": {},
     "output_type": "execute_result"
    },
    {
     "name": "stdout",
     "output_type": "stream",
     "text": [
      "-----------------------------------------------------------------------------\n",
      "                     📊Summary of the simulation📊                     \n",
      "-----------------------------------------------------------------------------\n",
      "Number of students who finished assignment on time 🥳                  7\n",
      "Number of students who Slept😴                                         3\n",
      "Number of students👦                                                   10\n",
      "Percentage of students who finished assignment on time (in %)         70.0\n",
      "Average time to finish assignment                                     300.36\n",
      "Number of power cuts🌑🌕                                                54\n",
      "-----------------------------------------------------------------------------\n",
      "🌕 Power is on at 0 minutes\n",
      "TIME=0 - 🙂 Student #0 started working.Work left=290 minutes\n",
      "TIME=0 - 🙂 Student #1 started working.Work left=292 minutes\n",
      "TIME=0 - 🙂 Student #2 started working.Work left=282 minutes\n",
      "TIME=0 - 🙂 Student #3 started working.Work left=273 minutes\n",
      "TIME=0 - 🙂 Student #4 started working.Work left=282 minutes\n",
      "TIME=0 - 🙂 Student #5 started working.Work left=286 minutes\n",
      "TIME=0 - 🙂 Student #6 started working.Work left=281 minutes\n",
      "TIME=0 - 🙂 Student #7 started working.Work left=264 minutes\n",
      "TIME=0 - 🙂 Student #8 started working.Work left=298 minutes\n",
      "TIME=0 - 🙂 Student #9 started working.Work left=289 minutes\n",
      "🌑 Power is off at 85 minutes\n",
      "TIME=85 - 😓 Student #0 interrupted by power cut. Task remaining=205 minutes\n",
      "TIME=85 - 😓 Student #1 interrupted by power cut. Task remaining=207 minutes\n",
      "TIME=85 - 😓 Student #2 interrupted by power cut. Task remaining=197 minutes\n",
      "TIME=85 - 😓 Student #3 interrupted by power cut. Task remaining=188 minutes\n",
      "TIME=85 - 😓 Student #4 interrupted by power cut. Task remaining=197 minutes\n",
      "TIME=85 - 😓 Student #5 interrupted by power cut. Task remaining=201 minutes\n",
      "TIME=85 - 😓 Student #6 interrupted by power cut. Task remaining=196 minutes\n",
      "TIME=85 - 😓 Student #7 interrupted by power cut. Task remaining=179 minutes\n",
      "TIME=85 - 😓 Student #8 interrupted by power cut. Task remaining=213 minutes\n",
      "TIME=85 - 😓 Student #9 interrupted by power cut. Task remaining=204 minutes\n",
      "🌕 Power is on at 99 minutes\n",
      "TIME=99 - 😃 Student #0 resumes working. Work left to do=205 minutes\n",
      "TIME=99 - 😃 Student #1 resumes working. Work left to do=207 minutes\n",
      "TIME=99 - 😃 Student #2 resumes working. Work left to do=197 minutes\n",
      "TIME=99 - 😃 Student #3 resumes working. Work left to do=188 minutes\n",
      "TIME=99 - 😃 Student #4 resumes working. Work left to do=197 minutes\n",
      "TIME=99 - 😃 Student #5 resumes working. Work left to do=201 minutes\n",
      "TIME=99 - 😃 Student #6 resumes working. Work left to do=196 minutes\n",
      "TIME=99 - 😃 Student #7 resumes working. Work left to do=179 minutes\n",
      "TIME=99 - 😃 Student #8 resumes working. Work left to do=213 minutes\n",
      "TIME=99 - 😃 Student #9 resumes working. Work left to do=204 minutes\n",
      "🌑 Power is off at 184 minutes\n",
      "TIME=184 - 😓 Student #0 interrupted by power cut. Task remaining=120 minutes\n",
      "TIME=184 - 😓 Student #1 interrupted by power cut. Task remaining=122 minutes\n",
      "TIME=184 - 😓 Student #2 interrupted by power cut. Task remaining=112 minutes\n",
      "TIME=184 - 😓 Student #3 interrupted by power cut. Task remaining=103 minutes\n",
      "TIME=184 - 😓 Student #4 interrupted by power cut. Task remaining=112 minutes\n",
      "TIME=184 - 😓 Student #5 interrupted by power cut. Task remaining=116 minutes\n",
      "TIME=184 - 😓 Student #6 interrupted by power cut. Task remaining=111 minutes\n",
      "TIME=184 - 😓 Student #7 interrupted by power cut. Task remaining=94 minutes\n",
      "TIME=184 - 😓 Student #8 interrupted by power cut. Task remaining=128 minutes\n",
      "TIME=184 - 😓 Student #9 interrupted by power cut. Task remaining=119 minutes\n",
      "TIME=189 - 😴 Student #1 slept. Assignment pending. Work left was=122 minutes\n",
      "TIME=189 - 😴 Student #9 slept. Assignment pending. Work left was=119 minutes\n",
      "🌕 Power is on at 197 minutes\n",
      "TIME=197 - 😃 Student #0 resumes working. Work left to do=120 minutes\n",
      "TIME=197 - 😃 Student #2 resumes working. Work left to do=112 minutes\n",
      "TIME=197 - 😃 Student #3 resumes working. Work left to do=103 minutes\n",
      "TIME=197 - 😃 Student #4 resumes working. Work left to do=112 minutes\n",
      "TIME=197 - 😃 Student #5 resumes working. Work left to do=116 minutes\n",
      "TIME=197 - 😃 Student #6 resumes working. Work left to do=111 minutes\n",
      "TIME=197 - 😃 Student #7 resumes working. Work left to do=94 minutes\n",
      "TIME=197 - 😃 Student #8 resumes working. Work left to do=128 minutes\n",
      "🌑 Power is off at 278 minutes\n",
      "TIME=278 - 😓 Student #0 interrupted by power cut. Task remaining=39 minutes\n",
      "TIME=278 - 😓 Student #2 interrupted by power cut. Task remaining=31 minutes\n",
      "TIME=278 - 😓 Student #3 interrupted by power cut. Task remaining=22 minutes\n",
      "TIME=278 - 😓 Student #4 interrupted by power cut. Task remaining=31 minutes\n",
      "TIME=278 - 😓 Student #5 interrupted by power cut. Task remaining=35 minutes\n",
      "TIME=278 - 😓 Student #6 interrupted by power cut. Task remaining=30 minutes\n",
      "TIME=278 - 😓 Student #7 interrupted by power cut. Task remaining=13 minutes\n",
      "TIME=278 - 😓 Student #8 interrupted by power cut. Task remaining=47 minutes\n",
      "TIME=283 - 😴 Student #0 slept. Assignment pending. Work left was=39 minutes\n",
      "🌕 Power is on at 290 minutes\n",
      "TIME=290 - 😃 Student #2 resumes working. Work left to do=31 minutes\n",
      "TIME=290 - 😃 Student #3 resumes working. Work left to do=22 minutes\n",
      "TIME=290 - 😃 Student #4 resumes working. Work left to do=31 minutes\n",
      "TIME=290 - 😃 Student #5 resumes working. Work left to do=35 minutes\n",
      "TIME=290 - 😃 Student #6 resumes working. Work left to do=30 minutes\n",
      "TIME=290 - 😃 Student #7 resumes working. Work left to do=13 minutes\n",
      "TIME=290 - 😃 Student #8 resumes working. Work left to do=47 minutes\n",
      "TIME=303 - 🥳 Student #7 finished working.\n",
      "TIME=312 - 🥳 Student #3 finished working.\n",
      "TIME=320 - 🥳 Student #6 finished working.\n",
      "TIME=321 - 🥳 Student #2 finished working.\n",
      "TIME=321 - 🥳 Student #4 finished working.\n",
      "TIME=325 - 🥳 Student #5 finished working.\n",
      "TIME=337 - 🥳 Student #8 finished working.\n",
      "🌑 Power is off at 368 minutes\n",
      "🌕 Power is on at 382 minutes\n",
      "The time is 420 minutes\n",
      "The time is 420 minutes\n"
     ]
    },
    {
     "data": {
      "text/plain": [
       "<ConditionValue {<Process(timeduration) object at 0x1fecfb8ac40>: None}>"
      ]
     },
     "execution_count": 8,
     "metadata": {},
     "output_type": "execute_result"
    },
    {
     "name": "stdout",
     "output_type": "stream",
     "text": [
      "\n",
      "\n"
     ]
    },
    {
     "data": {
      "text/plain": [
       "'Summary of the simulation'"
      ]
     },
     "execution_count": 8,
     "metadata": {},
     "output_type": "execute_result"
    },
    {
     "name": "stdout",
     "output_type": "stream",
     "text": [
      "-----------------------------------------------------------------------------\n",
      "                     📊Summary of the simulation📊                     \n",
      "-----------------------------------------------------------------------------\n",
      "Number of students who finished assignment on time 🥳                  7\n",
      "Number of students who Slept😴                                         3\n",
      "Number of students👦                                                   10\n",
      "Percentage of students who finished assignment on time (in %)         70.0\n",
      "Average time to finish assignment                                     301.39\n",
      "Number of power cuts🌑🌕                                                58\n",
      "-----------------------------------------------------------------------------\n",
      "🌕 Power is on at 0 minutes\n",
      "TIME=0 - 🙂 Student #0 started working.Work left=247 minutes\n",
      "TIME=0 - 🙂 Student #1 started working.Work left=290 minutes\n",
      "TIME=0 - 🙂 Student #2 started working.Work left=258 minutes\n",
      "TIME=0 - 🙂 Student #3 started working.Work left=289 minutes\n",
      "TIME=0 - 🙂 Student #4 started working.Work left=279 minutes\n",
      "TIME=0 - 🙂 Student #5 started working.Work left=277 minutes\n",
      "TIME=0 - 🙂 Student #6 started working.Work left=293 minutes\n",
      "TIME=0 - 🙂 Student #7 started working.Work left=271 minutes\n",
      "TIME=0 - 🙂 Student #8 started working.Work left=273 minutes\n",
      "TIME=0 - 🙂 Student #9 started working.Work left=248 minutes\n",
      "🌑 Power is off at 105 minutes\n",
      "TIME=105 - 😓 Student #0 interrupted by power cut. Task remaining=142 minutes\n",
      "TIME=105 - 😓 Student #1 interrupted by power cut. Task remaining=185 minutes\n",
      "TIME=105 - 😓 Student #2 interrupted by power cut. Task remaining=153 minutes\n",
      "TIME=105 - 😓 Student #3 interrupted by power cut. Task remaining=184 minutes\n",
      "TIME=105 - 😓 Student #4 interrupted by power cut. Task remaining=174 minutes\n",
      "TIME=105 - 😓 Student #5 interrupted by power cut. Task remaining=172 minutes\n",
      "TIME=105 - 😓 Student #6 interrupted by power cut. Task remaining=188 minutes\n",
      "TIME=105 - 😓 Student #7 interrupted by power cut. Task remaining=166 minutes\n",
      "TIME=105 - 😓 Student #8 interrupted by power cut. Task remaining=168 minutes\n",
      "TIME=105 - 😓 Student #9 interrupted by power cut. Task remaining=143 minutes\n",
      "TIME=110 - 😴 Student #1 slept. Assignment pending. Work left was=185 minutes\n",
      "TIME=110 - 😴 Student #6 slept. Assignment pending. Work left was=188 minutes\n",
      "🌕 Power is on at 118 minutes\n",
      "TIME=118 - 😃 Student #0 resumes working. Work left to do=142 minutes\n",
      "TIME=118 - 😃 Student #2 resumes working. Work left to do=153 minutes\n",
      "TIME=118 - 😃 Student #3 resumes working. Work left to do=184 minutes\n",
      "TIME=118 - 😃 Student #4 resumes working. Work left to do=174 minutes\n",
      "TIME=118 - 😃 Student #5 resumes working. Work left to do=172 minutes\n",
      "TIME=118 - 😃 Student #7 resumes working. Work left to do=166 minutes\n",
      "TIME=118 - 😃 Student #8 resumes working. Work left to do=168 minutes\n",
      "TIME=118 - 😃 Student #9 resumes working. Work left to do=143 minutes\n",
      "🌑 Power is off at 196 minutes\n",
      "TIME=196 - 😓 Student #0 interrupted by power cut. Task remaining=64 minutes\n",
      "TIME=196 - 😓 Student #2 interrupted by power cut. Task remaining=75 minutes\n",
      "TIME=196 - 😓 Student #3 interrupted by power cut. Task remaining=106 minutes\n",
      "TIME=196 - 😓 Student #4 interrupted by power cut. Task remaining=96 minutes\n",
      "TIME=196 - 😓 Student #5 interrupted by power cut. Task remaining=94 minutes\n",
      "TIME=196 - 😓 Student #7 interrupted by power cut. Task remaining=88 minutes\n",
      "TIME=196 - 😓 Student #8 interrupted by power cut. Task remaining=90 minutes\n",
      "TIME=196 - 😓 Student #9 interrupted by power cut. Task remaining=65 minutes\n",
      "TIME=201 - 😴 Student #7 slept. Assignment pending. Work left was=88 minutes\n",
      "🌕 Power is on at 211 minutes\n",
      "TIME=211 - 😃 Student #0 resumes working. Work left to do=64 minutes\n",
      "TIME=211 - 😃 Student #2 resumes working. Work left to do=75 minutes\n",
      "TIME=211 - 😃 Student #3 resumes working. Work left to do=106 minutes\n",
      "TIME=211 - 😃 Student #4 resumes working. Work left to do=96 minutes\n",
      "TIME=211 - 😃 Student #5 resumes working. Work left to do=94 minutes\n",
      "TIME=211 - 😃 Student #8 resumes working. Work left to do=90 minutes\n",
      "TIME=211 - 😃 Student #9 resumes working. Work left to do=65 minutes\n",
      "TIME=275 - 🥳 Student #0 finished working.\n",
      "TIME=276 - 🥳 Student #9 finished working.\n",
      "TIME=286 - 🥳 Student #2 finished working.\n",
      "🌑 Power is off at 296 minutes\n",
      "TIME=296 - 😓 Student #3 interrupted by power cut. Task remaining=21 minutes\n",
      "TIME=296 - 😓 Student #4 interrupted by power cut. Task remaining=11 minutes\n",
      "TIME=296 - 😓 Student #5 interrupted by power cut. Task remaining=9 minutes\n",
      "TIME=296 - 😓 Student #8 interrupted by power cut. Task remaining=5 minutes\n",
      "🌕 Power is on at 306 minutes\n",
      "TIME=306 - 😃 Student #3 resumes working. Work left to do=21 minutes\n",
      "TIME=306 - 😃 Student #4 resumes working. Work left to do=11 minutes\n",
      "TIME=306 - 😃 Student #5 resumes working. Work left to do=9 minutes\n",
      "TIME=306 - 😃 Student #8 resumes working. Work left to do=5 minutes\n",
      "TIME=311 - 🥳 Student #8 finished working.\n",
      "TIME=315 - 🥳 Student #5 finished working.\n",
      "TIME=317 - 🥳 Student #4 finished working.\n",
      "TIME=327 - 🥳 Student #3 finished working.\n",
      "🌑 Power is off at 401 minutes\n",
      "🌕 Power is on at 416 minutes\n",
      "The time is 420 minutes\n",
      "The time is 420 minutes\n"
     ]
    },
    {
     "data": {
      "text/plain": [
       "<ConditionValue {<Process(timeduration) object at 0x1fecfb41910>: None}>"
      ]
     },
     "execution_count": 8,
     "metadata": {},
     "output_type": "execute_result"
    },
    {
     "name": "stdout",
     "output_type": "stream",
     "text": [
      "\n",
      "\n"
     ]
    },
    {
     "data": {
      "text/plain": [
       "'Summary of the simulation'"
      ]
     },
     "execution_count": 8,
     "metadata": {},
     "output_type": "execute_result"
    },
    {
     "name": "stdout",
     "output_type": "stream",
     "text": [
      "-----------------------------------------------------------------------------\n",
      "                     📊Summary of the simulation📊                     \n",
      "-----------------------------------------------------------------------------\n",
      "Number of students who finished assignment on time 🥳                  7\n",
      "Number of students who Slept😴                                         3\n",
      "Number of students👦                                                   10\n",
      "Percentage of students who finished assignment on time (in %)         70.0\n",
      "Average time to finish assignment                                     301.37\n",
      "Number of power cuts🌑🌕                                                62\n",
      "-----------------------------------------------------------------------------\n",
      "🌕 Power is on at 0 minutes\n",
      "TIME=0 - 🙂 Student #0 started working.Work left=300 minutes\n",
      "TIME=0 - 🙂 Student #1 started working.Work left=288 minutes\n",
      "TIME=0 - 🙂 Student #2 started working.Work left=298 minutes\n",
      "TIME=0 - 🙂 Student #3 started working.Work left=243 minutes\n",
      "TIME=0 - 🙂 Student #4 started working.Work left=295 minutes\n",
      "TIME=0 - 🙂 Student #5 started working.Work left=263 minutes\n",
      "TIME=0 - 🙂 Student #6 started working.Work left=267 minutes\n",
      "TIME=0 - 🙂 Student #7 started working.Work left=248 minutes\n",
      "TIME=0 - 🙂 Student #8 started working.Work left=246 minutes\n",
      "TIME=0 - 🙂 Student #9 started working.Work left=268 minutes\n",
      "🌑 Power is off at 76 minutes\n",
      "TIME=76 - 😓 Student #0 interrupted by power cut. Task remaining=224 minutes\n",
      "TIME=76 - 😓 Student #1 interrupted by power cut. Task remaining=212 minutes\n",
      "TIME=76 - 😓 Student #2 interrupted by power cut. Task remaining=222 minutes\n",
      "TIME=76 - 😓 Student #3 interrupted by power cut. Task remaining=167 minutes\n",
      "TIME=76 - 😓 Student #4 interrupted by power cut. Task remaining=219 minutes\n",
      "TIME=76 - 😓 Student #5 interrupted by power cut. Task remaining=187 minutes\n",
      "TIME=76 - 😓 Student #6 interrupted by power cut. Task remaining=191 minutes\n",
      "TIME=76 - 😓 Student #7 interrupted by power cut. Task remaining=172 minutes\n",
      "TIME=76 - 😓 Student #8 interrupted by power cut. Task remaining=170 minutes\n",
      "TIME=76 - 😓 Student #9 interrupted by power cut. Task remaining=192 minutes\n",
      "TIME=81 - 😴 Student #2 slept. Assignment pending. Work left was=222 minutes\n",
      "TIME=81 - 😴 Student #5 slept. Assignment pending. Work left was=187 minutes\n",
      "🌕 Power is on at 86 minutes\n",
      "TIME=86 - 😃 Student #0 resumes working. Work left to do=224 minutes\n",
      "TIME=86 - 😃 Student #1 resumes working. Work left to do=212 minutes\n",
      "TIME=86 - 😃 Student #3 resumes working. Work left to do=167 minutes\n",
      "TIME=86 - 😃 Student #4 resumes working. Work left to do=219 minutes\n",
      "TIME=86 - 😃 Student #6 resumes working. Work left to do=191 minutes\n",
      "TIME=86 - 😃 Student #7 resumes working. Work left to do=172 minutes\n",
      "TIME=86 - 😃 Student #8 resumes working. Work left to do=170 minutes\n",
      "TIME=86 - 😃 Student #9 resumes working. Work left to do=192 minutes\n",
      "🌑 Power is off at 146 minutes\n",
      "TIME=146 - 😓 Student #0 interrupted by power cut. Task remaining=164 minutes\n",
      "TIME=146 - 😓 Student #1 interrupted by power cut. Task remaining=152 minutes\n",
      "TIME=146 - 😓 Student #3 interrupted by power cut. Task remaining=107 minutes\n",
      "TIME=146 - 😓 Student #4 interrupted by power cut. Task remaining=159 minutes\n",
      "TIME=146 - 😓 Student #6 interrupted by power cut. Task remaining=131 minutes\n",
      "TIME=146 - 😓 Student #7 interrupted by power cut. Task remaining=112 minutes\n",
      "TIME=146 - 😓 Student #8 interrupted by power cut. Task remaining=110 minutes\n",
      "TIME=146 - 😓 Student #9 interrupted by power cut. Task remaining=132 minutes\n",
      "🌕 Power is on at 161 minutes\n",
      "TIME=161 - 😃 Student #0 resumes working. Work left to do=164 minutes\n",
      "TIME=161 - 😃 Student #1 resumes working. Work left to do=152 minutes\n",
      "TIME=161 - 😃 Student #3 resumes working. Work left to do=107 minutes\n",
      "TIME=161 - 😃 Student #4 resumes working. Work left to do=159 minutes\n",
      "TIME=161 - 😃 Student #6 resumes working. Work left to do=131 minutes\n",
      "TIME=161 - 😃 Student #7 resumes working. Work left to do=112 minutes\n",
      "TIME=161 - 😃 Student #8 resumes working. Work left to do=110 minutes\n",
      "TIME=161 - 😃 Student #9 resumes working. Work left to do=132 minutes\n",
      "🌑 Power is off at 230 minutes\n",
      "TIME=230 - 😓 Student #0 interrupted by power cut. Task remaining=95 minutes\n",
      "TIME=230 - 😓 Student #1 interrupted by power cut. Task remaining=83 minutes\n",
      "TIME=230 - 😓 Student #3 interrupted by power cut. Task remaining=38 minutes\n",
      "TIME=230 - 😓 Student #4 interrupted by power cut. Task remaining=90 minutes\n",
      "TIME=230 - 😓 Student #6 interrupted by power cut. Task remaining=62 minutes\n",
      "TIME=230 - 😓 Student #7 interrupted by power cut. Task remaining=43 minutes\n",
      "TIME=230 - 😓 Student #8 interrupted by power cut. Task remaining=41 minutes\n",
      "TIME=230 - 😓 Student #9 interrupted by power cut. Task remaining=63 minutes\n",
      "TIME=235 - 😴 Student #3 slept. Assignment pending. Work left was=38 minutes\n",
      "TIME=235 - 😴 Student #9 slept. Assignment pending. Work left was=63 minutes\n",
      "🌕 Power is on at 240 minutes\n",
      "TIME=240 - 😃 Student #0 resumes working. Work left to do=95 minutes\n",
      "TIME=240 - 😃 Student #1 resumes working. Work left to do=83 minutes\n",
      "TIME=240 - 😃 Student #4 resumes working. Work left to do=90 minutes\n",
      "TIME=240 - 😃 Student #6 resumes working. Work left to do=62 minutes\n",
      "TIME=240 - 😃 Student #7 resumes working. Work left to do=43 minutes\n",
      "TIME=240 - 😃 Student #8 resumes working. Work left to do=41 minutes\n",
      "TIME=281 - 🥳 Student #8 finished working.\n",
      "TIME=283 - 🥳 Student #7 finished working.\n",
      "TIME=302 - 🥳 Student #6 finished working.\n",
      "🌑 Power is off at 323 minutes\n",
      "TIME=323 - 🥳 Student #1 finished working.\n",
      "TIME=323 - 😓 Student #0 interrupted by power cut. Task remaining=12 minutes\n",
      "TIME=323 - 😓 Student #4 interrupted by power cut. Task remaining=7 minutes\n",
      "TIME=328 - 😴 Student #0 slept. Assignment pending. Work left was=12 minutes\n",
      "🌕 Power is on at 336 minutes\n",
      "TIME=336 - 😃 Student #4 resumes working. Work left to do=7 minutes\n",
      "TIME=343 - 🥳 Student #4 finished working.\n",
      "The time is 420 minutes\n",
      "The time is 420 minutes\n"
     ]
    },
    {
     "data": {
      "text/plain": [
       "<ConditionValue {<Process(timeduration) object at 0x1fecfaffac0>: None}>"
      ]
     },
     "execution_count": 8,
     "metadata": {},
     "output_type": "execute_result"
    },
    {
     "name": "stdout",
     "output_type": "stream",
     "text": [
      "\n",
      "\n"
     ]
    },
    {
     "data": {
      "text/plain": [
       "'Summary of the simulation'"
      ]
     },
     "execution_count": 8,
     "metadata": {},
     "output_type": "execute_result"
    },
    {
     "name": "stdout",
     "output_type": "stream",
     "text": [
      "-----------------------------------------------------------------------------\n",
      "                     📊Summary of the simulation📊                     \n",
      "-----------------------------------------------------------------------------\n",
      "Number of students who finished assignment on time 🥳                  5\n",
      "Number of students who Slept😴                                         5\n",
      "Number of students👦                                                   10\n",
      "Percentage of students who finished assignment on time (in %)         50.0\n",
      "Average time to finish assignment                                     301.55\n",
      "Number of power cuts🌑🌕                                                66\n",
      "-----------------------------------------------------------------------------\n",
      "🌕 Power is on at 0 minutes\n",
      "TIME=0 - 🙂 Student #0 started working.Work left=285 minutes\n",
      "TIME=0 - 🙂 Student #1 started working.Work left=246 minutes\n",
      "TIME=0 - 🙂 Student #2 started working.Work left=255 minutes\n",
      "TIME=0 - 🙂 Student #3 started working.Work left=259 minutes\n",
      "TIME=0 - 🙂 Student #4 started working.Work left=266 minutes\n",
      "TIME=0 - 🙂 Student #5 started working.Work left=296 minutes\n",
      "TIME=0 - 🙂 Student #6 started working.Work left=249 minutes\n",
      "TIME=0 - 🙂 Student #7 started working.Work left=298 minutes\n",
      "TIME=0 - 🙂 Student #8 started working.Work left=262 minutes\n",
      "TIME=0 - 🙂 Student #9 started working.Work left=264 minutes\n",
      "🌑 Power is off at 101 minutes\n",
      "TIME=101 - 😓 Student #0 interrupted by power cut. Task remaining=184 minutes\n",
      "TIME=101 - 😓 Student #1 interrupted by power cut. Task remaining=145 minutes\n",
      "TIME=101 - 😓 Student #2 interrupted by power cut. Task remaining=154 minutes\n",
      "TIME=101 - 😓 Student #3 interrupted by power cut. Task remaining=158 minutes\n",
      "TIME=101 - 😓 Student #4 interrupted by power cut. Task remaining=165 minutes\n",
      "TIME=101 - 😓 Student #5 interrupted by power cut. Task remaining=195 minutes\n",
      "TIME=101 - 😓 Student #6 interrupted by power cut. Task remaining=148 minutes\n",
      "TIME=101 - 😓 Student #7 interrupted by power cut. Task remaining=197 minutes\n",
      "TIME=101 - 😓 Student #8 interrupted by power cut. Task remaining=161 minutes\n",
      "TIME=101 - 😓 Student #9 interrupted by power cut. Task remaining=163 minutes\n",
      "TIME=106 - 😴 Student #1 slept. Assignment pending. Work left was=145 minutes\n",
      "TIME=106 - 😴 Student #4 slept. Assignment pending. Work left was=165 minutes\n",
      "TIME=106 - 😴 Student #6 slept. Assignment pending. Work left was=148 minutes\n",
      "TIME=106 - 😴 Student #8 slept. Assignment pending. Work left was=161 minutes\n",
      "🌕 Power is on at 114 minutes\n",
      "TIME=114 - 😃 Student #0 resumes working. Work left to do=184 minutes\n",
      "TIME=114 - 😃 Student #2 resumes working. Work left to do=154 minutes\n",
      "TIME=114 - 😃 Student #3 resumes working. Work left to do=158 minutes\n",
      "TIME=114 - 😃 Student #5 resumes working. Work left to do=195 minutes\n",
      "TIME=114 - 😃 Student #7 resumes working. Work left to do=197 minutes\n",
      "TIME=114 - 😃 Student #9 resumes working. Work left to do=163 minutes\n",
      "🌑 Power is off at 196 minutes\n",
      "TIME=196 - 😓 Student #0 interrupted by power cut. Task remaining=102 minutes\n",
      "TIME=196 - 😓 Student #2 interrupted by power cut. Task remaining=72 minutes\n",
      "TIME=196 - 😓 Student #3 interrupted by power cut. Task remaining=76 minutes\n",
      "TIME=196 - 😓 Student #5 interrupted by power cut. Task remaining=113 minutes\n",
      "TIME=196 - 😓 Student #7 interrupted by power cut. Task remaining=115 minutes\n",
      "TIME=196 - 😓 Student #9 interrupted by power cut. Task remaining=81 minutes\n",
      "TIME=201 - 😴 Student #3 slept. Assignment pending. Work left was=76 minutes\n",
      "🌕 Power is on at 207 minutes\n",
      "TIME=207 - 😃 Student #0 resumes working. Work left to do=102 minutes\n",
      "TIME=207 - 😃 Student #2 resumes working. Work left to do=72 minutes\n",
      "TIME=207 - 😃 Student #5 resumes working. Work left to do=113 minutes\n",
      "TIME=207 - 😃 Student #7 resumes working. Work left to do=115 minutes\n",
      "TIME=207 - 😃 Student #9 resumes working. Work left to do=81 minutes\n",
      "🌑 Power is off at 279 minutes\n",
      "TIME=279 - 🥳 Student #2 finished working.\n",
      "TIME=279 - 😓 Student #0 interrupted by power cut. Task remaining=30 minutes\n",
      "TIME=279 - 😓 Student #5 interrupted by power cut. Task remaining=41 minutes\n",
      "TIME=279 - 😓 Student #7 interrupted by power cut. Task remaining=43 minutes\n",
      "TIME=279 - 😓 Student #9 interrupted by power cut. Task remaining=9 minutes\n",
      "🌕 Power is on at 293 minutes\n",
      "TIME=293 - 😃 Student #0 resumes working. Work left to do=30 minutes\n",
      "TIME=293 - 😃 Student #5 resumes working. Work left to do=41 minutes\n",
      "TIME=293 - 😃 Student #7 resumes working. Work left to do=43 minutes\n",
      "TIME=293 - 😃 Student #9 resumes working. Work left to do=9 minutes\n",
      "TIME=302 - 🥳 Student #9 finished working.\n",
      "TIME=323 - 🥳 Student #0 finished working.\n",
      "TIME=334 - 🥳 Student #5 finished working.\n",
      "TIME=336 - 🥳 Student #7 finished working.\n",
      "🌑 Power is off at 413 minutes\n",
      "The time is 420 minutes\n",
      "The time is 420 minutes\n"
     ]
    },
    {
     "data": {
      "text/plain": [
       "<ConditionValue {<Process(timeduration) object at 0x1fecfb41760>: None}>"
      ]
     },
     "execution_count": 8,
     "metadata": {},
     "output_type": "execute_result"
    },
    {
     "name": "stdout",
     "output_type": "stream",
     "text": [
      "\n",
      "\n"
     ]
    },
    {
     "data": {
      "text/plain": [
       "'Summary of the simulation'"
      ]
     },
     "execution_count": 8,
     "metadata": {},
     "output_type": "execute_result"
    },
    {
     "name": "stdout",
     "output_type": "stream",
     "text": [
      "-----------------------------------------------------------------------------\n",
      "                     📊Summary of the simulation📊                     \n",
      "-----------------------------------------------------------------------------\n",
      "Number of students who finished assignment on time 🥳                  5\n",
      "Number of students who Slept😴                                         5\n",
      "Number of students👦                                                   10\n",
      "Percentage of students who finished assignment on time (in %)         50.0\n",
      "Average time to finish assignment                                     301.99\n",
      "Number of power cuts🌑🌕                                                70\n",
      "-----------------------------------------------------------------------------\n",
      "🌕 Power is on at 0 minutes\n",
      "TIME=0 - 🙂 Student #0 started working.Work left=297 minutes\n",
      "TIME=0 - 🙂 Student #1 started working.Work left=286 minutes\n",
      "TIME=0 - 🙂 Student #2 started working.Work left=274 minutes\n",
      "TIME=0 - 🙂 Student #3 started working.Work left=288 minutes\n",
      "TIME=0 - 🙂 Student #4 started working.Work left=291 minutes\n",
      "TIME=0 - 🙂 Student #5 started working.Work left=248 minutes\n",
      "TIME=0 - 🙂 Student #6 started working.Work left=288 minutes\n",
      "TIME=0 - 🙂 Student #7 started working.Work left=267 minutes\n",
      "TIME=0 - 🙂 Student #8 started working.Work left=262 minutes\n",
      "TIME=0 - 🙂 Student #9 started working.Work left=248 minutes\n",
      "🌑 Power is off at 65 minutes\n",
      "TIME=65 - 😓 Student #0 interrupted by power cut. Task remaining=232 minutes\n",
      "TIME=65 - 😓 Student #1 interrupted by power cut. Task remaining=221 minutes\n",
      "TIME=65 - 😓 Student #2 interrupted by power cut. Task remaining=209 minutes\n",
      "TIME=65 - 😓 Student #3 interrupted by power cut. Task remaining=223 minutes\n",
      "TIME=65 - 😓 Student #4 interrupted by power cut. Task remaining=226 minutes\n",
      "TIME=65 - 😓 Student #5 interrupted by power cut. Task remaining=183 minutes\n",
      "TIME=65 - 😓 Student #6 interrupted by power cut. Task remaining=223 minutes\n",
      "TIME=65 - 😓 Student #7 interrupted by power cut. Task remaining=202 minutes\n",
      "TIME=65 - 😓 Student #8 interrupted by power cut. Task remaining=197 minutes\n",
      "TIME=65 - 😓 Student #9 interrupted by power cut. Task remaining=183 minutes\n",
      "TIME=70 - 😴 Student #7 slept. Assignment pending. Work left was=202 minutes\n",
      "🌕 Power is on at 79 minutes\n",
      "TIME=79 - 😃 Student #0 resumes working. Work left to do=232 minutes\n",
      "TIME=79 - 😃 Student #1 resumes working. Work left to do=221 minutes\n",
      "TIME=79 - 😃 Student #2 resumes working. Work left to do=209 minutes\n",
      "TIME=79 - 😃 Student #3 resumes working. Work left to do=223 minutes\n",
      "TIME=79 - 😃 Student #4 resumes working. Work left to do=226 minutes\n",
      "TIME=79 - 😃 Student #5 resumes working. Work left to do=183 minutes\n",
      "TIME=79 - 😃 Student #6 resumes working. Work left to do=223 minutes\n",
      "TIME=79 - 😃 Student #8 resumes working. Work left to do=197 minutes\n",
      "TIME=79 - 😃 Student #9 resumes working. Work left to do=183 minutes\n",
      "🌑 Power is off at 195 minutes\n",
      "TIME=195 - 😓 Student #0 interrupted by power cut. Task remaining=116 minutes\n",
      "TIME=195 - 😓 Student #1 interrupted by power cut. Task remaining=105 minutes\n",
      "TIME=195 - 😓 Student #2 interrupted by power cut. Task remaining=93 minutes\n",
      "TIME=195 - 😓 Student #3 interrupted by power cut. Task remaining=107 minutes\n",
      "TIME=195 - 😓 Student #4 interrupted by power cut. Task remaining=110 minutes\n",
      "TIME=195 - 😓 Student #5 interrupted by power cut. Task remaining=67 minutes\n",
      "TIME=195 - 😓 Student #6 interrupted by power cut. Task remaining=107 minutes\n",
      "TIME=195 - 😓 Student #8 interrupted by power cut. Task remaining=81 minutes\n",
      "TIME=195 - 😓 Student #9 interrupted by power cut. Task remaining=67 minutes\n",
      "TIME=200 - 😴 Student #1 slept. Assignment pending. Work left was=105 minutes\n",
      "TIME=200 - 😴 Student #3 slept. Assignment pending. Work left was=107 minutes\n",
      "🌕 Power is on at 207 minutes\n",
      "TIME=207 - 😃 Student #0 resumes working. Work left to do=116 minutes\n",
      "TIME=207 - 😃 Student #2 resumes working. Work left to do=93 minutes\n",
      "TIME=207 - 😃 Student #4 resumes working. Work left to do=110 minutes\n",
      "TIME=207 - 😃 Student #5 resumes working. Work left to do=67 minutes\n",
      "TIME=207 - 😃 Student #6 resumes working. Work left to do=107 minutes\n",
      "TIME=207 - 😃 Student #8 resumes working. Work left to do=81 minutes\n",
      "TIME=207 - 😃 Student #9 resumes working. Work left to do=67 minutes\n",
      "TIME=274 - 🥳 Student #5 finished working.\n",
      "TIME=274 - 🥳 Student #9 finished working.\n",
      "TIME=288 - 🥳 Student #8 finished working.\n",
      "TIME=300 - 🥳 Student #2 finished working.\n",
      "TIME=314 - 🥳 Student #6 finished working.\n",
      "TIME=317 - 🥳 Student #4 finished working.\n",
      "🌑 Power is off at 321 minutes\n",
      "TIME=321 - 😓 Student #0 interrupted by power cut. Task remaining=2 minutes\n",
      "TIME=326 - 😴 Student #0 slept. Assignment pending. Work left was=2 minutes\n",
      "🌕 Power is on at 333 minutes\n",
      "🌑 Power is off at 399 minutes\n",
      "🌕 Power is on at 414 minutes\n",
      "The time is 420 minutes\n",
      "The time is 420 minutes\n"
     ]
    },
    {
     "data": {
      "text/plain": [
       "<ConditionValue {<Process(timeduration) object at 0x1fed1ea7130>: None}>"
      ]
     },
     "execution_count": 8,
     "metadata": {},
     "output_type": "execute_result"
    },
    {
     "name": "stdout",
     "output_type": "stream",
     "text": [
      "\n",
      "\n"
     ]
    },
    {
     "data": {
      "text/plain": [
       "'Summary of the simulation'"
      ]
     },
     "execution_count": 8,
     "metadata": {},
     "output_type": "execute_result"
    },
    {
     "name": "stdout",
     "output_type": "stream",
     "text": [
      "-----------------------------------------------------------------------------\n",
      "                     📊Summary of the simulation📊                     \n",
      "-----------------------------------------------------------------------------\n",
      "Number of students who finished assignment on time 🥳                  6\n",
      "Number of students who Slept😴                                         4\n",
      "Number of students👦                                                   10\n",
      "Percentage of students who finished assignment on time (in %)         60.0\n",
      "Average time to finish assignment                                     301.7\n",
      "Number of power cuts🌑🌕                                                74\n",
      "-----------------------------------------------------------------------------\n",
      "🌕 Power is on at 0 minutes\n",
      "TIME=0 - 🙂 Student #0 started working.Work left=262 minutes\n",
      "TIME=0 - 🙂 Student #1 started working.Work left=290 minutes\n",
      "TIME=0 - 🙂 Student #2 started working.Work left=291 minutes\n",
      "TIME=0 - 🙂 Student #3 started working.Work left=282 minutes\n",
      "TIME=0 - 🙂 Student #4 started working.Work left=263 minutes\n",
      "TIME=0 - 🙂 Student #5 started working.Work left=287 minutes\n",
      "TIME=0 - 🙂 Student #6 started working.Work left=290 minutes\n",
      "TIME=0 - 🙂 Student #7 started working.Work left=246 minutes\n",
      "TIME=0 - 🙂 Student #8 started working.Work left=246 minutes\n",
      "TIME=0 - 🙂 Student #9 started working.Work left=264 minutes\n",
      "🌑 Power is off at 75 minutes\n",
      "TIME=75 - 😓 Student #0 interrupted by power cut. Task remaining=187 minutes\n",
      "TIME=75 - 😓 Student #1 interrupted by power cut. Task remaining=215 minutes\n",
      "TIME=75 - 😓 Student #2 interrupted by power cut. Task remaining=216 minutes\n",
      "TIME=75 - 😓 Student #3 interrupted by power cut. Task remaining=207 minutes\n",
      "TIME=75 - 😓 Student #4 interrupted by power cut. Task remaining=188 minutes\n",
      "TIME=75 - 😓 Student #5 interrupted by power cut. Task remaining=212 minutes\n",
      "TIME=75 - 😓 Student #6 interrupted by power cut. Task remaining=215 minutes\n",
      "TIME=75 - 😓 Student #7 interrupted by power cut. Task remaining=171 minutes\n",
      "TIME=75 - 😓 Student #8 interrupted by power cut. Task remaining=171 minutes\n",
      "TIME=75 - 😓 Student #9 interrupted by power cut. Task remaining=189 minutes\n",
      "TIME=80 - 😴 Student #3 slept. Assignment pending. Work left was=207 minutes\n",
      "TIME=80 - 😴 Student #8 slept. Assignment pending. Work left was=171 minutes\n",
      "🌕 Power is on at 87 minutes\n",
      "TIME=87 - 😃 Student #0 resumes working. Work left to do=187 minutes\n",
      "TIME=87 - 😃 Student #1 resumes working. Work left to do=215 minutes\n",
      "TIME=87 - 😃 Student #2 resumes working. Work left to do=216 minutes\n",
      "TIME=87 - 😃 Student #4 resumes working. Work left to do=188 minutes\n",
      "TIME=87 - 😃 Student #5 resumes working. Work left to do=212 minutes\n",
      "TIME=87 - 😃 Student #6 resumes working. Work left to do=215 minutes\n",
      "TIME=87 - 😃 Student #7 resumes working. Work left to do=171 minutes\n",
      "TIME=87 - 😃 Student #9 resumes working. Work left to do=189 minutes\n",
      "🌑 Power is off at 187 minutes\n",
      "TIME=187 - 😓 Student #0 interrupted by power cut. Task remaining=87 minutes\n",
      "TIME=187 - 😓 Student #1 interrupted by power cut. Task remaining=115 minutes\n",
      "TIME=187 - 😓 Student #2 interrupted by power cut. Task remaining=116 minutes\n",
      "TIME=187 - 😓 Student #4 interrupted by power cut. Task remaining=88 minutes\n",
      "TIME=187 - 😓 Student #5 interrupted by power cut. Task remaining=112 minutes\n",
      "TIME=187 - 😓 Student #6 interrupted by power cut. Task remaining=115 minutes\n",
      "TIME=187 - 😓 Student #7 interrupted by power cut. Task remaining=71 minutes\n",
      "TIME=187 - 😓 Student #9 interrupted by power cut. Task remaining=89 minutes\n",
      "TIME=192 - 😴 Student #9 slept. Assignment pending. Work left was=89 minutes\n",
      "🌕 Power is on at 202 minutes\n",
      "TIME=202 - 😃 Student #0 resumes working. Work left to do=87 minutes\n",
      "TIME=202 - 😃 Student #1 resumes working. Work left to do=115 minutes\n",
      "TIME=202 - 😃 Student #2 resumes working. Work left to do=116 minutes\n",
      "TIME=202 - 😃 Student #4 resumes working. Work left to do=88 minutes\n",
      "TIME=202 - 😃 Student #5 resumes working. Work left to do=112 minutes\n",
      "TIME=202 - 😃 Student #6 resumes working. Work left to do=115 minutes\n",
      "TIME=202 - 😃 Student #7 resumes working. Work left to do=71 minutes\n",
      "🌑 Power is off at 272 minutes\n",
      "TIME=272 - 😓 Student #0 interrupted by power cut. Task remaining=17 minutes\n",
      "TIME=272 - 😓 Student #1 interrupted by power cut. Task remaining=45 minutes\n",
      "TIME=272 - 😓 Student #2 interrupted by power cut. Task remaining=46 minutes\n",
      "TIME=272 - 😓 Student #4 interrupted by power cut. Task remaining=18 minutes\n",
      "TIME=272 - 😓 Student #5 interrupted by power cut. Task remaining=42 minutes\n",
      "TIME=272 - 😓 Student #6 interrupted by power cut. Task remaining=45 minutes\n",
      "TIME=272 - 😓 Student #7 interrupted by power cut. Task remaining=1 minutes\n",
      "🌕 Power is on at 285 minutes\n",
      "TIME=285 - 😃 Student #0 resumes working. Work left to do=17 minutes\n",
      "TIME=285 - 😃 Student #1 resumes working. Work left to do=45 minutes\n",
      "TIME=285 - 😃 Student #2 resumes working. Work left to do=46 minutes\n",
      "TIME=285 - 😃 Student #4 resumes working. Work left to do=18 minutes\n",
      "TIME=285 - 😃 Student #5 resumes working. Work left to do=42 minutes\n",
      "TIME=285 - 😃 Student #6 resumes working. Work left to do=45 minutes\n",
      "TIME=285 - 😃 Student #7 resumes working. Work left to do=1 minutes\n",
      "TIME=286 - 🥳 Student #7 finished working.\n",
      "TIME=302 - 🥳 Student #0 finished working.\n",
      "TIME=303 - 🥳 Student #4 finished working.\n",
      "TIME=327 - 🥳 Student #5 finished working.\n",
      "TIME=330 - 🥳 Student #1 finished working.\n",
      "TIME=330 - 🥳 Student #6 finished working.\n",
      "TIME=331 - 🥳 Student #2 finished working.\n",
      "🌑 Power is off at 347 minutes\n",
      "🌕 Power is on at 362 minutes\n",
      "The time is 420 minutes\n",
      "The time is 420 minutes\n"
     ]
    },
    {
     "data": {
      "text/plain": [
       "<ConditionValue {<Process(timeduration) object at 0x1fecfb0dc40>: None}>"
      ]
     },
     "execution_count": 8,
     "metadata": {},
     "output_type": "execute_result"
    },
    {
     "name": "stdout",
     "output_type": "stream",
     "text": [
      "\n",
      "\n"
     ]
    },
    {
     "data": {
      "text/plain": [
       "'Summary of the simulation'"
      ]
     },
     "execution_count": 8,
     "metadata": {},
     "output_type": "execute_result"
    },
    {
     "name": "stdout",
     "output_type": "stream",
     "text": [
      "-----------------------------------------------------------------------------\n",
      "                     📊Summary of the simulation📊                     \n",
      "-----------------------------------------------------------------------------\n",
      "Number of students who finished assignment on time 🥳                  7\n",
      "Number of students who Slept😴                                         3\n",
      "Number of students👦                                                   10\n",
      "Percentage of students who finished assignment on time (in %)         70.0\n",
      "Average time to finish assignment                                     302.3\n",
      "Number of power cuts🌑🌕                                                78\n",
      "-----------------------------------------------------------------------------\n",
      "🌕 Power is on at 0 minutes\n",
      "TIME=0 - 🙂 Student #0 started working.Work left=293 minutes\n",
      "TIME=0 - 🙂 Student #1 started working.Work left=300 minutes\n",
      "TIME=0 - 🙂 Student #2 started working.Work left=257 minutes\n",
      "TIME=0 - 🙂 Student #3 started working.Work left=290 minutes\n",
      "TIME=0 - 🙂 Student #4 started working.Work left=249 minutes\n",
      "TIME=0 - 🙂 Student #5 started working.Work left=274 minutes\n",
      "TIME=0 - 🙂 Student #6 started working.Work left=274 minutes\n",
      "TIME=0 - 🙂 Student #7 started working.Work left=295 minutes\n",
      "TIME=0 - 🙂 Student #8 started working.Work left=240 minutes\n",
      "TIME=0 - 🙂 Student #9 started working.Work left=280 minutes\n",
      "🌑 Power is off at 73 minutes\n",
      "TIME=73 - 😓 Student #0 interrupted by power cut. Task remaining=220 minutes\n",
      "TIME=73 - 😓 Student #1 interrupted by power cut. Task remaining=227 minutes\n",
      "TIME=73 - 😓 Student #2 interrupted by power cut. Task remaining=184 minutes\n",
      "TIME=73 - 😓 Student #3 interrupted by power cut. Task remaining=217 minutes\n",
      "TIME=73 - 😓 Student #4 interrupted by power cut. Task remaining=176 minutes\n",
      "TIME=73 - 😓 Student #5 interrupted by power cut. Task remaining=201 minutes\n",
      "TIME=73 - 😓 Student #6 interrupted by power cut. Task remaining=201 minutes\n",
      "TIME=73 - 😓 Student #7 interrupted by power cut. Task remaining=222 minutes\n",
      "TIME=73 - 😓 Student #8 interrupted by power cut. Task remaining=167 minutes\n",
      "TIME=73 - 😓 Student #9 interrupted by power cut. Task remaining=207 minutes\n",
      "TIME=78 - 😴 Student #0 slept. Assignment pending. Work left was=220 minutes\n",
      "TIME=78 - 😴 Student #5 slept. Assignment pending. Work left was=201 minutes\n",
      "TIME=78 - 😴 Student #6 slept. Assignment pending. Work left was=201 minutes\n",
      "🌕 Power is on at 87 minutes\n",
      "TIME=87 - 😃 Student #1 resumes working. Work left to do=227 minutes\n",
      "TIME=87 - 😃 Student #2 resumes working. Work left to do=184 minutes\n",
      "TIME=87 - 😃 Student #3 resumes working. Work left to do=217 minutes\n",
      "TIME=87 - 😃 Student #4 resumes working. Work left to do=176 minutes\n",
      "TIME=87 - 😃 Student #7 resumes working. Work left to do=222 minutes\n",
      "TIME=87 - 😃 Student #8 resumes working. Work left to do=167 minutes\n",
      "TIME=87 - 😃 Student #9 resumes working. Work left to do=207 minutes\n",
      "🌑 Power is off at 148 minutes\n",
      "TIME=148 - 😓 Student #1 interrupted by power cut. Task remaining=166 minutes\n",
      "TIME=148 - 😓 Student #2 interrupted by power cut. Task remaining=123 minutes\n",
      "TIME=148 - 😓 Student #3 interrupted by power cut. Task remaining=156 minutes\n",
      "TIME=148 - 😓 Student #4 interrupted by power cut. Task remaining=115 minutes\n",
      "TIME=148 - 😓 Student #7 interrupted by power cut. Task remaining=161 minutes\n",
      "TIME=148 - 😓 Student #8 interrupted by power cut. Task remaining=106 minutes\n",
      "TIME=148 - 😓 Student #9 interrupted by power cut. Task remaining=146 minutes\n",
      "TIME=153 - 😴 Student #1 slept. Assignment pending. Work left was=166 minutes\n",
      "TIME=153 - 😴 Student #2 slept. Assignment pending. Work left was=123 minutes\n",
      "TIME=153 - 😴 Student #8 slept. Assignment pending. Work left was=106 minutes\n",
      "TIME=153 - 😴 Student #9 slept. Assignment pending. Work left was=146 minutes\n",
      "🌕 Power is on at 162 minutes\n",
      "TIME=162 - 😃 Student #3 resumes working. Work left to do=156 minutes\n",
      "TIME=162 - 😃 Student #4 resumes working. Work left to do=115 minutes\n",
      "TIME=162 - 😃 Student #7 resumes working. Work left to do=161 minutes\n",
      "🌑 Power is off at 261 minutes\n",
      "TIME=261 - 😓 Student #3 interrupted by power cut. Task remaining=57 minutes\n",
      "TIME=261 - 😓 Student #4 interrupted by power cut. Task remaining=16 minutes\n",
      "TIME=261 - 😓 Student #7 interrupted by power cut. Task remaining=62 minutes\n",
      "🌕 Power is on at 275 minutes\n",
      "TIME=275 - 😃 Student #3 resumes working. Work left to do=57 minutes\n",
      "TIME=275 - 😃 Student #4 resumes working. Work left to do=16 minutes\n",
      "TIME=275 - 😃 Student #7 resumes working. Work left to do=62 minutes\n",
      "TIME=291 - 🥳 Student #4 finished working.\n",
      "TIME=332 - 🥳 Student #3 finished working.\n",
      "TIME=337 - 🥳 Student #7 finished working.\n",
      "🌑 Power is off at 343 minutes\n",
      "🌕 Power is on at 354 minutes\n",
      "The time is 420 minutes\n",
      "The time is 420 minutes\n"
     ]
    },
    {
     "data": {
      "text/plain": [
       "<ConditionValue {<Process(timeduration) object at 0x1fecfb46d00>: None}>"
      ]
     },
     "execution_count": 8,
     "metadata": {},
     "output_type": "execute_result"
    },
    {
     "name": "stdout",
     "output_type": "stream",
     "text": [
      "\n",
      "\n"
     ]
    },
    {
     "data": {
      "text/plain": [
       "'Summary of the simulation'"
      ]
     },
     "execution_count": 8,
     "metadata": {},
     "output_type": "execute_result"
    },
    {
     "name": "stdout",
     "output_type": "stream",
     "text": [
      "-----------------------------------------------------------------------------\n",
      "                     📊Summary of the simulation📊                     \n",
      "-----------------------------------------------------------------------------\n",
      "Number of students who finished assignment on time 🥳                  3\n",
      "Number of students who Slept😴                                         7\n",
      "Number of students👦                                                   10\n",
      "Percentage of students who finished assignment on time (in %)         30.0\n",
      "Average time to finish assignment                                     302.62\n",
      "Number of power cuts🌑🌕                                                82\n",
      "-----------------------------------------------------------------------------\n",
      "🌕 Power is on at 0 minutes\n",
      "TIME=0 - 🙂 Student #0 started working.Work left=246 minutes\n",
      "TIME=0 - 🙂 Student #1 started working.Work left=296 minutes\n",
      "TIME=0 - 🙂 Student #2 started working.Work left=244 minutes\n",
      "TIME=0 - 🙂 Student #3 started working.Work left=289 minutes\n",
      "TIME=0 - 🙂 Student #4 started working.Work left=282 minutes\n",
      "TIME=0 - 🙂 Student #5 started working.Work left=240 minutes\n",
      "TIME=0 - 🙂 Student #6 started working.Work left=272 minutes\n",
      "TIME=0 - 🙂 Student #7 started working.Work left=281 minutes\n",
      "TIME=0 - 🙂 Student #8 started working.Work left=251 minutes\n",
      "TIME=0 - 🙂 Student #9 started working.Work left=293 minutes\n",
      "🌑 Power is off at 84 minutes\n",
      "TIME=84 - 😓 Student #0 interrupted by power cut. Task remaining=162 minutes\n",
      "TIME=84 - 😓 Student #1 interrupted by power cut. Task remaining=212 minutes\n",
      "TIME=84 - 😓 Student #2 interrupted by power cut. Task remaining=160 minutes\n",
      "TIME=84 - 😓 Student #3 interrupted by power cut. Task remaining=205 minutes\n",
      "TIME=84 - 😓 Student #4 interrupted by power cut. Task remaining=198 minutes\n",
      "TIME=84 - 😓 Student #5 interrupted by power cut. Task remaining=156 minutes\n",
      "TIME=84 - 😓 Student #6 interrupted by power cut. Task remaining=188 minutes\n",
      "TIME=84 - 😓 Student #7 interrupted by power cut. Task remaining=197 minutes\n",
      "TIME=84 - 😓 Student #8 interrupted by power cut. Task remaining=167 minutes\n",
      "TIME=84 - 😓 Student #9 interrupted by power cut. Task remaining=209 minutes\n",
      "TIME=89 - 😴 Student #3 slept. Assignment pending. Work left was=205 minutes\n",
      "TIME=89 - 😴 Student #6 slept. Assignment pending. Work left was=188 minutes\n",
      "🌕 Power is on at 95 minutes\n",
      "TIME=95 - 😃 Student #0 resumes working. Work left to do=162 minutes\n",
      "TIME=95 - 😃 Student #1 resumes working. Work left to do=212 minutes\n",
      "TIME=95 - 😃 Student #2 resumes working. Work left to do=160 minutes\n",
      "TIME=95 - 😃 Student #4 resumes working. Work left to do=198 minutes\n",
      "TIME=95 - 😃 Student #5 resumes working. Work left to do=156 minutes\n",
      "TIME=95 - 😃 Student #7 resumes working. Work left to do=197 minutes\n",
      "TIME=95 - 😃 Student #8 resumes working. Work left to do=167 minutes\n",
      "TIME=95 - 😃 Student #9 resumes working. Work left to do=209 minutes\n",
      "🌑 Power is off at 164 minutes\n",
      "TIME=164 - 😓 Student #0 interrupted by power cut. Task remaining=93 minutes\n",
      "TIME=164 - 😓 Student #1 interrupted by power cut. Task remaining=143 minutes\n",
      "TIME=164 - 😓 Student #2 interrupted by power cut. Task remaining=91 minutes\n",
      "TIME=164 - 😓 Student #4 interrupted by power cut. Task remaining=129 minutes\n",
      "TIME=164 - 😓 Student #5 interrupted by power cut. Task remaining=87 minutes\n",
      "TIME=164 - 😓 Student #7 interrupted by power cut. Task remaining=128 minutes\n",
      "TIME=164 - 😓 Student #8 interrupted by power cut. Task remaining=98 minutes\n",
      "TIME=164 - 😓 Student #9 interrupted by power cut. Task remaining=140 minutes\n",
      "TIME=169 - 😴 Student #4 slept. Assignment pending. Work left was=129 minutes\n",
      "🌕 Power is on at 176 minutes\n",
      "TIME=176 - 😃 Student #0 resumes working. Work left to do=93 minutes\n",
      "TIME=176 - 😃 Student #1 resumes working. Work left to do=143 minutes\n",
      "TIME=176 - 😃 Student #2 resumes working. Work left to do=91 minutes\n",
      "TIME=176 - 😃 Student #5 resumes working. Work left to do=87 minutes\n",
      "TIME=176 - 😃 Student #7 resumes working. Work left to do=128 minutes\n",
      "TIME=176 - 😃 Student #8 resumes working. Work left to do=98 minutes\n",
      "TIME=176 - 😃 Student #9 resumes working. Work left to do=140 minutes\n",
      "TIME=263 - 🥳 Student #5 finished working.\n",
      "TIME=267 - 🥳 Student #2 finished working.\n",
      "TIME=269 - 🥳 Student #0 finished working.\n",
      "TIME=274 - 🥳 Student #8 finished working.\n",
      "🌑 Power is off at 283 minutes\n",
      "TIME=283 - 😓 Student #1 interrupted by power cut. Task remaining=36 minutes\n",
      "TIME=283 - 😓 Student #7 interrupted by power cut. Task remaining=21 minutes\n",
      "TIME=283 - 😓 Student #9 interrupted by power cut. Task remaining=33 minutes\n",
      "🌕 Power is on at 297 minutes\n",
      "TIME=297 - 😃 Student #1 resumes working. Work left to do=36 minutes\n",
      "TIME=297 - 😃 Student #7 resumes working. Work left to do=21 minutes\n",
      "TIME=297 - 😃 Student #9 resumes working. Work left to do=33 minutes\n",
      "TIME=318 - 🥳 Student #7 finished working.\n",
      "TIME=330 - 🥳 Student #9 finished working.\n",
      "TIME=333 - 🥳 Student #1 finished working.\n",
      "🌑 Power is off at 388 minutes\n",
      "🌕 Power is on at 403 minutes\n",
      "The time is 420 minutes\n",
      "The time is 420 minutes\n"
     ]
    },
    {
     "data": {
      "text/plain": [
       "<ConditionValue {<Process(timeduration) object at 0x1fecfb61490>: None}>"
      ]
     },
     "execution_count": 8,
     "metadata": {},
     "output_type": "execute_result"
    },
    {
     "name": "stdout",
     "output_type": "stream",
     "text": [
      "\n",
      "\n"
     ]
    },
    {
     "data": {
      "text/plain": [
       "'Summary of the simulation'"
      ]
     },
     "execution_count": 8,
     "metadata": {},
     "output_type": "execute_result"
    },
    {
     "name": "stdout",
     "output_type": "stream",
     "text": [
      "-----------------------------------------------------------------------------\n",
      "                     📊Summary of the simulation📊                     \n",
      "-----------------------------------------------------------------------------\n",
      "Number of students who finished assignment on time 🥳                  7\n",
      "Number of students who Slept😴                                         3\n",
      "Number of students👦                                                   10\n",
      "Percentage of students who finished assignment on time (in %)         70.0\n",
      "Average time to finish assignment                                     302.25\n",
      "Number of power cuts🌑🌕                                                86\n",
      "-----------------------------------------------------------------------------\n",
      "🌕 Power is on at 0 minutes\n",
      "TIME=0 - 🙂 Student #0 started working.Work left=298 minutes\n",
      "TIME=0 - 🙂 Student #1 started working.Work left=262 minutes\n",
      "TIME=0 - 🙂 Student #2 started working.Work left=240 minutes\n",
      "TIME=0 - 🙂 Student #3 started working.Work left=274 minutes\n",
      "TIME=0 - 🙂 Student #4 started working.Work left=282 minutes\n",
      "TIME=0 - 🙂 Student #5 started working.Work left=297 minutes\n",
      "TIME=0 - 🙂 Student #6 started working.Work left=277 minutes\n",
      "TIME=0 - 🙂 Student #7 started working.Work left=285 minutes\n",
      "TIME=0 - 🙂 Student #8 started working.Work left=284 minutes\n",
      "TIME=0 - 🙂 Student #9 started working.Work left=261 minutes\n",
      "🌑 Power is off at 61 minutes\n",
      "TIME=61 - 😓 Student #0 interrupted by power cut. Task remaining=237 minutes\n",
      "TIME=61 - 😓 Student #1 interrupted by power cut. Task remaining=201 minutes\n",
      "TIME=61 - 😓 Student #2 interrupted by power cut. Task remaining=179 minutes\n",
      "TIME=61 - 😓 Student #3 interrupted by power cut. Task remaining=213 minutes\n",
      "TIME=61 - 😓 Student #4 interrupted by power cut. Task remaining=221 minutes\n",
      "TIME=61 - 😓 Student #5 interrupted by power cut. Task remaining=236 minutes\n",
      "TIME=61 - 😓 Student #6 interrupted by power cut. Task remaining=216 minutes\n",
      "TIME=61 - 😓 Student #7 interrupted by power cut. Task remaining=224 minutes\n",
      "TIME=61 - 😓 Student #8 interrupted by power cut. Task remaining=223 minutes\n",
      "TIME=61 - 😓 Student #9 interrupted by power cut. Task remaining=200 minutes\n",
      "TIME=66 - 😴 Student #7 slept. Assignment pending. Work left was=224 minutes\n",
      "🌕 Power is on at 74 minutes\n",
      "TIME=74 - 😃 Student #0 resumes working. Work left to do=237 minutes\n",
      "TIME=74 - 😃 Student #1 resumes working. Work left to do=201 minutes\n",
      "TIME=74 - 😃 Student #2 resumes working. Work left to do=179 minutes\n",
      "TIME=74 - 😃 Student #3 resumes working. Work left to do=213 minutes\n",
      "TIME=74 - 😃 Student #4 resumes working. Work left to do=221 minutes\n",
      "TIME=74 - 😃 Student #5 resumes working. Work left to do=236 minutes\n",
      "TIME=74 - 😃 Student #6 resumes working. Work left to do=216 minutes\n",
      "TIME=74 - 😃 Student #8 resumes working. Work left to do=223 minutes\n",
      "TIME=74 - 😃 Student #9 resumes working. Work left to do=200 minutes\n",
      "🌑 Power is off at 154 minutes\n",
      "TIME=154 - 😓 Student #0 interrupted by power cut. Task remaining=157 minutes\n",
      "TIME=154 - 😓 Student #1 interrupted by power cut. Task remaining=121 minutes\n",
      "TIME=154 - 😓 Student #2 interrupted by power cut. Task remaining=99 minutes\n",
      "TIME=154 - 😓 Student #3 interrupted by power cut. Task remaining=133 minutes\n",
      "TIME=154 - 😓 Student #4 interrupted by power cut. Task remaining=141 minutes\n",
      "TIME=154 - 😓 Student #5 interrupted by power cut. Task remaining=156 minutes\n",
      "TIME=154 - 😓 Student #6 interrupted by power cut. Task remaining=136 minutes\n",
      "TIME=154 - 😓 Student #8 interrupted by power cut. Task remaining=143 minutes\n",
      "TIME=154 - 😓 Student #9 interrupted by power cut. Task remaining=120 minutes\n",
      "TIME=159 - 😴 Student #1 slept. Assignment pending. Work left was=121 minutes\n",
      "TIME=159 - 😴 Student #4 slept. Assignment pending. Work left was=141 minutes\n",
      "TIME=159 - 😴 Student #6 slept. Assignment pending. Work left was=136 minutes\n",
      "🌕 Power is on at 165 minutes\n",
      "TIME=165 - 😃 Student #0 resumes working. Work left to do=157 minutes\n",
      "TIME=165 - 😃 Student #2 resumes working. Work left to do=99 minutes\n",
      "TIME=165 - 😃 Student #3 resumes working. Work left to do=133 minutes\n",
      "TIME=165 - 😃 Student #5 resumes working. Work left to do=156 minutes\n",
      "TIME=165 - 😃 Student #8 resumes working. Work left to do=143 minutes\n",
      "TIME=165 - 😃 Student #9 resumes working. Work left to do=120 minutes\n",
      "🌑 Power is off at 226 minutes\n",
      "TIME=226 - 😓 Student #0 interrupted by power cut. Task remaining=96 minutes\n",
      "TIME=226 - 😓 Student #2 interrupted by power cut. Task remaining=38 minutes\n",
      "TIME=226 - 😓 Student #3 interrupted by power cut. Task remaining=72 minutes\n",
      "TIME=226 - 😓 Student #5 interrupted by power cut. Task remaining=95 minutes\n",
      "TIME=226 - 😓 Student #8 interrupted by power cut. Task remaining=82 minutes\n",
      "TIME=226 - 😓 Student #9 interrupted by power cut. Task remaining=59 minutes\n",
      "TIME=231 - 😴 Student #3 slept. Assignment pending. Work left was=72 minutes\n",
      "TIME=231 - 😴 Student #5 slept. Assignment pending. Work left was=95 minutes\n",
      "TIME=231 - 😴 Student #8 slept. Assignment pending. Work left was=82 minutes\n",
      "TIME=231 - 😴 Student #9 slept. Assignment pending. Work left was=59 minutes\n",
      "🌕 Power is on at 241 minutes\n",
      "TIME=241 - 😃 Student #0 resumes working. Work left to do=96 minutes\n",
      "TIME=241 - 😃 Student #2 resumes working. Work left to do=38 minutes\n",
      "TIME=279 - 🥳 Student #2 finished working.\n",
      "TIME=337 - 🥳 Student #0 finished working.\n",
      "🌑 Power is off at 347 minutes\n",
      "🌕 Power is on at 359 minutes\n",
      "The time is 420 minutes\n",
      "The time is 420 minutes\n"
     ]
    },
    {
     "data": {
      "text/plain": [
       "<ConditionValue {<Process(timeduration) object at 0x1fecfb8ad90>: None}>"
      ]
     },
     "execution_count": 8,
     "metadata": {},
     "output_type": "execute_result"
    },
    {
     "name": "stdout",
     "output_type": "stream",
     "text": [
      "\n",
      "\n"
     ]
    },
    {
     "data": {
      "text/plain": [
       "'Summary of the simulation'"
      ]
     },
     "execution_count": 8,
     "metadata": {},
     "output_type": "execute_result"
    },
    {
     "name": "stdout",
     "output_type": "stream",
     "text": [
      "-----------------------------------------------------------------------------\n",
      "                     📊Summary of the simulation📊                     \n",
      "-----------------------------------------------------------------------------\n",
      "Number of students who finished assignment on time 🥳                  2\n",
      "Number of students who Slept😴                                         8\n",
      "Number of students👦                                                   10\n",
      "Percentage of students who finished assignment on time (in %)         20.0\n",
      "Average time to finish assignment                                     302.32\n",
      "Number of power cuts🌑🌕                                                90\n",
      "-----------------------------------------------------------------------------\n",
      "🌕 Power is on at 0 minutes\n",
      "TIME=0 - 🙂 Student #0 started working.Work left=272 minutes\n",
      "TIME=0 - 🙂 Student #1 started working.Work left=298 minutes\n",
      "TIME=0 - 🙂 Student #2 started working.Work left=242 minutes\n",
      "TIME=0 - 🙂 Student #3 started working.Work left=272 minutes\n",
      "TIME=0 - 🙂 Student #4 started working.Work left=245 minutes\n",
      "TIME=0 - 🙂 Student #5 started working.Work left=263 minutes\n",
      "TIME=0 - 🙂 Student #6 started working.Work left=266 minutes\n",
      "TIME=0 - 🙂 Student #7 started working.Work left=274 minutes\n",
      "TIME=0 - 🙂 Student #8 started working.Work left=245 minutes\n",
      "TIME=0 - 🙂 Student #9 started working.Work left=243 minutes\n",
      "🌑 Power is off at 116 minutes\n",
      "TIME=116 - 😓 Student #0 interrupted by power cut. Task remaining=156 minutes\n",
      "TIME=116 - 😓 Student #1 interrupted by power cut. Task remaining=182 minutes\n",
      "TIME=116 - 😓 Student #2 interrupted by power cut. Task remaining=126 minutes\n",
      "TIME=116 - 😓 Student #3 interrupted by power cut. Task remaining=156 minutes\n",
      "TIME=116 - 😓 Student #4 interrupted by power cut. Task remaining=129 minutes\n",
      "TIME=116 - 😓 Student #5 interrupted by power cut. Task remaining=147 minutes\n",
      "TIME=116 - 😓 Student #6 interrupted by power cut. Task remaining=150 minutes\n",
      "TIME=116 - 😓 Student #7 interrupted by power cut. Task remaining=158 minutes\n",
      "TIME=116 - 😓 Student #8 interrupted by power cut. Task remaining=129 minutes\n",
      "TIME=116 - 😓 Student #9 interrupted by power cut. Task remaining=127 minutes\n",
      "TIME=121 - 😴 Student #2 slept. Assignment pending. Work left was=126 minutes\n",
      "TIME=121 - 😴 Student #4 slept. Assignment pending. Work left was=129 minutes\n",
      "🌕 Power is on at 128 minutes\n",
      "TIME=128 - 😃 Student #0 resumes working. Work left to do=156 minutes\n",
      "TIME=128 - 😃 Student #1 resumes working. Work left to do=182 minutes\n",
      "TIME=128 - 😃 Student #3 resumes working. Work left to do=156 minutes\n",
      "TIME=128 - 😃 Student #5 resumes working. Work left to do=147 minutes\n",
      "TIME=128 - 😃 Student #6 resumes working. Work left to do=150 minutes\n",
      "TIME=128 - 😃 Student #7 resumes working. Work left to do=158 minutes\n",
      "TIME=128 - 😃 Student #8 resumes working. Work left to do=129 minutes\n",
      "TIME=128 - 😃 Student #9 resumes working. Work left to do=127 minutes\n",
      "🌑 Power is off at 202 minutes\n",
      "TIME=202 - 😓 Student #0 interrupted by power cut. Task remaining=82 minutes\n",
      "TIME=202 - 😓 Student #1 interrupted by power cut. Task remaining=108 minutes\n",
      "TIME=202 - 😓 Student #3 interrupted by power cut. Task remaining=82 minutes\n",
      "TIME=202 - 😓 Student #5 interrupted by power cut. Task remaining=73 minutes\n",
      "TIME=202 - 😓 Student #6 interrupted by power cut. Task remaining=76 minutes\n",
      "TIME=202 - 😓 Student #7 interrupted by power cut. Task remaining=84 minutes\n",
      "TIME=202 - 😓 Student #8 interrupted by power cut. Task remaining=55 minutes\n",
      "TIME=202 - 😓 Student #9 interrupted by power cut. Task remaining=53 minutes\n",
      "TIME=207 - 😴 Student #5 slept. Assignment pending. Work left was=73 minutes\n",
      "TIME=207 - 😴 Student #6 slept. Assignment pending. Work left was=76 minutes\n",
      "🌕 Power is on at 214 minutes\n",
      "TIME=214 - 😃 Student #0 resumes working. Work left to do=82 minutes\n",
      "TIME=214 - 😃 Student #1 resumes working. Work left to do=108 minutes\n",
      "TIME=214 - 😃 Student #3 resumes working. Work left to do=82 minutes\n",
      "TIME=214 - 😃 Student #7 resumes working. Work left to do=84 minutes\n",
      "TIME=214 - 😃 Student #8 resumes working. Work left to do=55 minutes\n",
      "TIME=214 - 😃 Student #9 resumes working. Work left to do=53 minutes\n",
      "TIME=267 - 🥳 Student #9 finished working.\n",
      "TIME=269 - 🥳 Student #8 finished working.\n",
      "TIME=296 - 🥳 Student #0 finished working.\n",
      "TIME=296 - 🥳 Student #3 finished working.\n",
      "TIME=298 - 🥳 Student #7 finished working.\n",
      "🌑 Power is off at 317 minutes\n",
      "TIME=317 - 😓 Student #1 interrupted by power cut. Task remaining=5 minutes\n",
      "🌕 Power is on at 331 minutes\n",
      "TIME=331 - 😃 Student #1 resumes working. Work left to do=5 minutes\n",
      "TIME=336 - 🥳 Student #1 finished working.\n",
      "The time is 420 minutes\n",
      "The time is 420 minutes\n"
     ]
    },
    {
     "data": {
      "text/plain": [
       "<ConditionValue {<Process(timeduration) object at 0x1fecfb7e4f0>: None}>"
      ]
     },
     "execution_count": 8,
     "metadata": {},
     "output_type": "execute_result"
    },
    {
     "name": "stdout",
     "output_type": "stream",
     "text": [
      "\n",
      "\n"
     ]
    },
    {
     "data": {
      "text/plain": [
       "'Summary of the simulation'"
      ]
     },
     "execution_count": 8,
     "metadata": {},
     "output_type": "execute_result"
    },
    {
     "name": "stdout",
     "output_type": "stream",
     "text": [
      "-----------------------------------------------------------------------------\n",
      "                     📊Summary of the simulation📊                     \n",
      "-----------------------------------------------------------------------------\n",
      "Number of students who finished assignment on time 🥳                  6\n",
      "Number of students who Slept😴                                         4\n",
      "Number of students👦                                                   10\n",
      "Percentage of students who finished assignment on time (in %)         60.0\n",
      "Average time to finish assignment                                     302.03\n",
      "Number of power cuts🌑🌕                                                93\n",
      "-----------------------------------------------------------------------------\n",
      "🌕 Power is on at 0 minutes\n",
      "TIME=0 - 🙂 Student #0 started working.Work left=257 minutes\n",
      "TIME=0 - 🙂 Student #1 started working.Work left=259 minutes\n",
      "TIME=0 - 🙂 Student #2 started working.Work left=241 minutes\n",
      "TIME=0 - 🙂 Student #3 started working.Work left=259 minutes\n",
      "TIME=0 - 🙂 Student #4 started working.Work left=243 minutes\n",
      "TIME=0 - 🙂 Student #5 started working.Work left=258 minutes\n",
      "TIME=0 - 🙂 Student #6 started working.Work left=271 minutes\n",
      "TIME=0 - 🙂 Student #7 started working.Work left=251 minutes\n",
      "TIME=0 - 🙂 Student #8 started working.Work left=265 minutes\n",
      "TIME=0 - 🙂 Student #9 started working.Work left=277 minutes\n",
      "🌑 Power is off at 68 minutes\n",
      "TIME=68 - 😓 Student #0 interrupted by power cut. Task remaining=189 minutes\n",
      "TIME=68 - 😓 Student #1 interrupted by power cut. Task remaining=191 minutes\n",
      "TIME=68 - 😓 Student #2 interrupted by power cut. Task remaining=173 minutes\n",
      "TIME=68 - 😓 Student #3 interrupted by power cut. Task remaining=191 minutes\n",
      "TIME=68 - 😓 Student #4 interrupted by power cut. Task remaining=175 minutes\n",
      "TIME=68 - 😓 Student #5 interrupted by power cut. Task remaining=190 minutes\n",
      "TIME=68 - 😓 Student #6 interrupted by power cut. Task remaining=203 minutes\n",
      "TIME=68 - 😓 Student #7 interrupted by power cut. Task remaining=183 minutes\n",
      "TIME=68 - 😓 Student #8 interrupted by power cut. Task remaining=197 minutes\n",
      "TIME=68 - 😓 Student #9 interrupted by power cut. Task remaining=209 minutes\n",
      "TIME=73 - 😴 Student #0 slept. Assignment pending. Work left was=189 minutes\n",
      "TIME=73 - 😴 Student #5 slept. Assignment pending. Work left was=190 minutes\n",
      "TIME=73 - 😴 Student #6 slept. Assignment pending. Work left was=203 minutes\n",
      "TIME=73 - 😴 Student #7 slept. Assignment pending. Work left was=183 minutes\n",
      "TIME=73 - 😴 Student #9 slept. Assignment pending. Work left was=209 minutes\n",
      "🌕 Power is on at 81 minutes\n",
      "TIME=81 - 😃 Student #1 resumes working. Work left to do=191 minutes\n",
      "TIME=81 - 😃 Student #2 resumes working. Work left to do=173 minutes\n",
      "TIME=81 - 😃 Student #3 resumes working. Work left to do=191 minutes\n",
      "TIME=81 - 😃 Student #4 resumes working. Work left to do=175 minutes\n",
      "TIME=81 - 😃 Student #8 resumes working. Work left to do=197 minutes\n",
      "🌑 Power is off at 175 minutes\n",
      "TIME=175 - 😓 Student #1 interrupted by power cut. Task remaining=97 minutes\n",
      "TIME=175 - 😓 Student #2 interrupted by power cut. Task remaining=79 minutes\n",
      "TIME=175 - 😓 Student #3 interrupted by power cut. Task remaining=97 minutes\n",
      "TIME=175 - 😓 Student #4 interrupted by power cut. Task remaining=81 minutes\n",
      "TIME=175 - 😓 Student #8 interrupted by power cut. Task remaining=103 minutes\n",
      "TIME=180 - 😴 Student #2 slept. Assignment pending. Work left was=79 minutes\n",
      "🌕 Power is on at 186 minutes\n",
      "TIME=186 - 😃 Student #1 resumes working. Work left to do=97 minutes\n",
      "TIME=186 - 😃 Student #3 resumes working. Work left to do=97 minutes\n",
      "TIME=186 - 😃 Student #4 resumes working. Work left to do=81 minutes\n",
      "TIME=186 - 😃 Student #8 resumes working. Work left to do=103 minutes\n",
      "🌑 Power is off at 250 minutes\n",
      "TIME=250 - 😓 Student #1 interrupted by power cut. Task remaining=33 minutes\n",
      "TIME=250 - 😓 Student #3 interrupted by power cut. Task remaining=33 minutes\n",
      "TIME=250 - 😓 Student #4 interrupted by power cut. Task remaining=17 minutes\n",
      "TIME=250 - 😓 Student #8 interrupted by power cut. Task remaining=39 minutes\n",
      "TIME=255 - 😴 Student #3 slept. Assignment pending. Work left was=33 minutes\n",
      "🌕 Power is on at 262 minutes\n",
      "TIME=262 - 😃 Student #1 resumes working. Work left to do=33 minutes\n",
      "TIME=262 - 😃 Student #4 resumes working. Work left to do=17 minutes\n",
      "TIME=262 - 😃 Student #8 resumes working. Work left to do=39 minutes\n",
      "TIME=279 - 🥳 Student #4 finished working.\n",
      "TIME=295 - 🥳 Student #1 finished working.\n",
      "TIME=301 - 🥳 Student #8 finished working.\n",
      "🌑 Power is off at 359 minutes\n",
      "🌕 Power is on at 374 minutes\n",
      "The time is 420 minutes\n",
      "The time is 420 minutes\n"
     ]
    },
    {
     "data": {
      "text/plain": [
       "<ConditionValue {<Process(timeduration) object at 0x1fecfbb6ee0>: None}>"
      ]
     },
     "execution_count": 8,
     "metadata": {},
     "output_type": "execute_result"
    },
    {
     "name": "stdout",
     "output_type": "stream",
     "text": [
      "\n",
      "\n"
     ]
    },
    {
     "data": {
      "text/plain": [
       "'Summary of the simulation'"
      ]
     },
     "execution_count": 8,
     "metadata": {},
     "output_type": "execute_result"
    },
    {
     "name": "stdout",
     "output_type": "stream",
     "text": [
      "-----------------------------------------------------------------------------\n",
      "                     📊Summary of the simulation📊                     \n",
      "-----------------------------------------------------------------------------\n",
      "Number of students who finished assignment on time 🥳                  3\n",
      "Number of students who Slept😴                                         7\n",
      "Number of students👦                                                   10\n",
      "Percentage of students who finished assignment on time (in %)         30.0\n",
      "Average time to finish assignment                                     301.86\n",
      "Number of power cuts🌑🌕                                                97\n",
      "-----------------------------------------------------------------------------\n",
      "🌕 Power is on at 0 minutes\n",
      "TIME=0 - 🙂 Student #0 started working.Work left=242 minutes\n",
      "TIME=0 - 🙂 Student #1 started working.Work left=256 minutes\n",
      "TIME=0 - 🙂 Student #2 started working.Work left=286 minutes\n",
      "TIME=0 - 🙂 Student #3 started working.Work left=257 minutes\n",
      "TIME=0 - 🙂 Student #4 started working.Work left=249 minutes\n",
      "TIME=0 - 🙂 Student #5 started working.Work left=266 minutes\n",
      "TIME=0 - 🙂 Student #6 started working.Work left=274 minutes\n",
      "TIME=0 - 🙂 Student #7 started working.Work left=269 minutes\n",
      "TIME=0 - 🙂 Student #8 started working.Work left=284 minutes\n",
      "TIME=0 - 🙂 Student #9 started working.Work left=278 minutes\n",
      "🌑 Power is off at 72 minutes\n",
      "TIME=72 - 😓 Student #0 interrupted by power cut. Task remaining=170 minutes\n",
      "TIME=72 - 😓 Student #1 interrupted by power cut. Task remaining=184 minutes\n",
      "TIME=72 - 😓 Student #2 interrupted by power cut. Task remaining=214 minutes\n",
      "TIME=72 - 😓 Student #3 interrupted by power cut. Task remaining=185 minutes\n",
      "TIME=72 - 😓 Student #4 interrupted by power cut. Task remaining=177 minutes\n",
      "TIME=72 - 😓 Student #5 interrupted by power cut. Task remaining=194 minutes\n",
      "TIME=72 - 😓 Student #6 interrupted by power cut. Task remaining=202 minutes\n",
      "TIME=72 - 😓 Student #7 interrupted by power cut. Task remaining=197 minutes\n",
      "TIME=72 - 😓 Student #8 interrupted by power cut. Task remaining=212 minutes\n",
      "TIME=72 - 😓 Student #9 interrupted by power cut. Task remaining=206 minutes\n",
      "🌕 Power is on at 85 minutes\n",
      "TIME=85 - 😃 Student #0 resumes working. Work left to do=170 minutes\n",
      "TIME=85 - 😃 Student #1 resumes working. Work left to do=184 minutes\n",
      "TIME=85 - 😃 Student #2 resumes working. Work left to do=214 minutes\n",
      "TIME=85 - 😃 Student #3 resumes working. Work left to do=185 minutes\n",
      "TIME=85 - 😃 Student #4 resumes working. Work left to do=177 minutes\n",
      "TIME=85 - 😃 Student #5 resumes working. Work left to do=194 minutes\n",
      "TIME=85 - 😃 Student #6 resumes working. Work left to do=202 minutes\n",
      "TIME=85 - 😃 Student #7 resumes working. Work left to do=197 minutes\n",
      "TIME=85 - 😃 Student #8 resumes working. Work left to do=212 minutes\n",
      "TIME=85 - 😃 Student #9 resumes working. Work left to do=206 minutes\n",
      "🌑 Power is off at 184 minutes\n",
      "TIME=184 - 😓 Student #0 interrupted by power cut. Task remaining=71 minutes\n",
      "TIME=184 - 😓 Student #1 interrupted by power cut. Task remaining=85 minutes\n",
      "TIME=184 - 😓 Student #2 interrupted by power cut. Task remaining=115 minutes\n",
      "TIME=184 - 😓 Student #3 interrupted by power cut. Task remaining=86 minutes\n",
      "TIME=184 - 😓 Student #4 interrupted by power cut. Task remaining=78 minutes\n",
      "TIME=184 - 😓 Student #5 interrupted by power cut. Task remaining=95 minutes\n",
      "TIME=184 - 😓 Student #6 interrupted by power cut. Task remaining=103 minutes\n",
      "TIME=184 - 😓 Student #7 interrupted by power cut. Task remaining=98 minutes\n",
      "TIME=184 - 😓 Student #8 interrupted by power cut. Task remaining=113 minutes\n",
      "TIME=184 - 😓 Student #9 interrupted by power cut. Task remaining=107 minutes\n",
      "TIME=189 - 😴 Student #1 slept. Assignment pending. Work left was=85 minutes\n",
      "TIME=189 - 😴 Student #2 slept. Assignment pending. Work left was=115 minutes\n",
      "TIME=189 - 😴 Student #5 slept. Assignment pending. Work left was=95 minutes\n",
      "TIME=189 - 😴 Student #7 slept. Assignment pending. Work left was=98 minutes\n",
      "🌕 Power is on at 195 minutes\n",
      "TIME=195 - 😃 Student #0 resumes working. Work left to do=71 minutes\n",
      "TIME=195 - 😃 Student #3 resumes working. Work left to do=86 minutes\n",
      "TIME=195 - 😃 Student #4 resumes working. Work left to do=78 minutes\n",
      "TIME=195 - 😃 Student #6 resumes working. Work left to do=103 minutes\n",
      "TIME=195 - 😃 Student #8 resumes working. Work left to do=113 minutes\n",
      "TIME=195 - 😃 Student #9 resumes working. Work left to do=107 minutes\n",
      "TIME=266 - 🥳 Student #0 finished working.\n",
      "TIME=273 - 🥳 Student #4 finished working.\n",
      "TIME=281 - 🥳 Student #3 finished working.\n",
      "TIME=298 - 🥳 Student #6 finished working.\n",
      "TIME=302 - 🥳 Student #9 finished working.\n",
      "🌑 Power is off at 307 minutes\n",
      "TIME=307 - 😓 Student #8 interrupted by power cut. Task remaining=1 minutes\n",
      "🌕 Power is on at 320 minutes\n",
      "TIME=320 - 😃 Student #8 resumes working. Work left to do=1 minutes\n",
      "TIME=321 - 🥳 Student #8 finished working.\n",
      "🌑 Power is off at 413 minutes\n",
      "The time is 420 minutes\n",
      "The time is 420 minutes\n"
     ]
    },
    {
     "data": {
      "text/plain": [
       "<ConditionValue {<Process(timeduration) object at 0x1fecfb0dc40>: None}>"
      ]
     },
     "execution_count": 8,
     "metadata": {},
     "output_type": "execute_result"
    },
    {
     "name": "stdout",
     "output_type": "stream",
     "text": [
      "\n",
      "\n"
     ]
    },
    {
     "data": {
      "text/plain": [
       "'Summary of the simulation'"
      ]
     },
     "execution_count": 8,
     "metadata": {},
     "output_type": "execute_result"
    },
    {
     "name": "stdout",
     "output_type": "stream",
     "text": [
      "-----------------------------------------------------------------------------\n",
      "                     📊Summary of the simulation📊                     \n",
      "-----------------------------------------------------------------------------\n",
      "Number of students who finished assignment on time 🥳                  6\n",
      "Number of students who Slept😴                                         4\n",
      "Number of students👦                                                   10\n",
      "Percentage of students who finished assignment on time (in %)         60.0\n",
      "Average time to finish assignment                                     301.49\n",
      "Number of power cuts🌑🌕                                                101\n",
      "-----------------------------------------------------------------------------\n",
      "🌕 Power is on at 0 minutes\n",
      "TIME=0 - 🙂 Student #0 started working.Work left=259 minutes\n",
      "TIME=0 - 🙂 Student #1 started working.Work left=276 minutes\n",
      "TIME=0 - 🙂 Student #2 started working.Work left=256 minutes\n",
      "TIME=0 - 🙂 Student #3 started working.Work left=246 minutes\n",
      "TIME=0 - 🙂 Student #4 started working.Work left=287 minutes\n",
      "TIME=0 - 🙂 Student #5 started working.Work left=262 minutes\n",
      "TIME=0 - 🙂 Student #6 started working.Work left=288 minutes\n",
      "TIME=0 - 🙂 Student #7 started working.Work left=293 minutes\n",
      "TIME=0 - 🙂 Student #8 started working.Work left=265 minutes\n",
      "TIME=0 - 🙂 Student #9 started working.Work left=257 minutes\n",
      "🌑 Power is off at 100 minutes\n",
      "TIME=100 - 😓 Student #0 interrupted by power cut. Task remaining=159 minutes\n",
      "TIME=100 - 😓 Student #1 interrupted by power cut. Task remaining=176 minutes\n",
      "TIME=100 - 😓 Student #2 interrupted by power cut. Task remaining=156 minutes\n",
      "TIME=100 - 😓 Student #3 interrupted by power cut. Task remaining=146 minutes\n",
      "TIME=100 - 😓 Student #4 interrupted by power cut. Task remaining=187 minutes\n",
      "TIME=100 - 😓 Student #5 interrupted by power cut. Task remaining=162 minutes\n",
      "TIME=100 - 😓 Student #6 interrupted by power cut. Task remaining=188 minutes\n",
      "TIME=100 - 😓 Student #7 interrupted by power cut. Task remaining=193 minutes\n",
      "TIME=100 - 😓 Student #8 interrupted by power cut. Task remaining=165 minutes\n",
      "TIME=100 - 😓 Student #9 interrupted by power cut. Task remaining=157 minutes\n",
      "TIME=105 - 😴 Student #1 slept. Assignment pending. Work left was=176 minutes\n",
      "TIME=105 - 😴 Student #3 slept. Assignment pending. Work left was=146 minutes\n",
      "🌕 Power is on at 110 minutes\n",
      "TIME=110 - 😃 Student #0 resumes working. Work left to do=159 minutes\n",
      "TIME=110 - 😃 Student #2 resumes working. Work left to do=156 minutes\n",
      "TIME=110 - 😃 Student #4 resumes working. Work left to do=187 minutes\n",
      "TIME=110 - 😃 Student #5 resumes working. Work left to do=162 minutes\n",
      "TIME=110 - 😃 Student #6 resumes working. Work left to do=188 minutes\n",
      "TIME=110 - 😃 Student #7 resumes working. Work left to do=193 minutes\n",
      "TIME=110 - 😃 Student #8 resumes working. Work left to do=165 minutes\n",
      "TIME=110 - 😃 Student #9 resumes working. Work left to do=157 minutes\n",
      "🌑 Power is off at 183 minutes\n",
      "TIME=183 - 😓 Student #0 interrupted by power cut. Task remaining=86 minutes\n",
      "TIME=183 - 😓 Student #2 interrupted by power cut. Task remaining=83 minutes\n",
      "TIME=183 - 😓 Student #4 interrupted by power cut. Task remaining=114 minutes\n",
      "TIME=183 - 😓 Student #5 interrupted by power cut. Task remaining=89 minutes\n",
      "TIME=183 - 😓 Student #6 interrupted by power cut. Task remaining=115 minutes\n",
      "TIME=183 - 😓 Student #7 interrupted by power cut. Task remaining=120 minutes\n",
      "TIME=183 - 😓 Student #8 interrupted by power cut. Task remaining=92 minutes\n",
      "TIME=183 - 😓 Student #9 interrupted by power cut. Task remaining=84 minutes\n",
      "TIME=188 - 😴 Student #0 slept. Assignment pending. Work left was=86 minutes\n",
      "TIME=188 - 😴 Student #6 slept. Assignment pending. Work left was=115 minutes\n",
      "🌕 Power is on at 193 minutes\n",
      "TIME=193 - 😃 Student #2 resumes working. Work left to do=83 minutes\n",
      "TIME=193 - 😃 Student #4 resumes working. Work left to do=114 minutes\n",
      "TIME=193 - 😃 Student #5 resumes working. Work left to do=89 minutes\n",
      "TIME=193 - 😃 Student #7 resumes working. Work left to do=120 minutes\n",
      "TIME=193 - 😃 Student #8 resumes working. Work left to do=92 minutes\n",
      "TIME=193 - 😃 Student #9 resumes working. Work left to do=84 minutes\n",
      "TIME=276 - 🥳 Student #2 finished working.\n",
      "TIME=277 - 🥳 Student #9 finished working.\n",
      "TIME=282 - 🥳 Student #5 finished working.\n",
      "TIME=285 - 🥳 Student #8 finished working.\n",
      "🌑 Power is off at 287 minutes\n",
      "TIME=287 - 😓 Student #4 interrupted by power cut. Task remaining=20 minutes\n",
      "TIME=287 - 😓 Student #7 interrupted by power cut. Task remaining=26 minutes\n",
      "🌕 Power is on at 301 minutes\n",
      "TIME=301 - 😃 Student #4 resumes working. Work left to do=20 minutes\n",
      "TIME=301 - 😃 Student #7 resumes working. Work left to do=26 minutes\n",
      "TIME=321 - 🥳 Student #4 finished working.\n",
      "TIME=327 - 🥳 Student #7 finished working.\n",
      "🌑 Power is off at 363 minutes\n",
      "🌕 Power is on at 378 minutes\n",
      "The time is 420 minutes\n",
      "The time is 420 minutes\n"
     ]
    },
    {
     "data": {
      "text/plain": [
       "<ConditionValue {<Process(timeduration) object at 0x1fecfb0d370>: None}>"
      ]
     },
     "execution_count": 8,
     "metadata": {},
     "output_type": "execute_result"
    },
    {
     "name": "stdout",
     "output_type": "stream",
     "text": [
      "\n",
      "\n"
     ]
    },
    {
     "data": {
      "text/plain": [
       "'Summary of the simulation'"
      ]
     },
     "execution_count": 8,
     "metadata": {},
     "output_type": "execute_result"
    },
    {
     "name": "stdout",
     "output_type": "stream",
     "text": [
      "-----------------------------------------------------------------------------\n",
      "                     📊Summary of the simulation📊                     \n",
      "-----------------------------------------------------------------------------\n",
      "Number of students who finished assignment on time 🥳                  6\n",
      "Number of students who Slept😴                                         4\n",
      "Number of students👦                                                   10\n",
      "Percentage of students who finished assignment on time (in %)         60.0\n",
      "Average time to finish assignment                                     301.28\n",
      "Number of power cuts🌑🌕                                                105\n",
      "-----------------------------------------------------------------------------\n",
      "🌕 Power is on at 0 minutes\n",
      "TIME=0 - 🙂 Student #0 started working.Work left=298 minutes\n",
      "TIME=0 - 🙂 Student #1 started working.Work left=268 minutes\n",
      "TIME=0 - 🙂 Student #2 started working.Work left=248 minutes\n",
      "TIME=0 - 🙂 Student #3 started working.Work left=243 minutes\n",
      "TIME=0 - 🙂 Student #4 started working.Work left=287 minutes\n",
      "TIME=0 - 🙂 Student #5 started working.Work left=262 minutes\n",
      "TIME=0 - 🙂 Student #6 started working.Work left=263 minutes\n",
      "TIME=0 - 🙂 Student #7 started working.Work left=294 minutes\n",
      "TIME=0 - 🙂 Student #8 started working.Work left=283 minutes\n",
      "TIME=0 - 🙂 Student #9 started working.Work left=270 minutes\n",
      "🌑 Power is off at 82 minutes\n",
      "TIME=82 - 😓 Student #0 interrupted by power cut. Task remaining=216 minutes\n",
      "TIME=82 - 😓 Student #1 interrupted by power cut. Task remaining=186 minutes\n",
      "TIME=82 - 😓 Student #2 interrupted by power cut. Task remaining=166 minutes\n",
      "TIME=82 - 😓 Student #3 interrupted by power cut. Task remaining=161 minutes\n",
      "TIME=82 - 😓 Student #4 interrupted by power cut. Task remaining=205 minutes\n",
      "TIME=82 - 😓 Student #5 interrupted by power cut. Task remaining=180 minutes\n",
      "TIME=82 - 😓 Student #6 interrupted by power cut. Task remaining=181 minutes\n",
      "TIME=82 - 😓 Student #7 interrupted by power cut. Task remaining=212 minutes\n",
      "TIME=82 - 😓 Student #8 interrupted by power cut. Task remaining=201 minutes\n",
      "TIME=82 - 😓 Student #9 interrupted by power cut. Task remaining=188 minutes\n",
      "TIME=87 - 😴 Student #6 slept. Assignment pending. Work left was=181 minutes\n",
      "🌕 Power is on at 94 minutes\n",
      "TIME=94 - 😃 Student #0 resumes working. Work left to do=216 minutes\n",
      "TIME=94 - 😃 Student #1 resumes working. Work left to do=186 minutes\n",
      "TIME=94 - 😃 Student #2 resumes working. Work left to do=166 minutes\n",
      "TIME=94 - 😃 Student #3 resumes working. Work left to do=161 minutes\n",
      "TIME=94 - 😃 Student #4 resumes working. Work left to do=205 minutes\n",
      "TIME=94 - 😃 Student #5 resumes working. Work left to do=180 minutes\n",
      "TIME=94 - 😃 Student #7 resumes working. Work left to do=212 minutes\n",
      "TIME=94 - 😃 Student #8 resumes working. Work left to do=201 minutes\n",
      "TIME=94 - 😃 Student #9 resumes working. Work left to do=188 minutes\n",
      "🌑 Power is off at 172 minutes\n",
      "TIME=172 - 😓 Student #0 interrupted by power cut. Task remaining=138 minutes\n",
      "TIME=172 - 😓 Student #1 interrupted by power cut. Task remaining=108 minutes\n",
      "TIME=172 - 😓 Student #2 interrupted by power cut. Task remaining=88 minutes\n",
      "TIME=172 - 😓 Student #3 interrupted by power cut. Task remaining=83 minutes\n",
      "TIME=172 - 😓 Student #4 interrupted by power cut. Task remaining=127 minutes\n",
      "TIME=172 - 😓 Student #5 interrupted by power cut. Task remaining=102 minutes\n",
      "TIME=172 - 😓 Student #7 interrupted by power cut. Task remaining=134 minutes\n",
      "TIME=172 - 😓 Student #8 interrupted by power cut. Task remaining=123 minutes\n",
      "TIME=172 - 😓 Student #9 interrupted by power cut. Task remaining=110 minutes\n",
      "TIME=177 - 😴 Student #4 slept. Assignment pending. Work left was=127 minutes\n",
      "🌕 Power is on at 185 minutes\n",
      "TIME=185 - 😃 Student #0 resumes working. Work left to do=138 minutes\n",
      "TIME=185 - 😃 Student #1 resumes working. Work left to do=108 minutes\n",
      "TIME=185 - 😃 Student #2 resumes working. Work left to do=88 minutes\n",
      "TIME=185 - 😃 Student #3 resumes working. Work left to do=83 minutes\n",
      "TIME=185 - 😃 Student #5 resumes working. Work left to do=102 minutes\n",
      "TIME=185 - 😃 Student #7 resumes working. Work left to do=134 minutes\n",
      "TIME=185 - 😃 Student #8 resumes working. Work left to do=123 minutes\n",
      "TIME=185 - 😃 Student #9 resumes working. Work left to do=110 minutes\n",
      "TIME=268 - 🥳 Student #3 finished working.\n",
      "TIME=273 - 🥳 Student #2 finished working.\n",
      "TIME=287 - 🥳 Student #5 finished working.\n",
      "TIME=293 - 🥳 Student #1 finished working.\n",
      "🌑 Power is off at 294 minutes\n",
      "TIME=294 - 😓 Student #0 interrupted by power cut. Task remaining=29 minutes\n",
      "TIME=294 - 😓 Student #7 interrupted by power cut. Task remaining=25 minutes\n",
      "TIME=294 - 😓 Student #8 interrupted by power cut. Task remaining=14 minutes\n",
      "TIME=294 - 😓 Student #9 interrupted by power cut. Task remaining=1 minutes\n",
      "TIME=299 - 😴 Student #0 slept. Assignment pending. Work left was=29 minutes\n",
      "🌕 Power is on at 308 minutes\n",
      "TIME=308 - 😃 Student #7 resumes working. Work left to do=25 minutes\n",
      "TIME=308 - 😃 Student #8 resumes working. Work left to do=14 minutes\n",
      "TIME=308 - 😃 Student #9 resumes working. Work left to do=1 minutes\n",
      "TIME=309 - 🥳 Student #9 finished working.\n",
      "TIME=322 - 🥳 Student #8 finished working.\n",
      "TIME=333 - 🥳 Student #7 finished working.\n",
      "🌑 Power is off at 412 minutes\n",
      "The time is 420 minutes\n",
      "The time is 420 minutes\n"
     ]
    },
    {
     "data": {
      "text/plain": [
       "<ConditionValue {<Process(timeduration) object at 0x1fecfbca0a0>: None}>"
      ]
     },
     "execution_count": 8,
     "metadata": {},
     "output_type": "execute_result"
    },
    {
     "name": "stdout",
     "output_type": "stream",
     "text": [
      "\n",
      "\n"
     ]
    },
    {
     "data": {
      "text/plain": [
       "'Summary of the simulation'"
      ]
     },
     "execution_count": 8,
     "metadata": {},
     "output_type": "execute_result"
    },
    {
     "name": "stdout",
     "output_type": "stream",
     "text": [
      "-----------------------------------------------------------------------------\n",
      "                     📊Summary of the simulation📊                     \n",
      "-----------------------------------------------------------------------------\n",
      "Number of students who finished assignment on time 🥳                  7\n",
      "Number of students who Slept😴                                         3\n",
      "Number of students👦                                                   10\n",
      "Percentage of students who finished assignment on time (in %)         70.0\n",
      "Average time to finish assignment                                     301.16\n",
      "Number of power cuts🌑🌕                                                109\n",
      "-----------------------------------------------------------------------------\n",
      "🌕 Power is on at 0 minutes\n",
      "TIME=0 - 🙂 Student #0 started working.Work left=272 minutes\n",
      "TIME=0 - 🙂 Student #1 started working.Work left=298 minutes\n",
      "TIME=0 - 🙂 Student #2 started working.Work left=265 minutes\n",
      "TIME=0 - 🙂 Student #3 started working.Work left=261 minutes\n",
      "TIME=0 - 🙂 Student #4 started working.Work left=296 minutes\n",
      "TIME=0 - 🙂 Student #5 started working.Work left=248 minutes\n",
      "TIME=0 - 🙂 Student #6 started working.Work left=261 minutes\n",
      "TIME=0 - 🙂 Student #7 started working.Work left=247 minutes\n",
      "TIME=0 - 🙂 Student #8 started working.Work left=295 minutes\n",
      "TIME=0 - 🙂 Student #9 started working.Work left=285 minutes\n",
      "🌑 Power is off at 96 minutes\n",
      "TIME=96 - 😓 Student #0 interrupted by power cut. Task remaining=176 minutes\n",
      "TIME=96 - 😓 Student #1 interrupted by power cut. Task remaining=202 minutes\n",
      "TIME=96 - 😓 Student #2 interrupted by power cut. Task remaining=169 minutes\n",
      "TIME=96 - 😓 Student #3 interrupted by power cut. Task remaining=165 minutes\n",
      "TIME=96 - 😓 Student #4 interrupted by power cut. Task remaining=200 minutes\n",
      "TIME=96 - 😓 Student #5 interrupted by power cut. Task remaining=152 minutes\n",
      "TIME=96 - 😓 Student #6 interrupted by power cut. Task remaining=165 minutes\n",
      "TIME=96 - 😓 Student #7 interrupted by power cut. Task remaining=151 minutes\n",
      "TIME=96 - 😓 Student #8 interrupted by power cut. Task remaining=199 minutes\n",
      "TIME=96 - 😓 Student #9 interrupted by power cut. Task remaining=189 minutes\n",
      "TIME=101 - 😴 Student #0 slept. Assignment pending. Work left was=176 minutes\n",
      "TIME=101 - 😴 Student #1 slept. Assignment pending. Work left was=202 minutes\n",
      "TIME=101 - 😴 Student #3 slept. Assignment pending. Work left was=165 minutes\n",
      "🌕 Power is on at 111 minutes\n",
      "TIME=111 - 😃 Student #2 resumes working. Work left to do=169 minutes\n",
      "TIME=111 - 😃 Student #4 resumes working. Work left to do=200 minutes\n",
      "TIME=111 - 😃 Student #5 resumes working. Work left to do=152 minutes\n",
      "TIME=111 - 😃 Student #6 resumes working. Work left to do=165 minutes\n",
      "TIME=111 - 😃 Student #7 resumes working. Work left to do=151 minutes\n",
      "TIME=111 - 😃 Student #8 resumes working. Work left to do=199 minutes\n",
      "TIME=111 - 😃 Student #9 resumes working. Work left to do=189 minutes\n",
      "🌑 Power is off at 192 minutes\n",
      "TIME=192 - 😓 Student #2 interrupted by power cut. Task remaining=88 minutes\n",
      "TIME=192 - 😓 Student #4 interrupted by power cut. Task remaining=119 minutes\n",
      "TIME=192 - 😓 Student #5 interrupted by power cut. Task remaining=71 minutes\n",
      "TIME=192 - 😓 Student #6 interrupted by power cut. Task remaining=84 minutes\n",
      "TIME=192 - 😓 Student #7 interrupted by power cut. Task remaining=70 minutes\n",
      "TIME=192 - 😓 Student #8 interrupted by power cut. Task remaining=118 minutes\n",
      "TIME=192 - 😓 Student #9 interrupted by power cut. Task remaining=108 minutes\n",
      "TIME=197 - 😴 Student #2 slept. Assignment pending. Work left was=88 minutes\n",
      "TIME=197 - 😴 Student #5 slept. Assignment pending. Work left was=71 minutes\n",
      "TIME=197 - 😴 Student #8 slept. Assignment pending. Work left was=118 minutes\n",
      "🌕 Power is on at 203 minutes\n",
      "TIME=203 - 😃 Student #4 resumes working. Work left to do=119 minutes\n",
      "TIME=203 - 😃 Student #6 resumes working. Work left to do=84 minutes\n",
      "TIME=203 - 😃 Student #7 resumes working. Work left to do=70 minutes\n",
      "TIME=203 - 😃 Student #9 resumes working. Work left to do=108 minutes\n",
      "🌑 Power is off at 263 minutes\n",
      "TIME=263 - 😓 Student #4 interrupted by power cut. Task remaining=59 minutes\n",
      "TIME=263 - 😓 Student #6 interrupted by power cut. Task remaining=24 minutes\n",
      "TIME=263 - 😓 Student #7 interrupted by power cut. Task remaining=10 minutes\n",
      "TIME=263 - 😓 Student #9 interrupted by power cut. Task remaining=48 minutes\n",
      "TIME=268 - 😴 Student #7 slept. Assignment pending. Work left was=10 minutes\n",
      "🌕 Power is on at 275 minutes\n",
      "TIME=275 - 😃 Student #4 resumes working. Work left to do=59 minutes\n",
      "TIME=275 - 😃 Student #6 resumes working. Work left to do=24 minutes\n",
      "TIME=275 - 😃 Student #9 resumes working. Work left to do=48 minutes\n",
      "TIME=299 - 🥳 Student #6 finished working.\n",
      "TIME=323 - 🥳 Student #9 finished working.\n",
      "TIME=334 - 🥳 Student #4 finished working.\n",
      "🌑 Power is off at 366 minutes\n",
      "🌕 Power is on at 380 minutes\n",
      "The time is 420 minutes\n",
      "The time is 420 minutes\n"
     ]
    },
    {
     "data": {
      "text/plain": [
       "<ConditionValue {<Process(timeduration) object at 0x1fecfb8aa60>: None}>"
      ]
     },
     "execution_count": 8,
     "metadata": {},
     "output_type": "execute_result"
    },
    {
     "name": "stdout",
     "output_type": "stream",
     "text": [
      "\n",
      "\n"
     ]
    },
    {
     "data": {
      "text/plain": [
       "'Summary of the simulation'"
      ]
     },
     "execution_count": 8,
     "metadata": {},
     "output_type": "execute_result"
    },
    {
     "name": "stdout",
     "output_type": "stream",
     "text": [
      "-----------------------------------------------------------------------------\n",
      "                     📊Summary of the simulation📊                     \n",
      "-----------------------------------------------------------------------------\n",
      "Number of students who finished assignment on time 🥳                  3\n",
      "Number of students who Slept😴                                         7\n",
      "Number of students👦                                                   10\n",
      "Percentage of students who finished assignment on time (in %)         30.0\n",
      "Average time to finish assignment                                     301.41\n",
      "Number of power cuts🌑🌕                                                113\n",
      "-----------------------------------------------------------------------------\n",
      "🌕 Power is on at 0 minutes\n",
      "TIME=0 - 🙂 Student #0 started working.Work left=266 minutes\n",
      "TIME=0 - 🙂 Student #1 started working.Work left=266 minutes\n",
      "TIME=0 - 🙂 Student #2 started working.Work left=242 minutes\n",
      "TIME=0 - 🙂 Student #3 started working.Work left=294 minutes\n",
      "TIME=0 - 🙂 Student #4 started working.Work left=275 minutes\n",
      "TIME=0 - 🙂 Student #5 started working.Work left=261 minutes\n",
      "TIME=0 - 🙂 Student #6 started working.Work left=286 minutes\n",
      "TIME=0 - 🙂 Student #7 started working.Work left=273 minutes\n",
      "TIME=0 - 🙂 Student #8 started working.Work left=291 minutes\n",
      "TIME=0 - 🙂 Student #9 started working.Work left=254 minutes\n",
      "🌑 Power is off at 105 minutes\n",
      "TIME=105 - 😓 Student #0 interrupted by power cut. Task remaining=161 minutes\n",
      "TIME=105 - 😓 Student #1 interrupted by power cut. Task remaining=161 minutes\n",
      "TIME=105 - 😓 Student #2 interrupted by power cut. Task remaining=137 minutes\n",
      "TIME=105 - 😓 Student #3 interrupted by power cut. Task remaining=189 minutes\n",
      "TIME=105 - 😓 Student #4 interrupted by power cut. Task remaining=170 minutes\n",
      "TIME=105 - 😓 Student #5 interrupted by power cut. Task remaining=156 minutes\n",
      "TIME=105 - 😓 Student #6 interrupted by power cut. Task remaining=181 minutes\n",
      "TIME=105 - 😓 Student #7 interrupted by power cut. Task remaining=168 minutes\n",
      "TIME=105 - 😓 Student #8 interrupted by power cut. Task remaining=186 minutes\n",
      "TIME=105 - 😓 Student #9 interrupted by power cut. Task remaining=149 minutes\n",
      "TIME=110 - 😴 Student #0 slept. Assignment pending. Work left was=161 minutes\n",
      "TIME=110 - 😴 Student #7 slept. Assignment pending. Work left was=168 minutes\n",
      "🌕 Power is on at 119 minutes\n",
      "TIME=119 - 😃 Student #1 resumes working. Work left to do=161 minutes\n",
      "TIME=119 - 😃 Student #2 resumes working. Work left to do=137 minutes\n",
      "TIME=119 - 😃 Student #3 resumes working. Work left to do=189 minutes\n",
      "TIME=119 - 😃 Student #4 resumes working. Work left to do=170 minutes\n",
      "TIME=119 - 😃 Student #5 resumes working. Work left to do=156 minutes\n",
      "TIME=119 - 😃 Student #6 resumes working. Work left to do=181 minutes\n",
      "TIME=119 - 😃 Student #8 resumes working. Work left to do=186 minutes\n",
      "TIME=119 - 😃 Student #9 resumes working. Work left to do=149 minutes\n",
      "🌑 Power is off at 194 minutes\n",
      "TIME=194 - 😓 Student #1 interrupted by power cut. Task remaining=86 minutes\n",
      "TIME=194 - 😓 Student #2 interrupted by power cut. Task remaining=62 minutes\n",
      "TIME=194 - 😓 Student #3 interrupted by power cut. Task remaining=114 minutes\n",
      "TIME=194 - 😓 Student #4 interrupted by power cut. Task remaining=95 minutes\n",
      "TIME=194 - 😓 Student #5 interrupted by power cut. Task remaining=81 minutes\n",
      "TIME=194 - 😓 Student #6 interrupted by power cut. Task remaining=106 minutes\n",
      "TIME=194 - 😓 Student #8 interrupted by power cut. Task remaining=111 minutes\n",
      "TIME=194 - 😓 Student #9 interrupted by power cut. Task remaining=74 minutes\n",
      "TIME=199 - 😴 Student #1 slept. Assignment pending. Work left was=86 minutes\n",
      "TIME=199 - 😴 Student #8 slept. Assignment pending. Work left was=111 minutes\n",
      "🌕 Power is on at 206 minutes\n",
      "TIME=206 - 😃 Student #2 resumes working. Work left to do=62 minutes\n",
      "TIME=206 - 😃 Student #3 resumes working. Work left to do=114 minutes\n",
      "TIME=206 - 😃 Student #4 resumes working. Work left to do=95 minutes\n",
      "TIME=206 - 😃 Student #5 resumes working. Work left to do=81 minutes\n",
      "TIME=206 - 😃 Student #6 resumes working. Work left to do=106 minutes\n",
      "TIME=206 - 😃 Student #9 resumes working. Work left to do=74 minutes\n",
      "TIME=268 - 🥳 Student #2 finished working.\n",
      "TIME=280 - 🥳 Student #9 finished working.\n",
      "TIME=287 - 🥳 Student #5 finished working.\n",
      "TIME=301 - 🥳 Student #4 finished working.\n",
      "TIME=312 - 🥳 Student #6 finished working.\n",
      "🌑 Power is off at 319 minutes\n",
      "TIME=319 - 😓 Student #3 interrupted by power cut. Task remaining=1 minutes\n",
      "🌕 Power is on at 331 minutes\n",
      "TIME=331 - 😃 Student #3 resumes working. Work left to do=1 minutes\n",
      "TIME=332 - 🥳 Student #3 finished working.\n",
      "🌑 Power is off at 396 minutes\n",
      "🌕 Power is on at 411 minutes\n",
      "The time is 420 minutes\n",
      "The time is 420 minutes\n"
     ]
    },
    {
     "data": {
      "text/plain": [
       "<ConditionValue {<Process(timeduration) object at 0x1fecfb0df70>: None}>"
      ]
     },
     "execution_count": 8,
     "metadata": {},
     "output_type": "execute_result"
    },
    {
     "name": "stdout",
     "output_type": "stream",
     "text": [
      "\n",
      "\n"
     ]
    },
    {
     "data": {
      "text/plain": [
       "'Summary of the simulation'"
      ]
     },
     "execution_count": 8,
     "metadata": {},
     "output_type": "execute_result"
    },
    {
     "name": "stdout",
     "output_type": "stream",
     "text": [
      "-----------------------------------------------------------------------------\n",
      "                     📊Summary of the simulation📊                     \n",
      "-----------------------------------------------------------------------------\n",
      "Number of students who finished assignment on time 🥳                  6\n",
      "Number of students who Slept😴                                         4\n",
      "Number of students👦                                                   10\n",
      "Percentage of students who finished assignment on time (in %)         60.0\n",
      "Average time to finish assignment                                     301.28\n",
      "Number of power cuts🌑🌕                                                117\n",
      "-----------------------------------------------------------------------------\n",
      "🌕 Power is on at 0 minutes\n",
      "TIME=0 - 🙂 Student #0 started working.Work left=292 minutes\n",
      "TIME=0 - 🙂 Student #1 started working.Work left=248 minutes\n",
      "TIME=0 - 🙂 Student #2 started working.Work left=279 minutes\n",
      "TIME=0 - 🙂 Student #3 started working.Work left=267 minutes\n",
      "TIME=0 - 🙂 Student #4 started working.Work left=299 minutes\n",
      "TIME=0 - 🙂 Student #5 started working.Work left=284 minutes\n",
      "TIME=0 - 🙂 Student #6 started working.Work left=267 minutes\n",
      "TIME=0 - 🙂 Student #7 started working.Work left=274 minutes\n",
      "TIME=0 - 🙂 Student #8 started working.Work left=244 minutes\n",
      "TIME=0 - 🙂 Student #9 started working.Work left=296 minutes\n",
      "🌑 Power is off at 80 minutes\n",
      "TIME=80 - 😓 Student #0 interrupted by power cut. Task remaining=212 minutes\n",
      "TIME=80 - 😓 Student #1 interrupted by power cut. Task remaining=168 minutes\n",
      "TIME=80 - 😓 Student #2 interrupted by power cut. Task remaining=199 minutes\n",
      "TIME=80 - 😓 Student #3 interrupted by power cut. Task remaining=187 minutes\n",
      "TIME=80 - 😓 Student #4 interrupted by power cut. Task remaining=219 minutes\n",
      "TIME=80 - 😓 Student #5 interrupted by power cut. Task remaining=204 minutes\n",
      "TIME=80 - 😓 Student #6 interrupted by power cut. Task remaining=187 minutes\n",
      "TIME=80 - 😓 Student #7 interrupted by power cut. Task remaining=194 minutes\n",
      "TIME=80 - 😓 Student #8 interrupted by power cut. Task remaining=164 minutes\n",
      "TIME=80 - 😓 Student #9 interrupted by power cut. Task remaining=216 minutes\n",
      "TIME=85 - 😴 Student #0 slept. Assignment pending. Work left was=212 minutes\n",
      "TIME=85 - 😴 Student #1 slept. Assignment pending. Work left was=168 minutes\n",
      "TIME=85 - 😴 Student #3 slept. Assignment pending. Work left was=187 minutes\n",
      "TIME=85 - 😴 Student #4 slept. Assignment pending. Work left was=219 minutes\n",
      "TIME=85 - 😴 Student #5 slept. Assignment pending. Work left was=204 minutes\n",
      "TIME=85 - 😴 Student #8 slept. Assignment pending. Work left was=164 minutes\n",
      "TIME=85 - 😴 Student #9 slept. Assignment pending. Work left was=216 minutes\n",
      "🌕 Power is on at 91 minutes\n",
      "TIME=91 - 😃 Student #2 resumes working. Work left to do=199 minutes\n",
      "TIME=91 - 😃 Student #6 resumes working. Work left to do=187 minutes\n",
      "TIME=91 - 😃 Student #7 resumes working. Work left to do=194 minutes\n",
      "🌑 Power is off at 171 minutes\n",
      "TIME=171 - 😓 Student #2 interrupted by power cut. Task remaining=119 minutes\n",
      "TIME=171 - 😓 Student #6 interrupted by power cut. Task remaining=107 minutes\n",
      "TIME=171 - 😓 Student #7 interrupted by power cut. Task remaining=114 minutes\n",
      "🌕 Power is on at 186 minutes\n",
      "TIME=186 - 😃 Student #2 resumes working. Work left to do=119 minutes\n",
      "TIME=186 - 😃 Student #6 resumes working. Work left to do=107 minutes\n",
      "TIME=186 - 😃 Student #7 resumes working. Work left to do=114 minutes\n",
      "🌑 Power is off at 270 minutes\n",
      "TIME=270 - 😓 Student #2 interrupted by power cut. Task remaining=35 minutes\n",
      "TIME=270 - 😓 Student #6 interrupted by power cut. Task remaining=23 minutes\n",
      "TIME=270 - 😓 Student #7 interrupted by power cut. Task remaining=30 minutes\n",
      "🌕 Power is on at 283 minutes\n",
      "TIME=283 - 😃 Student #2 resumes working. Work left to do=35 minutes\n",
      "TIME=283 - 😃 Student #6 resumes working. Work left to do=23 minutes\n",
      "TIME=283 - 😃 Student #7 resumes working. Work left to do=30 minutes\n",
      "TIME=306 - 🥳 Student #6 finished working.\n",
      "TIME=313 - 🥳 Student #7 finished working.\n",
      "TIME=318 - 🥳 Student #2 finished working.\n",
      "🌑 Power is off at 344 minutes\n",
      "🌕 Power is on at 358 minutes\n",
      "The time is 420 minutes\n",
      "The time is 420 minutes\n"
     ]
    },
    {
     "data": {
      "text/plain": [
       "<ConditionValue {<Process(timeduration) object at 0x1fecfb0d670>: None}>"
      ]
     },
     "execution_count": 8,
     "metadata": {},
     "output_type": "execute_result"
    },
    {
     "name": "stdout",
     "output_type": "stream",
     "text": [
      "\n",
      "\n"
     ]
    },
    {
     "data": {
      "text/plain": [
       "'Summary of the simulation'"
      ]
     },
     "execution_count": 8,
     "metadata": {},
     "output_type": "execute_result"
    },
    {
     "name": "stdout",
     "output_type": "stream",
     "text": [
      "-----------------------------------------------------------------------------\n",
      "                     📊Summary of the simulation📊                     \n",
      "-----------------------------------------------------------------------------\n",
      "Number of students who finished assignment on time 🥳                  3\n",
      "Number of students who Slept😴                                         7\n",
      "Number of students👦                                                   10\n",
      "Percentage of students who finished assignment on time (in %)         30.0\n",
      "Average time to finish assignment                                     301.43\n",
      "Number of power cuts🌑🌕                                                121\n",
      "-----------------------------------------------------------------------------\n",
      "🌕 Power is on at 0 minutes\n",
      "TIME=0 - 🙂 Student #0 started working.Work left=277 minutes\n",
      "TIME=0 - 🙂 Student #1 started working.Work left=264 minutes\n",
      "TIME=0 - 🙂 Student #2 started working.Work left=274 minutes\n",
      "TIME=0 - 🙂 Student #3 started working.Work left=280 minutes\n",
      "TIME=0 - 🙂 Student #4 started working.Work left=275 minutes\n",
      "TIME=0 - 🙂 Student #5 started working.Work left=289 minutes\n",
      "TIME=0 - 🙂 Student #6 started working.Work left=263 minutes\n",
      "TIME=0 - 🙂 Student #7 started working.Work left=291 minutes\n",
      "TIME=0 - 🙂 Student #8 started working.Work left=273 minutes\n",
      "TIME=0 - 🙂 Student #9 started working.Work left=267 minutes\n",
      "🌑 Power is off at 85 minutes\n",
      "TIME=85 - 😓 Student #0 interrupted by power cut. Task remaining=192 minutes\n",
      "TIME=85 - 😓 Student #1 interrupted by power cut. Task remaining=179 minutes\n",
      "TIME=85 - 😓 Student #2 interrupted by power cut. Task remaining=189 minutes\n",
      "TIME=85 - 😓 Student #3 interrupted by power cut. Task remaining=195 minutes\n",
      "TIME=85 - 😓 Student #4 interrupted by power cut. Task remaining=190 minutes\n",
      "TIME=85 - 😓 Student #5 interrupted by power cut. Task remaining=204 minutes\n",
      "TIME=85 - 😓 Student #6 interrupted by power cut. Task remaining=178 minutes\n",
      "TIME=85 - 😓 Student #7 interrupted by power cut. Task remaining=206 minutes\n",
      "TIME=85 - 😓 Student #8 interrupted by power cut. Task remaining=188 minutes\n",
      "TIME=85 - 😓 Student #9 interrupted by power cut. Task remaining=182 minutes\n",
      "TIME=90 - 😴 Student #0 slept. Assignment pending. Work left was=192 minutes\n",
      "TIME=90 - 😴 Student #1 slept. Assignment pending. Work left was=179 minutes\n",
      "TIME=90 - 😴 Student #2 slept. Assignment pending. Work left was=189 minutes\n",
      "TIME=90 - 😴 Student #3 slept. Assignment pending. Work left was=195 minutes\n",
      "TIME=90 - 😴 Student #9 slept. Assignment pending. Work left was=182 minutes\n",
      "🌕 Power is on at 99 minutes\n",
      "TIME=99 - 😃 Student #4 resumes working. Work left to do=190 minutes\n",
      "TIME=99 - 😃 Student #5 resumes working. Work left to do=204 minutes\n",
      "TIME=99 - 😃 Student #6 resumes working. Work left to do=178 minutes\n",
      "TIME=99 - 😃 Student #7 resumes working. Work left to do=206 minutes\n",
      "TIME=99 - 😃 Student #8 resumes working. Work left to do=188 minutes\n",
      "🌑 Power is off at 189 minutes\n",
      "TIME=189 - 😓 Student #4 interrupted by power cut. Task remaining=100 minutes\n",
      "TIME=189 - 😓 Student #5 interrupted by power cut. Task remaining=114 minutes\n",
      "TIME=189 - 😓 Student #6 interrupted by power cut. Task remaining=88 minutes\n",
      "TIME=189 - 😓 Student #7 interrupted by power cut. Task remaining=116 minutes\n",
      "TIME=189 - 😓 Student #8 interrupted by power cut. Task remaining=98 minutes\n",
      "TIME=194 - 😴 Student #4 slept. Assignment pending. Work left was=100 minutes\n",
      "TIME=194 - 😴 Student #8 slept. Assignment pending. Work left was=98 minutes\n",
      "🌕 Power is on at 204 minutes\n",
      "TIME=204 - 😃 Student #5 resumes working. Work left to do=114 minutes\n",
      "TIME=204 - 😃 Student #6 resumes working. Work left to do=88 minutes\n",
      "TIME=204 - 😃 Student #7 resumes working. Work left to do=116 minutes\n",
      "🌑 Power is off at 265 minutes\n",
      "TIME=265 - 😓 Student #5 interrupted by power cut. Task remaining=53 minutes\n",
      "TIME=265 - 😓 Student #6 interrupted by power cut. Task remaining=27 minutes\n",
      "TIME=265 - 😓 Student #7 interrupted by power cut. Task remaining=55 minutes\n",
      "🌕 Power is on at 277 minutes\n",
      "TIME=277 - 😃 Student #5 resumes working. Work left to do=53 minutes\n",
      "TIME=277 - 😃 Student #6 resumes working. Work left to do=27 minutes\n",
      "TIME=277 - 😃 Student #7 resumes working. Work left to do=55 minutes\n",
      "TIME=304 - 🥳 Student #6 finished working.\n",
      "TIME=330 - 🥳 Student #5 finished working.\n",
      "TIME=332 - 🥳 Student #7 finished working.\n",
      "🌑 Power is off at 378 minutes\n",
      "🌕 Power is on at 390 minutes\n",
      "The time is 420 minutes\n",
      "The time is 420 minutes\n"
     ]
    },
    {
     "data": {
      "text/plain": [
       "<ConditionValue {<Process(timeduration) object at 0x1fecfba00d0>: None}>"
      ]
     },
     "execution_count": 8,
     "metadata": {},
     "output_type": "execute_result"
    },
    {
     "name": "stdout",
     "output_type": "stream",
     "text": [
      "\n",
      "\n"
     ]
    },
    {
     "data": {
      "text/plain": [
       "'Summary of the simulation'"
      ]
     },
     "execution_count": 8,
     "metadata": {},
     "output_type": "execute_result"
    },
    {
     "name": "stdout",
     "output_type": "stream",
     "text": [
      "-----------------------------------------------------------------------------\n",
      "                     📊Summary of the simulation📊                     \n",
      "-----------------------------------------------------------------------------\n",
      "Number of students who finished assignment on time 🥳                  3\n",
      "Number of students who Slept😴                                         7\n",
      "Number of students👦                                                   10\n",
      "Percentage of students who finished assignment on time (in %)         30.0\n",
      "Average time to finish assignment                                     301.72\n",
      "Number of power cuts🌑🌕                                                125\n",
      "-----------------------------------------------------------------------------\n",
      "🌕 Power is on at 0 minutes\n",
      "TIME=0 - 🙂 Student #0 started working.Work left=283 minutes\n",
      "TIME=0 - 🙂 Student #1 started working.Work left=271 minutes\n",
      "TIME=0 - 🙂 Student #2 started working.Work left=265 minutes\n",
      "TIME=0 - 🙂 Student #3 started working.Work left=278 minutes\n",
      "TIME=0 - 🙂 Student #4 started working.Work left=242 minutes\n",
      "TIME=0 - 🙂 Student #5 started working.Work left=258 minutes\n",
      "TIME=0 - 🙂 Student #6 started working.Work left=273 minutes\n",
      "TIME=0 - 🙂 Student #7 started working.Work left=255 minutes\n",
      "TIME=0 - 🙂 Student #8 started working.Work left=282 minutes\n",
      "TIME=0 - 🙂 Student #9 started working.Work left=289 minutes\n",
      "🌑 Power is off at 101 minutes\n",
      "TIME=101 - 😓 Student #0 interrupted by power cut. Task remaining=182 minutes\n",
      "TIME=101 - 😓 Student #1 interrupted by power cut. Task remaining=170 minutes\n",
      "TIME=101 - 😓 Student #2 interrupted by power cut. Task remaining=164 minutes\n",
      "TIME=101 - 😓 Student #3 interrupted by power cut. Task remaining=177 minutes\n",
      "TIME=101 - 😓 Student #4 interrupted by power cut. Task remaining=141 minutes\n",
      "TIME=101 - 😓 Student #5 interrupted by power cut. Task remaining=157 minutes\n",
      "TIME=101 - 😓 Student #6 interrupted by power cut. Task remaining=172 minutes\n",
      "TIME=101 - 😓 Student #7 interrupted by power cut. Task remaining=154 minutes\n",
      "TIME=101 - 😓 Student #8 interrupted by power cut. Task remaining=181 minutes\n",
      "TIME=101 - 😓 Student #9 interrupted by power cut. Task remaining=188 minutes\n",
      "TIME=106 - 😴 Student #0 slept. Assignment pending. Work left was=182 minutes\n",
      "TIME=106 - 😴 Student #1 slept. Assignment pending. Work left was=170 minutes\n",
      "TIME=106 - 😴 Student #3 slept. Assignment pending. Work left was=177 minutes\n",
      "TIME=106 - 😴 Student #4 slept. Assignment pending. Work left was=141 minutes\n",
      "TIME=106 - 😴 Student #5 slept. Assignment pending. Work left was=157 minutes\n",
      "TIME=106 - 😴 Student #6 slept. Assignment pending. Work left was=172 minutes\n",
      "TIME=106 - 😴 Student #7 slept. Assignment pending. Work left was=154 minutes\n",
      "🌕 Power is on at 115 minutes\n",
      "TIME=115 - 😃 Student #2 resumes working. Work left to do=164 minutes\n",
      "TIME=115 - 😃 Student #8 resumes working. Work left to do=181 minutes\n",
      "TIME=115 - 😃 Student #9 resumes working. Work left to do=188 minutes\n",
      "🌑 Power is off at 184 minutes\n",
      "TIME=184 - 😓 Student #2 interrupted by power cut. Task remaining=95 minutes\n",
      "TIME=184 - 😓 Student #8 interrupted by power cut. Task remaining=112 minutes\n",
      "TIME=184 - 😓 Student #9 interrupted by power cut. Task remaining=119 minutes\n",
      "TIME=189 - 😴 Student #2 slept. Assignment pending. Work left was=95 minutes\n",
      "🌕 Power is on at 195 minutes\n",
      "TIME=195 - 😃 Student #8 resumes working. Work left to do=112 minutes\n",
      "TIME=195 - 😃 Student #9 resumes working. Work left to do=119 minutes\n",
      "🌑 Power is off at 306 minutes\n",
      "TIME=306 - 😓 Student #8 interrupted by power cut. Task remaining=1 minutes\n",
      "TIME=306 - 😓 Student #9 interrupted by power cut. Task remaining=8 minutes\n",
      "🌕 Power is on at 320 minutes\n",
      "TIME=320 - 😃 Student #8 resumes working. Work left to do=1 minutes\n",
      "TIME=320 - 😃 Student #9 resumes working. Work left to do=8 minutes\n",
      "TIME=321 - 🥳 Student #8 finished working.\n",
      "TIME=328 - 🥳 Student #9 finished working.\n",
      "🌑 Power is off at 395 minutes\n",
      "🌕 Power is on at 406 minutes\n",
      "The time is 420 minutes\n",
      "The time is 420 minutes\n"
     ]
    },
    {
     "data": {
      "text/plain": [
       "<ConditionValue {<Process(timeduration) object at 0x1fecfb61be0>: None}>"
      ]
     },
     "execution_count": 8,
     "metadata": {},
     "output_type": "execute_result"
    },
    {
     "name": "stdout",
     "output_type": "stream",
     "text": [
      "\n",
      "\n"
     ]
    },
    {
     "data": {
      "text/plain": [
       "'Summary of the simulation'"
      ]
     },
     "execution_count": 8,
     "metadata": {},
     "output_type": "execute_result"
    },
    {
     "name": "stdout",
     "output_type": "stream",
     "text": [
      "-----------------------------------------------------------------------------\n",
      "                     📊Summary of the simulation📊                     \n",
      "-----------------------------------------------------------------------------\n",
      "Number of students who finished assignment on time 🥳                  2\n",
      "Number of students who Slept😴                                         8\n",
      "Number of students👦                                                   10\n",
      "Percentage of students who finished assignment on time (in %)         20.0\n",
      "Average time to finish assignment                                     301.93\n",
      "Number of power cuts🌑🌕                                                129\n",
      "-----------------------------------------------------------------------------\n",
      "🌕 Power is on at 0 minutes\n",
      "TIME=0 - 🙂 Student #0 started working.Work left=254 minutes\n",
      "TIME=0 - 🙂 Student #1 started working.Work left=291 minutes\n",
      "TIME=0 - 🙂 Student #2 started working.Work left=286 minutes\n",
      "TIME=0 - 🙂 Student #3 started working.Work left=241 minutes\n",
      "TIME=0 - 🙂 Student #4 started working.Work left=270 minutes\n",
      "TIME=0 - 🙂 Student #5 started working.Work left=281 minutes\n",
      "TIME=0 - 🙂 Student #6 started working.Work left=278 minutes\n",
      "TIME=0 - 🙂 Student #7 started working.Work left=295 minutes\n",
      "TIME=0 - 🙂 Student #8 started working.Work left=292 minutes\n",
      "TIME=0 - 🙂 Student #9 started working.Work left=273 minutes\n",
      "🌑 Power is off at 105 minutes\n",
      "TIME=105 - 😓 Student #0 interrupted by power cut. Task remaining=149 minutes\n",
      "TIME=105 - 😓 Student #1 interrupted by power cut. Task remaining=186 minutes\n",
      "TIME=105 - 😓 Student #2 interrupted by power cut. Task remaining=181 minutes\n",
      "TIME=105 - 😓 Student #3 interrupted by power cut. Task remaining=136 minutes\n",
      "TIME=105 - 😓 Student #4 interrupted by power cut. Task remaining=165 minutes\n",
      "TIME=105 - 😓 Student #5 interrupted by power cut. Task remaining=176 minutes\n",
      "TIME=105 - 😓 Student #6 interrupted by power cut. Task remaining=173 minutes\n",
      "TIME=105 - 😓 Student #7 interrupted by power cut. Task remaining=190 minutes\n",
      "TIME=105 - 😓 Student #8 interrupted by power cut. Task remaining=187 minutes\n",
      "TIME=105 - 😓 Student #9 interrupted by power cut. Task remaining=168 minutes\n",
      "TIME=110 - 😴 Student #0 slept. Assignment pending. Work left was=149 minutes\n",
      "TIME=110 - 😴 Student #3 slept. Assignment pending. Work left was=136 minutes\n",
      "TIME=110 - 😴 Student #4 slept. Assignment pending. Work left was=165 minutes\n",
      "TIME=110 - 😴 Student #6 slept. Assignment pending. Work left was=173 minutes\n",
      "🌕 Power is on at 116 minutes\n",
      "TIME=116 - 😃 Student #1 resumes working. Work left to do=186 minutes\n",
      "TIME=116 - 😃 Student #2 resumes working. Work left to do=181 minutes\n",
      "TIME=116 - 😃 Student #5 resumes working. Work left to do=176 minutes\n",
      "TIME=116 - 😃 Student #7 resumes working. Work left to do=190 minutes\n",
      "TIME=116 - 😃 Student #8 resumes working. Work left to do=187 minutes\n",
      "TIME=116 - 😃 Student #9 resumes working. Work left to do=168 minutes\n",
      "🌑 Power is off at 179 minutes\n",
      "TIME=179 - 😓 Student #1 interrupted by power cut. Task remaining=123 minutes\n",
      "TIME=179 - 😓 Student #2 interrupted by power cut. Task remaining=118 minutes\n",
      "TIME=179 - 😓 Student #5 interrupted by power cut. Task remaining=113 minutes\n",
      "TIME=179 - 😓 Student #7 interrupted by power cut. Task remaining=127 minutes\n",
      "TIME=179 - 😓 Student #8 interrupted by power cut. Task remaining=124 minutes\n",
      "TIME=179 - 😓 Student #9 interrupted by power cut. Task remaining=105 minutes\n",
      "TIME=184 - 😴 Student #2 slept. Assignment pending. Work left was=118 minutes\n",
      "TIME=184 - 😴 Student #5 slept. Assignment pending. Work left was=113 minutes\n",
      "TIME=184 - 😴 Student #7 slept. Assignment pending. Work left was=127 minutes\n",
      "TIME=184 - 😴 Student #9 slept. Assignment pending. Work left was=105 minutes\n",
      "🌕 Power is on at 189 minutes\n",
      "TIME=189 - 😃 Student #1 resumes working. Work left to do=123 minutes\n",
      "TIME=189 - 😃 Student #8 resumes working. Work left to do=124 minutes\n",
      "🌑 Power is off at 308 minutes\n",
      "TIME=308 - 😓 Student #1 interrupted by power cut. Task remaining=4 minutes\n",
      "TIME=308 - 😓 Student #8 interrupted by power cut. Task remaining=5 minutes\n",
      "TIME=313 - 😴 Student #1 slept. Assignment pending. Work left was=4 minutes\n",
      "🌕 Power is on at 318 minutes\n",
      "TIME=318 - 😃 Student #8 resumes working. Work left to do=5 minutes\n",
      "TIME=323 - 🥳 Student #8 finished working.\n",
      "🌑 Power is off at 407 minutes\n",
      "The time is 420 minutes\n",
      "The time is 420 minutes\n",
      "🌕 Power is on at 420 minutes\n"
     ]
    },
    {
     "data": {
      "text/plain": [
       "<ConditionValue {<Process(timeduration) object at 0x1fecfb61280>: None}>"
      ]
     },
     "execution_count": 8,
     "metadata": {},
     "output_type": "execute_result"
    },
    {
     "name": "stdout",
     "output_type": "stream",
     "text": [
      "\n",
      "\n"
     ]
    },
    {
     "data": {
      "text/plain": [
       "'Summary of the simulation'"
      ]
     },
     "execution_count": 8,
     "metadata": {},
     "output_type": "execute_result"
    },
    {
     "name": "stdout",
     "output_type": "stream",
     "text": [
      "-----------------------------------------------------------------------------\n",
      "                     📊Summary of the simulation📊                     \n",
      "-----------------------------------------------------------------------------\n",
      "Number of students who finished assignment on time 🥳                  1\n",
      "Number of students who Slept😴                                         9\n",
      "Number of students👦                                                   10\n",
      "Percentage of students who finished assignment on time (in %)         10.0\n",
      "Average time to finish assignment                                     302.02\n",
      "Number of power cuts🌑🌕                                                133\n",
      "-----------------------------------------------------------------------------\n",
      "🌕 Power is on at 0 minutes\n",
      "TIME=0 - 🙂 Student #0 started working.Work left=253 minutes\n",
      "TIME=0 - 🙂 Student #1 started working.Work left=262 minutes\n",
      "TIME=0 - 🙂 Student #2 started working.Work left=258 minutes\n",
      "TIME=0 - 🙂 Student #3 started working.Work left=263 minutes\n",
      "TIME=0 - 🙂 Student #4 started working.Work left=287 minutes\n",
      "TIME=0 - 🙂 Student #5 started working.Work left=249 minutes\n",
      "TIME=0 - 🙂 Student #6 started working.Work left=294 minutes\n",
      "TIME=0 - 🙂 Student #7 started working.Work left=253 minutes\n",
      "TIME=0 - 🙂 Student #8 started working.Work left=275 minutes\n",
      "TIME=0 - 🙂 Student #9 started working.Work left=260 minutes\n",
      "🌑 Power is off at 73 minutes\n",
      "TIME=73 - 😓 Student #0 interrupted by power cut. Task remaining=180 minutes\n",
      "TIME=73 - 😓 Student #1 interrupted by power cut. Task remaining=189 minutes\n",
      "TIME=73 - 😓 Student #2 interrupted by power cut. Task remaining=185 minutes\n",
      "TIME=73 - 😓 Student #3 interrupted by power cut. Task remaining=190 minutes\n",
      "TIME=73 - 😓 Student #4 interrupted by power cut. Task remaining=214 minutes\n",
      "TIME=73 - 😓 Student #5 interrupted by power cut. Task remaining=176 minutes\n",
      "TIME=73 - 😓 Student #6 interrupted by power cut. Task remaining=221 minutes\n",
      "TIME=73 - 😓 Student #7 interrupted by power cut. Task remaining=180 minutes\n",
      "TIME=73 - 😓 Student #8 interrupted by power cut. Task remaining=202 minutes\n",
      "TIME=73 - 😓 Student #9 interrupted by power cut. Task remaining=187 minutes\n",
      "TIME=78 - 😴 Student #0 slept. Assignment pending. Work left was=180 minutes\n",
      "TIME=78 - 😴 Student #1 slept. Assignment pending. Work left was=189 minutes\n",
      "TIME=78 - 😴 Student #4 slept. Assignment pending. Work left was=214 minutes\n",
      "TIME=78 - 😴 Student #5 slept. Assignment pending. Work left was=176 minutes\n",
      "TIME=78 - 😴 Student #6 slept. Assignment pending. Work left was=221 minutes\n",
      "TIME=78 - 😴 Student #7 slept. Assignment pending. Work left was=180 minutes\n",
      "🌕 Power is on at 83 minutes\n",
      "TIME=83 - 😃 Student #2 resumes working. Work left to do=185 minutes\n",
      "TIME=83 - 😃 Student #3 resumes working. Work left to do=190 minutes\n",
      "TIME=83 - 😃 Student #8 resumes working. Work left to do=202 minutes\n",
      "TIME=83 - 😃 Student #9 resumes working. Work left to do=187 minutes\n",
      "🌑 Power is off at 182 minutes\n",
      "TIME=182 - 😓 Student #2 interrupted by power cut. Task remaining=86 minutes\n",
      "TIME=182 - 😓 Student #3 interrupted by power cut. Task remaining=91 minutes\n",
      "TIME=182 - 😓 Student #8 interrupted by power cut. Task remaining=103 minutes\n",
      "TIME=182 - 😓 Student #9 interrupted by power cut. Task remaining=88 minutes\n",
      "🌕 Power is on at 193 minutes\n",
      "TIME=193 - 😃 Student #2 resumes working. Work left to do=86 minutes\n",
      "TIME=193 - 😃 Student #3 resumes working. Work left to do=91 minutes\n",
      "TIME=193 - 😃 Student #8 resumes working. Work left to do=103 minutes\n",
      "TIME=193 - 😃 Student #9 resumes working. Work left to do=88 minutes\n",
      "🌑 Power is off at 272 minutes\n",
      "TIME=272 - 😓 Student #2 interrupted by power cut. Task remaining=7 minutes\n",
      "TIME=272 - 😓 Student #3 interrupted by power cut. Task remaining=12 minutes\n",
      "TIME=272 - 😓 Student #8 interrupted by power cut. Task remaining=24 minutes\n",
      "TIME=272 - 😓 Student #9 interrupted by power cut. Task remaining=9 minutes\n",
      "TIME=277 - 😴 Student #9 slept. Assignment pending. Work left was=9 minutes\n",
      "🌕 Power is on at 283 minutes\n",
      "TIME=283 - 😃 Student #2 resumes working. Work left to do=7 minutes\n",
      "TIME=283 - 😃 Student #3 resumes working. Work left to do=12 minutes\n",
      "TIME=283 - 😃 Student #8 resumes working. Work left to do=24 minutes\n",
      "TIME=290 - 🥳 Student #2 finished working.\n",
      "TIME=295 - 🥳 Student #3 finished working.\n",
      "TIME=307 - 🥳 Student #8 finished working.\n",
      "🌑 Power is off at 394 minutes\n",
      "🌕 Power is on at 409 minutes\n",
      "The time is 420 minutes\n",
      "The time is 420 minutes\n"
     ]
    },
    {
     "data": {
      "text/plain": [
       "<ConditionValue {<Process(timeduration) object at 0x1fecfbcaa00>: None}>"
      ]
     },
     "execution_count": 8,
     "metadata": {},
     "output_type": "execute_result"
    },
    {
     "name": "stdout",
     "output_type": "stream",
     "text": [
      "\n",
      "\n"
     ]
    },
    {
     "data": {
      "text/plain": [
       "'Summary of the simulation'"
      ]
     },
     "execution_count": 8,
     "metadata": {},
     "output_type": "execute_result"
    },
    {
     "name": "stdout",
     "output_type": "stream",
     "text": [
      "-----------------------------------------------------------------------------\n",
      "                     📊Summary of the simulation📊                     \n",
      "-----------------------------------------------------------------------------\n",
      "Number of students who finished assignment on time 🥳                  3\n",
      "Number of students who Slept😴                                         7\n",
      "Number of students👦                                                   10\n",
      "Percentage of students who finished assignment on time (in %)         30.0\n",
      "Average time to finish assignment                                     301.96\n",
      "Number of power cuts🌑🌕                                                137\n",
      "-----------------------------------------------------------------------------\n",
      "🌕 Power is on at 0 minutes\n",
      "TIME=0 - 🙂 Student #0 started working.Work left=263 minutes\n",
      "TIME=0 - 🙂 Student #1 started working.Work left=287 minutes\n",
      "TIME=0 - 🙂 Student #2 started working.Work left=284 minutes\n",
      "TIME=0 - 🙂 Student #3 started working.Work left=245 minutes\n",
      "TIME=0 - 🙂 Student #4 started working.Work left=255 minutes\n",
      "TIME=0 - 🙂 Student #5 started working.Work left=243 minutes\n",
      "TIME=0 - 🙂 Student #6 started working.Work left=300 minutes\n",
      "TIME=0 - 🙂 Student #7 started working.Work left=250 minutes\n",
      "TIME=0 - 🙂 Student #8 started working.Work left=276 minutes\n",
      "TIME=0 - 🙂 Student #9 started working.Work left=300 minutes\n",
      "🌑 Power is off at 116 minutes\n",
      "TIME=116 - 😓 Student #0 interrupted by power cut. Task remaining=147 minutes\n",
      "TIME=116 - 😓 Student #1 interrupted by power cut. Task remaining=171 minutes\n",
      "TIME=116 - 😓 Student #2 interrupted by power cut. Task remaining=168 minutes\n",
      "TIME=116 - 😓 Student #3 interrupted by power cut. Task remaining=129 minutes\n",
      "TIME=116 - 😓 Student #4 interrupted by power cut. Task remaining=139 minutes\n",
      "TIME=116 - 😓 Student #5 interrupted by power cut. Task remaining=127 minutes\n",
      "TIME=116 - 😓 Student #6 interrupted by power cut. Task remaining=184 minutes\n",
      "TIME=116 - 😓 Student #7 interrupted by power cut. Task remaining=134 minutes\n",
      "TIME=116 - 😓 Student #8 interrupted by power cut. Task remaining=160 minutes\n",
      "TIME=116 - 😓 Student #9 interrupted by power cut. Task remaining=184 minutes\n",
      "TIME=121 - 😴 Student #0 slept. Assignment pending. Work left was=147 minutes\n",
      "TIME=121 - 😴 Student #3 slept. Assignment pending. Work left was=129 minutes\n",
      "TIME=121 - 😴 Student #7 slept. Assignment pending. Work left was=134 minutes\n",
      "🌕 Power is on at 128 minutes\n",
      "TIME=128 - 😃 Student #1 resumes working. Work left to do=171 minutes\n",
      "TIME=128 - 😃 Student #2 resumes working. Work left to do=168 minutes\n",
      "TIME=128 - 😃 Student #4 resumes working. Work left to do=139 minutes\n",
      "TIME=128 - 😃 Student #5 resumes working. Work left to do=127 minutes\n",
      "TIME=128 - 😃 Student #6 resumes working. Work left to do=184 minutes\n",
      "TIME=128 - 😃 Student #8 resumes working. Work left to do=160 minutes\n",
      "TIME=128 - 😃 Student #9 resumes working. Work left to do=184 minutes\n",
      "🌑 Power is off at 188 minutes\n",
      "TIME=188 - 😓 Student #1 interrupted by power cut. Task remaining=111 minutes\n",
      "TIME=188 - 😓 Student #2 interrupted by power cut. Task remaining=108 minutes\n",
      "TIME=188 - 😓 Student #4 interrupted by power cut. Task remaining=79 minutes\n",
      "TIME=188 - 😓 Student #5 interrupted by power cut. Task remaining=67 minutes\n",
      "TIME=188 - 😓 Student #6 interrupted by power cut. Task remaining=124 minutes\n",
      "TIME=188 - 😓 Student #8 interrupted by power cut. Task remaining=100 minutes\n",
      "TIME=188 - 😓 Student #9 interrupted by power cut. Task remaining=124 minutes\n",
      "TIME=193 - 😴 Student #1 slept. Assignment pending. Work left was=111 minutes\n",
      "TIME=193 - 😴 Student #2 slept. Assignment pending. Work left was=108 minutes\n",
      "TIME=193 - 😴 Student #6 slept. Assignment pending. Work left was=124 minutes\n",
      "TIME=193 - 😴 Student #8 slept. Assignment pending. Work left was=100 minutes\n",
      "🌕 Power is on at 199 minutes\n",
      "TIME=199 - 😃 Student #4 resumes working. Work left to do=79 minutes\n",
      "TIME=199 - 😃 Student #5 resumes working. Work left to do=67 minutes\n",
      "TIME=199 - 😃 Student #9 resumes working. Work left to do=124 minutes\n",
      "🌑 Power is off at 261 minutes\n",
      "TIME=261 - 😓 Student #4 interrupted by power cut. Task remaining=17 minutes\n",
      "TIME=261 - 😓 Student #5 interrupted by power cut. Task remaining=5 minutes\n",
      "TIME=261 - 😓 Student #9 interrupted by power cut. Task remaining=62 minutes\n",
      "🌕 Power is on at 274 minutes\n",
      "TIME=274 - 😃 Student #4 resumes working. Work left to do=17 minutes\n",
      "TIME=274 - 😃 Student #5 resumes working. Work left to do=5 minutes\n",
      "TIME=274 - 😃 Student #9 resumes working. Work left to do=62 minutes\n",
      "TIME=279 - 🥳 Student #5 finished working.\n",
      "TIME=291 - 🥳 Student #4 finished working.\n",
      "TIME=336 - 🥳 Student #9 finished working.\n",
      "🌑 Power is off at 389 minutes\n",
      "🌕 Power is on at 403 minutes\n",
      "The time is 420 minutes\n",
      "The time is 420 minutes\n"
     ]
    },
    {
     "data": {
      "text/plain": [
       "<ConditionValue {<Process(timeduration) object at 0x1fecfb61490>: None}>"
      ]
     },
     "execution_count": 8,
     "metadata": {},
     "output_type": "execute_result"
    },
    {
     "name": "stdout",
     "output_type": "stream",
     "text": [
      "\n",
      "\n"
     ]
    },
    {
     "data": {
      "text/plain": [
       "'Summary of the simulation'"
      ]
     },
     "execution_count": 8,
     "metadata": {},
     "output_type": "execute_result"
    },
    {
     "name": "stdout",
     "output_type": "stream",
     "text": [
      "-----------------------------------------------------------------------------\n",
      "                     📊Summary of the simulation📊                     \n",
      "-----------------------------------------------------------------------------\n",
      "Number of students who finished assignment on time 🥳                  3\n",
      "Number of students who Slept😴                                         7\n",
      "Number of students👦                                                   10\n",
      "Percentage of students who finished assignment on time (in %)         30.0\n",
      "Average time to finish assignment                                     301.96\n",
      "Number of power cuts🌑🌕                                                141\n",
      "-----------------------------------------------------------------------------\n",
      "🌕 Power is on at 0 minutes\n",
      "TIME=0 - 🙂 Student #0 started working.Work left=300 minutes\n",
      "TIME=0 - 🙂 Student #1 started working.Work left=257 minutes\n",
      "TIME=0 - 🙂 Student #2 started working.Work left=267 minutes\n",
      "TIME=0 - 🙂 Student #3 started working.Work left=268 minutes\n",
      "TIME=0 - 🙂 Student #4 started working.Work left=262 minutes\n",
      "TIME=0 - 🙂 Student #5 started working.Work left=279 minutes\n",
      "TIME=0 - 🙂 Student #6 started working.Work left=284 minutes\n",
      "TIME=0 - 🙂 Student #7 started working.Work left=264 minutes\n",
      "TIME=0 - 🙂 Student #8 started working.Work left=298 minutes\n",
      "TIME=0 - 🙂 Student #9 started working.Work left=286 minutes\n",
      "🌑 Power is off at 83 minutes\n",
      "TIME=83 - 😓 Student #0 interrupted by power cut. Task remaining=217 minutes\n",
      "TIME=83 - 😓 Student #1 interrupted by power cut. Task remaining=174 minutes\n",
      "TIME=83 - 😓 Student #2 interrupted by power cut. Task remaining=184 minutes\n",
      "TIME=83 - 😓 Student #3 interrupted by power cut. Task remaining=185 minutes\n",
      "TIME=83 - 😓 Student #4 interrupted by power cut. Task remaining=179 minutes\n",
      "TIME=83 - 😓 Student #5 interrupted by power cut. Task remaining=196 minutes\n",
      "TIME=83 - 😓 Student #6 interrupted by power cut. Task remaining=201 minutes\n",
      "TIME=83 - 😓 Student #7 interrupted by power cut. Task remaining=181 minutes\n",
      "TIME=83 - 😓 Student #8 interrupted by power cut. Task remaining=215 minutes\n",
      "TIME=83 - 😓 Student #9 interrupted by power cut. Task remaining=203 minutes\n",
      "TIME=88 - 😴 Student #1 slept. Assignment pending. Work left was=174 minutes\n",
      "TIME=88 - 😴 Student #2 slept. Assignment pending. Work left was=184 minutes\n",
      "TIME=88 - 😴 Student #3 slept. Assignment pending. Work left was=185 minutes\n",
      "🌕 Power is on at 94 minutes\n",
      "TIME=94 - 😃 Student #0 resumes working. Work left to do=217 minutes\n",
      "TIME=94 - 😃 Student #4 resumes working. Work left to do=179 minutes\n",
      "TIME=94 - 😃 Student #5 resumes working. Work left to do=196 minutes\n",
      "TIME=94 - 😃 Student #6 resumes working. Work left to do=201 minutes\n",
      "TIME=94 - 😃 Student #7 resumes working. Work left to do=181 minutes\n",
      "TIME=94 - 😃 Student #8 resumes working. Work left to do=215 minutes\n",
      "TIME=94 - 😃 Student #9 resumes working. Work left to do=203 minutes\n",
      "🌑 Power is off at 181 minutes\n",
      "TIME=181 - 😓 Student #0 interrupted by power cut. Task remaining=130 minutes\n",
      "TIME=181 - 😓 Student #4 interrupted by power cut. Task remaining=92 minutes\n",
      "TIME=181 - 😓 Student #5 interrupted by power cut. Task remaining=109 minutes\n",
      "TIME=181 - 😓 Student #6 interrupted by power cut. Task remaining=114 minutes\n",
      "TIME=181 - 😓 Student #7 interrupted by power cut. Task remaining=94 minutes\n",
      "TIME=181 - 😓 Student #8 interrupted by power cut. Task remaining=128 minutes\n",
      "TIME=181 - 😓 Student #9 interrupted by power cut. Task remaining=116 minutes\n",
      "TIME=186 - 😴 Student #4 slept. Assignment pending. Work left was=92 minutes\n",
      "TIME=186 - 😴 Student #5 slept. Assignment pending. Work left was=109 minutes\n",
      "🌕 Power is on at 196 minutes\n",
      "TIME=196 - 😃 Student #0 resumes working. Work left to do=130 minutes\n",
      "TIME=196 - 😃 Student #6 resumes working. Work left to do=114 minutes\n",
      "TIME=196 - 😃 Student #7 resumes working. Work left to do=94 minutes\n",
      "TIME=196 - 😃 Student #8 resumes working. Work left to do=128 minutes\n",
      "TIME=196 - 😃 Student #9 resumes working. Work left to do=116 minutes\n",
      "🌑 Power is off at 274 minutes\n",
      "TIME=274 - 😓 Student #0 interrupted by power cut. Task remaining=52 minutes\n",
      "TIME=274 - 😓 Student #6 interrupted by power cut. Task remaining=36 minutes\n",
      "TIME=274 - 😓 Student #7 interrupted by power cut. Task remaining=16 minutes\n",
      "TIME=274 - 😓 Student #8 interrupted by power cut. Task remaining=50 minutes\n",
      "TIME=274 - 😓 Student #9 interrupted by power cut. Task remaining=38 minutes\n",
      "TIME=279 - 😴 Student #0 slept. Assignment pending. Work left was=52 minutes\n",
      "TIME=279 - 😴 Student #8 slept. Assignment pending. Work left was=50 minutes\n",
      "TIME=279 - 😴 Student #9 slept. Assignment pending. Work left was=38 minutes\n",
      "🌕 Power is on at 286 minutes\n",
      "TIME=286 - 😃 Student #6 resumes working. Work left to do=36 minutes\n",
      "TIME=286 - 😃 Student #7 resumes working. Work left to do=16 minutes\n",
      "TIME=302 - 🥳 Student #7 finished working.\n",
      "TIME=322 - 🥳 Student #6 finished working.\n",
      "🌑 Power is off at 353 minutes\n",
      "🌕 Power is on at 366 minutes\n",
      "The time is 420 minutes\n",
      "The time is 420 minutes\n"
     ]
    },
    {
     "data": {
      "text/plain": [
       "<ConditionValue {<Process(timeduration) object at 0x1fecfaff8e0>: None}>"
      ]
     },
     "execution_count": 8,
     "metadata": {},
     "output_type": "execute_result"
    },
    {
     "name": "stdout",
     "output_type": "stream",
     "text": [
      "\n",
      "\n"
     ]
    },
    {
     "data": {
      "text/plain": [
       "'Summary of the simulation'"
      ]
     },
     "execution_count": 8,
     "metadata": {},
     "output_type": "execute_result"
    },
    {
     "name": "stdout",
     "output_type": "stream",
     "text": [
      "-----------------------------------------------------------------------------\n",
      "                     📊Summary of the simulation📊                     \n",
      "-----------------------------------------------------------------------------\n",
      "Number of students who finished assignment on time 🥳                  2\n",
      "Number of students who Slept😴                                         8\n",
      "Number of students👦                                                   10\n",
      "Percentage of students who finished assignment on time (in %)         20.0\n",
      "Average time to finish assignment                                     302.05\n",
      "Number of power cuts🌑🌕                                                145\n",
      "-----------------------------------------------------------------------------\n",
      "🌕 Power is on at 0 minutes\n",
      "TIME=0 - 🙂 Student #0 started working.Work left=244 minutes\n",
      "TIME=0 - 🙂 Student #1 started working.Work left=289 minutes\n",
      "TIME=0 - 🙂 Student #2 started working.Work left=256 minutes\n",
      "TIME=0 - 🙂 Student #3 started working.Work left=288 minutes\n",
      "TIME=0 - 🙂 Student #4 started working.Work left=290 minutes\n",
      "TIME=0 - 🙂 Student #5 started working.Work left=268 minutes\n",
      "TIME=0 - 🙂 Student #6 started working.Work left=300 minutes\n",
      "TIME=0 - 🙂 Student #7 started working.Work left=270 minutes\n",
      "TIME=0 - 🙂 Student #8 started working.Work left=253 minutes\n",
      "TIME=0 - 🙂 Student #9 started working.Work left=281 minutes\n",
      "🌑 Power is off at 79 minutes\n",
      "TIME=79 - 😓 Student #0 interrupted by power cut. Task remaining=165 minutes\n",
      "TIME=79 - 😓 Student #1 interrupted by power cut. Task remaining=210 minutes\n",
      "TIME=79 - 😓 Student #2 interrupted by power cut. Task remaining=177 minutes\n",
      "TIME=79 - 😓 Student #3 interrupted by power cut. Task remaining=209 minutes\n",
      "TIME=79 - 😓 Student #4 interrupted by power cut. Task remaining=211 minutes\n",
      "TIME=79 - 😓 Student #5 interrupted by power cut. Task remaining=189 minutes\n",
      "TIME=79 - 😓 Student #6 interrupted by power cut. Task remaining=221 minutes\n",
      "TIME=79 - 😓 Student #7 interrupted by power cut. Task remaining=191 minutes\n",
      "TIME=79 - 😓 Student #8 interrupted by power cut. Task remaining=174 minutes\n",
      "TIME=79 - 😓 Student #9 interrupted by power cut. Task remaining=202 minutes\n",
      "TIME=84 - 😴 Student #2 slept. Assignment pending. Work left was=177 minutes\n",
      "TIME=84 - 😴 Student #3 slept. Assignment pending. Work left was=209 minutes\n",
      "TIME=84 - 😴 Student #5 slept. Assignment pending. Work left was=189 minutes\n",
      "🌕 Power is on at 93 minutes\n",
      "TIME=93 - 😃 Student #0 resumes working. Work left to do=165 minutes\n",
      "TIME=93 - 😃 Student #1 resumes working. Work left to do=210 minutes\n",
      "TIME=93 - 😃 Student #4 resumes working. Work left to do=211 minutes\n",
      "TIME=93 - 😃 Student #6 resumes working. Work left to do=221 minutes\n",
      "TIME=93 - 😃 Student #7 resumes working. Work left to do=191 minutes\n",
      "TIME=93 - 😃 Student #8 resumes working. Work left to do=174 minutes\n",
      "TIME=93 - 😃 Student #9 resumes working. Work left to do=202 minutes\n",
      "🌑 Power is off at 179 minutes\n",
      "TIME=179 - 😓 Student #0 interrupted by power cut. Task remaining=79 minutes\n",
      "TIME=179 - 😓 Student #1 interrupted by power cut. Task remaining=124 minutes\n",
      "TIME=179 - 😓 Student #4 interrupted by power cut. Task remaining=125 minutes\n",
      "TIME=179 - 😓 Student #6 interrupted by power cut. Task remaining=135 minutes\n",
      "TIME=179 - 😓 Student #7 interrupted by power cut. Task remaining=105 minutes\n",
      "TIME=179 - 😓 Student #8 interrupted by power cut. Task remaining=88 minutes\n",
      "TIME=179 - 😓 Student #9 interrupted by power cut. Task remaining=116 minutes\n",
      "TIME=184 - 😴 Student #1 slept. Assignment pending. Work left was=124 minutes\n",
      "TIME=184 - 😴 Student #6 slept. Assignment pending. Work left was=135 minutes\n",
      "TIME=184 - 😴 Student #7 slept. Assignment pending. Work left was=105 minutes\n",
      "🌕 Power is on at 189 minutes\n",
      "TIME=189 - 😃 Student #0 resumes working. Work left to do=79 minutes\n",
      "TIME=189 - 😃 Student #4 resumes working. Work left to do=125 minutes\n",
      "TIME=189 - 😃 Student #8 resumes working. Work left to do=88 minutes\n",
      "TIME=189 - 😃 Student #9 resumes working. Work left to do=116 minutes\n",
      "🌑 Power is off at 258 minutes\n",
      "TIME=258 - 😓 Student #0 interrupted by power cut. Task remaining=10 minutes\n",
      "TIME=258 - 😓 Student #4 interrupted by power cut. Task remaining=56 minutes\n",
      "TIME=258 - 😓 Student #8 interrupted by power cut. Task remaining=19 minutes\n",
      "TIME=258 - 😓 Student #9 interrupted by power cut. Task remaining=47 minutes\n",
      "TIME=263 - 😴 Student #4 slept. Assignment pending. Work left was=56 minutes\n",
      "TIME=263 - 😴 Student #9 slept. Assignment pending. Work left was=47 minutes\n",
      "🌕 Power is on at 270 minutes\n",
      "TIME=270 - 😃 Student #0 resumes working. Work left to do=10 minutes\n",
      "TIME=270 - 😃 Student #8 resumes working. Work left to do=19 minutes\n",
      "TIME=280 - 🥳 Student #0 finished working.\n",
      "TIME=289 - 🥳 Student #8 finished working.\n",
      "🌑 Power is off at 348 minutes\n",
      "🌕 Power is on at 359 minutes\n",
      "The time is 420 minutes\n",
      "The time is 420 minutes\n"
     ]
    },
    {
     "data": {
      "text/plain": [
       "<ConditionValue {<Process(timeduration) object at 0x1fecfb8ec70>: None}>"
      ]
     },
     "execution_count": 8,
     "metadata": {},
     "output_type": "execute_result"
    },
    {
     "name": "stdout",
     "output_type": "stream",
     "text": [
      "\n",
      "\n"
     ]
    },
    {
     "data": {
      "text/plain": [
       "'Summary of the simulation'"
      ]
     },
     "execution_count": 8,
     "metadata": {},
     "output_type": "execute_result"
    },
    {
     "name": "stdout",
     "output_type": "stream",
     "text": [
      "-----------------------------------------------------------------------------\n",
      "                     📊Summary of the simulation📊                     \n",
      "-----------------------------------------------------------------------------\n",
      "Number of students who finished assignment on time 🥳                  2\n",
      "Number of students who Slept😴                                         8\n",
      "Number of students👦                                                   10\n",
      "Percentage of students who finished assignment on time (in %)         20.0\n",
      "Average time to finish assignment                                     301.9\n",
      "Number of power cuts🌑🌕                                                149\n",
      "-----------------------------------------------------------------------------\n",
      "🌕 Power is on at 0 minutes\n",
      "TIME=0 - 🙂 Student #0 started working.Work left=282 minutes\n",
      "TIME=0 - 🙂 Student #1 started working.Work left=244 minutes\n",
      "TIME=0 - 🙂 Student #2 started working.Work left=267 minutes\n",
      "TIME=0 - 🙂 Student #3 started working.Work left=259 minutes\n",
      "TIME=0 - 🙂 Student #4 started working.Work left=265 minutes\n",
      "TIME=0 - 🙂 Student #5 started working.Work left=299 minutes\n",
      "TIME=0 - 🙂 Student #6 started working.Work left=294 minutes\n",
      "TIME=0 - 🙂 Student #7 started working.Work left=251 minutes\n",
      "TIME=0 - 🙂 Student #8 started working.Work left=281 minutes\n",
      "TIME=0 - 🙂 Student #9 started working.Work left=262 minutes\n",
      "🌑 Power is off at 75 minutes\n",
      "TIME=75 - 😓 Student #0 interrupted by power cut. Task remaining=207 minutes\n",
      "TIME=75 - 😓 Student #1 interrupted by power cut. Task remaining=169 minutes\n",
      "TIME=75 - 😓 Student #2 interrupted by power cut. Task remaining=192 minutes\n",
      "TIME=75 - 😓 Student #3 interrupted by power cut. Task remaining=184 minutes\n",
      "TIME=75 - 😓 Student #4 interrupted by power cut. Task remaining=190 minutes\n",
      "TIME=75 - 😓 Student #5 interrupted by power cut. Task remaining=224 minutes\n",
      "TIME=75 - 😓 Student #6 interrupted by power cut. Task remaining=219 minutes\n",
      "TIME=75 - 😓 Student #7 interrupted by power cut. Task remaining=176 minutes\n",
      "TIME=75 - 😓 Student #8 interrupted by power cut. Task remaining=206 minutes\n",
      "TIME=75 - 😓 Student #9 interrupted by power cut. Task remaining=187 minutes\n",
      "TIME=80 - 😴 Student #0 slept. Assignment pending. Work left was=207 minutes\n",
      "TIME=80 - 😴 Student #4 slept. Assignment pending. Work left was=190 minutes\n",
      "TIME=80 - 😴 Student #7 slept. Assignment pending. Work left was=176 minutes\n",
      "TIME=80 - 😴 Student #8 slept. Assignment pending. Work left was=206 minutes\n",
      "🌕 Power is on at 87 minutes\n",
      "TIME=87 - 😃 Student #1 resumes working. Work left to do=169 minutes\n",
      "TIME=87 - 😃 Student #2 resumes working. Work left to do=192 minutes\n",
      "TIME=87 - 😃 Student #3 resumes working. Work left to do=184 minutes\n",
      "TIME=87 - 😃 Student #5 resumes working. Work left to do=224 minutes\n",
      "TIME=87 - 😃 Student #6 resumes working. Work left to do=219 minutes\n",
      "TIME=87 - 😃 Student #9 resumes working. Work left to do=187 minutes\n",
      "🌑 Power is off at 187 minutes\n",
      "TIME=187 - 😓 Student #1 interrupted by power cut. Task remaining=69 minutes\n",
      "TIME=187 - 😓 Student #2 interrupted by power cut. Task remaining=92 minutes\n",
      "TIME=187 - 😓 Student #3 interrupted by power cut. Task remaining=84 minutes\n",
      "TIME=187 - 😓 Student #5 interrupted by power cut. Task remaining=124 minutes\n",
      "TIME=187 - 😓 Student #6 interrupted by power cut. Task remaining=119 minutes\n",
      "TIME=187 - 😓 Student #9 interrupted by power cut. Task remaining=87 minutes\n",
      "TIME=192 - 😴 Student #1 slept. Assignment pending. Work left was=69 minutes\n",
      "TIME=192 - 😴 Student #2 slept. Assignment pending. Work left was=92 minutes\n",
      "🌕 Power is on at 197 minutes\n",
      "TIME=197 - 😃 Student #3 resumes working. Work left to do=84 minutes\n",
      "TIME=197 - 😃 Student #5 resumes working. Work left to do=124 minutes\n",
      "TIME=197 - 😃 Student #6 resumes working. Work left to do=119 minutes\n",
      "TIME=197 - 😃 Student #9 resumes working. Work left to do=87 minutes\n",
      "🌑 Power is off at 262 minutes\n",
      "TIME=262 - 😓 Student #3 interrupted by power cut. Task remaining=19 minutes\n",
      "TIME=262 - 😓 Student #5 interrupted by power cut. Task remaining=59 minutes\n",
      "TIME=262 - 😓 Student #6 interrupted by power cut. Task remaining=54 minutes\n",
      "TIME=262 - 😓 Student #9 interrupted by power cut. Task remaining=22 minutes\n",
      "TIME=267 - 😴 Student #3 slept. Assignment pending. Work left was=19 minutes\n",
      "TIME=267 - 😴 Student #5 slept. Assignment pending. Work left was=59 minutes\n",
      "🌕 Power is on at 276 minutes\n",
      "TIME=276 - 😃 Student #6 resumes working. Work left to do=54 minutes\n",
      "TIME=276 - 😃 Student #9 resumes working. Work left to do=22 minutes\n",
      "TIME=298 - 🥳 Student #9 finished working.\n",
      "TIME=330 - 🥳 Student #6 finished working.\n",
      "🌑 Power is off at 348 minutes\n",
      "🌕 Power is on at 359 minutes\n",
      "The time is 420 minutes\n",
      "The time is 420 minutes\n"
     ]
    },
    {
     "data": {
      "text/plain": [
       "<ConditionValue {<Process(timeduration) object at 0x1fecfbca970>: None}>"
      ]
     },
     "execution_count": 8,
     "metadata": {},
     "output_type": "execute_result"
    },
    {
     "name": "stdout",
     "output_type": "stream",
     "text": [
      "\n",
      "\n"
     ]
    },
    {
     "data": {
      "text/plain": [
       "'Summary of the simulation'"
      ]
     },
     "execution_count": 8,
     "metadata": {},
     "output_type": "execute_result"
    },
    {
     "name": "stdout",
     "output_type": "stream",
     "text": [
      "-----------------------------------------------------------------------------\n",
      "                     📊Summary of the simulation📊                     \n",
      "-----------------------------------------------------------------------------\n",
      "Number of students who finished assignment on time 🥳                  2\n",
      "Number of students who Slept😴                                         8\n",
      "Number of students👦                                                   10\n",
      "Percentage of students who finished assignment on time (in %)         20.0\n",
      "Average time to finish assignment                                     302.0\n",
      "Number of power cuts🌑🌕                                                153\n",
      "-----------------------------------------------------------------------------\n",
      "🌕 Power is on at 0 minutes\n",
      "TIME=0 - 🙂 Student #0 started working.Work left=283 minutes\n",
      "TIME=0 - 🙂 Student #1 started working.Work left=249 minutes\n",
      "TIME=0 - 🙂 Student #2 started working.Work left=266 minutes\n",
      "TIME=0 - 🙂 Student #3 started working.Work left=274 minutes\n",
      "TIME=0 - 🙂 Student #4 started working.Work left=254 minutes\n",
      "TIME=0 - 🙂 Student #5 started working.Work left=279 minutes\n",
      "TIME=0 - 🙂 Student #6 started working.Work left=292 minutes\n",
      "TIME=0 - 🙂 Student #7 started working.Work left=253 minutes\n",
      "TIME=0 - 🙂 Student #8 started working.Work left=288 minutes\n",
      "TIME=0 - 🙂 Student #9 started working.Work left=241 minutes\n",
      "🌑 Power is off at 102 minutes\n",
      "TIME=102 - 😓 Student #0 interrupted by power cut. Task remaining=181 minutes\n",
      "TIME=102 - 😓 Student #1 interrupted by power cut. Task remaining=147 minutes\n",
      "TIME=102 - 😓 Student #2 interrupted by power cut. Task remaining=164 minutes\n",
      "TIME=102 - 😓 Student #3 interrupted by power cut. Task remaining=172 minutes\n",
      "TIME=102 - 😓 Student #4 interrupted by power cut. Task remaining=152 minutes\n",
      "TIME=102 - 😓 Student #5 interrupted by power cut. Task remaining=177 minutes\n",
      "TIME=102 - 😓 Student #6 interrupted by power cut. Task remaining=190 minutes\n",
      "TIME=102 - 😓 Student #7 interrupted by power cut. Task remaining=151 minutes\n",
      "TIME=102 - 😓 Student #8 interrupted by power cut. Task remaining=186 minutes\n",
      "TIME=102 - 😓 Student #9 interrupted by power cut. Task remaining=139 minutes\n",
      "TIME=107 - 😴 Student #3 slept. Assignment pending. Work left was=172 minutes\n",
      "TIME=107 - 😴 Student #9 slept. Assignment pending. Work left was=139 minutes\n",
      "🌕 Power is on at 112 minutes\n",
      "TIME=112 - 😃 Student #0 resumes working. Work left to do=181 minutes\n",
      "TIME=112 - 😃 Student #1 resumes working. Work left to do=147 minutes\n",
      "TIME=112 - 😃 Student #2 resumes working. Work left to do=164 minutes\n",
      "TIME=112 - 😃 Student #4 resumes working. Work left to do=152 minutes\n",
      "TIME=112 - 😃 Student #5 resumes working. Work left to do=177 minutes\n",
      "TIME=112 - 😃 Student #6 resumes working. Work left to do=190 minutes\n",
      "TIME=112 - 😃 Student #7 resumes working. Work left to do=151 minutes\n",
      "TIME=112 - 😃 Student #8 resumes working. Work left to do=186 minutes\n",
      "🌑 Power is off at 219 minutes\n",
      "TIME=219 - 😓 Student #0 interrupted by power cut. Task remaining=74 minutes\n",
      "TIME=219 - 😓 Student #1 interrupted by power cut. Task remaining=40 minutes\n",
      "TIME=219 - 😓 Student #2 interrupted by power cut. Task remaining=57 minutes\n",
      "TIME=219 - 😓 Student #4 interrupted by power cut. Task remaining=45 minutes\n",
      "TIME=219 - 😓 Student #5 interrupted by power cut. Task remaining=70 minutes\n",
      "TIME=219 - 😓 Student #6 interrupted by power cut. Task remaining=83 minutes\n",
      "TIME=219 - 😓 Student #7 interrupted by power cut. Task remaining=44 minutes\n",
      "TIME=219 - 😓 Student #8 interrupted by power cut. Task remaining=79 minutes\n",
      "TIME=224 - 😴 Student #0 slept. Assignment pending. Work left was=74 minutes\n",
      "TIME=224 - 😴 Student #2 slept. Assignment pending. Work left was=57 minutes\n",
      "TIME=224 - 😴 Student #7 slept. Assignment pending. Work left was=44 minutes\n",
      "TIME=224 - 😴 Student #8 slept. Assignment pending. Work left was=79 minutes\n",
      "🌕 Power is on at 233 minutes\n",
      "TIME=233 - 😃 Student #1 resumes working. Work left to do=40 minutes\n",
      "TIME=233 - 😃 Student #4 resumes working. Work left to do=45 minutes\n",
      "TIME=233 - 😃 Student #5 resumes working. Work left to do=70 minutes\n",
      "TIME=233 - 😃 Student #6 resumes working. Work left to do=83 minutes\n",
      "TIME=273 - 🥳 Student #1 finished working.\n",
      "TIME=278 - 🥳 Student #4 finished working.\n",
      "🌑 Power is off at 299 minutes\n",
      "TIME=299 - 😓 Student #5 interrupted by power cut. Task remaining=4 minutes\n",
      "TIME=299 - 😓 Student #6 interrupted by power cut. Task remaining=17 minutes\n",
      "TIME=304 - 😴 Student #6 slept. Assignment pending. Work left was=17 minutes\n",
      "🌕 Power is on at 310 minutes\n",
      "TIME=310 - 😃 Student #5 resumes working. Work left to do=4 minutes\n",
      "TIME=314 - 🥳 Student #5 finished working.\n",
      "🌑 Power is off at 402 minutes\n",
      "🌕 Power is on at 412 minutes\n",
      "The time is 420 minutes\n",
      "The time is 420 minutes\n"
     ]
    },
    {
     "data": {
      "text/plain": [
       "<ConditionValue {<Process(timeduration) object at 0x1fecfb8ee80>: None}>"
      ]
     },
     "execution_count": 8,
     "metadata": {},
     "output_type": "execute_result"
    },
    {
     "name": "stdout",
     "output_type": "stream",
     "text": [
      "\n",
      "\n"
     ]
    },
    {
     "data": {
      "text/plain": [
       "'Summary of the simulation'"
      ]
     },
     "execution_count": 8,
     "metadata": {},
     "output_type": "execute_result"
    },
    {
     "name": "stdout",
     "output_type": "stream",
     "text": [
      "-----------------------------------------------------------------------------\n",
      "                     📊Summary of the simulation📊                     \n",
      "-----------------------------------------------------------------------------\n",
      "Number of students who finished assignment on time 🥳                  3\n",
      "Number of students who Slept😴                                         7\n",
      "Number of students👦                                                   10\n",
      "Percentage of students who finished assignment on time (in %)         30.0\n",
      "Average time to finish assignment                                     301.83\n",
      "Number of power cuts🌑🌕                                                157\n",
      "-----------------------------------------------------------------------------\n",
      "🌕 Power is on at 0 minutes\n",
      "TIME=0 - 🙂 Student #0 started working.Work left=283 minutes\n",
      "TIME=0 - 🙂 Student #1 started working.Work left=286 minutes\n",
      "TIME=0 - 🙂 Student #2 started working.Work left=249 minutes\n",
      "TIME=0 - 🙂 Student #3 started working.Work left=263 minutes\n",
      "TIME=0 - 🙂 Student #4 started working.Work left=261 minutes\n",
      "TIME=0 - 🙂 Student #5 started working.Work left=296 minutes\n",
      "TIME=0 - 🙂 Student #6 started working.Work left=272 minutes\n",
      "TIME=0 - 🙂 Student #7 started working.Work left=254 minutes\n",
      "TIME=0 - 🙂 Student #8 started working.Work left=255 minutes\n",
      "TIME=0 - 🙂 Student #9 started working.Work left=285 minutes\n",
      "🌑 Power is off at 75 minutes\n",
      "TIME=75 - 😓 Student #0 interrupted by power cut. Task remaining=208 minutes\n",
      "TIME=75 - 😓 Student #1 interrupted by power cut. Task remaining=211 minutes\n",
      "TIME=75 - 😓 Student #2 interrupted by power cut. Task remaining=174 minutes\n",
      "TIME=75 - 😓 Student #3 interrupted by power cut. Task remaining=188 minutes\n",
      "TIME=75 - 😓 Student #4 interrupted by power cut. Task remaining=186 minutes\n",
      "TIME=75 - 😓 Student #5 interrupted by power cut. Task remaining=221 minutes\n",
      "TIME=75 - 😓 Student #6 interrupted by power cut. Task remaining=197 minutes\n",
      "TIME=75 - 😓 Student #7 interrupted by power cut. Task remaining=179 minutes\n",
      "TIME=75 - 😓 Student #8 interrupted by power cut. Task remaining=180 minutes\n",
      "TIME=75 - 😓 Student #9 interrupted by power cut. Task remaining=210 minutes\n",
      "TIME=80 - 😴 Student #2 slept. Assignment pending. Work left was=174 minutes\n",
      "TIME=80 - 😴 Student #5 slept. Assignment pending. Work left was=221 minutes\n",
      "TIME=80 - 😴 Student #8 slept. Assignment pending. Work left was=180 minutes\n",
      "TIME=80 - 😴 Student #9 slept. Assignment pending. Work left was=210 minutes\n",
      "🌕 Power is on at 88 minutes\n",
      "TIME=88 - 😃 Student #0 resumes working. Work left to do=208 minutes\n",
      "TIME=88 - 😃 Student #1 resumes working. Work left to do=211 minutes\n",
      "TIME=88 - 😃 Student #3 resumes working. Work left to do=188 minutes\n",
      "TIME=88 - 😃 Student #4 resumes working. Work left to do=186 minutes\n",
      "TIME=88 - 😃 Student #6 resumes working. Work left to do=197 minutes\n",
      "TIME=88 - 😃 Student #7 resumes working. Work left to do=179 minutes\n",
      "🌑 Power is off at 157 minutes\n",
      "TIME=157 - 😓 Student #0 interrupted by power cut. Task remaining=139 minutes\n",
      "TIME=157 - 😓 Student #1 interrupted by power cut. Task remaining=142 minutes\n",
      "TIME=157 - 😓 Student #3 interrupted by power cut. Task remaining=119 minutes\n",
      "TIME=157 - 😓 Student #4 interrupted by power cut. Task remaining=117 minutes\n",
      "TIME=157 - 😓 Student #6 interrupted by power cut. Task remaining=128 minutes\n",
      "TIME=157 - 😓 Student #7 interrupted by power cut. Task remaining=110 minutes\n",
      "TIME=162 - 😴 Student #0 slept. Assignment pending. Work left was=139 minutes\n",
      "TIME=162 - 😴 Student #3 slept. Assignment pending. Work left was=119 minutes\n",
      "TIME=162 - 😴 Student #6 slept. Assignment pending. Work left was=128 minutes\n",
      "🌕 Power is on at 167 minutes\n",
      "TIME=167 - 😃 Student #1 resumes working. Work left to do=142 minutes\n",
      "TIME=167 - 😃 Student #4 resumes working. Work left to do=117 minutes\n",
      "TIME=167 - 😃 Student #7 resumes working. Work left to do=110 minutes\n",
      "🌑 Power is off at 276 minutes\n",
      "TIME=276 - 😓 Student #1 interrupted by power cut. Task remaining=33 minutes\n",
      "TIME=276 - 😓 Student #4 interrupted by power cut. Task remaining=8 minutes\n",
      "TIME=276 - 😓 Student #7 interrupted by power cut. Task remaining=1 minutes\n",
      "TIME=281 - 😴 Student #4 slept. Assignment pending. Work left was=8 minutes\n",
      "TIME=281 - 😴 Student #7 slept. Assignment pending. Work left was=1 minutes\n",
      "🌕 Power is on at 286 minutes\n",
      "TIME=286 - 😃 Student #1 resumes working. Work left to do=33 minutes\n",
      "TIME=319 - 🥳 Student #1 finished working.\n",
      "🌑 Power is off at 349 minutes\n",
      "🌕 Power is on at 360 minutes\n",
      "The time is 420 minutes\n",
      "The time is 420 minutes\n"
     ]
    },
    {
     "data": {
      "text/plain": [
       "<ConditionValue {<Process(timeduration) object at 0x1fecfb61760>: None}>"
      ]
     },
     "execution_count": 8,
     "metadata": {},
     "output_type": "execute_result"
    },
    {
     "name": "stdout",
     "output_type": "stream",
     "text": [
      "\n",
      "\n"
     ]
    },
    {
     "data": {
      "text/plain": [
       "'Summary of the simulation'"
      ]
     },
     "execution_count": 8,
     "metadata": {},
     "output_type": "execute_result"
    },
    {
     "name": "stdout",
     "output_type": "stream",
     "text": [
      "-----------------------------------------------------------------------------\n",
      "                     📊Summary of the simulation📊                     \n",
      "-----------------------------------------------------------------------------\n",
      "Number of students who finished assignment on time 🥳                  1\n",
      "Number of students who Slept😴                                         9\n",
      "Number of students👦                                                   10\n",
      "Percentage of students who finished assignment on time (in %)         10.0\n",
      "Average time to finish assignment                                     301.9\n",
      "Number of power cuts🌑🌕                                                161\n",
      "-----------------------------------------------------------------------------\n",
      "🌕 Power is on at 0 minutes\n",
      "TIME=0 - 🙂 Student #0 started working.Work left=265 minutes\n",
      "TIME=0 - 🙂 Student #1 started working.Work left=257 minutes\n",
      "TIME=0 - 🙂 Student #2 started working.Work left=295 minutes\n",
      "TIME=0 - 🙂 Student #3 started working.Work left=269 minutes\n",
      "TIME=0 - 🙂 Student #4 started working.Work left=264 minutes\n",
      "TIME=0 - 🙂 Student #5 started working.Work left=280 minutes\n",
      "TIME=0 - 🙂 Student #6 started working.Work left=247 minutes\n",
      "TIME=0 - 🙂 Student #7 started working.Work left=276 minutes\n",
      "TIME=0 - 🙂 Student #8 started working.Work left=252 minutes\n",
      "TIME=0 - 🙂 Student #9 started working.Work left=273 minutes\n",
      "🌑 Power is off at 73 minutes\n",
      "TIME=73 - 😓 Student #0 interrupted by power cut. Task remaining=192 minutes\n",
      "TIME=73 - 😓 Student #1 interrupted by power cut. Task remaining=184 minutes\n",
      "TIME=73 - 😓 Student #2 interrupted by power cut. Task remaining=222 minutes\n",
      "TIME=73 - 😓 Student #3 interrupted by power cut. Task remaining=196 minutes\n",
      "TIME=73 - 😓 Student #4 interrupted by power cut. Task remaining=191 minutes\n",
      "TIME=73 - 😓 Student #5 interrupted by power cut. Task remaining=207 minutes\n",
      "TIME=73 - 😓 Student #6 interrupted by power cut. Task remaining=174 minutes\n",
      "TIME=73 - 😓 Student #7 interrupted by power cut. Task remaining=203 minutes\n",
      "TIME=73 - 😓 Student #8 interrupted by power cut. Task remaining=179 minutes\n",
      "TIME=73 - 😓 Student #9 interrupted by power cut. Task remaining=200 minutes\n",
      "TIME=78 - 😴 Student #0 slept. Assignment pending. Work left was=192 minutes\n",
      "TIME=78 - 😴 Student #2 slept. Assignment pending. Work left was=222 minutes\n",
      "TIME=78 - 😴 Student #3 slept. Assignment pending. Work left was=196 minutes\n",
      "TIME=78 - 😴 Student #4 slept. Assignment pending. Work left was=191 minutes\n",
      "TIME=78 - 😴 Student #5 slept. Assignment pending. Work left was=207 minutes\n",
      "TIME=78 - 😴 Student #6 slept. Assignment pending. Work left was=174 minutes\n",
      "TIME=78 - 😴 Student #7 slept. Assignment pending. Work left was=203 minutes\n",
      "🌕 Power is on at 88 minutes\n",
      "TIME=88 - 😃 Student #1 resumes working. Work left to do=184 minutes\n",
      "TIME=88 - 😃 Student #8 resumes working. Work left to do=179 minutes\n",
      "TIME=88 - 😃 Student #9 resumes working. Work left to do=200 minutes\n",
      "🌑 Power is off at 176 minutes\n",
      "TIME=176 - 😓 Student #1 interrupted by power cut. Task remaining=96 minutes\n",
      "TIME=176 - 😓 Student #8 interrupted by power cut. Task remaining=91 minutes\n",
      "TIME=176 - 😓 Student #9 interrupted by power cut. Task remaining=112 minutes\n",
      "TIME=181 - 😴 Student #9 slept. Assignment pending. Work left was=112 minutes\n",
      "🌕 Power is on at 189 minutes\n",
      "TIME=189 - 😃 Student #1 resumes working. Work left to do=96 minutes\n",
      "TIME=189 - 😃 Student #8 resumes working. Work left to do=91 minutes\n",
      "🌑 Power is off at 262 minutes\n",
      "TIME=262 - 😓 Student #1 interrupted by power cut. Task remaining=23 minutes\n",
      "TIME=262 - 😓 Student #8 interrupted by power cut. Task remaining=18 minutes\n",
      "TIME=267 - 😴 Student #1 slept. Assignment pending. Work left was=23 minutes\n",
      "🌕 Power is on at 274 minutes\n",
      "TIME=274 - 😃 Student #8 resumes working. Work left to do=18 minutes\n",
      "TIME=292 - 🥳 Student #8 finished working.\n",
      "🌑 Power is off at 347 minutes\n",
      "🌕 Power is on at 360 minutes\n",
      "The time is 420 minutes\n",
      "The time is 420 minutes\n"
     ]
    },
    {
     "data": {
      "text/plain": [
       "<ConditionValue {<Process(timeduration) object at 0x1fecfb61a00>: None}>"
      ]
     },
     "execution_count": 8,
     "metadata": {},
     "output_type": "execute_result"
    },
    {
     "name": "stdout",
     "output_type": "stream",
     "text": [
      "\n",
      "\n"
     ]
    },
    {
     "data": {
      "text/plain": [
       "'Summary of the simulation'"
      ]
     },
     "execution_count": 8,
     "metadata": {},
     "output_type": "execute_result"
    },
    {
     "name": "stdout",
     "output_type": "stream",
     "text": [
      "-----------------------------------------------------------------------------\n",
      "                     📊Summary of the simulation📊                     \n",
      "-----------------------------------------------------------------------------\n",
      "Number of students who finished assignment on time 🥳                  1\n",
      "Number of students who Slept😴                                         9\n",
      "Number of students👦                                                   10\n",
      "Percentage of students who finished assignment on time (in %)         10.0\n",
      "Average time to finish assignment                                     301.86\n",
      "Number of power cuts🌑🌕                                                165\n",
      "-----------------------------------------------------------------------------\n",
      "🌕 Power is on at 0 minutes\n",
      "TIME=0 - 🙂 Student #0 started working.Work left=293 minutes\n",
      "TIME=0 - 🙂 Student #1 started working.Work left=258 minutes\n",
      "TIME=0 - 🙂 Student #2 started working.Work left=255 minutes\n",
      "TIME=0 - 🙂 Student #3 started working.Work left=266 minutes\n",
      "TIME=0 - 🙂 Student #4 started working.Work left=252 minutes\n",
      "TIME=0 - 🙂 Student #5 started working.Work left=284 minutes\n",
      "TIME=0 - 🙂 Student #6 started working.Work left=259 minutes\n",
      "TIME=0 - 🙂 Student #7 started working.Work left=252 minutes\n",
      "TIME=0 - 🙂 Student #8 started working.Work left=249 minutes\n",
      "TIME=0 - 🙂 Student #9 started working.Work left=260 minutes\n",
      "🌑 Power is off at 71 minutes\n",
      "TIME=71 - 😓 Student #0 interrupted by power cut. Task remaining=222 minutes\n",
      "TIME=71 - 😓 Student #1 interrupted by power cut. Task remaining=187 minutes\n",
      "TIME=71 - 😓 Student #2 interrupted by power cut. Task remaining=184 minutes\n",
      "TIME=71 - 😓 Student #3 interrupted by power cut. Task remaining=195 minutes\n",
      "TIME=71 - 😓 Student #4 interrupted by power cut. Task remaining=181 minutes\n",
      "TIME=71 - 😓 Student #5 interrupted by power cut. Task remaining=213 minutes\n",
      "TIME=71 - 😓 Student #6 interrupted by power cut. Task remaining=188 minutes\n",
      "TIME=71 - 😓 Student #7 interrupted by power cut. Task remaining=181 minutes\n",
      "TIME=71 - 😓 Student #8 interrupted by power cut. Task remaining=178 minutes\n",
      "TIME=71 - 😓 Student #9 interrupted by power cut. Task remaining=189 minutes\n",
      "TIME=76 - 😴 Student #1 slept. Assignment pending. Work left was=187 minutes\n",
      "TIME=76 - 😴 Student #4 slept. Assignment pending. Work left was=181 minutes\n",
      "🌕 Power is on at 81 minutes\n",
      "TIME=81 - 😃 Student #0 resumes working. Work left to do=222 minutes\n",
      "TIME=81 - 😃 Student #2 resumes working. Work left to do=184 minutes\n",
      "TIME=81 - 😃 Student #3 resumes working. Work left to do=195 minutes\n",
      "TIME=81 - 😃 Student #5 resumes working. Work left to do=213 minutes\n",
      "TIME=81 - 😃 Student #6 resumes working. Work left to do=188 minutes\n",
      "TIME=81 - 😃 Student #7 resumes working. Work left to do=181 minutes\n",
      "TIME=81 - 😃 Student #8 resumes working. Work left to do=178 minutes\n",
      "TIME=81 - 😃 Student #9 resumes working. Work left to do=189 minutes\n",
      "🌑 Power is off at 183 minutes\n",
      "TIME=183 - 😓 Student #0 interrupted by power cut. Task remaining=120 minutes\n",
      "TIME=183 - 😓 Student #2 interrupted by power cut. Task remaining=82 minutes\n",
      "TIME=183 - 😓 Student #3 interrupted by power cut. Task remaining=93 minutes\n",
      "TIME=183 - 😓 Student #5 interrupted by power cut. Task remaining=111 minutes\n",
      "TIME=183 - 😓 Student #6 interrupted by power cut. Task remaining=86 minutes\n",
      "TIME=183 - 😓 Student #7 interrupted by power cut. Task remaining=79 minutes\n",
      "TIME=183 - 😓 Student #8 interrupted by power cut. Task remaining=76 minutes\n",
      "TIME=183 - 😓 Student #9 interrupted by power cut. Task remaining=87 minutes\n",
      "TIME=188 - 😴 Student #0 slept. Assignment pending. Work left was=120 minutes\n",
      "TIME=188 - 😴 Student #2 slept. Assignment pending. Work left was=82 minutes\n",
      "TIME=188 - 😴 Student #7 slept. Assignment pending. Work left was=79 minutes\n",
      "TIME=188 - 😴 Student #8 slept. Assignment pending. Work left was=76 minutes\n",
      "🌕 Power is on at 196 minutes\n",
      "TIME=196 - 😃 Student #3 resumes working. Work left to do=93 minutes\n",
      "TIME=196 - 😃 Student #5 resumes working. Work left to do=111 minutes\n",
      "TIME=196 - 😃 Student #6 resumes working. Work left to do=86 minutes\n",
      "TIME=196 - 😃 Student #9 resumes working. Work left to do=87 minutes\n",
      "🌑 Power is off at 267 minutes\n",
      "TIME=267 - 😓 Student #3 interrupted by power cut. Task remaining=22 minutes\n",
      "TIME=267 - 😓 Student #5 interrupted by power cut. Task remaining=40 minutes\n",
      "TIME=267 - 😓 Student #6 interrupted by power cut. Task remaining=15 minutes\n",
      "TIME=267 - 😓 Student #9 interrupted by power cut. Task remaining=16 minutes\n",
      "TIME=272 - 😴 Student #5 slept. Assignment pending. Work left was=40 minutes\n",
      "TIME=272 - 😴 Student #6 slept. Assignment pending. Work left was=15 minutes\n",
      "🌕 Power is on at 281 minutes\n",
      "TIME=281 - 😃 Student #3 resumes working. Work left to do=22 minutes\n",
      "TIME=281 - 😃 Student #9 resumes working. Work left to do=16 minutes\n",
      "TIME=297 - 🥳 Student #9 finished working.\n",
      "TIME=303 - 🥳 Student #3 finished working.\n",
      "🌑 Power is off at 360 minutes\n",
      "🌕 Power is on at 374 minutes\n",
      "The time is 420 minutes\n",
      "The time is 420 minutes\n"
     ]
    },
    {
     "data": {
      "text/plain": [
       "<ConditionValue {<Process(timeduration) object at 0x1fecfb41910>: None}>"
      ]
     },
     "execution_count": 8,
     "metadata": {},
     "output_type": "execute_result"
    },
    {
     "name": "stdout",
     "output_type": "stream",
     "text": [
      "\n",
      "\n"
     ]
    },
    {
     "data": {
      "text/plain": [
       "'Summary of the simulation'"
      ]
     },
     "execution_count": 8,
     "metadata": {},
     "output_type": "execute_result"
    },
    {
     "name": "stdout",
     "output_type": "stream",
     "text": [
      "-----------------------------------------------------------------------------\n",
      "                     📊Summary of the simulation📊                     \n",
      "-----------------------------------------------------------------------------\n",
      "Number of students who finished assignment on time 🥳                  2\n",
      "Number of students who Slept😴                                         8\n",
      "Number of students👦                                                   10\n",
      "Percentage of students who finished assignment on time (in %)         20.0\n",
      "Average time to finish assignment                                     301.84\n",
      "Number of power cuts🌑🌕                                                169\n",
      "-----------------------------------------------------------------------------\n",
      "🌕 Power is on at 0 minutes\n",
      "TIME=0 - 🙂 Student #0 started working.Work left=262 minutes\n",
      "TIME=0 - 🙂 Student #1 started working.Work left=254 minutes\n",
      "TIME=0 - 🙂 Student #2 started working.Work left=269 minutes\n",
      "TIME=0 - 🙂 Student #3 started working.Work left=284 minutes\n",
      "TIME=0 - 🙂 Student #4 started working.Work left=250 minutes\n",
      "TIME=0 - 🙂 Student #5 started working.Work left=253 minutes\n",
      "TIME=0 - 🙂 Student #6 started working.Work left=277 minutes\n",
      "TIME=0 - 🙂 Student #7 started working.Work left=248 minutes\n",
      "TIME=0 - 🙂 Student #8 started working.Work left=276 minutes\n",
      "TIME=0 - 🙂 Student #9 started working.Work left=290 minutes\n",
      "🌑 Power is off at 91 minutes\n",
      "TIME=91 - 😓 Student #0 interrupted by power cut. Task remaining=171 minutes\n",
      "TIME=91 - 😓 Student #1 interrupted by power cut. Task remaining=163 minutes\n",
      "TIME=91 - 😓 Student #2 interrupted by power cut. Task remaining=178 minutes\n",
      "TIME=91 - 😓 Student #3 interrupted by power cut. Task remaining=193 minutes\n",
      "TIME=91 - 😓 Student #4 interrupted by power cut. Task remaining=159 minutes\n",
      "TIME=91 - 😓 Student #5 interrupted by power cut. Task remaining=162 minutes\n",
      "TIME=91 - 😓 Student #6 interrupted by power cut. Task remaining=186 minutes\n",
      "TIME=91 - 😓 Student #7 interrupted by power cut. Task remaining=157 minutes\n",
      "TIME=91 - 😓 Student #8 interrupted by power cut. Task remaining=185 minutes\n",
      "TIME=91 - 😓 Student #9 interrupted by power cut. Task remaining=199 minutes\n",
      "TIME=96 - 😴 Student #1 slept. Assignment pending. Work left was=163 minutes\n",
      "TIME=96 - 😴 Student #3 slept. Assignment pending. Work left was=193 minutes\n",
      "TIME=96 - 😴 Student #4 slept. Assignment pending. Work left was=159 minutes\n",
      "TIME=96 - 😴 Student #5 slept. Assignment pending. Work left was=162 minutes\n",
      "TIME=96 - 😴 Student #7 slept. Assignment pending. Work left was=157 minutes\n",
      "🌕 Power is on at 103 minutes\n",
      "TIME=103 - 😃 Student #0 resumes working. Work left to do=171 minutes\n",
      "TIME=103 - 😃 Student #2 resumes working. Work left to do=178 minutes\n",
      "TIME=103 - 😃 Student #6 resumes working. Work left to do=186 minutes\n",
      "TIME=103 - 😃 Student #8 resumes working. Work left to do=185 minutes\n",
      "TIME=103 - 😃 Student #9 resumes working. Work left to do=199 minutes\n",
      "🌑 Power is off at 198 minutes\n",
      "TIME=198 - 😓 Student #0 interrupted by power cut. Task remaining=76 minutes\n",
      "TIME=198 - 😓 Student #2 interrupted by power cut. Task remaining=83 minutes\n",
      "TIME=198 - 😓 Student #6 interrupted by power cut. Task remaining=91 minutes\n",
      "TIME=198 - 😓 Student #8 interrupted by power cut. Task remaining=90 minutes\n",
      "TIME=198 - 😓 Student #9 interrupted by power cut. Task remaining=104 minutes\n",
      "TIME=203 - 😴 Student #8 slept. Assignment pending. Work left was=90 minutes\n",
      "TIME=203 - 😴 Student #9 slept. Assignment pending. Work left was=104 minutes\n",
      "🌕 Power is on at 211 minutes\n",
      "TIME=211 - 😃 Student #0 resumes working. Work left to do=76 minutes\n",
      "TIME=211 - 😃 Student #2 resumes working. Work left to do=83 minutes\n",
      "TIME=211 - 😃 Student #6 resumes working. Work left to do=91 minutes\n",
      "🌑 Power is off at 279 minutes\n",
      "TIME=279 - 😓 Student #0 interrupted by power cut. Task remaining=8 minutes\n",
      "TIME=279 - 😓 Student #2 interrupted by power cut. Task remaining=15 minutes\n",
      "TIME=279 - 😓 Student #6 interrupted by power cut. Task remaining=23 minutes\n",
      "🌕 Power is on at 291 minutes\n",
      "TIME=291 - 😃 Student #0 resumes working. Work left to do=8 minutes\n",
      "TIME=291 - 😃 Student #2 resumes working. Work left to do=15 minutes\n",
      "TIME=291 - 😃 Student #6 resumes working. Work left to do=23 minutes\n",
      "TIME=299 - 🥳 Student #0 finished working.\n",
      "TIME=306 - 🥳 Student #2 finished working.\n",
      "TIME=314 - 🥳 Student #6 finished working.\n",
      "🌑 Power is off at 378 minutes\n",
      "🌕 Power is on at 388 minutes\n",
      "The time is 420 minutes\n",
      "The time is 420 minutes\n"
     ]
    },
    {
     "data": {
      "text/plain": [
       "<ConditionValue {<Process(timeduration) object at 0x1fecfc05ac0>: None}>"
      ]
     },
     "execution_count": 8,
     "metadata": {},
     "output_type": "execute_result"
    },
    {
     "name": "stdout",
     "output_type": "stream",
     "text": [
      "\n",
      "\n"
     ]
    },
    {
     "data": {
      "text/plain": [
       "'Summary of the simulation'"
      ]
     },
     "execution_count": 8,
     "metadata": {},
     "output_type": "execute_result"
    },
    {
     "name": "stdout",
     "output_type": "stream",
     "text": [
      "-----------------------------------------------------------------------------\n",
      "                     📊Summary of the simulation📊                     \n",
      "-----------------------------------------------------------------------------\n",
      "Number of students who finished assignment on time 🥳                  3\n",
      "Number of students who Slept😴                                         7\n",
      "Number of students👦                                                   10\n",
      "Percentage of students who finished assignment on time (in %)         30.0\n",
      "Average time to finish assignment                                     301.9\n",
      "Number of power cuts🌑🌕                                                173\n",
      "-----------------------------------------------------------------------------\n",
      "🌕 Power is on at 0 minutes\n",
      "TIME=0 - 🙂 Student #0 started working.Work left=270 minutes\n",
      "TIME=0 - 🙂 Student #1 started working.Work left=241 minutes\n",
      "TIME=0 - 🙂 Student #2 started working.Work left=284 minutes\n",
      "TIME=0 - 🙂 Student #3 started working.Work left=262 minutes\n",
      "TIME=0 - 🙂 Student #4 started working.Work left=256 minutes\n",
      "TIME=0 - 🙂 Student #5 started working.Work left=280 minutes\n",
      "TIME=0 - 🙂 Student #6 started working.Work left=263 minutes\n",
      "TIME=0 - 🙂 Student #7 started working.Work left=274 minutes\n",
      "TIME=0 - 🙂 Student #8 started working.Work left=294 minutes\n",
      "TIME=0 - 🙂 Student #9 started working.Work left=295 minutes\n",
      "🌑 Power is off at 81 minutes\n",
      "TIME=81 - 😓 Student #0 interrupted by power cut. Task remaining=189 minutes\n",
      "TIME=81 - 😓 Student #1 interrupted by power cut. Task remaining=160 minutes\n",
      "TIME=81 - 😓 Student #2 interrupted by power cut. Task remaining=203 minutes\n",
      "TIME=81 - 😓 Student #3 interrupted by power cut. Task remaining=181 minutes\n",
      "TIME=81 - 😓 Student #4 interrupted by power cut. Task remaining=175 minutes\n",
      "TIME=81 - 😓 Student #5 interrupted by power cut. Task remaining=199 minutes\n",
      "TIME=81 - 😓 Student #6 interrupted by power cut. Task remaining=182 minutes\n",
      "TIME=81 - 😓 Student #7 interrupted by power cut. Task remaining=193 minutes\n",
      "TIME=81 - 😓 Student #8 interrupted by power cut. Task remaining=213 minutes\n",
      "TIME=81 - 😓 Student #9 interrupted by power cut. Task remaining=214 minutes\n",
      "TIME=86 - 😴 Student #2 slept. Assignment pending. Work left was=203 minutes\n",
      "TIME=86 - 😴 Student #3 slept. Assignment pending. Work left was=181 minutes\n",
      "TIME=86 - 😴 Student #5 slept. Assignment pending. Work left was=199 minutes\n",
      "TIME=86 - 😴 Student #6 slept. Assignment pending. Work left was=182 minutes\n",
      "TIME=86 - 😴 Student #7 slept. Assignment pending. Work left was=193 minutes\n",
      "TIME=86 - 😴 Student #8 slept. Assignment pending. Work left was=213 minutes\n",
      "🌕 Power is on at 95 minutes\n",
      "TIME=95 - 😃 Student #0 resumes working. Work left to do=189 minutes\n",
      "TIME=95 - 😃 Student #1 resumes working. Work left to do=160 minutes\n",
      "TIME=95 - 😃 Student #4 resumes working. Work left to do=175 minutes\n",
      "TIME=95 - 😃 Student #9 resumes working. Work left to do=214 minutes\n",
      "🌑 Power is off at 179 minutes\n",
      "TIME=179 - 😓 Student #0 interrupted by power cut. Task remaining=105 minutes\n",
      "TIME=179 - 😓 Student #1 interrupted by power cut. Task remaining=76 minutes\n",
      "TIME=179 - 😓 Student #4 interrupted by power cut. Task remaining=91 minutes\n",
      "TIME=179 - 😓 Student #9 interrupted by power cut. Task remaining=130 minutes\n",
      "TIME=184 - 😴 Student #1 slept. Assignment pending. Work left was=76 minutes\n",
      "TIME=184 - 😴 Student #4 slept. Assignment pending. Work left was=91 minutes\n",
      "TIME=184 - 😴 Student #9 slept. Assignment pending. Work left was=130 minutes\n",
      "🌕 Power is on at 190 minutes\n",
      "TIME=190 - 😃 Student #0 resumes working. Work left to do=105 minutes\n",
      "🌑 Power is off at 273 minutes\n",
      "TIME=273 - 😓 Student #0 interrupted by power cut. Task remaining=22 minutes\n",
      "🌕 Power is on at 285 minutes\n",
      "TIME=285 - 😃 Student #0 resumes working. Work left to do=22 minutes\n",
      "TIME=307 - 🥳 Student #0 finished working.\n",
      "🌑 Power is off at 394 minutes\n",
      "🌕 Power is on at 404 minutes\n",
      "The time is 420 minutes\n",
      "The time is 420 minutes\n"
     ]
    },
    {
     "data": {
      "text/plain": [
       "<ConditionValue {<Process(timeduration) object at 0x1fecfb8ad90>: None}>"
      ]
     },
     "execution_count": 8,
     "metadata": {},
     "output_type": "execute_result"
    },
    {
     "name": "stdout",
     "output_type": "stream",
     "text": [
      "\n",
      "\n"
     ]
    },
    {
     "data": {
      "text/plain": [
       "'Summary of the simulation'"
      ]
     },
     "execution_count": 8,
     "metadata": {},
     "output_type": "execute_result"
    },
    {
     "name": "stdout",
     "output_type": "stream",
     "text": [
      "-----------------------------------------------------------------------------\n",
      "                     📊Summary of the simulation📊                     \n",
      "-----------------------------------------------------------------------------\n",
      "Number of students who finished assignment on time 🥳                  1\n",
      "Number of students who Slept😴                                         9\n",
      "Number of students👦                                                   10\n",
      "Percentage of students who finished assignment on time (in %)         10.0\n",
      "Average time to finish assignment                                     301.92\n",
      "Number of power cuts🌑🌕                                                177\n",
      "-----------------------------------------------------------------------------\n",
      "🌕 Power is on at 0 minutes\n",
      "TIME=0 - 🙂 Student #0 started working.Work left=272 minutes\n",
      "TIME=0 - 🙂 Student #1 started working.Work left=300 minutes\n",
      "TIME=0 - 🙂 Student #2 started working.Work left=268 minutes\n",
      "TIME=0 - 🙂 Student #3 started working.Work left=269 minutes\n",
      "TIME=0 - 🙂 Student #4 started working.Work left=245 minutes\n",
      "TIME=0 - 🙂 Student #5 started working.Work left=255 minutes\n",
      "TIME=0 - 🙂 Student #6 started working.Work left=274 minutes\n",
      "TIME=0 - 🙂 Student #7 started working.Work left=244 minutes\n",
      "TIME=0 - 🙂 Student #8 started working.Work left=245 minutes\n",
      "TIME=0 - 🙂 Student #9 started working.Work left=300 minutes\n",
      "🌑 Power is off at 95 minutes\n",
      "TIME=95 - 😓 Student #0 interrupted by power cut. Task remaining=177 minutes\n",
      "TIME=95 - 😓 Student #1 interrupted by power cut. Task remaining=205 minutes\n",
      "TIME=95 - 😓 Student #2 interrupted by power cut. Task remaining=173 minutes\n",
      "TIME=95 - 😓 Student #3 interrupted by power cut. Task remaining=174 minutes\n",
      "TIME=95 - 😓 Student #4 interrupted by power cut. Task remaining=150 minutes\n",
      "TIME=95 - 😓 Student #5 interrupted by power cut. Task remaining=160 minutes\n",
      "TIME=95 - 😓 Student #6 interrupted by power cut. Task remaining=179 minutes\n",
      "TIME=95 - 😓 Student #7 interrupted by power cut. Task remaining=149 minutes\n",
      "TIME=95 - 😓 Student #8 interrupted by power cut. Task remaining=150 minutes\n",
      "TIME=95 - 😓 Student #9 interrupted by power cut. Task remaining=205 minutes\n",
      "TIME=100 - 😴 Student #0 slept. Assignment pending. Work left was=177 minutes\n",
      "TIME=100 - 😴 Student #2 slept. Assignment pending. Work left was=173 minutes\n",
      "TIME=100 - 😴 Student #5 slept. Assignment pending. Work left was=160 minutes\n",
      "TIME=100 - 😴 Student #7 slept. Assignment pending. Work left was=149 minutes\n",
      "🌕 Power is on at 106 minutes\n",
      "TIME=106 - 😃 Student #1 resumes working. Work left to do=205 minutes\n",
      "TIME=106 - 😃 Student #3 resumes working. Work left to do=174 minutes\n",
      "TIME=106 - 😃 Student #4 resumes working. Work left to do=150 minutes\n",
      "TIME=106 - 😃 Student #6 resumes working. Work left to do=179 minutes\n",
      "TIME=106 - 😃 Student #8 resumes working. Work left to do=150 minutes\n",
      "TIME=106 - 😃 Student #9 resumes working. Work left to do=205 minutes\n",
      "🌑 Power is off at 178 minutes\n",
      "TIME=178 - 😓 Student #1 interrupted by power cut. Task remaining=133 minutes\n",
      "TIME=178 - 😓 Student #3 interrupted by power cut. Task remaining=102 minutes\n",
      "TIME=178 - 😓 Student #4 interrupted by power cut. Task remaining=78 minutes\n",
      "TIME=178 - 😓 Student #6 interrupted by power cut. Task remaining=107 minutes\n",
      "TIME=178 - 😓 Student #8 interrupted by power cut. Task remaining=78 minutes\n",
      "TIME=178 - 😓 Student #9 interrupted by power cut. Task remaining=133 minutes\n",
      "TIME=183 - 😴 Student #3 slept. Assignment pending. Work left was=102 minutes\n",
      "TIME=183 - 😴 Student #4 slept. Assignment pending. Work left was=78 minutes\n",
      "TIME=183 - 😴 Student #8 slept. Assignment pending. Work left was=78 minutes\n",
      "TIME=183 - 😴 Student #9 slept. Assignment pending. Work left was=133 minutes\n",
      "🌕 Power is on at 193 minutes\n",
      "TIME=193 - 😃 Student #1 resumes working. Work left to do=133 minutes\n",
      "TIME=193 - 😃 Student #6 resumes working. Work left to do=107 minutes\n",
      "🌑 Power is off at 293 minutes\n",
      "TIME=293 - 😓 Student #1 interrupted by power cut. Task remaining=33 minutes\n",
      "TIME=293 - 😓 Student #6 interrupted by power cut. Task remaining=7 minutes\n",
      "TIME=298 - 😴 Student #1 slept. Assignment pending. Work left was=33 minutes\n",
      "TIME=298 - 😴 Student #6 slept. Assignment pending. Work left was=7 minutes\n",
      "🌕 Power is on at 307 minutes\n",
      "🌑 Power is off at 381 minutes\n",
      "🌕 Power is on at 395 minutes\n",
      "The time is 420 minutes\n",
      "The time is 420 minutes\n"
     ]
    },
    {
     "data": {
      "text/plain": [
       "<ConditionValue {<Process(timeduration) object at 0x1fecfb1e670>: None}>"
      ]
     },
     "execution_count": 8,
     "metadata": {},
     "output_type": "execute_result"
    },
    {
     "name": "stdout",
     "output_type": "stream",
     "text": [
      "\n",
      "\n"
     ]
    },
    {
     "data": {
      "text/plain": [
       "'Summary of the simulation'"
      ]
     },
     "execution_count": 8,
     "metadata": {},
     "output_type": "execute_result"
    },
    {
     "name": "stdout",
     "output_type": "stream",
     "text": [
      "-----------------------------------------------------------------------------\n",
      "                     📊Summary of the simulation📊                     \n",
      "-----------------------------------------------------------------------------\n",
      "Number of students who finished assignment on time 🥳                  0\n",
      "Number of students who Slept😴                                         10\n",
      "Number of students👦                                                   10\n",
      "Percentage of students who finished assignment on time (in %)         0.0\n",
      "Average time to finish assignment                                     301.92\n",
      "Number of power cuts🌑🌕                                                181\n",
      "-----------------------------------------------------------------------------\n",
      "🌕 Power is on at 0 minutes\n",
      "TIME=0 - 🙂 Student #0 started working.Work left=296 minutes\n",
      "TIME=0 - 🙂 Student #1 started working.Work left=297 minutes\n",
      "TIME=0 - 🙂 Student #2 started working.Work left=291 minutes\n",
      "TIME=0 - 🙂 Student #3 started working.Work left=285 minutes\n",
      "TIME=0 - 🙂 Student #4 started working.Work left=287 minutes\n",
      "TIME=0 - 🙂 Student #5 started working.Work left=286 minutes\n",
      "TIME=0 - 🙂 Student #6 started working.Work left=245 minutes\n",
      "TIME=0 - 🙂 Student #7 started working.Work left=244 minutes\n",
      "TIME=0 - 🙂 Student #8 started working.Work left=250 minutes\n",
      "TIME=0 - 🙂 Student #9 started working.Work left=292 minutes\n",
      "🌑 Power is off at 64 minutes\n",
      "TIME=64 - 😓 Student #0 interrupted by power cut. Task remaining=232 minutes\n",
      "TIME=64 - 😓 Student #1 interrupted by power cut. Task remaining=233 minutes\n",
      "TIME=64 - 😓 Student #2 interrupted by power cut. Task remaining=227 minutes\n",
      "TIME=64 - 😓 Student #3 interrupted by power cut. Task remaining=221 minutes\n",
      "TIME=64 - 😓 Student #4 interrupted by power cut. Task remaining=223 minutes\n",
      "TIME=64 - 😓 Student #5 interrupted by power cut. Task remaining=222 minutes\n",
      "TIME=64 - 😓 Student #6 interrupted by power cut. Task remaining=181 minutes\n",
      "TIME=64 - 😓 Student #7 interrupted by power cut. Task remaining=180 minutes\n",
      "TIME=64 - 😓 Student #8 interrupted by power cut. Task remaining=186 minutes\n",
      "TIME=64 - 😓 Student #9 interrupted by power cut. Task remaining=228 minutes\n",
      "TIME=69 - 😴 Student #2 slept. Assignment pending. Work left was=227 minutes\n",
      "TIME=69 - 😴 Student #3 slept. Assignment pending. Work left was=221 minutes\n",
      "TIME=69 - 😴 Student #6 slept. Assignment pending. Work left was=181 minutes\n",
      "TIME=69 - 😴 Student #7 slept. Assignment pending. Work left was=180 minutes\n",
      "TIME=69 - 😴 Student #8 slept. Assignment pending. Work left was=186 minutes\n",
      "🌕 Power is on at 79 minutes\n",
      "TIME=79 - 😃 Student #0 resumes working. Work left to do=232 minutes\n",
      "TIME=79 - 😃 Student #1 resumes working. Work left to do=233 minutes\n",
      "TIME=79 - 😃 Student #4 resumes working. Work left to do=223 minutes\n",
      "TIME=79 - 😃 Student #5 resumes working. Work left to do=222 minutes\n",
      "TIME=79 - 😃 Student #9 resumes working. Work left to do=228 minutes\n",
      "🌑 Power is off at 162 minutes\n",
      "TIME=162 - 😓 Student #0 interrupted by power cut. Task remaining=149 minutes\n",
      "TIME=162 - 😓 Student #1 interrupted by power cut. Task remaining=150 minutes\n",
      "TIME=162 - 😓 Student #4 interrupted by power cut. Task remaining=140 minutes\n",
      "TIME=162 - 😓 Student #5 interrupted by power cut. Task remaining=139 minutes\n",
      "TIME=162 - 😓 Student #9 interrupted by power cut. Task remaining=145 minutes\n",
      "TIME=167 - 😴 Student #0 slept. Assignment pending. Work left was=149 minutes\n",
      "TIME=167 - 😴 Student #1 slept. Assignment pending. Work left was=150 minutes\n",
      "🌕 Power is on at 175 minutes\n",
      "TIME=175 - 😃 Student #4 resumes working. Work left to do=140 minutes\n",
      "TIME=175 - 😃 Student #5 resumes working. Work left to do=139 minutes\n",
      "TIME=175 - 😃 Student #9 resumes working. Work left to do=145 minutes\n",
      "🌑 Power is off at 237 minutes\n",
      "TIME=237 - 😓 Student #4 interrupted by power cut. Task remaining=78 minutes\n",
      "TIME=237 - 😓 Student #5 interrupted by power cut. Task remaining=77 minutes\n",
      "TIME=237 - 😓 Student #9 interrupted by power cut. Task remaining=83 minutes\n",
      "TIME=242 - 😴 Student #4 slept. Assignment pending. Work left was=78 minutes\n",
      "TIME=242 - 😴 Student #9 slept. Assignment pending. Work left was=83 minutes\n",
      "🌕 Power is on at 248 minutes\n",
      "TIME=248 - 😃 Student #5 resumes working. Work left to do=77 minutes\n",
      "TIME=325 - 🥳 Student #5 finished working.\n",
      "🌑 Power is off at 332 minutes\n",
      "🌕 Power is on at 347 minutes\n",
      "The time is 420 minutes\n",
      "The time is 420 minutes\n"
     ]
    },
    {
     "data": {
      "text/plain": [
       "<ConditionValue {<Process(timeduration) object at 0x1fecfbb6dc0>: None}>"
      ]
     },
     "execution_count": 8,
     "metadata": {},
     "output_type": "execute_result"
    },
    {
     "name": "stdout",
     "output_type": "stream",
     "text": [
      "\n",
      "\n"
     ]
    },
    {
     "data": {
      "text/plain": [
       "'Summary of the simulation'"
      ]
     },
     "execution_count": 8,
     "metadata": {},
     "output_type": "execute_result"
    },
    {
     "name": "stdout",
     "output_type": "stream",
     "text": [
      "-----------------------------------------------------------------------------\n",
      "                     📊Summary of the simulation📊                     \n",
      "-----------------------------------------------------------------------------\n",
      "Number of students who finished assignment on time 🥳                  1\n",
      "Number of students who Slept😴                                         9\n",
      "Number of students👦                                                   10\n",
      "Percentage of students who finished assignment on time (in %)         10.0\n",
      "Average time to finish assignment                                     302.01\n",
      "Number of power cuts🌑🌕                                                185\n",
      "-----------------------------------------------------------------------------\n",
      "🌕 Power is on at 0 minutes\n",
      "TIME=0 - 🙂 Student #0 started working.Work left=268 minutes\n",
      "TIME=0 - 🙂 Student #1 started working.Work left=240 minutes\n",
      "TIME=0 - 🙂 Student #2 started working.Work left=282 minutes\n",
      "TIME=0 - 🙂 Student #3 started working.Work left=300 minutes\n",
      "TIME=0 - 🙂 Student #4 started working.Work left=290 minutes\n",
      "TIME=0 - 🙂 Student #5 started working.Work left=265 minutes\n",
      "TIME=0 - 🙂 Student #6 started working.Work left=257 minutes\n",
      "TIME=0 - 🙂 Student #7 started working.Work left=296 minutes\n",
      "TIME=0 - 🙂 Student #8 started working.Work left=273 minutes\n",
      "TIME=0 - 🙂 Student #9 started working.Work left=253 minutes\n",
      "🌑 Power is off at 81 minutes\n",
      "TIME=81 - 😓 Student #0 interrupted by power cut. Task remaining=187 minutes\n",
      "TIME=81 - 😓 Student #1 interrupted by power cut. Task remaining=159 minutes\n",
      "TIME=81 - 😓 Student #2 interrupted by power cut. Task remaining=201 minutes\n",
      "TIME=81 - 😓 Student #3 interrupted by power cut. Task remaining=219 minutes\n",
      "TIME=81 - 😓 Student #4 interrupted by power cut. Task remaining=209 minutes\n",
      "TIME=81 - 😓 Student #5 interrupted by power cut. Task remaining=184 minutes\n",
      "TIME=81 - 😓 Student #6 interrupted by power cut. Task remaining=176 minutes\n",
      "TIME=81 - 😓 Student #7 interrupted by power cut. Task remaining=215 minutes\n",
      "TIME=81 - 😓 Student #8 interrupted by power cut. Task remaining=192 minutes\n",
      "TIME=81 - 😓 Student #9 interrupted by power cut. Task remaining=172 minutes\n",
      "TIME=86 - 😴 Student #0 slept. Assignment pending. Work left was=187 minutes\n",
      "TIME=86 - 😴 Student #2 slept. Assignment pending. Work left was=201 minutes\n",
      "TIME=86 - 😴 Student #3 slept. Assignment pending. Work left was=219 minutes\n",
      "TIME=86 - 😴 Student #4 slept. Assignment pending. Work left was=209 minutes\n",
      "TIME=86 - 😴 Student #7 slept. Assignment pending. Work left was=215 minutes\n",
      "TIME=86 - 😴 Student #8 slept. Assignment pending. Work left was=192 minutes\n",
      "TIME=86 - 😴 Student #9 slept. Assignment pending. Work left was=172 minutes\n",
      "🌕 Power is on at 94 minutes\n",
      "TIME=94 - 😃 Student #1 resumes working. Work left to do=159 minutes\n",
      "TIME=94 - 😃 Student #5 resumes working. Work left to do=184 minutes\n",
      "TIME=94 - 😃 Student #6 resumes working. Work left to do=176 minutes\n",
      "🌑 Power is off at 185 minutes\n",
      "TIME=185 - 😓 Student #1 interrupted by power cut. Task remaining=68 minutes\n",
      "TIME=185 - 😓 Student #5 interrupted by power cut. Task remaining=93 minutes\n",
      "TIME=185 - 😓 Student #6 interrupted by power cut. Task remaining=85 minutes\n",
      "TIME=190 - 😴 Student #5 slept. Assignment pending. Work left was=93 minutes\n",
      "TIME=190 - 😴 Student #6 slept. Assignment pending. Work left was=85 minutes\n",
      "🌕 Power is on at 200 minutes\n",
      "TIME=200 - 😃 Student #1 resumes working. Work left to do=68 minutes\n",
      "TIME=268 - 🥳 Student #1 finished working.\n",
      "🌑 Power is off at 289 minutes\n",
      "🌕 Power is on at 302 minutes\n",
      "🌑 Power is off at 414 minutes\n",
      "The time is 420 minutes\n",
      "The time is 420 minutes\n"
     ]
    },
    {
     "data": {
      "text/plain": [
       "<ConditionValue {<Process(timeduration) object at 0x1fecfbf43d0>: None}>"
      ]
     },
     "execution_count": 8,
     "metadata": {},
     "output_type": "execute_result"
    },
    {
     "name": "stdout",
     "output_type": "stream",
     "text": [
      "\n",
      "\n"
     ]
    },
    {
     "data": {
      "text/plain": [
       "'Summary of the simulation'"
      ]
     },
     "execution_count": 8,
     "metadata": {},
     "output_type": "execute_result"
    },
    {
     "name": "stdout",
     "output_type": "stream",
     "text": [
      "-----------------------------------------------------------------------------\n",
      "                     📊Summary of the simulation📊                     \n",
      "-----------------------------------------------------------------------------\n",
      "Number of students who finished assignment on time 🥳                  1\n",
      "Number of students who Slept😴                                         9\n",
      "Number of students👦                                                   10\n",
      "Percentage of students who finished assignment on time (in %)         10.0\n",
      "Average time to finish assignment                                     301.87\n",
      "Number of power cuts🌑🌕                                                189\n",
      "-----------------------------------------------------------------------------\n",
      "🌕 Power is on at 0 minutes\n",
      "TIME=0 - 🙂 Student #0 started working.Work left=263 minutes\n",
      "TIME=0 - 🙂 Student #1 started working.Work left=268 minutes\n",
      "TIME=0 - 🙂 Student #2 started working.Work left=260 minutes\n",
      "TIME=0 - 🙂 Student #3 started working.Work left=243 minutes\n",
      "TIME=0 - 🙂 Student #4 started working.Work left=260 minutes\n",
      "TIME=0 - 🙂 Student #5 started working.Work left=260 minutes\n",
      "TIME=0 - 🙂 Student #6 started working.Work left=265 minutes\n",
      "TIME=0 - 🙂 Student #7 started working.Work left=241 minutes\n",
      "TIME=0 - 🙂 Student #8 started working.Work left=253 minutes\n",
      "TIME=0 - 🙂 Student #9 started working.Work left=287 minutes\n",
      "🌑 Power is off at 107 minutes\n",
      "TIME=107 - 😓 Student #0 interrupted by power cut. Task remaining=156 minutes\n",
      "TIME=107 - 😓 Student #1 interrupted by power cut. Task remaining=161 minutes\n",
      "TIME=107 - 😓 Student #2 interrupted by power cut. Task remaining=153 minutes\n",
      "TIME=107 - 😓 Student #3 interrupted by power cut. Task remaining=136 minutes\n",
      "TIME=107 - 😓 Student #4 interrupted by power cut. Task remaining=153 minutes\n",
      "TIME=107 - 😓 Student #5 interrupted by power cut. Task remaining=153 minutes\n",
      "TIME=107 - 😓 Student #6 interrupted by power cut. Task remaining=158 minutes\n",
      "TIME=107 - 😓 Student #7 interrupted by power cut. Task remaining=134 minutes\n",
      "TIME=107 - 😓 Student #8 interrupted by power cut. Task remaining=146 minutes\n",
      "TIME=107 - 😓 Student #9 interrupted by power cut. Task remaining=180 minutes\n",
      "TIME=112 - 😴 Student #2 slept. Assignment pending. Work left was=153 minutes\n",
      "TIME=112 - 😴 Student #8 slept. Assignment pending. Work left was=146 minutes\n",
      "🌕 Power is on at 118 minutes\n",
      "TIME=118 - 😃 Student #0 resumes working. Work left to do=156 minutes\n",
      "TIME=118 - 😃 Student #1 resumes working. Work left to do=161 minutes\n",
      "TIME=118 - 😃 Student #3 resumes working. Work left to do=136 minutes\n",
      "TIME=118 - 😃 Student #4 resumes working. Work left to do=153 minutes\n",
      "TIME=118 - 😃 Student #5 resumes working. Work left to do=153 minutes\n",
      "TIME=118 - 😃 Student #6 resumes working. Work left to do=158 minutes\n",
      "TIME=118 - 😃 Student #7 resumes working. Work left to do=134 minutes\n",
      "TIME=118 - 😃 Student #9 resumes working. Work left to do=180 minutes\n",
      "🌑 Power is off at 178 minutes\n",
      "TIME=178 - 😓 Student #0 interrupted by power cut. Task remaining=96 minutes\n",
      "TIME=178 - 😓 Student #1 interrupted by power cut. Task remaining=101 minutes\n",
      "TIME=178 - 😓 Student #3 interrupted by power cut. Task remaining=76 minutes\n",
      "TIME=178 - 😓 Student #4 interrupted by power cut. Task remaining=93 minutes\n",
      "TIME=178 - 😓 Student #5 interrupted by power cut. Task remaining=93 minutes\n",
      "TIME=178 - 😓 Student #6 interrupted by power cut. Task remaining=98 minutes\n",
      "TIME=178 - 😓 Student #7 interrupted by power cut. Task remaining=74 minutes\n",
      "TIME=178 - 😓 Student #9 interrupted by power cut. Task remaining=120 minutes\n",
      "TIME=183 - 😴 Student #0 slept. Assignment pending. Work left was=96 minutes\n",
      "TIME=183 - 😴 Student #1 slept. Assignment pending. Work left was=101 minutes\n",
      "TIME=183 - 😴 Student #3 slept. Assignment pending. Work left was=76 minutes\n",
      "TIME=183 - 😴 Student #4 slept. Assignment pending. Work left was=93 minutes\n",
      "TIME=183 - 😴 Student #6 slept. Assignment pending. Work left was=98 minutes\n",
      "🌕 Power is on at 190 minutes\n",
      "TIME=190 - 😃 Student #5 resumes working. Work left to do=93 minutes\n",
      "TIME=190 - 😃 Student #7 resumes working. Work left to do=74 minutes\n",
      "TIME=190 - 😃 Student #9 resumes working. Work left to do=120 minutes\n",
      "TIME=264 - 🥳 Student #7 finished working.\n",
      "TIME=283 - 🥳 Student #5 finished working.\n",
      "🌑 Power is off at 285 minutes\n",
      "TIME=285 - 😓 Student #9 interrupted by power cut. Task remaining=25 minutes\n",
      "TIME=290 - 😴 Student #9 slept. Assignment pending. Work left was=25 minutes\n",
      "🌕 Power is on at 298 minutes\n",
      "🌑 Power is off at 394 minutes\n",
      "🌕 Power is on at 409 minutes\n",
      "The time is 420 minutes\n",
      "The time is 420 minutes\n"
     ]
    },
    {
     "data": {
      "text/plain": [
       "<ConditionValue {<Process(timeduration) object at 0x1fecfb8ec70>: None}>"
      ]
     },
     "execution_count": 8,
     "metadata": {},
     "output_type": "execute_result"
    },
    {
     "name": "stdout",
     "output_type": "stream",
     "text": [
      "\n",
      "\n"
     ]
    },
    {
     "data": {
      "text/plain": [
       "'Summary of the simulation'"
      ]
     },
     "execution_count": 8,
     "metadata": {},
     "output_type": "execute_result"
    },
    {
     "name": "stdout",
     "output_type": "stream",
     "text": [
      "-----------------------------------------------------------------------------\n",
      "                     📊Summary of the simulation📊                     \n",
      "-----------------------------------------------------------------------------\n",
      "Number of students who finished assignment on time 🥳                  2\n",
      "Number of students who Slept😴                                         8\n",
      "Number of students👦                                                   10\n",
      "Percentage of students who finished assignment on time (in %)         20.0\n",
      "Average time to finish assignment                                     301.64\n",
      "Number of power cuts🌑🌕                                                193\n",
      "-----------------------------------------------------------------------------\n",
      "🌕 Power is on at 0 minutes\n",
      "TIME=0 - 🙂 Student #0 started working.Work left=288 minutes\n",
      "TIME=0 - 🙂 Student #1 started working.Work left=241 minutes\n",
      "TIME=0 - 🙂 Student #2 started working.Work left=240 minutes\n",
      "TIME=0 - 🙂 Student #3 started working.Work left=260 minutes\n",
      "TIME=0 - 🙂 Student #4 started working.Work left=289 minutes\n",
      "TIME=0 - 🙂 Student #5 started working.Work left=271 minutes\n",
      "TIME=0 - 🙂 Student #6 started working.Work left=267 minutes\n",
      "TIME=0 - 🙂 Student #7 started working.Work left=266 minutes\n",
      "TIME=0 - 🙂 Student #8 started working.Work left=278 minutes\n",
      "TIME=0 - 🙂 Student #9 started working.Work left=270 minutes\n",
      "🌑 Power is off at 60 minutes\n",
      "TIME=60 - 😓 Student #0 interrupted by power cut. Task remaining=228 minutes\n",
      "TIME=60 - 😓 Student #1 interrupted by power cut. Task remaining=181 minutes\n",
      "TIME=60 - 😓 Student #2 interrupted by power cut. Task remaining=180 minutes\n",
      "TIME=60 - 😓 Student #3 interrupted by power cut. Task remaining=200 minutes\n",
      "TIME=60 - 😓 Student #4 interrupted by power cut. Task remaining=229 minutes\n",
      "TIME=60 - 😓 Student #5 interrupted by power cut. Task remaining=211 minutes\n",
      "TIME=60 - 😓 Student #6 interrupted by power cut. Task remaining=207 minutes\n",
      "TIME=60 - 😓 Student #7 interrupted by power cut. Task remaining=206 minutes\n",
      "TIME=60 - 😓 Student #8 interrupted by power cut. Task remaining=218 minutes\n",
      "TIME=60 - 😓 Student #9 interrupted by power cut. Task remaining=210 minutes\n",
      "TIME=65 - 😴 Student #1 slept. Assignment pending. Work left was=181 minutes\n",
      "TIME=65 - 😴 Student #4 slept. Assignment pending. Work left was=229 minutes\n",
      "TIME=65 - 😴 Student #9 slept. Assignment pending. Work left was=210 minutes\n",
      "🌕 Power is on at 75 minutes\n",
      "TIME=75 - 😃 Student #0 resumes working. Work left to do=228 minutes\n",
      "TIME=75 - 😃 Student #2 resumes working. Work left to do=180 minutes\n",
      "TIME=75 - 😃 Student #3 resumes working. Work left to do=200 minutes\n",
      "TIME=75 - 😃 Student #5 resumes working. Work left to do=211 minutes\n",
      "TIME=75 - 😃 Student #6 resumes working. Work left to do=207 minutes\n",
      "TIME=75 - 😃 Student #7 resumes working. Work left to do=206 minutes\n",
      "TIME=75 - 😃 Student #8 resumes working. Work left to do=218 minutes\n",
      "🌑 Power is off at 161 minutes\n",
      "TIME=161 - 😓 Student #0 interrupted by power cut. Task remaining=142 minutes\n",
      "TIME=161 - 😓 Student #2 interrupted by power cut. Task remaining=94 minutes\n",
      "TIME=161 - 😓 Student #3 interrupted by power cut. Task remaining=114 minutes\n",
      "TIME=161 - 😓 Student #5 interrupted by power cut. Task remaining=125 minutes\n",
      "TIME=161 - 😓 Student #6 interrupted by power cut. Task remaining=121 minutes\n",
      "TIME=161 - 😓 Student #7 interrupted by power cut. Task remaining=120 minutes\n",
      "TIME=161 - 😓 Student #8 interrupted by power cut. Task remaining=132 minutes\n",
      "TIME=166 - 😴 Student #2 slept. Assignment pending. Work left was=94 minutes\n",
      "TIME=166 - 😴 Student #3 slept. Assignment pending. Work left was=114 minutes\n",
      "TIME=166 - 😴 Student #5 slept. Assignment pending. Work left was=125 minutes\n",
      "TIME=166 - 😴 Student #7 slept. Assignment pending. Work left was=120 minutes\n",
      "🌕 Power is on at 176 minutes\n",
      "TIME=176 - 😃 Student #0 resumes working. Work left to do=142 minutes\n",
      "TIME=176 - 😃 Student #6 resumes working. Work left to do=121 minutes\n",
      "TIME=176 - 😃 Student #8 resumes working. Work left to do=132 minutes\n",
      "🌑 Power is off at 245 minutes\n",
      "TIME=245 - 😓 Student #0 interrupted by power cut. Task remaining=73 minutes\n",
      "TIME=245 - 😓 Student #6 interrupted by power cut. Task remaining=52 minutes\n",
      "TIME=245 - 😓 Student #8 interrupted by power cut. Task remaining=63 minutes\n",
      "TIME=250 - 😴 Student #0 slept. Assignment pending. Work left was=73 minutes\n",
      "TIME=250 - 😴 Student #8 slept. Assignment pending. Work left was=63 minutes\n",
      "🌕 Power is on at 258 minutes\n",
      "TIME=258 - 😃 Student #6 resumes working. Work left to do=52 minutes\n",
      "TIME=310 - 🥳 Student #6 finished working.\n",
      "🌑 Power is off at 328 minutes\n",
      "🌕 Power is on at 342 minutes\n",
      "The time is 420 minutes\n",
      "The time is 420 minutes\n"
     ]
    },
    {
     "data": {
      "text/plain": [
       "<ConditionValue {<Process(timeduration) object at 0x1fed1ec1970>: None}>"
      ]
     },
     "execution_count": 8,
     "metadata": {},
     "output_type": "execute_result"
    },
    {
     "name": "stdout",
     "output_type": "stream",
     "text": [
      "\n",
      "\n"
     ]
    },
    {
     "data": {
      "text/plain": [
       "'Summary of the simulation'"
      ]
     },
     "execution_count": 8,
     "metadata": {},
     "output_type": "execute_result"
    },
    {
     "name": "stdout",
     "output_type": "stream",
     "text": [
      "-----------------------------------------------------------------------------\n",
      "                     📊Summary of the simulation📊                     \n",
      "-----------------------------------------------------------------------------\n",
      "Number of students who finished assignment on time 🥳                  1\n",
      "Number of students who Slept😴                                         9\n",
      "Number of students👦                                                   10\n",
      "Percentage of students who finished assignment on time (in %)         10.0\n",
      "Average time to finish assignment                                     301.68\n",
      "Number of power cuts🌑🌕                                                197\n",
      "-----------------------------------------------------------------------------\n",
      "🌕 Power is on at 0 minutes\n",
      "TIME=0 - 🙂 Student #0 started working.Work left=265 minutes\n",
      "TIME=0 - 🙂 Student #1 started working.Work left=241 minutes\n",
      "TIME=0 - 🙂 Student #2 started working.Work left=270 minutes\n",
      "TIME=0 - 🙂 Student #3 started working.Work left=246 minutes\n",
      "TIME=0 - 🙂 Student #4 started working.Work left=280 minutes\n",
      "TIME=0 - 🙂 Student #5 started working.Work left=243 minutes\n",
      "TIME=0 - 🙂 Student #6 started working.Work left=266 minutes\n",
      "TIME=0 - 🙂 Student #7 started working.Work left=274 minutes\n",
      "TIME=0 - 🙂 Student #8 started working.Work left=277 minutes\n",
      "TIME=0 - 🙂 Student #9 started working.Work left=272 minutes\n",
      "🌑 Power is off at 99 minutes\n",
      "TIME=99 - 😓 Student #0 interrupted by power cut. Task remaining=166 minutes\n",
      "TIME=99 - 😓 Student #1 interrupted by power cut. Task remaining=142 minutes\n",
      "TIME=99 - 😓 Student #2 interrupted by power cut. Task remaining=171 minutes\n",
      "TIME=99 - 😓 Student #3 interrupted by power cut. Task remaining=147 minutes\n",
      "TIME=99 - 😓 Student #4 interrupted by power cut. Task remaining=181 minutes\n",
      "TIME=99 - 😓 Student #5 interrupted by power cut. Task remaining=144 minutes\n",
      "TIME=99 - 😓 Student #6 interrupted by power cut. Task remaining=167 minutes\n",
      "TIME=99 - 😓 Student #7 interrupted by power cut. Task remaining=175 minutes\n",
      "TIME=99 - 😓 Student #8 interrupted by power cut. Task remaining=178 minutes\n",
      "TIME=99 - 😓 Student #9 interrupted by power cut. Task remaining=173 minutes\n",
      "TIME=104 - 😴 Student #0 slept. Assignment pending. Work left was=166 minutes\n",
      "TIME=104 - 😴 Student #2 slept. Assignment pending. Work left was=171 minutes\n",
      "TIME=104 - 😴 Student #4 slept. Assignment pending. Work left was=181 minutes\n",
      "TIME=104 - 😴 Student #5 slept. Assignment pending. Work left was=144 minutes\n",
      "TIME=104 - 😴 Student #6 slept. Assignment pending. Work left was=167 minutes\n",
      "TIME=104 - 😴 Student #7 slept. Assignment pending. Work left was=175 minutes\n",
      "TIME=104 - 😴 Student #9 slept. Assignment pending. Work left was=173 minutes\n",
      "🌕 Power is on at 110 minutes\n",
      "TIME=110 - 😃 Student #1 resumes working. Work left to do=142 minutes\n",
      "TIME=110 - 😃 Student #3 resumes working. Work left to do=147 minutes\n",
      "TIME=110 - 😃 Student #8 resumes working. Work left to do=178 minutes\n",
      "🌑 Power is off at 184 minutes\n",
      "TIME=184 - 😓 Student #1 interrupted by power cut. Task remaining=68 minutes\n",
      "TIME=184 - 😓 Student #3 interrupted by power cut. Task remaining=73 minutes\n",
      "TIME=184 - 😓 Student #8 interrupted by power cut. Task remaining=104 minutes\n",
      "TIME=189 - 😴 Student #1 slept. Assignment pending. Work left was=68 minutes\n",
      "TIME=189 - 😴 Student #3 slept. Assignment pending. Work left was=73 minutes\n",
      "TIME=189 - 😴 Student #8 slept. Assignment pending. Work left was=104 minutes\n",
      "🌕 Power is on at 194 minutes\n",
      "🌑 Power is off at 305 minutes\n",
      "🌕 Power is on at 315 minutes\n",
      "🌑 Power is off at 402 minutes\n",
      "🌕 Power is on at 413 minutes\n",
      "The time is 420 minutes\n",
      "The time is 420 minutes\n"
     ]
    },
    {
     "data": {
      "text/plain": [
       "<ConditionValue {<Process(timeduration) object at 0x1fecfb46940>: None}>"
      ]
     },
     "execution_count": 8,
     "metadata": {},
     "output_type": "execute_result"
    },
    {
     "name": "stdout",
     "output_type": "stream",
     "text": [
      "\n",
      "\n"
     ]
    },
    {
     "data": {
      "text/plain": [
       "'Summary of the simulation'"
      ]
     },
     "execution_count": 8,
     "metadata": {},
     "output_type": "execute_result"
    },
    {
     "name": "stdout",
     "output_type": "stream",
     "text": [
      "-----------------------------------------------------------------------------\n",
      "                     📊Summary of the simulation📊                     \n",
      "-----------------------------------------------------------------------------\n",
      "Number of students who finished assignment on time 🥳                  0\n",
      "Number of students who Slept😴                                         10\n",
      "Number of students👦                                                   10\n",
      "Percentage of students who finished assignment on time (in %)         0.0\n",
      "Average time to finish assignment                                     301.68\n",
      "Number of power cuts🌑🌕                                                201\n",
      "-----------------------------------------------------------------------------\n",
      "🌕 Power is on at 0 minutes\n",
      "TIME=0 - 🙂 Student #0 started working.Work left=244 minutes\n",
      "TIME=0 - 🙂 Student #1 started working.Work left=254 minutes\n",
      "TIME=0 - 🙂 Student #2 started working.Work left=261 minutes\n",
      "TIME=0 - 🙂 Student #3 started working.Work left=297 minutes\n",
      "TIME=0 - 🙂 Student #4 started working.Work left=251 minutes\n",
      "TIME=0 - 🙂 Student #5 started working.Work left=247 minutes\n",
      "TIME=0 - 🙂 Student #6 started working.Work left=299 minutes\n",
      "TIME=0 - 🙂 Student #7 started working.Work left=282 minutes\n",
      "TIME=0 - 🙂 Student #8 started working.Work left=260 minutes\n",
      "TIME=0 - 🙂 Student #9 started working.Work left=271 minutes\n",
      "🌑 Power is off at 120 minutes\n",
      "TIME=120 - 😓 Student #0 interrupted by power cut. Task remaining=124 minutes\n",
      "TIME=120 - 😓 Student #1 interrupted by power cut. Task remaining=134 minutes\n",
      "TIME=120 - 😓 Student #2 interrupted by power cut. Task remaining=141 minutes\n",
      "TIME=120 - 😓 Student #3 interrupted by power cut. Task remaining=177 minutes\n",
      "TIME=120 - 😓 Student #4 interrupted by power cut. Task remaining=131 minutes\n",
      "TIME=120 - 😓 Student #5 interrupted by power cut. Task remaining=127 minutes\n",
      "TIME=120 - 😓 Student #6 interrupted by power cut. Task remaining=179 minutes\n",
      "TIME=120 - 😓 Student #7 interrupted by power cut. Task remaining=162 minutes\n",
      "TIME=120 - 😓 Student #8 interrupted by power cut. Task remaining=140 minutes\n",
      "TIME=120 - 😓 Student #9 interrupted by power cut. Task remaining=151 minutes\n",
      "TIME=125 - 😴 Student #1 slept. Assignment pending. Work left was=134 minutes\n",
      "TIME=125 - 😴 Student #2 slept. Assignment pending. Work left was=141 minutes\n",
      "TIME=125 - 😴 Student #3 slept. Assignment pending. Work left was=177 minutes\n",
      "TIME=125 - 😴 Student #4 slept. Assignment pending. Work left was=131 minutes\n",
      "TIME=125 - 😴 Student #5 slept. Assignment pending. Work left was=127 minutes\n",
      "TIME=125 - 😴 Student #9 slept. Assignment pending. Work left was=151 minutes\n",
      "🌕 Power is on at 130 minutes\n",
      "TIME=130 - 😃 Student #0 resumes working. Work left to do=124 minutes\n",
      "TIME=130 - 😃 Student #6 resumes working. Work left to do=179 minutes\n",
      "TIME=130 - 😃 Student #7 resumes working. Work left to do=162 minutes\n",
      "TIME=130 - 😃 Student #8 resumes working. Work left to do=140 minutes\n",
      "🌑 Power is off at 220 minutes\n",
      "TIME=220 - 😓 Student #0 interrupted by power cut. Task remaining=34 minutes\n",
      "TIME=220 - 😓 Student #6 interrupted by power cut. Task remaining=89 minutes\n",
      "TIME=220 - 😓 Student #7 interrupted by power cut. Task remaining=72 minutes\n",
      "TIME=220 - 😓 Student #8 interrupted by power cut. Task remaining=50 minutes\n",
      "TIME=225 - 😴 Student #6 slept. Assignment pending. Work left was=89 minutes\n",
      "TIME=225 - 😴 Student #8 slept. Assignment pending. Work left was=50 minutes\n",
      "🌕 Power is on at 234 minutes\n",
      "TIME=234 - 😃 Student #0 resumes working. Work left to do=34 minutes\n",
      "TIME=234 - 😃 Student #7 resumes working. Work left to do=72 minutes\n",
      "TIME=268 - 🥳 Student #0 finished working.\n",
      "TIME=306 - 🥳 Student #7 finished working.\n",
      "🌑 Power is off at 354 minutes\n",
      "🌕 Power is on at 369 minutes\n",
      "The time is 420 minutes\n",
      "The time is 420 minutes\n"
     ]
    },
    {
     "data": {
      "text/plain": [
       "<ConditionValue {<Process(timeduration) object at 0x1fecfbb6b20>: None}>"
      ]
     },
     "execution_count": 8,
     "metadata": {},
     "output_type": "execute_result"
    },
    {
     "name": "stdout",
     "output_type": "stream",
     "text": [
      "\n",
      "\n"
     ]
    },
    {
     "data": {
      "text/plain": [
       "'Summary of the simulation'"
      ]
     },
     "execution_count": 8,
     "metadata": {},
     "output_type": "execute_result"
    },
    {
     "name": "stdout",
     "output_type": "stream",
     "text": [
      "-----------------------------------------------------------------------------\n",
      "                     📊Summary of the simulation📊                     \n",
      "-----------------------------------------------------------------------------\n",
      "Number of students who finished assignment on time 🥳                  2\n",
      "Number of students who Slept😴                                         8\n",
      "Number of students👦                                                   10\n",
      "Percentage of students who finished assignment on time (in %)         20.0\n",
      "Average time to finish assignment                                     301.56\n",
      "Number of power cuts🌑🌕                                                204\n",
      "-----------------------------------------------------------------------------\n",
      "🌕 Power is on at 0 minutes\n",
      "TIME=0 - 🙂 Student #0 started working.Work left=256 minutes\n",
      "TIME=0 - 🙂 Student #1 started working.Work left=261 minutes\n",
      "TIME=0 - 🙂 Student #2 started working.Work left=286 minutes\n",
      "TIME=0 - 🙂 Student #3 started working.Work left=300 minutes\n",
      "TIME=0 - 🙂 Student #4 started working.Work left=272 minutes\n",
      "TIME=0 - 🙂 Student #5 started working.Work left=290 minutes\n",
      "TIME=0 - 🙂 Student #6 started working.Work left=250 minutes\n",
      "TIME=0 - 🙂 Student #7 started working.Work left=243 minutes\n",
      "TIME=0 - 🙂 Student #8 started working.Work left=299 minutes\n",
      "TIME=0 - 🙂 Student #9 started working.Work left=248 minutes\n",
      "🌑 Power is off at 74 minutes\n",
      "TIME=74 - 😓 Student #0 interrupted by power cut. Task remaining=182 minutes\n",
      "TIME=74 - 😓 Student #1 interrupted by power cut. Task remaining=187 minutes\n",
      "TIME=74 - 😓 Student #2 interrupted by power cut. Task remaining=212 minutes\n",
      "TIME=74 - 😓 Student #3 interrupted by power cut. Task remaining=226 minutes\n",
      "TIME=74 - 😓 Student #4 interrupted by power cut. Task remaining=198 minutes\n",
      "TIME=74 - 😓 Student #5 interrupted by power cut. Task remaining=216 minutes\n",
      "TIME=74 - 😓 Student #6 interrupted by power cut. Task remaining=176 minutes\n",
      "TIME=74 - 😓 Student #7 interrupted by power cut. Task remaining=169 minutes\n",
      "TIME=74 - 😓 Student #8 interrupted by power cut. Task remaining=225 minutes\n",
      "TIME=74 - 😓 Student #9 interrupted by power cut. Task remaining=174 minutes\n",
      "TIME=79 - 😴 Student #0 slept. Assignment pending. Work left was=182 minutes\n",
      "TIME=79 - 😴 Student #1 slept. Assignment pending. Work left was=187 minutes\n",
      "TIME=79 - 😴 Student #4 slept. Assignment pending. Work left was=198 minutes\n",
      "TIME=79 - 😴 Student #5 slept. Assignment pending. Work left was=216 minutes\n",
      "TIME=79 - 😴 Student #6 slept. Assignment pending. Work left was=176 minutes\n",
      "TIME=79 - 😴 Student #9 slept. Assignment pending. Work left was=174 minutes\n",
      "🌕 Power is on at 85 minutes\n",
      "TIME=85 - 😃 Student #2 resumes working. Work left to do=212 minutes\n",
      "TIME=85 - 😃 Student #3 resumes working. Work left to do=226 minutes\n",
      "TIME=85 - 😃 Student #7 resumes working. Work left to do=169 minutes\n",
      "TIME=85 - 😃 Student #8 resumes working. Work left to do=225 minutes\n",
      "🌑 Power is off at 157 minutes\n",
      "TIME=157 - 😓 Student #2 interrupted by power cut. Task remaining=140 minutes\n",
      "TIME=157 - 😓 Student #3 interrupted by power cut. Task remaining=154 minutes\n",
      "TIME=157 - 😓 Student #7 interrupted by power cut. Task remaining=97 minutes\n",
      "TIME=157 - 😓 Student #8 interrupted by power cut. Task remaining=153 minutes\n",
      "TIME=162 - 😴 Student #7 slept. Assignment pending. Work left was=97 minutes\n",
      "🌕 Power is on at 169 minutes\n",
      "TIME=169 - 😃 Student #2 resumes working. Work left to do=140 minutes\n",
      "TIME=169 - 😃 Student #3 resumes working. Work left to do=154 minutes\n",
      "TIME=169 - 😃 Student #8 resumes working. Work left to do=153 minutes\n",
      "🌑 Power is off at 261 minutes\n",
      "TIME=261 - 😓 Student #2 interrupted by power cut. Task remaining=48 minutes\n",
      "TIME=261 - 😓 Student #3 interrupted by power cut. Task remaining=62 minutes\n",
      "TIME=261 - 😓 Student #8 interrupted by power cut. Task remaining=61 minutes\n",
      "TIME=266 - 😴 Student #2 slept. Assignment pending. Work left was=48 minutes\n",
      "🌕 Power is on at 271 minutes\n",
      "TIME=271 - 😃 Student #3 resumes working. Work left to do=62 minutes\n",
      "TIME=271 - 😃 Student #8 resumes working. Work left to do=61 minutes\n",
      "TIME=332 - 🥳 Student #8 finished working.\n",
      "TIME=333 - 🥳 Student #3 finished working.\n",
      "🌑 Power is off at 352 minutes\n",
      "🌕 Power is on at 364 minutes\n",
      "The time is 420 minutes\n",
      "The time is 420 minutes\n"
     ]
    },
    {
     "data": {
      "text/plain": [
       "<ConditionValue {<Process(timeduration) object at 0x1fecfb7efd0>: None}>"
      ]
     },
     "execution_count": 8,
     "metadata": {},
     "output_type": "execute_result"
    },
    {
     "name": "stdout",
     "output_type": "stream",
     "text": [
      "\n",
      "\n"
     ]
    },
    {
     "data": {
      "text/plain": [
       "'Summary of the simulation'"
      ]
     },
     "execution_count": 8,
     "metadata": {},
     "output_type": "execute_result"
    },
    {
     "name": "stdout",
     "output_type": "stream",
     "text": [
      "-----------------------------------------------------------------------------\n",
      "                     📊Summary of the simulation📊                     \n",
      "-----------------------------------------------------------------------------\n",
      "Number of students who finished assignment on time 🥳                  2\n",
      "Number of students who Slept😴                                         8\n",
      "Number of students👦                                                   10\n",
      "Percentage of students who finished assignment on time (in %)         20.0\n",
      "Average time to finish assignment                                     301.81\n",
      "Number of power cuts🌑🌕                                                208\n",
      "-----------------------------------------------------------------------------\n",
      "🌕 Power is on at 0 minutes\n",
      "TIME=0 - 🙂 Student #0 started working.Work left=258 minutes\n",
      "TIME=0 - 🙂 Student #1 started working.Work left=252 minutes\n",
      "TIME=0 - 🙂 Student #2 started working.Work left=263 minutes\n",
      "TIME=0 - 🙂 Student #3 started working.Work left=299 minutes\n",
      "TIME=0 - 🙂 Student #4 started working.Work left=289 minutes\n",
      "TIME=0 - 🙂 Student #5 started working.Work left=292 minutes\n",
      "TIME=0 - 🙂 Student #6 started working.Work left=268 minutes\n",
      "TIME=0 - 🙂 Student #7 started working.Work left=295 minutes\n",
      "TIME=0 - 🙂 Student #8 started working.Work left=297 minutes\n",
      "TIME=0 - 🙂 Student #9 started working.Work left=299 minutes\n",
      "🌑 Power is off at 82 minutes\n",
      "TIME=82 - 😓 Student #0 interrupted by power cut. Task remaining=176 minutes\n",
      "TIME=82 - 😓 Student #1 interrupted by power cut. Task remaining=170 minutes\n",
      "TIME=82 - 😓 Student #2 interrupted by power cut. Task remaining=181 minutes\n",
      "TIME=82 - 😓 Student #3 interrupted by power cut. Task remaining=217 minutes\n",
      "TIME=82 - 😓 Student #4 interrupted by power cut. Task remaining=207 minutes\n",
      "TIME=82 - 😓 Student #5 interrupted by power cut. Task remaining=210 minutes\n",
      "TIME=82 - 😓 Student #6 interrupted by power cut. Task remaining=186 minutes\n",
      "TIME=82 - 😓 Student #7 interrupted by power cut. Task remaining=213 minutes\n",
      "TIME=82 - 😓 Student #8 interrupted by power cut. Task remaining=215 minutes\n",
      "TIME=82 - 😓 Student #9 interrupted by power cut. Task remaining=217 minutes\n",
      "TIME=87 - 😴 Student #0 slept. Assignment pending. Work left was=176 minutes\n",
      "TIME=87 - 😴 Student #2 slept. Assignment pending. Work left was=181 minutes\n",
      "TIME=87 - 😴 Student #4 slept. Assignment pending. Work left was=207 minutes\n",
      "TIME=87 - 😴 Student #5 slept. Assignment pending. Work left was=210 minutes\n",
      "TIME=87 - 😴 Student #7 slept. Assignment pending. Work left was=213 minutes\n",
      "TIME=87 - 😴 Student #9 slept. Assignment pending. Work left was=217 minutes\n",
      "🌕 Power is on at 96 minutes\n",
      "TIME=96 - 😃 Student #1 resumes working. Work left to do=170 minutes\n",
      "TIME=96 - 😃 Student #3 resumes working. Work left to do=217 minutes\n",
      "TIME=96 - 😃 Student #6 resumes working. Work left to do=186 minutes\n",
      "TIME=96 - 😃 Student #8 resumes working. Work left to do=215 minutes\n",
      "🌑 Power is off at 199 minutes\n",
      "TIME=199 - 😓 Student #1 interrupted by power cut. Task remaining=67 minutes\n",
      "TIME=199 - 😓 Student #3 interrupted by power cut. Task remaining=114 minutes\n",
      "TIME=199 - 😓 Student #6 interrupted by power cut. Task remaining=83 minutes\n",
      "TIME=199 - 😓 Student #8 interrupted by power cut. Task remaining=112 minutes\n",
      "TIME=204 - 😴 Student #1 slept. Assignment pending. Work left was=67 minutes\n",
      "TIME=204 - 😴 Student #3 slept. Assignment pending. Work left was=114 minutes\n",
      "TIME=204 - 😴 Student #8 slept. Assignment pending. Work left was=112 minutes\n",
      "🌕 Power is on at 212 minutes\n",
      "TIME=212 - 😃 Student #6 resumes working. Work left to do=83 minutes\n",
      "🌑 Power is off at 295 minutes\n",
      "TIME=295 - 🥳 Student #6 finished working.\n",
      "🌕 Power is on at 305 minutes\n",
      "🌑 Power is off at 391 minutes\n",
      "🌕 Power is on at 404 minutes\n",
      "The time is 420 minutes\n",
      "The time is 420 minutes\n"
     ]
    },
    {
     "data": {
      "text/plain": [
       "<ConditionValue {<Process(timeduration) object at 0x1fecfbcad30>: None}>"
      ]
     },
     "execution_count": 8,
     "metadata": {},
     "output_type": "execute_result"
    },
    {
     "name": "stdout",
     "output_type": "stream",
     "text": [
      "\n",
      "\n"
     ]
    },
    {
     "data": {
      "text/plain": [
       "'Summary of the simulation'"
      ]
     },
     "execution_count": 8,
     "metadata": {},
     "output_type": "execute_result"
    },
    {
     "name": "stdout",
     "output_type": "stream",
     "text": [
      "-----------------------------------------------------------------------------\n",
      "                     📊Summary of the simulation📊                     \n",
      "-----------------------------------------------------------------------------\n",
      "Number of students who finished assignment on time 🥳                  1\n",
      "Number of students who Slept😴                                         9\n",
      "Number of students👦                                                   10\n",
      "Percentage of students who finished assignment on time (in %)         10.0\n",
      "Average time to finish assignment                                     301.78\n",
      "Number of power cuts🌑🌕                                                212\n",
      "-----------------------------------------------------------------------------\n",
      "🌕 Power is on at 0 minutes\n",
      "TIME=0 - 🙂 Student #0 started working.Work left=244 minutes\n",
      "TIME=0 - 🙂 Student #1 started working.Work left=252 minutes\n",
      "TIME=0 - 🙂 Student #2 started working.Work left=271 minutes\n",
      "TIME=0 - 🙂 Student #3 started working.Work left=285 minutes\n",
      "TIME=0 - 🙂 Student #4 started working.Work left=291 minutes\n",
      "TIME=0 - 🙂 Student #5 started working.Work left=277 minutes\n",
      "TIME=0 - 🙂 Student #6 started working.Work left=254 minutes\n",
      "TIME=0 - 🙂 Student #7 started working.Work left=253 minutes\n",
      "TIME=0 - 🙂 Student #8 started working.Work left=266 minutes\n",
      "TIME=0 - 🙂 Student #9 started working.Work left=297 minutes\n",
      "🌑 Power is off at 87 minutes\n",
      "TIME=87 - 😓 Student #0 interrupted by power cut. Task remaining=157 minutes\n",
      "TIME=87 - 😓 Student #1 interrupted by power cut. Task remaining=165 minutes\n",
      "TIME=87 - 😓 Student #2 interrupted by power cut. Task remaining=184 minutes\n",
      "TIME=87 - 😓 Student #3 interrupted by power cut. Task remaining=198 minutes\n",
      "TIME=87 - 😓 Student #4 interrupted by power cut. Task remaining=204 minutes\n",
      "TIME=87 - 😓 Student #5 interrupted by power cut. Task remaining=190 minutes\n",
      "TIME=87 - 😓 Student #6 interrupted by power cut. Task remaining=167 minutes\n",
      "TIME=87 - 😓 Student #7 interrupted by power cut. Task remaining=166 minutes\n",
      "TIME=87 - 😓 Student #8 interrupted by power cut. Task remaining=179 minutes\n",
      "TIME=87 - 😓 Student #9 interrupted by power cut. Task remaining=210 minutes\n",
      "TIME=92 - 😴 Student #1 slept. Assignment pending. Work left was=165 minutes\n",
      "TIME=92 - 😴 Student #2 slept. Assignment pending. Work left was=184 minutes\n",
      "TIME=92 - 😴 Student #3 slept. Assignment pending. Work left was=198 minutes\n",
      "TIME=92 - 😴 Student #4 slept. Assignment pending. Work left was=204 minutes\n",
      "TIME=92 - 😴 Student #5 slept. Assignment pending. Work left was=190 minutes\n",
      "TIME=92 - 😴 Student #9 slept. Assignment pending. Work left was=210 minutes\n",
      "🌕 Power is on at 102 minutes\n",
      "TIME=102 - 😃 Student #0 resumes working. Work left to do=157 minutes\n",
      "TIME=102 - 😃 Student #6 resumes working. Work left to do=167 minutes\n",
      "TIME=102 - 😃 Student #7 resumes working. Work left to do=166 minutes\n",
      "TIME=102 - 😃 Student #8 resumes working. Work left to do=179 minutes\n",
      "🌑 Power is off at 217 minutes\n",
      "TIME=217 - 😓 Student #0 interrupted by power cut. Task remaining=42 minutes\n",
      "TIME=217 - 😓 Student #6 interrupted by power cut. Task remaining=52 minutes\n",
      "TIME=217 - 😓 Student #7 interrupted by power cut. Task remaining=51 minutes\n",
      "TIME=217 - 😓 Student #8 interrupted by power cut. Task remaining=64 minutes\n",
      "TIME=222 - 😴 Student #0 slept. Assignment pending. Work left was=42 minutes\n",
      "TIME=222 - 😴 Student #7 slept. Assignment pending. Work left was=51 minutes\n",
      "TIME=222 - 😴 Student #8 slept. Assignment pending. Work left was=64 minutes\n",
      "🌕 Power is on at 229 minutes\n",
      "TIME=229 - 😃 Student #6 resumes working. Work left to do=52 minutes\n",
      "TIME=281 - 🥳 Student #6 finished working.\n",
      "🌑 Power is off at 326 minutes\n",
      "🌕 Power is on at 341 minutes\n",
      "The time is 420 minutes\n",
      "The time is 420 minutes\n"
     ]
    },
    {
     "data": {
      "text/plain": [
       "<ConditionValue {<Process(timeduration) object at 0x1fecfba3b50>: None}>"
      ]
     },
     "execution_count": 8,
     "metadata": {},
     "output_type": "execute_result"
    },
    {
     "name": "stdout",
     "output_type": "stream",
     "text": [
      "\n",
      "\n"
     ]
    },
    {
     "data": {
      "text/plain": [
       "'Summary of the simulation'"
      ]
     },
     "execution_count": 8,
     "metadata": {},
     "output_type": "execute_result"
    },
    {
     "name": "stdout",
     "output_type": "stream",
     "text": [
      "-----------------------------------------------------------------------------\n",
      "                     📊Summary of the simulation📊                     \n",
      "-----------------------------------------------------------------------------\n",
      "Number of students who finished assignment on time 🥳                  1\n",
      "Number of students who Slept😴                                         9\n",
      "Number of students👦                                                   10\n",
      "Percentage of students who finished assignment on time (in %)         10.0\n",
      "Average time to finish assignment                                     301.7\n",
      "Number of power cuts🌑🌕                                                215\n",
      "-----------------------------------------------------------------------------\n",
      "🌕 Power is on at 0 minutes\n",
      "TIME=0 - 🙂 Student #0 started working.Work left=292 minutes\n",
      "TIME=0 - 🙂 Student #1 started working.Work left=260 minutes\n",
      "TIME=0 - 🙂 Student #2 started working.Work left=269 minutes\n",
      "TIME=0 - 🙂 Student #3 started working.Work left=256 minutes\n",
      "TIME=0 - 🙂 Student #4 started working.Work left=281 minutes\n",
      "TIME=0 - 🙂 Student #5 started working.Work left=300 minutes\n",
      "TIME=0 - 🙂 Student #6 started working.Work left=299 minutes\n",
      "TIME=0 - 🙂 Student #7 started working.Work left=274 minutes\n",
      "TIME=0 - 🙂 Student #8 started working.Work left=279 minutes\n",
      "TIME=0 - 🙂 Student #9 started working.Work left=292 minutes\n",
      "🌑 Power is off at 104 minutes\n",
      "TIME=104 - 😓 Student #0 interrupted by power cut. Task remaining=188 minutes\n",
      "TIME=104 - 😓 Student #1 interrupted by power cut. Task remaining=156 minutes\n",
      "TIME=104 - 😓 Student #2 interrupted by power cut. Task remaining=165 minutes\n",
      "TIME=104 - 😓 Student #3 interrupted by power cut. Task remaining=152 minutes\n",
      "TIME=104 - 😓 Student #4 interrupted by power cut. Task remaining=177 minutes\n",
      "TIME=104 - 😓 Student #5 interrupted by power cut. Task remaining=196 minutes\n",
      "TIME=104 - 😓 Student #6 interrupted by power cut. Task remaining=195 minutes\n",
      "TIME=104 - 😓 Student #7 interrupted by power cut. Task remaining=170 minutes\n",
      "TIME=104 - 😓 Student #8 interrupted by power cut. Task remaining=175 minutes\n",
      "TIME=104 - 😓 Student #9 interrupted by power cut. Task remaining=188 minutes\n",
      "TIME=109 - 😴 Student #1 slept. Assignment pending. Work left was=156 minutes\n",
      "TIME=109 - 😴 Student #5 slept. Assignment pending. Work left was=196 minutes\n",
      "TIME=109 - 😴 Student #6 slept. Assignment pending. Work left was=195 minutes\n",
      "TIME=109 - 😴 Student #7 slept. Assignment pending. Work left was=170 minutes\n",
      "🌕 Power is on at 116 minutes\n",
      "TIME=116 - 😃 Student #0 resumes working. Work left to do=188 minutes\n",
      "TIME=116 - 😃 Student #2 resumes working. Work left to do=165 minutes\n",
      "TIME=116 - 😃 Student #3 resumes working. Work left to do=152 minutes\n",
      "TIME=116 - 😃 Student #4 resumes working. Work left to do=177 minutes\n",
      "TIME=116 - 😃 Student #8 resumes working. Work left to do=175 minutes\n",
      "TIME=116 - 😃 Student #9 resumes working. Work left to do=188 minutes\n",
      "🌑 Power is off at 183 minutes\n",
      "TIME=183 - 😓 Student #0 interrupted by power cut. Task remaining=121 minutes\n",
      "TIME=183 - 😓 Student #2 interrupted by power cut. Task remaining=98 minutes\n",
      "TIME=183 - 😓 Student #3 interrupted by power cut. Task remaining=85 minutes\n",
      "TIME=183 - 😓 Student #4 interrupted by power cut. Task remaining=110 minutes\n",
      "TIME=183 - 😓 Student #8 interrupted by power cut. Task remaining=108 minutes\n",
      "TIME=183 - 😓 Student #9 interrupted by power cut. Task remaining=121 minutes\n",
      "TIME=188 - 😴 Student #2 slept. Assignment pending. Work left was=98 minutes\n",
      "TIME=188 - 😴 Student #3 slept. Assignment pending. Work left was=85 minutes\n",
      "TIME=188 - 😴 Student #4 slept. Assignment pending. Work left was=110 minutes\n",
      "TIME=188 - 😴 Student #8 slept. Assignment pending. Work left was=108 minutes\n",
      "TIME=188 - 😴 Student #9 slept. Assignment pending. Work left was=121 minutes\n",
      "🌕 Power is on at 194 minutes\n",
      "TIME=194 - 😃 Student #0 resumes working. Work left to do=121 minutes\n",
      "🌑 Power is off at 285 minutes\n",
      "TIME=285 - 😓 Student #0 interrupted by power cut. Task remaining=30 minutes\n",
      "🌕 Power is on at 298 minutes\n",
      "TIME=298 - 😃 Student #0 resumes working. Work left to do=30 minutes\n",
      "TIME=328 - 🥳 Student #0 finished working.\n",
      "🌑 Power is off at 404 minutes\n",
      "🌕 Power is on at 415 minutes\n",
      "The time is 420 minutes\n",
      "The time is 420 minutes\n"
     ]
    },
    {
     "data": {
      "text/plain": [
       "<ConditionValue {<Process(timeduration) object at 0x1fecfb1ef70>: None}>"
      ]
     },
     "execution_count": 8,
     "metadata": {},
     "output_type": "execute_result"
    },
    {
     "name": "stdout",
     "output_type": "stream",
     "text": [
      "\n",
      "\n"
     ]
    },
    {
     "data": {
      "text/plain": [
       "'Summary of the simulation'"
      ]
     },
     "execution_count": 8,
     "metadata": {},
     "output_type": "execute_result"
    },
    {
     "name": "stdout",
     "output_type": "stream",
     "text": [
      "-----------------------------------------------------------------------------\n",
      "                     📊Summary of the simulation📊                     \n",
      "-----------------------------------------------------------------------------\n",
      "Number of students who finished assignment on time 🥳                  1\n",
      "Number of students who Slept😴                                         9\n",
      "Number of students👦                                                   10\n",
      "Percentage of students who finished assignment on time (in %)         10.0\n",
      "Average time to finish assignment                                     301.8\n",
      "Number of power cuts🌑🌕                                                219\n",
      "-----------------------------------------------------------------------------\n",
      "🌕 Power is on at 0 minutes\n",
      "TIME=0 - 🙂 Student #0 started working.Work left=271 minutes\n",
      "TIME=0 - 🙂 Student #1 started working.Work left=269 minutes\n",
      "TIME=0 - 🙂 Student #2 started working.Work left=282 minutes\n",
      "TIME=0 - 🙂 Student #3 started working.Work left=291 minutes\n",
      "TIME=0 - 🙂 Student #4 started working.Work left=275 minutes\n",
      "TIME=0 - 🙂 Student #5 started working.Work left=250 minutes\n",
      "TIME=0 - 🙂 Student #6 started working.Work left=266 minutes\n",
      "TIME=0 - 🙂 Student #7 started working.Work left=292 minutes\n",
      "TIME=0 - 🙂 Student #8 started working.Work left=276 minutes\n",
      "TIME=0 - 🙂 Student #9 started working.Work left=263 minutes\n",
      "🌑 Power is off at 120 minutes\n",
      "TIME=120 - 😓 Student #0 interrupted by power cut. Task remaining=151 minutes\n",
      "TIME=120 - 😓 Student #1 interrupted by power cut. Task remaining=149 minutes\n",
      "TIME=120 - 😓 Student #2 interrupted by power cut. Task remaining=162 minutes\n",
      "TIME=120 - 😓 Student #3 interrupted by power cut. Task remaining=171 minutes\n",
      "TIME=120 - 😓 Student #4 interrupted by power cut. Task remaining=155 minutes\n",
      "TIME=120 - 😓 Student #5 interrupted by power cut. Task remaining=130 minutes\n",
      "TIME=120 - 😓 Student #6 interrupted by power cut. Task remaining=146 minutes\n",
      "TIME=120 - 😓 Student #7 interrupted by power cut. Task remaining=172 minutes\n",
      "TIME=120 - 😓 Student #8 interrupted by power cut. Task remaining=156 minutes\n",
      "TIME=120 - 😓 Student #9 interrupted by power cut. Task remaining=143 minutes\n",
      "TIME=125 - 😴 Student #0 slept. Assignment pending. Work left was=151 minutes\n",
      "TIME=125 - 😴 Student #1 slept. Assignment pending. Work left was=149 minutes\n",
      "TIME=125 - 😴 Student #2 slept. Assignment pending. Work left was=162 minutes\n",
      "TIME=125 - 😴 Student #3 slept. Assignment pending. Work left was=171 minutes\n",
      "TIME=125 - 😴 Student #7 slept. Assignment pending. Work left was=172 minutes\n",
      "TIME=125 - 😴 Student #8 slept. Assignment pending. Work left was=156 minutes\n",
      "TIME=125 - 😴 Student #9 slept. Assignment pending. Work left was=143 minutes\n",
      "🌕 Power is on at 135 minutes\n",
      "TIME=135 - 😃 Student #4 resumes working. Work left to do=155 minutes\n",
      "TIME=135 - 😃 Student #5 resumes working. Work left to do=130 minutes\n",
      "TIME=135 - 😃 Student #6 resumes working. Work left to do=146 minutes\n",
      "🌑 Power is off at 243 minutes\n",
      "TIME=243 - 😓 Student #4 interrupted by power cut. Task remaining=47 minutes\n",
      "TIME=243 - 😓 Student #5 interrupted by power cut. Task remaining=22 minutes\n",
      "TIME=243 - 😓 Student #6 interrupted by power cut. Task remaining=38 minutes\n",
      "TIME=248 - 😴 Student #5 slept. Assignment pending. Work left was=22 minutes\n",
      "TIME=248 - 😴 Student #6 slept. Assignment pending. Work left was=38 minutes\n",
      "🌕 Power is on at 255 minutes\n",
      "TIME=255 - 😃 Student #4 resumes working. Work left to do=47 minutes\n",
      "TIME=302 - 🥳 Student #4 finished working.\n",
      "🌑 Power is off at 332 minutes\n",
      "🌕 Power is on at 344 minutes\n",
      "The time is 420 minutes\n",
      "The time is 420 minutes\n"
     ]
    },
    {
     "data": {
      "text/plain": [
       "<ConditionValue {<Process(timeduration) object at 0x1fed1fb6910>: None}>"
      ]
     },
     "execution_count": 8,
     "metadata": {},
     "output_type": "execute_result"
    },
    {
     "name": "stdout",
     "output_type": "stream",
     "text": [
      "\n",
      "\n"
     ]
    },
    {
     "data": {
      "text/plain": [
       "'Summary of the simulation'"
      ]
     },
     "execution_count": 8,
     "metadata": {},
     "output_type": "execute_result"
    },
    {
     "name": "stdout",
     "output_type": "stream",
     "text": [
      "-----------------------------------------------------------------------------\n",
      "                     📊Summary of the simulation📊                     \n",
      "-----------------------------------------------------------------------------\n",
      "Number of students who finished assignment on time 🥳                  1\n",
      "Number of students who Slept😴                                         9\n",
      "Number of students👦                                                   10\n",
      "Percentage of students who finished assignment on time (in %)         10.0\n",
      "Average time to finish assignment                                     301.8\n",
      "Number of power cuts🌑🌕                                                222\n",
      "-----------------------------------------------------------------------------\n",
      "🌕 Power is on at 0 minutes\n",
      "TIME=0 - 🙂 Student #0 started working.Work left=256 minutes\n",
      "TIME=0 - 🙂 Student #1 started working.Work left=247 minutes\n",
      "TIME=0 - 🙂 Student #2 started working.Work left=277 minutes\n",
      "TIME=0 - 🙂 Student #3 started working.Work left=289 minutes\n",
      "TIME=0 - 🙂 Student #4 started working.Work left=254 minutes\n",
      "TIME=0 - 🙂 Student #5 started working.Work left=241 minutes\n",
      "TIME=0 - 🙂 Student #6 started working.Work left=278 minutes\n",
      "TIME=0 - 🙂 Student #7 started working.Work left=241 minutes\n",
      "TIME=0 - 🙂 Student #8 started working.Work left=254 minutes\n",
      "TIME=0 - 🙂 Student #9 started working.Work left=267 minutes\n",
      "🌑 Power is off at 78 minutes\n",
      "TIME=78 - 😓 Student #0 interrupted by power cut. Task remaining=178 minutes\n",
      "TIME=78 - 😓 Student #1 interrupted by power cut. Task remaining=169 minutes\n",
      "TIME=78 - 😓 Student #2 interrupted by power cut. Task remaining=199 minutes\n",
      "TIME=78 - 😓 Student #3 interrupted by power cut. Task remaining=211 minutes\n",
      "TIME=78 - 😓 Student #4 interrupted by power cut. Task remaining=176 minutes\n",
      "TIME=78 - 😓 Student #5 interrupted by power cut. Task remaining=163 minutes\n",
      "TIME=78 - 😓 Student #6 interrupted by power cut. Task remaining=200 minutes\n",
      "TIME=78 - 😓 Student #7 interrupted by power cut. Task remaining=163 minutes\n",
      "TIME=78 - 😓 Student #8 interrupted by power cut. Task remaining=176 minutes\n",
      "TIME=78 - 😓 Student #9 interrupted by power cut. Task remaining=189 minutes\n",
      "TIME=83 - 😴 Student #0 slept. Assignment pending. Work left was=178 minutes\n",
      "TIME=83 - 😴 Student #1 slept. Assignment pending. Work left was=169 minutes\n",
      "TIME=83 - 😴 Student #6 slept. Assignment pending. Work left was=200 minutes\n",
      "TIME=83 - 😴 Student #8 slept. Assignment pending. Work left was=176 minutes\n",
      "🌕 Power is on at 92 minutes\n",
      "TIME=92 - 😃 Student #2 resumes working. Work left to do=199 minutes\n",
      "TIME=92 - 😃 Student #3 resumes working. Work left to do=211 minutes\n",
      "TIME=92 - 😃 Student #4 resumes working. Work left to do=176 minutes\n",
      "TIME=92 - 😃 Student #5 resumes working. Work left to do=163 minutes\n",
      "TIME=92 - 😃 Student #7 resumes working. Work left to do=163 minutes\n",
      "TIME=92 - 😃 Student #9 resumes working. Work left to do=189 minutes\n",
      "🌑 Power is off at 211 minutes\n",
      "TIME=211 - 😓 Student #2 interrupted by power cut. Task remaining=80 minutes\n",
      "TIME=211 - 😓 Student #3 interrupted by power cut. Task remaining=92 minutes\n",
      "TIME=211 - 😓 Student #4 interrupted by power cut. Task remaining=57 minutes\n",
      "TIME=211 - 😓 Student #5 interrupted by power cut. Task remaining=44 minutes\n",
      "TIME=211 - 😓 Student #7 interrupted by power cut. Task remaining=44 minutes\n",
      "TIME=211 - 😓 Student #9 interrupted by power cut. Task remaining=70 minutes\n",
      "TIME=216 - 😴 Student #3 slept. Assignment pending. Work left was=92 minutes\n",
      "TIME=216 - 😴 Student #4 slept. Assignment pending. Work left was=57 minutes\n",
      "TIME=216 - 😴 Student #5 slept. Assignment pending. Work left was=44 minutes\n",
      "TIME=216 - 😴 Student #7 slept. Assignment pending. Work left was=44 minutes\n",
      "TIME=216 - 😴 Student #9 slept. Assignment pending. Work left was=70 minutes\n",
      "🌕 Power is on at 225 minutes\n",
      "TIME=225 - 😃 Student #2 resumes working. Work left to do=80 minutes\n",
      "TIME=305 - 🥳 Student #2 finished working.\n",
      "🌑 Power is off at 310 minutes\n",
      "🌕 Power is on at 323 minutes\n",
      "🌑 Power is off at 385 minutes\n",
      "🌕 Power is on at 398 minutes\n",
      "The time is 420 minutes\n",
      "The time is 420 minutes\n"
     ]
    },
    {
     "data": {
      "text/plain": [
       "<ConditionValue {<Process(timeduration) object at 0x1fed1fb6280>: None}>"
      ]
     },
     "execution_count": 8,
     "metadata": {},
     "output_type": "execute_result"
    },
    {
     "name": "stdout",
     "output_type": "stream",
     "text": [
      "\n",
      "\n"
     ]
    },
    {
     "data": {
      "text/plain": [
       "'Summary of the simulation'"
      ]
     },
     "execution_count": 8,
     "metadata": {},
     "output_type": "execute_result"
    },
    {
     "name": "stdout",
     "output_type": "stream",
     "text": [
      "-----------------------------------------------------------------------------\n",
      "                     📊Summary of the simulation📊                     \n",
      "-----------------------------------------------------------------------------\n",
      "Number of students who finished assignment on time 🥳                  1\n",
      "Number of students who Slept😴                                         9\n",
      "Number of students👦                                                   10\n",
      "Percentage of students who finished assignment on time (in %)         10.0\n",
      "Average time to finish assignment                                     301.81\n",
      "Number of power cuts🌑🌕                                                226\n",
      "-----------------------------------------------------------------------------\n",
      "🌕 Power is on at 0 minutes\n",
      "TIME=0 - 🙂 Student #0 started working.Work left=262 minutes\n",
      "TIME=0 - 🙂 Student #1 started working.Work left=280 minutes\n",
      "TIME=0 - 🙂 Student #2 started working.Work left=240 minutes\n",
      "TIME=0 - 🙂 Student #3 started working.Work left=282 minutes\n",
      "TIME=0 - 🙂 Student #4 started working.Work left=246 minutes\n",
      "TIME=0 - 🙂 Student #5 started working.Work left=240 minutes\n",
      "TIME=0 - 🙂 Student #6 started working.Work left=286 minutes\n",
      "TIME=0 - 🙂 Student #7 started working.Work left=247 minutes\n",
      "TIME=0 - 🙂 Student #8 started working.Work left=249 minutes\n",
      "TIME=0 - 🙂 Student #9 started working.Work left=293 minutes\n",
      "🌑 Power is off at 109 minutes\n",
      "TIME=109 - 😓 Student #0 interrupted by power cut. Task remaining=153 minutes\n",
      "TIME=109 - 😓 Student #1 interrupted by power cut. Task remaining=171 minutes\n",
      "TIME=109 - 😓 Student #2 interrupted by power cut. Task remaining=131 minutes\n",
      "TIME=109 - 😓 Student #3 interrupted by power cut. Task remaining=173 minutes\n",
      "TIME=109 - 😓 Student #4 interrupted by power cut. Task remaining=137 minutes\n",
      "TIME=109 - 😓 Student #5 interrupted by power cut. Task remaining=131 minutes\n",
      "TIME=109 - 😓 Student #6 interrupted by power cut. Task remaining=177 minutes\n",
      "TIME=109 - 😓 Student #7 interrupted by power cut. Task remaining=138 minutes\n",
      "TIME=109 - 😓 Student #8 interrupted by power cut. Task remaining=140 minutes\n",
      "TIME=109 - 😓 Student #9 interrupted by power cut. Task remaining=184 minutes\n",
      "TIME=114 - 😴 Student #1 slept. Assignment pending. Work left was=171 minutes\n",
      "TIME=114 - 😴 Student #3 slept. Assignment pending. Work left was=173 minutes\n",
      "TIME=114 - 😴 Student #6 slept. Assignment pending. Work left was=177 minutes\n",
      "TIME=114 - 😴 Student #8 slept. Assignment pending. Work left was=140 minutes\n",
      "🌕 Power is on at 121 minutes\n",
      "TIME=121 - 😃 Student #0 resumes working. Work left to do=153 minutes\n",
      "TIME=121 - 😃 Student #2 resumes working. Work left to do=131 minutes\n",
      "TIME=121 - 😃 Student #4 resumes working. Work left to do=137 minutes\n",
      "TIME=121 - 😃 Student #5 resumes working. Work left to do=131 minutes\n",
      "TIME=121 - 😃 Student #7 resumes working. Work left to do=138 minutes\n",
      "TIME=121 - 😃 Student #9 resumes working. Work left to do=184 minutes\n",
      "🌑 Power is off at 203 minutes\n",
      "TIME=203 - 😓 Student #0 interrupted by power cut. Task remaining=71 minutes\n",
      "TIME=203 - 😓 Student #2 interrupted by power cut. Task remaining=49 minutes\n",
      "TIME=203 - 😓 Student #4 interrupted by power cut. Task remaining=55 minutes\n",
      "TIME=203 - 😓 Student #5 interrupted by power cut. Task remaining=49 minutes\n",
      "TIME=203 - 😓 Student #7 interrupted by power cut. Task remaining=56 minutes\n",
      "TIME=203 - 😓 Student #9 interrupted by power cut. Task remaining=102 minutes\n",
      "TIME=208 - 😴 Student #0 slept. Assignment pending. Work left was=71 minutes\n",
      "TIME=208 - 😴 Student #2 slept. Assignment pending. Work left was=49 minutes\n",
      "TIME=208 - 😴 Student #4 slept. Assignment pending. Work left was=55 minutes\n",
      "TIME=208 - 😴 Student #5 slept. Assignment pending. Work left was=49 minutes\n",
      "TIME=208 - 😴 Student #7 slept. Assignment pending. Work left was=56 minutes\n",
      "🌕 Power is on at 218 minutes\n",
      "TIME=218 - 😃 Student #9 resumes working. Work left to do=102 minutes\n",
      "🌑 Power is off at 320 minutes\n",
      "TIME=320 - 🥳 Student #9 finished working.\n",
      "🌕 Power is on at 333 minutes\n",
      "🌑 Power is off at 407 minutes\n",
      "🌕 Power is on at 418 minutes\n",
      "The time is 420 minutes\n",
      "The time is 420 minutes\n"
     ]
    },
    {
     "data": {
      "text/plain": [
       "<ConditionValue {<Process(timeduration) object at 0x1fecfb480a0>: None}>"
      ]
     },
     "execution_count": 8,
     "metadata": {},
     "output_type": "execute_result"
    },
    {
     "name": "stdout",
     "output_type": "stream",
     "text": [
      "\n",
      "\n"
     ]
    },
    {
     "data": {
      "text/plain": [
       "'Summary of the simulation'"
      ]
     },
     "execution_count": 8,
     "metadata": {},
     "output_type": "execute_result"
    },
    {
     "name": "stdout",
     "output_type": "stream",
     "text": [
      "-----------------------------------------------------------------------------\n",
      "                     📊Summary of the simulation📊                     \n",
      "-----------------------------------------------------------------------------\n",
      "Number of students who finished assignment on time 🥳                  1\n",
      "Number of students who Slept😴                                         9\n",
      "Number of students👦                                                   10\n",
      "Percentage of students who finished assignment on time (in %)         10.0\n",
      "Average time to finish assignment                                     301.88\n",
      "Number of power cuts🌑🌕                                                230\n",
      "-----------------------------------------------------------------------------\n",
      "🌕 Power is on at 0 minutes\n",
      "TIME=0 - 🙂 Student #0 started working.Work left=264 minutes\n",
      "TIME=0 - 🙂 Student #1 started working.Work left=258 minutes\n",
      "TIME=0 - 🙂 Student #2 started working.Work left=265 minutes\n",
      "TIME=0 - 🙂 Student #3 started working.Work left=275 minutes\n",
      "TIME=0 - 🙂 Student #4 started working.Work left=260 minutes\n",
      "TIME=0 - 🙂 Student #5 started working.Work left=286 minutes\n",
      "TIME=0 - 🙂 Student #6 started working.Work left=278 minutes\n",
      "TIME=0 - 🙂 Student #7 started working.Work left=278 minutes\n",
      "TIME=0 - 🙂 Student #8 started working.Work left=242 minutes\n",
      "TIME=0 - 🙂 Student #9 started working.Work left=261 minutes\n",
      "🌑 Power is off at 111 minutes\n",
      "TIME=111 - 😓 Student #0 interrupted by power cut. Task remaining=153 minutes\n",
      "TIME=111 - 😓 Student #1 interrupted by power cut. Task remaining=147 minutes\n",
      "TIME=111 - 😓 Student #2 interrupted by power cut. Task remaining=154 minutes\n",
      "TIME=111 - 😓 Student #3 interrupted by power cut. Task remaining=164 minutes\n",
      "TIME=111 - 😓 Student #4 interrupted by power cut. Task remaining=149 minutes\n",
      "TIME=111 - 😓 Student #5 interrupted by power cut. Task remaining=175 minutes\n",
      "TIME=111 - 😓 Student #6 interrupted by power cut. Task remaining=167 minutes\n",
      "TIME=111 - 😓 Student #7 interrupted by power cut. Task remaining=167 minutes\n",
      "TIME=111 - 😓 Student #8 interrupted by power cut. Task remaining=131 minutes\n",
      "TIME=111 - 😓 Student #9 interrupted by power cut. Task remaining=150 minutes\n",
      "TIME=116 - 😴 Student #0 slept. Assignment pending. Work left was=153 minutes\n",
      "TIME=116 - 😴 Student #3 slept. Assignment pending. Work left was=164 minutes\n",
      "TIME=116 - 😴 Student #4 slept. Assignment pending. Work left was=149 minutes\n",
      "TIME=116 - 😴 Student #5 slept. Assignment pending. Work left was=175 minutes\n",
      "TIME=116 - 😴 Student #6 slept. Assignment pending. Work left was=167 minutes\n",
      "TIME=116 - 😴 Student #7 slept. Assignment pending. Work left was=167 minutes\n",
      "TIME=116 - 😴 Student #8 slept. Assignment pending. Work left was=131 minutes\n",
      "TIME=116 - 😴 Student #9 slept. Assignment pending. Work left was=150 minutes\n",
      "🌕 Power is on at 123 minutes\n",
      "TIME=123 - 😃 Student #1 resumes working. Work left to do=147 minutes\n",
      "TIME=123 - 😃 Student #2 resumes working. Work left to do=154 minutes\n",
      "🌑 Power is off at 214 minutes\n",
      "TIME=214 - 😓 Student #1 interrupted by power cut. Task remaining=56 minutes\n",
      "TIME=214 - 😓 Student #2 interrupted by power cut. Task remaining=63 minutes\n",
      "TIME=219 - 😴 Student #2 slept. Assignment pending. Work left was=63 minutes\n",
      "🌕 Power is on at 225 minutes\n",
      "TIME=225 - 😃 Student #1 resumes working. Work left to do=56 minutes\n",
      "TIME=281 - 🥳 Student #1 finished working.\n",
      "🌑 Power is off at 287 minutes\n",
      "🌕 Power is on at 297 minutes\n",
      "🌑 Power is off at 410 minutes\n",
      "The time is 420 minutes\n",
      "The time is 420 minutes\n"
     ]
    },
    {
     "data": {
      "text/plain": [
       "<ConditionValue {<Process(timeduration) object at 0x1fecfb61be0>: None}>"
      ]
     },
     "execution_count": 8,
     "metadata": {},
     "output_type": "execute_result"
    },
    {
     "name": "stdout",
     "output_type": "stream",
     "text": [
      "\n",
      "\n"
     ]
    },
    {
     "data": {
      "text/plain": [
       "'Summary of the simulation'"
      ]
     },
     "execution_count": 8,
     "metadata": {},
     "output_type": "execute_result"
    },
    {
     "name": "stdout",
     "output_type": "stream",
     "text": [
      "-----------------------------------------------------------------------------\n",
      "                     📊Summary of the simulation📊                     \n",
      "-----------------------------------------------------------------------------\n",
      "Number of students who finished assignment on time 🥳                  1\n",
      "Number of students who Slept😴                                         9\n",
      "Number of students👦                                                   10\n",
      "Percentage of students who finished assignment on time (in %)         10.0\n",
      "Average time to finish assignment                                     301.8\n",
      "Number of power cuts🌑🌕                                                234\n",
      "-----------------------------------------------------------------------------\n",
      "🌕 Power is on at 0 minutes\n",
      "TIME=0 - 🙂 Student #0 started working.Work left=285 minutes\n",
      "TIME=0 - 🙂 Student #1 started working.Work left=257 minutes\n",
      "TIME=0 - 🙂 Student #2 started working.Work left=249 minutes\n",
      "TIME=0 - 🙂 Student #3 started working.Work left=271 minutes\n",
      "TIME=0 - 🙂 Student #4 started working.Work left=288 minutes\n",
      "TIME=0 - 🙂 Student #5 started working.Work left=241 minutes\n",
      "TIME=0 - 🙂 Student #6 started working.Work left=266 minutes\n",
      "TIME=0 - 🙂 Student #7 started working.Work left=267 minutes\n",
      "TIME=0 - 🙂 Student #8 started working.Work left=281 minutes\n",
      "TIME=0 - 🙂 Student #9 started working.Work left=267 minutes\n",
      "🌑 Power is off at 97 minutes\n",
      "TIME=97 - 😓 Student #0 interrupted by power cut. Task remaining=188 minutes\n",
      "TIME=97 - 😓 Student #1 interrupted by power cut. Task remaining=160 minutes\n",
      "TIME=97 - 😓 Student #2 interrupted by power cut. Task remaining=152 minutes\n",
      "TIME=97 - 😓 Student #3 interrupted by power cut. Task remaining=174 minutes\n",
      "TIME=97 - 😓 Student #4 interrupted by power cut. Task remaining=191 minutes\n",
      "TIME=97 - 😓 Student #5 interrupted by power cut. Task remaining=144 minutes\n",
      "TIME=97 - 😓 Student #6 interrupted by power cut. Task remaining=169 minutes\n",
      "TIME=97 - 😓 Student #7 interrupted by power cut. Task remaining=170 minutes\n",
      "TIME=97 - 😓 Student #8 interrupted by power cut. Task remaining=184 minutes\n",
      "TIME=97 - 😓 Student #9 interrupted by power cut. Task remaining=170 minutes\n",
      "TIME=102 - 😴 Student #0 slept. Assignment pending. Work left was=188 minutes\n",
      "TIME=102 - 😴 Student #1 slept. Assignment pending. Work left was=160 minutes\n",
      "TIME=102 - 😴 Student #3 slept. Assignment pending. Work left was=174 minutes\n",
      "TIME=102 - 😴 Student #4 slept. Assignment pending. Work left was=191 minutes\n",
      "TIME=102 - 😴 Student #6 slept. Assignment pending. Work left was=169 minutes\n",
      "TIME=102 - 😴 Student #7 slept. Assignment pending. Work left was=170 minutes\n",
      "TIME=102 - 😴 Student #8 slept. Assignment pending. Work left was=184 minutes\n",
      "🌕 Power is on at 111 minutes\n",
      "TIME=111 - 😃 Student #2 resumes working. Work left to do=152 minutes\n",
      "TIME=111 - 😃 Student #5 resumes working. Work left to do=144 minutes\n",
      "TIME=111 - 😃 Student #9 resumes working. Work left to do=170 minutes\n",
      "🌑 Power is off at 187 minutes\n",
      "TIME=187 - 😓 Student #2 interrupted by power cut. Task remaining=76 minutes\n",
      "TIME=187 - 😓 Student #5 interrupted by power cut. Task remaining=68 minutes\n",
      "TIME=187 - 😓 Student #9 interrupted by power cut. Task remaining=94 minutes\n",
      "TIME=192 - 😴 Student #5 slept. Assignment pending. Work left was=68 minutes\n",
      "TIME=192 - 😴 Student #9 slept. Assignment pending. Work left was=94 minutes\n",
      "🌕 Power is on at 198 minutes\n",
      "TIME=198 - 😃 Student #2 resumes working. Work left to do=76 minutes\n",
      "🌑 Power is off at 271 minutes\n",
      "TIME=271 - 😓 Student #2 interrupted by power cut. Task remaining=3 minutes\n",
      "TIME=276 - 😴 Student #2 slept. Assignment pending. Work left was=3 minutes\n",
      "🌕 Power is on at 283 minutes\n",
      "🌑 Power is off at 388 minutes\n",
      "🌕 Power is on at 400 minutes\n",
      "The time is 420 minutes\n",
      "The time is 420 minutes\n"
     ]
    },
    {
     "data": {
      "text/plain": [
       "<ConditionValue {<Process(timeduration) object at 0x1fecfbf4f70>: None}>"
      ]
     },
     "execution_count": 8,
     "metadata": {},
     "output_type": "execute_result"
    },
    {
     "name": "stdout",
     "output_type": "stream",
     "text": [
      "\n",
      "\n"
     ]
    },
    {
     "data": {
      "text/plain": [
       "'Summary of the simulation'"
      ]
     },
     "execution_count": 8,
     "metadata": {},
     "output_type": "execute_result"
    },
    {
     "name": "stdout",
     "output_type": "stream",
     "text": [
      "-----------------------------------------------------------------------------\n",
      "                     📊Summary of the simulation📊                     \n",
      "-----------------------------------------------------------------------------\n",
      "Number of students who finished assignment on time 🥳                  0\n",
      "Number of students who Slept😴                                         10\n",
      "Number of students👦                                                   10\n",
      "Percentage of students who finished assignment on time (in %)         0.0\n",
      "Average time to finish assignment                                     301.8\n",
      "Number of power cuts🌑🌕                                                238\n",
      "-----------------------------------------------------------------------------\n",
      "🌕 Power is on at 0 minutes\n",
      "TIME=0 - 🙂 Student #0 started working.Work left=253 minutes\n",
      "TIME=0 - 🙂 Student #1 started working.Work left=282 minutes\n",
      "TIME=0 - 🙂 Student #2 started working.Work left=254 minutes\n",
      "TIME=0 - 🙂 Student #3 started working.Work left=257 minutes\n",
      "TIME=0 - 🙂 Student #4 started working.Work left=280 minutes\n",
      "TIME=0 - 🙂 Student #5 started working.Work left=265 minutes\n",
      "TIME=0 - 🙂 Student #6 started working.Work left=288 minutes\n",
      "TIME=0 - 🙂 Student #7 started working.Work left=268 minutes\n",
      "TIME=0 - 🙂 Student #8 started working.Work left=267 minutes\n",
      "TIME=0 - 🙂 Student #9 started working.Work left=282 minutes\n",
      "🌑 Power is off at 79 minutes\n",
      "TIME=79 - 😓 Student #0 interrupted by power cut. Task remaining=174 minutes\n",
      "TIME=79 - 😓 Student #1 interrupted by power cut. Task remaining=203 minutes\n",
      "TIME=79 - 😓 Student #2 interrupted by power cut. Task remaining=175 minutes\n",
      "TIME=79 - 😓 Student #3 interrupted by power cut. Task remaining=178 minutes\n",
      "TIME=79 - 😓 Student #4 interrupted by power cut. Task remaining=201 minutes\n",
      "TIME=79 - 😓 Student #5 interrupted by power cut. Task remaining=186 minutes\n",
      "TIME=79 - 😓 Student #6 interrupted by power cut. Task remaining=209 minutes\n",
      "TIME=79 - 😓 Student #7 interrupted by power cut. Task remaining=189 minutes\n",
      "TIME=79 - 😓 Student #8 interrupted by power cut. Task remaining=188 minutes\n",
      "TIME=79 - 😓 Student #9 interrupted by power cut. Task remaining=203 minutes\n",
      "TIME=84 - 😴 Student #0 slept. Assignment pending. Work left was=174 minutes\n",
      "TIME=84 - 😴 Student #1 slept. Assignment pending. Work left was=203 minutes\n",
      "TIME=84 - 😴 Student #3 slept. Assignment pending. Work left was=178 minutes\n",
      "TIME=84 - 😴 Student #4 slept. Assignment pending. Work left was=201 minutes\n",
      "TIME=84 - 😴 Student #5 slept. Assignment pending. Work left was=186 minutes\n",
      "TIME=84 - 😴 Student #7 slept. Assignment pending. Work left was=189 minutes\n",
      "🌕 Power is on at 94 minutes\n",
      "TIME=94 - 😃 Student #2 resumes working. Work left to do=175 minutes\n",
      "TIME=94 - 😃 Student #6 resumes working. Work left to do=209 minutes\n",
      "TIME=94 - 😃 Student #8 resumes working. Work left to do=188 minutes\n",
      "TIME=94 - 😃 Student #9 resumes working. Work left to do=203 minutes\n",
      "🌑 Power is off at 156 minutes\n",
      "TIME=156 - 😓 Student #2 interrupted by power cut. Task remaining=113 minutes\n",
      "TIME=156 - 😓 Student #6 interrupted by power cut. Task remaining=147 minutes\n",
      "TIME=156 - 😓 Student #8 interrupted by power cut. Task remaining=126 minutes\n",
      "TIME=156 - 😓 Student #9 interrupted by power cut. Task remaining=141 minutes\n",
      "TIME=161 - 😴 Student #2 slept. Assignment pending. Work left was=113 minutes\n",
      "TIME=161 - 😴 Student #6 slept. Assignment pending. Work left was=147 minutes\n",
      "TIME=161 - 😴 Student #8 slept. Assignment pending. Work left was=126 minutes\n",
      "🌕 Power is on at 166 minutes\n",
      "TIME=166 - 😃 Student #9 resumes working. Work left to do=141 minutes\n",
      "🌑 Power is off at 264 minutes\n",
      "TIME=264 - 😓 Student #9 interrupted by power cut. Task remaining=43 minutes\n",
      "TIME=269 - 😴 Student #9 slept. Assignment pending. Work left was=43 minutes\n",
      "🌕 Power is on at 274 minutes\n",
      "🌑 Power is off at 352 minutes\n",
      "🌕 Power is on at 365 minutes\n",
      "The time is 420 minutes\n",
      "The time is 420 minutes\n"
     ]
    },
    {
     "data": {
      "text/plain": [
       "<ConditionValue {<Process(timeduration) object at 0x1fed1fb62e0>: None}>"
      ]
     },
     "execution_count": 8,
     "metadata": {},
     "output_type": "execute_result"
    },
    {
     "name": "stdout",
     "output_type": "stream",
     "text": [
      "\n",
      "\n"
     ]
    },
    {
     "data": {
      "text/plain": [
       "'Summary of the simulation'"
      ]
     },
     "execution_count": 8,
     "metadata": {},
     "output_type": "execute_result"
    },
    {
     "name": "stdout",
     "output_type": "stream",
     "text": [
      "-----------------------------------------------------------------------------\n",
      "                     📊Summary of the simulation📊                     \n",
      "-----------------------------------------------------------------------------\n",
      "Number of students who finished assignment on time 🥳                  0\n",
      "Number of students who Slept😴                                         10\n",
      "Number of students👦                                                   10\n",
      "Percentage of students who finished assignment on time (in %)         0.0\n",
      "Average time to finish assignment                                     301.8\n",
      "Number of power cuts🌑🌕                                                242\n",
      "-----------------------------------------------------------------------------\n",
      "🌕 Power is on at 0 minutes\n",
      "TIME=0 - 🙂 Student #0 started working.Work left=250 minutes\n",
      "TIME=0 - 🙂 Student #1 started working.Work left=249 minutes\n",
      "TIME=0 - 🙂 Student #2 started working.Work left=258 minutes\n",
      "TIME=0 - 🙂 Student #3 started working.Work left=264 minutes\n",
      "TIME=0 - 🙂 Student #4 started working.Work left=291 minutes\n",
      "TIME=0 - 🙂 Student #5 started working.Work left=244 minutes\n",
      "TIME=0 - 🙂 Student #6 started working.Work left=297 minutes\n",
      "TIME=0 - 🙂 Student #7 started working.Work left=294 minutes\n",
      "TIME=0 - 🙂 Student #8 started working.Work left=288 minutes\n",
      "TIME=0 - 🙂 Student #9 started working.Work left=260 minutes\n",
      "🌑 Power is off at 73 minutes\n",
      "TIME=73 - 😓 Student #0 interrupted by power cut. Task remaining=177 minutes\n",
      "TIME=73 - 😓 Student #1 interrupted by power cut. Task remaining=176 minutes\n",
      "TIME=73 - 😓 Student #2 interrupted by power cut. Task remaining=185 minutes\n",
      "TIME=73 - 😓 Student #3 interrupted by power cut. Task remaining=191 minutes\n",
      "TIME=73 - 😓 Student #4 interrupted by power cut. Task remaining=218 minutes\n",
      "TIME=73 - 😓 Student #5 interrupted by power cut. Task remaining=171 minutes\n",
      "TIME=73 - 😓 Student #6 interrupted by power cut. Task remaining=224 minutes\n",
      "TIME=73 - 😓 Student #7 interrupted by power cut. Task remaining=221 minutes\n",
      "TIME=73 - 😓 Student #8 interrupted by power cut. Task remaining=215 minutes\n",
      "TIME=73 - 😓 Student #9 interrupted by power cut. Task remaining=187 minutes\n",
      "TIME=78 - 😴 Student #0 slept. Assignment pending. Work left was=177 minutes\n",
      "TIME=78 - 😴 Student #1 slept. Assignment pending. Work left was=176 minutes\n",
      "TIME=78 - 😴 Student #3 slept. Assignment pending. Work left was=191 minutes\n",
      "TIME=78 - 😴 Student #4 slept. Assignment pending. Work left was=218 minutes\n",
      "TIME=78 - 😴 Student #8 slept. Assignment pending. Work left was=215 minutes\n",
      "TIME=78 - 😴 Student #9 slept. Assignment pending. Work left was=187 minutes\n",
      "🌕 Power is on at 88 minutes\n",
      "TIME=88 - 😃 Student #2 resumes working. Work left to do=185 minutes\n",
      "TIME=88 - 😃 Student #5 resumes working. Work left to do=171 minutes\n",
      "TIME=88 - 😃 Student #6 resumes working. Work left to do=224 minutes\n",
      "TIME=88 - 😃 Student #7 resumes working. Work left to do=221 minutes\n",
      "🌑 Power is off at 167 minutes\n",
      "TIME=167 - 😓 Student #2 interrupted by power cut. Task remaining=106 minutes\n",
      "TIME=167 - 😓 Student #5 interrupted by power cut. Task remaining=92 minutes\n",
      "TIME=167 - 😓 Student #6 interrupted by power cut. Task remaining=145 minutes\n",
      "TIME=167 - 😓 Student #7 interrupted by power cut. Task remaining=142 minutes\n",
      "TIME=172 - 😴 Student #2 slept. Assignment pending. Work left was=106 minutes\n",
      "TIME=172 - 😴 Student #5 slept. Assignment pending. Work left was=92 minutes\n",
      "🌕 Power is on at 179 minutes\n",
      "TIME=179 - 😃 Student #6 resumes working. Work left to do=145 minutes\n",
      "TIME=179 - 😃 Student #7 resumes working. Work left to do=142 minutes\n",
      "🌑 Power is off at 283 minutes\n",
      "TIME=283 - 😓 Student #6 interrupted by power cut. Task remaining=41 minutes\n",
      "TIME=283 - 😓 Student #7 interrupted by power cut. Task remaining=38 minutes\n",
      "TIME=288 - 😴 Student #6 slept. Assignment pending. Work left was=41 minutes\n",
      "TIME=288 - 😴 Student #7 slept. Assignment pending. Work left was=38 minutes\n",
      "🌕 Power is on at 295 minutes\n",
      "🌑 Power is off at 370 minutes\n",
      "🌕 Power is on at 385 minutes\n",
      "The time is 420 minutes\n",
      "The time is 420 minutes\n"
     ]
    },
    {
     "data": {
      "text/plain": [
       "<ConditionValue {<Process(timeduration) object at 0x1fed1f908e0>: None}>"
      ]
     },
     "execution_count": 8,
     "metadata": {},
     "output_type": "execute_result"
    },
    {
     "name": "stdout",
     "output_type": "stream",
     "text": [
      "\n",
      "\n"
     ]
    },
    {
     "data": {
      "text/plain": [
       "'Summary of the simulation'"
      ]
     },
     "execution_count": 8,
     "metadata": {},
     "output_type": "execute_result"
    },
    {
     "name": "stdout",
     "output_type": "stream",
     "text": [
      "-----------------------------------------------------------------------------\n",
      "                     📊Summary of the simulation📊                     \n",
      "-----------------------------------------------------------------------------\n",
      "Number of students who finished assignment on time 🥳                  0\n",
      "Number of students who Slept😴                                         10\n",
      "Number of students👦                                                   10\n",
      "Percentage of students who finished assignment on time (in %)         0.0\n",
      "Average time to finish assignment                                     301.8\n",
      "Number of power cuts🌑🌕                                                246\n",
      "-----------------------------------------------------------------------------\n",
      "🌕 Power is on at 0 minutes\n",
      "TIME=0 - 🙂 Student #0 started working.Work left=292 minutes\n",
      "TIME=0 - 🙂 Student #1 started working.Work left=284 minutes\n",
      "TIME=0 - 🙂 Student #2 started working.Work left=275 minutes\n",
      "TIME=0 - 🙂 Student #3 started working.Work left=292 minutes\n",
      "TIME=0 - 🙂 Student #4 started working.Work left=287 minutes\n",
      "TIME=0 - 🙂 Student #5 started working.Work left=259 minutes\n",
      "TIME=0 - 🙂 Student #6 started working.Work left=278 minutes\n",
      "TIME=0 - 🙂 Student #7 started working.Work left=261 minutes\n",
      "TIME=0 - 🙂 Student #8 started working.Work left=270 minutes\n",
      "TIME=0 - 🙂 Student #9 started working.Work left=291 minutes\n",
      "🌑 Power is off at 69 minutes\n",
      "TIME=69 - 😓 Student #0 interrupted by power cut. Task remaining=223 minutes\n",
      "TIME=69 - 😓 Student #1 interrupted by power cut. Task remaining=215 minutes\n",
      "TIME=69 - 😓 Student #2 interrupted by power cut. Task remaining=206 minutes\n",
      "TIME=69 - 😓 Student #3 interrupted by power cut. Task remaining=223 minutes\n",
      "TIME=69 - 😓 Student #4 interrupted by power cut. Task remaining=218 minutes\n",
      "TIME=69 - 😓 Student #5 interrupted by power cut. Task remaining=190 minutes\n",
      "TIME=69 - 😓 Student #6 interrupted by power cut. Task remaining=209 minutes\n",
      "TIME=69 - 😓 Student #7 interrupted by power cut. Task remaining=192 minutes\n",
      "TIME=69 - 😓 Student #8 interrupted by power cut. Task remaining=201 minutes\n",
      "TIME=69 - 😓 Student #9 interrupted by power cut. Task remaining=222 minutes\n",
      "TIME=74 - 😴 Student #1 slept. Assignment pending. Work left was=215 minutes\n",
      "TIME=74 - 😴 Student #2 slept. Assignment pending. Work left was=206 minutes\n",
      "TIME=74 - 😴 Student #6 slept. Assignment pending. Work left was=209 minutes\n",
      "TIME=74 - 😴 Student #7 slept. Assignment pending. Work left was=192 minutes\n",
      "TIME=74 - 😴 Student #8 slept. Assignment pending. Work left was=201 minutes\n",
      "TIME=74 - 😴 Student #9 slept. Assignment pending. Work left was=222 minutes\n",
      "🌕 Power is on at 79 minutes\n",
      "TIME=79 - 😃 Student #0 resumes working. Work left to do=223 minutes\n",
      "TIME=79 - 😃 Student #3 resumes working. Work left to do=223 minutes\n",
      "TIME=79 - 😃 Student #4 resumes working. Work left to do=218 minutes\n",
      "TIME=79 - 😃 Student #5 resumes working. Work left to do=190 minutes\n",
      "🌑 Power is off at 188 minutes\n",
      "TIME=188 - 😓 Student #0 interrupted by power cut. Task remaining=114 minutes\n",
      "TIME=188 - 😓 Student #3 interrupted by power cut. Task remaining=114 minutes\n",
      "TIME=188 - 😓 Student #4 interrupted by power cut. Task remaining=109 minutes\n",
      "TIME=188 - 😓 Student #5 interrupted by power cut. Task remaining=81 minutes\n",
      "TIME=193 - 😴 Student #0 slept. Assignment pending. Work left was=114 minutes\n",
      "TIME=193 - 😴 Student #3 slept. Assignment pending. Work left was=114 minutes\n",
      "🌕 Power is on at 201 minutes\n",
      "TIME=201 - 😃 Student #4 resumes working. Work left to do=109 minutes\n",
      "TIME=201 - 😃 Student #5 resumes working. Work left to do=81 minutes\n",
      "🌑 Power is off at 272 minutes\n",
      "TIME=272 - 😓 Student #4 interrupted by power cut. Task remaining=38 minutes\n",
      "TIME=272 - 😓 Student #5 interrupted by power cut. Task remaining=10 minutes\n",
      "TIME=277 - 😴 Student #4 slept. Assignment pending. Work left was=38 minutes\n",
      "TIME=277 - 😴 Student #5 slept. Assignment pending. Work left was=10 minutes\n",
      "🌕 Power is on at 286 minutes\n",
      "🌑 Power is off at 378 minutes\n",
      "🌕 Power is on at 389 minutes\n",
      "The time is 420 minutes\n",
      "The time is 420 minutes\n"
     ]
    },
    {
     "data": {
      "text/plain": [
       "<ConditionValue {<Process(timeduration) object at 0x1fecfb30a90>: None}>"
      ]
     },
     "execution_count": 8,
     "metadata": {},
     "output_type": "execute_result"
    },
    {
     "name": "stdout",
     "output_type": "stream",
     "text": [
      "\n",
      "\n"
     ]
    },
    {
     "data": {
      "text/plain": [
       "'Summary of the simulation'"
      ]
     },
     "execution_count": 8,
     "metadata": {},
     "output_type": "execute_result"
    },
    {
     "name": "stdout",
     "output_type": "stream",
     "text": [
      "-----------------------------------------------------------------------------\n",
      "                     📊Summary of the simulation📊                     \n",
      "-----------------------------------------------------------------------------\n",
      "Number of students who finished assignment on time 🥳                  0\n",
      "Number of students who Slept😴                                         10\n",
      "Number of students👦                                                   10\n",
      "Percentage of students who finished assignment on time (in %)         0.0\n",
      "Average time to finish assignment                                     301.8\n",
      "Number of power cuts🌑🌕                                                250\n",
      "-----------------------------------------------------------------------------\n",
      "🌕 Power is on at 0 minutes\n",
      "TIME=0 - 🙂 Student #0 started working.Work left=252 minutes\n",
      "TIME=0 - 🙂 Student #1 started working.Work left=298 minutes\n",
      "TIME=0 - 🙂 Student #2 started working.Work left=292 minutes\n",
      "TIME=0 - 🙂 Student #3 started working.Work left=275 minutes\n",
      "TIME=0 - 🙂 Student #4 started working.Work left=300 minutes\n",
      "TIME=0 - 🙂 Student #5 started working.Work left=289 minutes\n",
      "TIME=0 - 🙂 Student #6 started working.Work left=270 minutes\n",
      "TIME=0 - 🙂 Student #7 started working.Work left=292 minutes\n",
      "TIME=0 - 🙂 Student #8 started working.Work left=281 minutes\n",
      "TIME=0 - 🙂 Student #9 started working.Work left=246 minutes\n",
      "🌑 Power is off at 117 minutes\n",
      "TIME=117 - 😓 Student #0 interrupted by power cut. Task remaining=135 minutes\n",
      "TIME=117 - 😓 Student #1 interrupted by power cut. Task remaining=181 minutes\n",
      "TIME=117 - 😓 Student #2 interrupted by power cut. Task remaining=175 minutes\n",
      "TIME=117 - 😓 Student #3 interrupted by power cut. Task remaining=158 minutes\n",
      "TIME=117 - 😓 Student #4 interrupted by power cut. Task remaining=183 minutes\n",
      "TIME=117 - 😓 Student #5 interrupted by power cut. Task remaining=172 minutes\n",
      "TIME=117 - 😓 Student #6 interrupted by power cut. Task remaining=153 minutes\n",
      "TIME=117 - 😓 Student #7 interrupted by power cut. Task remaining=175 minutes\n",
      "TIME=117 - 😓 Student #8 interrupted by power cut. Task remaining=164 minutes\n",
      "TIME=117 - 😓 Student #9 interrupted by power cut. Task remaining=129 minutes\n",
      "TIME=122 - 😴 Student #1 slept. Assignment pending. Work left was=181 minutes\n",
      "TIME=122 - 😴 Student #2 slept. Assignment pending. Work left was=175 minutes\n",
      "TIME=122 - 😴 Student #4 slept. Assignment pending. Work left was=183 minutes\n",
      "TIME=122 - 😴 Student #7 slept. Assignment pending. Work left was=175 minutes\n",
      "TIME=122 - 😴 Student #8 slept. Assignment pending. Work left was=164 minutes\n",
      "TIME=122 - 😴 Student #9 slept. Assignment pending. Work left was=129 minutes\n",
      "🌕 Power is on at 127 minutes\n",
      "TIME=127 - 😃 Student #0 resumes working. Work left to do=135 minutes\n",
      "TIME=127 - 😃 Student #3 resumes working. Work left to do=158 minutes\n",
      "TIME=127 - 😃 Student #5 resumes working. Work left to do=172 minutes\n",
      "TIME=127 - 😃 Student #6 resumes working. Work left to do=153 minutes\n",
      "🌑 Power is off at 221 minutes\n",
      "TIME=221 - 😓 Student #0 interrupted by power cut. Task remaining=41 minutes\n",
      "TIME=221 - 😓 Student #3 interrupted by power cut. Task remaining=64 minutes\n",
      "TIME=221 - 😓 Student #5 interrupted by power cut. Task remaining=78 minutes\n",
      "TIME=221 - 😓 Student #6 interrupted by power cut. Task remaining=59 minutes\n",
      "TIME=226 - 😴 Student #3 slept. Assignment pending. Work left was=64 minutes\n",
      "TIME=226 - 😴 Student #5 slept. Assignment pending. Work left was=78 minutes\n",
      "🌕 Power is on at 236 minutes\n",
      "TIME=236 - 😃 Student #0 resumes working. Work left to do=41 minutes\n",
      "TIME=236 - 😃 Student #6 resumes working. Work left to do=59 minutes\n",
      "TIME=277 - 🥳 Student #0 finished working.\n",
      "TIME=295 - 🥳 Student #6 finished working.\n",
      "🌑 Power is off at 316 minutes\n",
      "🌕 Power is on at 329 minutes\n",
      "🌑 Power is off at 405 minutes\n",
      "🌕 Power is on at 418 minutes\n",
      "The time is 420 minutes\n",
      "The time is 420 minutes\n"
     ]
    },
    {
     "data": {
      "text/plain": [
       "<ConditionValue {<Process(timeduration) object at 0x1fecfc05fd0>: None}>"
      ]
     },
     "execution_count": 8,
     "metadata": {},
     "output_type": "execute_result"
    },
    {
     "name": "stdout",
     "output_type": "stream",
     "text": [
      "\n",
      "\n"
     ]
    },
    {
     "data": {
      "text/plain": [
       "'Summary of the simulation'"
      ]
     },
     "execution_count": 8,
     "metadata": {},
     "output_type": "execute_result"
    },
    {
     "name": "stdout",
     "output_type": "stream",
     "text": [
      "-----------------------------------------------------------------------------\n",
      "                     📊Summary of the simulation📊                     \n",
      "-----------------------------------------------------------------------------\n",
      "Number of students who finished assignment on time 🥳                  2\n",
      "Number of students who Slept😴                                         8\n",
      "Number of students👦                                                   10\n",
      "Percentage of students who finished assignment on time (in %)         20.0\n",
      "Average time to finish assignment                                     301.68\n",
      "Number of power cuts🌑🌕                                                254\n",
      "-----------------------------------------------------------------------------\n",
      "🌕 Power is on at 0 minutes\n",
      "TIME=0 - 🙂 Student #0 started working.Work left=271 minutes\n",
      "TIME=0 - 🙂 Student #1 started working.Work left=292 minutes\n",
      "TIME=0 - 🙂 Student #2 started working.Work left=245 minutes\n",
      "TIME=0 - 🙂 Student #3 started working.Work left=240 minutes\n",
      "TIME=0 - 🙂 Student #4 started working.Work left=240 minutes\n",
      "TIME=0 - 🙂 Student #5 started working.Work left=270 minutes\n",
      "TIME=0 - 🙂 Student #6 started working.Work left=252 minutes\n",
      "TIME=0 - 🙂 Student #7 started working.Work left=265 minutes\n",
      "TIME=0 - 🙂 Student #8 started working.Work left=260 minutes\n",
      "TIME=0 - 🙂 Student #9 started working.Work left=291 minutes\n",
      "🌑 Power is off at 95 minutes\n",
      "TIME=95 - 😓 Student #0 interrupted by power cut. Task remaining=176 minutes\n",
      "TIME=95 - 😓 Student #1 interrupted by power cut. Task remaining=197 minutes\n",
      "TIME=95 - 😓 Student #2 interrupted by power cut. Task remaining=150 minutes\n",
      "TIME=95 - 😓 Student #3 interrupted by power cut. Task remaining=145 minutes\n",
      "TIME=95 - 😓 Student #4 interrupted by power cut. Task remaining=145 minutes\n",
      "TIME=95 - 😓 Student #5 interrupted by power cut. Task remaining=175 minutes\n",
      "TIME=95 - 😓 Student #6 interrupted by power cut. Task remaining=157 minutes\n",
      "TIME=95 - 😓 Student #7 interrupted by power cut. Task remaining=170 minutes\n",
      "TIME=95 - 😓 Student #8 interrupted by power cut. Task remaining=165 minutes\n",
      "TIME=95 - 😓 Student #9 interrupted by power cut. Task remaining=196 minutes\n",
      "TIME=100 - 😴 Student #0 slept. Assignment pending. Work left was=176 minutes\n",
      "TIME=100 - 😴 Student #1 slept. Assignment pending. Work left was=197 minutes\n",
      "TIME=100 - 😴 Student #2 slept. Assignment pending. Work left was=150 minutes\n",
      "TIME=100 - 😴 Student #4 slept. Assignment pending. Work left was=145 minutes\n",
      "TIME=100 - 😴 Student #5 slept. Assignment pending. Work left was=175 minutes\n",
      "TIME=100 - 😴 Student #6 slept. Assignment pending. Work left was=157 minutes\n",
      "TIME=100 - 😴 Student #7 slept. Assignment pending. Work left was=170 minutes\n",
      "TIME=100 - 😴 Student #9 slept. Assignment pending. Work left was=196 minutes\n",
      "🌕 Power is on at 105 minutes\n",
      "TIME=105 - 😃 Student #3 resumes working. Work left to do=145 minutes\n",
      "TIME=105 - 😃 Student #8 resumes working. Work left to do=165 minutes\n",
      "🌑 Power is off at 175 minutes\n",
      "TIME=175 - 😓 Student #3 interrupted by power cut. Task remaining=75 minutes\n",
      "TIME=175 - 😓 Student #8 interrupted by power cut. Task remaining=95 minutes\n",
      "TIME=180 - 😴 Student #3 slept. Assignment pending. Work left was=75 minutes\n",
      "TIME=180 - 😴 Student #8 slept. Assignment pending. Work left was=95 minutes\n",
      "🌕 Power is on at 186 minutes\n",
      "🌑 Power is off at 265 minutes\n",
      "🌕 Power is on at 278 minutes\n",
      "🌑 Power is off at 338 minutes\n",
      "🌕 Power is on at 348 minutes\n",
      "🌑 Power is off at 414 minutes\n",
      "The time is 420 minutes\n",
      "The time is 420 minutes\n"
     ]
    },
    {
     "data": {
      "text/plain": [
       "<ConditionValue {<Process(timeduration) object at 0x1fecfc05be0>: None}>"
      ]
     },
     "execution_count": 8,
     "metadata": {},
     "output_type": "execute_result"
    },
    {
     "name": "stdout",
     "output_type": "stream",
     "text": [
      "\n",
      "\n"
     ]
    },
    {
     "data": {
      "text/plain": [
       "'Summary of the simulation'"
      ]
     },
     "execution_count": 8,
     "metadata": {},
     "output_type": "execute_result"
    },
    {
     "name": "stdout",
     "output_type": "stream",
     "text": [
      "-----------------------------------------------------------------------------\n",
      "                     📊Summary of the simulation📊                     \n",
      "-----------------------------------------------------------------------------\n",
      "Number of students who finished assignment on time 🥳                  0\n",
      "Number of students who Slept😴                                         10\n",
      "Number of students👦                                                   10\n",
      "Percentage of students who finished assignment on time (in %)         0.0\n",
      "Average time to finish assignment                                     301.68\n",
      "Number of power cuts🌑🌕                                                259\n",
      "-----------------------------------------------------------------------------\n",
      "🌕 Power is on at 0 minutes\n",
      "TIME=0 - 🙂 Student #0 started working.Work left=249 minutes\n",
      "TIME=0 - 🙂 Student #1 started working.Work left=288 minutes\n",
      "TIME=0 - 🙂 Student #2 started working.Work left=263 minutes\n",
      "TIME=0 - 🙂 Student #3 started working.Work left=290 minutes\n",
      "TIME=0 - 🙂 Student #4 started working.Work left=283 minutes\n",
      "TIME=0 - 🙂 Student #5 started working.Work left=277 minutes\n",
      "TIME=0 - 🙂 Student #6 started working.Work left=254 minutes\n",
      "TIME=0 - 🙂 Student #7 started working.Work left=291 minutes\n",
      "TIME=0 - 🙂 Student #8 started working.Work left=293 minutes\n",
      "TIME=0 - 🙂 Student #9 started working.Work left=282 minutes\n",
      "🌑 Power is off at 93 minutes\n",
      "TIME=93 - 😓 Student #0 interrupted by power cut. Task remaining=156 minutes\n",
      "TIME=93 - 😓 Student #1 interrupted by power cut. Task remaining=195 minutes\n",
      "TIME=93 - 😓 Student #2 interrupted by power cut. Task remaining=170 minutes\n",
      "TIME=93 - 😓 Student #3 interrupted by power cut. Task remaining=197 minutes\n",
      "TIME=93 - 😓 Student #4 interrupted by power cut. Task remaining=190 minutes\n",
      "TIME=93 - 😓 Student #5 interrupted by power cut. Task remaining=184 minutes\n",
      "TIME=93 - 😓 Student #6 interrupted by power cut. Task remaining=161 minutes\n",
      "TIME=93 - 😓 Student #7 interrupted by power cut. Task remaining=198 minutes\n",
      "TIME=93 - 😓 Student #8 interrupted by power cut. Task remaining=200 minutes\n",
      "TIME=93 - 😓 Student #9 interrupted by power cut. Task remaining=189 minutes\n",
      "TIME=98 - 😴 Student #0 slept. Assignment pending. Work left was=156 minutes\n",
      "TIME=98 - 😴 Student #1 slept. Assignment pending. Work left was=195 minutes\n",
      "TIME=98 - 😴 Student #3 slept. Assignment pending. Work left was=197 minutes\n",
      "TIME=98 - 😴 Student #5 slept. Assignment pending. Work left was=184 minutes\n",
      "TIME=98 - 😴 Student #6 slept. Assignment pending. Work left was=161 minutes\n",
      "TIME=98 - 😴 Student #9 slept. Assignment pending. Work left was=189 minutes\n",
      "🌕 Power is on at 106 minutes\n",
      "TIME=106 - 😃 Student #2 resumes working. Work left to do=170 minutes\n",
      "TIME=106 - 😃 Student #4 resumes working. Work left to do=190 minutes\n",
      "TIME=106 - 😃 Student #7 resumes working. Work left to do=198 minutes\n",
      "TIME=106 - 😃 Student #8 resumes working. Work left to do=200 minutes\n",
      "🌑 Power is off at 226 minutes\n",
      "TIME=226 - 😓 Student #2 interrupted by power cut. Task remaining=50 minutes\n",
      "TIME=226 - 😓 Student #4 interrupted by power cut. Task remaining=70 minutes\n",
      "TIME=226 - 😓 Student #7 interrupted by power cut. Task remaining=78 minutes\n",
      "TIME=226 - 😓 Student #8 interrupted by power cut. Task remaining=80 minutes\n",
      "TIME=231 - 😴 Student #2 slept. Assignment pending. Work left was=50 minutes\n",
      "TIME=231 - 😴 Student #4 slept. Assignment pending. Work left was=70 minutes\n",
      "TIME=231 - 😴 Student #7 slept. Assignment pending. Work left was=78 minutes\n",
      "TIME=231 - 😴 Student #8 slept. Assignment pending. Work left was=80 minutes\n",
      "🌕 Power is on at 238 minutes\n",
      "🌑 Power is off at 338 minutes\n",
      "🌕 Power is on at 350 minutes\n",
      "The time is 420 minutes\n",
      "The time is 420 minutes\n"
     ]
    },
    {
     "data": {
      "text/plain": [
       "<ConditionValue {<Process(timeduration) object at 0x1fecfc05820>: None}>"
      ]
     },
     "execution_count": 8,
     "metadata": {},
     "output_type": "execute_result"
    },
    {
     "name": "stdout",
     "output_type": "stream",
     "text": [
      "\n",
      "\n"
     ]
    },
    {
     "data": {
      "text/plain": [
       "'Summary of the simulation'"
      ]
     },
     "execution_count": 8,
     "metadata": {},
     "output_type": "execute_result"
    },
    {
     "name": "stdout",
     "output_type": "stream",
     "text": [
      "-----------------------------------------------------------------------------\n",
      "                     📊Summary of the simulation📊                     \n",
      "-----------------------------------------------------------------------------\n",
      "Number of students who finished assignment on time 🥳                  0\n",
      "Number of students who Slept😴                                         10\n",
      "Number of students👦                                                   10\n",
      "Percentage of students who finished assignment on time (in %)         0.0\n",
      "Average time to finish assignment                                     301.68\n",
      "Number of power cuts🌑🌕                                                262\n",
      "-----------------------------------------------------------------------------\n",
      "🌕 Power is on at 0 minutes\n",
      "TIME=0 - 🙂 Student #0 started working.Work left=300 minutes\n",
      "TIME=0 - 🙂 Student #1 started working.Work left=255 minutes\n",
      "TIME=0 - 🙂 Student #2 started working.Work left=279 minutes\n",
      "TIME=0 - 🙂 Student #3 started working.Work left=241 minutes\n",
      "TIME=0 - 🙂 Student #4 started working.Work left=295 minutes\n",
      "TIME=0 - 🙂 Student #5 started working.Work left=258 minutes\n",
      "TIME=0 - 🙂 Student #6 started working.Work left=277 minutes\n",
      "TIME=0 - 🙂 Student #7 started working.Work left=281 minutes\n",
      "TIME=0 - 🙂 Student #8 started working.Work left=240 minutes\n",
      "TIME=0 - 🙂 Student #9 started working.Work left=269 minutes\n",
      "🌑 Power is off at 85 minutes\n",
      "TIME=85 - 😓 Student #0 interrupted by power cut. Task remaining=215 minutes\n",
      "TIME=85 - 😓 Student #1 interrupted by power cut. Task remaining=170 minutes\n",
      "TIME=85 - 😓 Student #2 interrupted by power cut. Task remaining=194 minutes\n",
      "TIME=85 - 😓 Student #3 interrupted by power cut. Task remaining=156 minutes\n",
      "TIME=85 - 😓 Student #4 interrupted by power cut. Task remaining=210 minutes\n",
      "TIME=85 - 😓 Student #5 interrupted by power cut. Task remaining=173 minutes\n",
      "TIME=85 - 😓 Student #6 interrupted by power cut. Task remaining=192 minutes\n",
      "TIME=85 - 😓 Student #7 interrupted by power cut. Task remaining=196 minutes\n",
      "TIME=85 - 😓 Student #8 interrupted by power cut. Task remaining=155 minutes\n",
      "TIME=85 - 😓 Student #9 interrupted by power cut. Task remaining=184 minutes\n",
      "TIME=90 - 😴 Student #1 slept. Assignment pending. Work left was=170 minutes\n",
      "TIME=90 - 😴 Student #2 slept. Assignment pending. Work left was=194 minutes\n",
      "TIME=90 - 😴 Student #4 slept. Assignment pending. Work left was=210 minutes\n",
      "TIME=90 - 😴 Student #5 slept. Assignment pending. Work left was=173 minutes\n",
      "TIME=90 - 😴 Student #6 slept. Assignment pending. Work left was=192 minutes\n",
      "TIME=90 - 😴 Student #7 slept. Assignment pending. Work left was=196 minutes\n",
      "TIME=90 - 😴 Student #9 slept. Assignment pending. Work left was=184 minutes\n",
      "🌕 Power is on at 99 minutes\n",
      "TIME=99 - 😃 Student #0 resumes working. Work left to do=215 minutes\n",
      "TIME=99 - 😃 Student #3 resumes working. Work left to do=156 minutes\n",
      "TIME=99 - 😃 Student #8 resumes working. Work left to do=155 minutes\n",
      "🌑 Power is off at 216 minutes\n",
      "TIME=216 - 😓 Student #0 interrupted by power cut. Task remaining=98 minutes\n",
      "TIME=216 - 😓 Student #3 interrupted by power cut. Task remaining=39 minutes\n",
      "TIME=216 - 😓 Student #8 interrupted by power cut. Task remaining=38 minutes\n",
      "TIME=221 - 😴 Student #0 slept. Assignment pending. Work left was=98 minutes\n",
      "TIME=221 - 😴 Student #3 slept. Assignment pending. Work left was=39 minutes\n",
      "🌕 Power is on at 229 minutes\n",
      "TIME=229 - 😃 Student #8 resumes working. Work left to do=38 minutes\n",
      "TIME=267 - 🥳 Student #8 finished working.\n",
      "🌑 Power is off at 315 minutes\n",
      "🌕 Power is on at 329 minutes\n",
      "🌑 Power is off at 403 minutes\n",
      "🌕 Power is on at 414 minutes\n",
      "The time is 420 minutes\n",
      "The time is 420 minutes\n"
     ]
    },
    {
     "data": {
      "text/plain": [
       "<ConditionValue {<Process(timeduration) object at 0x1fecfb30f70>: None}>"
      ]
     },
     "execution_count": 8,
     "metadata": {},
     "output_type": "execute_result"
    },
    {
     "name": "stdout",
     "output_type": "stream",
     "text": [
      "\n",
      "\n"
     ]
    },
    {
     "data": {
      "text/plain": [
       "'Summary of the simulation'"
      ]
     },
     "execution_count": 8,
     "metadata": {},
     "output_type": "execute_result"
    },
    {
     "name": "stdout",
     "output_type": "stream",
     "text": [
      "-----------------------------------------------------------------------------\n",
      "                     📊Summary of the simulation📊                     \n",
      "-----------------------------------------------------------------------------\n",
      "Number of students who finished assignment on time 🥳                  1\n",
      "Number of students who Slept😴                                         9\n",
      "Number of students👦                                                   10\n",
      "Percentage of students who finished assignment on time (in %)         10.0\n",
      "Average time to finish assignment                                     301.55\n",
      "Number of power cuts🌑🌕                                                266\n",
      "-----------------------------------------------------------------------------\n",
      "🌕 Power is on at 0 minutes\n",
      "TIME=0 - 🙂 Student #0 started working.Work left=292 minutes\n",
      "TIME=0 - 🙂 Student #1 started working.Work left=283 minutes\n",
      "TIME=0 - 🙂 Student #2 started working.Work left=289 minutes\n",
      "TIME=0 - 🙂 Student #3 started working.Work left=297 minutes\n",
      "TIME=0 - 🙂 Student #4 started working.Work left=278 minutes\n",
      "TIME=0 - 🙂 Student #5 started working.Work left=287 minutes\n",
      "TIME=0 - 🙂 Student #6 started working.Work left=284 minutes\n",
      "TIME=0 - 🙂 Student #7 started working.Work left=274 minutes\n",
      "TIME=0 - 🙂 Student #8 started working.Work left=272 minutes\n",
      "TIME=0 - 🙂 Student #9 started working.Work left=289 minutes\n",
      "🌑 Power is off at 93 minutes\n",
      "TIME=93 - 😓 Student #0 interrupted by power cut. Task remaining=199 minutes\n",
      "TIME=93 - 😓 Student #1 interrupted by power cut. Task remaining=190 minutes\n",
      "TIME=93 - 😓 Student #2 interrupted by power cut. Task remaining=196 minutes\n",
      "TIME=93 - 😓 Student #3 interrupted by power cut. Task remaining=204 minutes\n",
      "TIME=93 - 😓 Student #4 interrupted by power cut. Task remaining=185 minutes\n",
      "TIME=93 - 😓 Student #5 interrupted by power cut. Task remaining=194 minutes\n",
      "TIME=93 - 😓 Student #6 interrupted by power cut. Task remaining=191 minutes\n",
      "TIME=93 - 😓 Student #7 interrupted by power cut. Task remaining=181 minutes\n",
      "TIME=93 - 😓 Student #8 interrupted by power cut. Task remaining=179 minutes\n",
      "TIME=93 - 😓 Student #9 interrupted by power cut. Task remaining=196 minutes\n",
      "TIME=98 - 😴 Student #0 slept. Assignment pending. Work left was=199 minutes\n",
      "TIME=98 - 😴 Student #1 slept. Assignment pending. Work left was=190 minutes\n",
      "TIME=98 - 😴 Student #2 slept. Assignment pending. Work left was=196 minutes\n",
      "TIME=98 - 😴 Student #3 slept. Assignment pending. Work left was=204 minutes\n",
      "TIME=98 - 😴 Student #6 slept. Assignment pending. Work left was=191 minutes\n",
      "TIME=98 - 😴 Student #7 slept. Assignment pending. Work left was=181 minutes\n",
      "TIME=98 - 😴 Student #9 slept. Assignment pending. Work left was=196 minutes\n",
      "🌕 Power is on at 106 minutes\n",
      "TIME=106 - 😃 Student #4 resumes working. Work left to do=185 minutes\n",
      "TIME=106 - 😃 Student #5 resumes working. Work left to do=194 minutes\n",
      "TIME=106 - 😃 Student #8 resumes working. Work left to do=179 minutes\n",
      "🌑 Power is off at 169 minutes\n",
      "TIME=169 - 😓 Student #4 interrupted by power cut. Task remaining=122 minutes\n",
      "TIME=169 - 😓 Student #5 interrupted by power cut. Task remaining=131 minutes\n",
      "TIME=169 - 😓 Student #8 interrupted by power cut. Task remaining=116 minutes\n",
      "TIME=174 - 😴 Student #4 slept. Assignment pending. Work left was=122 minutes\n",
      "🌕 Power is on at 182 minutes\n",
      "TIME=182 - 😃 Student #5 resumes working. Work left to do=131 minutes\n",
      "TIME=182 - 😃 Student #8 resumes working. Work left to do=116 minutes\n",
      "🌑 Power is off at 282 minutes\n",
      "TIME=282 - 😓 Student #5 interrupted by power cut. Task remaining=31 minutes\n",
      "TIME=282 - 😓 Student #8 interrupted by power cut. Task remaining=16 minutes\n",
      "🌕 Power is on at 293 minutes\n",
      "TIME=293 - 😃 Student #5 resumes working. Work left to do=31 minutes\n",
      "TIME=293 - 😃 Student #8 resumes working. Work left to do=16 minutes\n",
      "TIME=309 - 🥳 Student #8 finished working.\n",
      "TIME=324 - 🥳 Student #5 finished working.\n",
      "🌑 Power is off at 394 minutes\n",
      "🌕 Power is on at 407 minutes\n",
      "The time is 420 minutes\n",
      "The time is 420 minutes\n"
     ]
    },
    {
     "data": {
      "text/plain": [
       "<ConditionValue {<Process(timeduration) object at 0x1fed1fc6250>: None}>"
      ]
     },
     "execution_count": 8,
     "metadata": {},
     "output_type": "execute_result"
    },
    {
     "name": "stdout",
     "output_type": "stream",
     "text": [
      "\n",
      "\n"
     ]
    },
    {
     "data": {
      "text/plain": [
       "'Summary of the simulation'"
      ]
     },
     "execution_count": 8,
     "metadata": {},
     "output_type": "execute_result"
    },
    {
     "name": "stdout",
     "output_type": "stream",
     "text": [
      "-----------------------------------------------------------------------------\n",
      "                     📊Summary of the simulation📊                     \n",
      "-----------------------------------------------------------------------------\n",
      "Number of students who finished assignment on time 🥳                  2\n",
      "Number of students who Slept😴                                         8\n",
      "Number of students👦                                                   10\n",
      "Percentage of students who finished assignment on time (in %)         20.0\n",
      "Average time to finish assignment                                     301.66\n",
      "Number of power cuts🌑🌕                                                270\n",
      "-----------------------------------------------------------------------------\n",
      "🌕 Power is on at 0 minutes\n",
      "TIME=0 - 🙂 Student #0 started working.Work left=245 minutes\n",
      "TIME=0 - 🙂 Student #1 started working.Work left=253 minutes\n",
      "TIME=0 - 🙂 Student #2 started working.Work left=254 minutes\n",
      "TIME=0 - 🙂 Student #3 started working.Work left=262 minutes\n",
      "TIME=0 - 🙂 Student #4 started working.Work left=266 minutes\n",
      "TIME=0 - 🙂 Student #5 started working.Work left=278 minutes\n",
      "TIME=0 - 🙂 Student #6 started working.Work left=288 minutes\n",
      "TIME=0 - 🙂 Student #7 started working.Work left=282 minutes\n",
      "TIME=0 - 🙂 Student #8 started working.Work left=287 minutes\n",
      "TIME=0 - 🙂 Student #9 started working.Work left=272 minutes\n",
      "🌑 Power is off at 103 minutes\n",
      "TIME=103 - 😓 Student #0 interrupted by power cut. Task remaining=142 minutes\n",
      "TIME=103 - 😓 Student #1 interrupted by power cut. Task remaining=150 minutes\n",
      "TIME=103 - 😓 Student #2 interrupted by power cut. Task remaining=151 minutes\n",
      "TIME=103 - 😓 Student #3 interrupted by power cut. Task remaining=159 minutes\n",
      "TIME=103 - 😓 Student #4 interrupted by power cut. Task remaining=163 minutes\n",
      "TIME=103 - 😓 Student #5 interrupted by power cut. Task remaining=175 minutes\n",
      "TIME=103 - 😓 Student #6 interrupted by power cut. Task remaining=185 minutes\n",
      "TIME=103 - 😓 Student #7 interrupted by power cut. Task remaining=179 minutes\n",
      "TIME=103 - 😓 Student #8 interrupted by power cut. Task remaining=184 minutes\n",
      "TIME=103 - 😓 Student #9 interrupted by power cut. Task remaining=169 minutes\n",
      "TIME=108 - 😴 Student #0 slept. Assignment pending. Work left was=142 minutes\n",
      "TIME=108 - 😴 Student #2 slept. Assignment pending. Work left was=151 minutes\n",
      "TIME=108 - 😴 Student #3 slept. Assignment pending. Work left was=159 minutes\n",
      "TIME=108 - 😴 Student #4 slept. Assignment pending. Work left was=163 minutes\n",
      "TIME=108 - 😴 Student #5 slept. Assignment pending. Work left was=175 minutes\n",
      "TIME=108 - 😴 Student #7 slept. Assignment pending. Work left was=179 minutes\n",
      "TIME=108 - 😴 Student #8 slept. Assignment pending. Work left was=184 minutes\n",
      "TIME=108 - 😴 Student #9 slept. Assignment pending. Work left was=169 minutes\n",
      "🌕 Power is on at 116 minutes\n",
      "TIME=116 - 😃 Student #1 resumes working. Work left to do=150 minutes\n",
      "TIME=116 - 😃 Student #6 resumes working. Work left to do=185 minutes\n",
      "🌑 Power is off at 179 minutes\n",
      "TIME=179 - 😓 Student #1 interrupted by power cut. Task remaining=87 minutes\n",
      "TIME=179 - 😓 Student #6 interrupted by power cut. Task remaining=122 minutes\n",
      "TIME=184 - 😴 Student #1 slept. Assignment pending. Work left was=87 minutes\n",
      "TIME=184 - 😴 Student #6 slept. Assignment pending. Work left was=122 minutes\n",
      "🌕 Power is on at 193 minutes\n",
      "🌑 Power is off at 281 minutes\n",
      "🌕 Power is on at 295 minutes\n",
      "🌑 Power is off at 405 minutes\n",
      "🌕 Power is on at 418 minutes\n",
      "The time is 420 minutes\n",
      "The time is 420 minutes\n"
     ]
    },
    {
     "data": {
      "text/plain": [
       "<ConditionValue {<Process(timeduration) object at 0x1fecfb46cd0>: None}>"
      ]
     },
     "execution_count": 8,
     "metadata": {},
     "output_type": "execute_result"
    },
    {
     "name": "stdout",
     "output_type": "stream",
     "text": [
      "\n",
      "\n"
     ]
    },
    {
     "data": {
      "text/plain": [
       "'Summary of the simulation'"
      ]
     },
     "execution_count": 8,
     "metadata": {},
     "output_type": "execute_result"
    },
    {
     "name": "stdout",
     "output_type": "stream",
     "text": [
      "-----------------------------------------------------------------------------\n",
      "                     📊Summary of the simulation📊                     \n",
      "-----------------------------------------------------------------------------\n",
      "Number of students who finished assignment on time 🥳                  0\n",
      "Number of students who Slept😴                                         10\n",
      "Number of students👦                                                   10\n",
      "Percentage of students who finished assignment on time (in %)         0.0\n",
      "Average time to finish assignment                                     301.66\n",
      "Number of power cuts🌑🌕                                                274\n",
      "-----------------------------------------------------------------------------\n",
      "🌕 Power is on at 0 minutes\n",
      "TIME=0 - 🙂 Student #0 started working.Work left=274 minutes\n",
      "TIME=0 - 🙂 Student #1 started working.Work left=270 minutes\n",
      "TIME=0 - 🙂 Student #2 started working.Work left=260 minutes\n",
      "TIME=0 - 🙂 Student #3 started working.Work left=283 minutes\n",
      "TIME=0 - 🙂 Student #4 started working.Work left=272 minutes\n",
      "TIME=0 - 🙂 Student #5 started working.Work left=249 minutes\n",
      "TIME=0 - 🙂 Student #6 started working.Work left=248 minutes\n",
      "TIME=0 - 🙂 Student #7 started working.Work left=263 minutes\n",
      "TIME=0 - 🙂 Student #8 started working.Work left=281 minutes\n",
      "TIME=0 - 🙂 Student #9 started working.Work left=240 minutes\n",
      "🌑 Power is off at 61 minutes\n",
      "TIME=61 - 😓 Student #0 interrupted by power cut. Task remaining=213 minutes\n",
      "TIME=61 - 😓 Student #1 interrupted by power cut. Task remaining=209 minutes\n",
      "TIME=61 - 😓 Student #2 interrupted by power cut. Task remaining=199 minutes\n",
      "TIME=61 - 😓 Student #3 interrupted by power cut. Task remaining=222 minutes\n",
      "TIME=61 - 😓 Student #4 interrupted by power cut. Task remaining=211 minutes\n",
      "TIME=61 - 😓 Student #5 interrupted by power cut. Task remaining=188 minutes\n",
      "TIME=61 - 😓 Student #6 interrupted by power cut. Task remaining=187 minutes\n",
      "TIME=61 - 😓 Student #7 interrupted by power cut. Task remaining=202 minutes\n",
      "TIME=61 - 😓 Student #8 interrupted by power cut. Task remaining=220 minutes\n",
      "TIME=61 - 😓 Student #9 interrupted by power cut. Task remaining=179 minutes\n",
      "TIME=66 - 😴 Student #0 slept. Assignment pending. Work left was=213 minutes\n",
      "TIME=66 - 😴 Student #1 slept. Assignment pending. Work left was=209 minutes\n",
      "TIME=66 - 😴 Student #2 slept. Assignment pending. Work left was=199 minutes\n",
      "TIME=66 - 😴 Student #4 slept. Assignment pending. Work left was=211 minutes\n",
      "TIME=66 - 😴 Student #5 slept. Assignment pending. Work left was=188 minutes\n",
      "TIME=66 - 😴 Student #6 slept. Assignment pending. Work left was=187 minutes\n",
      "TIME=66 - 😴 Student #8 slept. Assignment pending. Work left was=220 minutes\n",
      "TIME=66 - 😴 Student #9 slept. Assignment pending. Work left was=179 minutes\n",
      "🌕 Power is on at 73 minutes\n",
      "TIME=73 - 😃 Student #3 resumes working. Work left to do=222 minutes\n",
      "TIME=73 - 😃 Student #7 resumes working. Work left to do=202 minutes\n",
      "🌑 Power is off at 144 minutes\n",
      "TIME=144 - 😓 Student #3 interrupted by power cut. Task remaining=151 minutes\n",
      "TIME=144 - 😓 Student #7 interrupted by power cut. Task remaining=131 minutes\n",
      "TIME=149 - 😴 Student #3 slept. Assignment pending. Work left was=151 minutes\n",
      "TIME=149 - 😴 Student #7 slept. Assignment pending. Work left was=131 minutes\n",
      "🌕 Power is on at 159 minutes\n",
      "🌑 Power is off at 239 minutes\n",
      "🌕 Power is on at 253 minutes\n",
      "🌑 Power is off at 317 minutes\n",
      "🌕 Power is on at 329 minutes\n",
      "🌑 Power is off at 402 minutes\n",
      "🌕 Power is on at 414 minutes\n",
      "The time is 420 minutes\n",
      "The time is 420 minutes\n"
     ]
    },
    {
     "data": {
      "text/plain": [
       "<ConditionValue {<Process(timeduration) object at 0x1fecfb46160>: None}>"
      ]
     },
     "execution_count": 8,
     "metadata": {},
     "output_type": "execute_result"
    },
    {
     "name": "stdout",
     "output_type": "stream",
     "text": [
      "\n",
      "\n"
     ]
    },
    {
     "data": {
      "text/plain": [
       "'Summary of the simulation'"
      ]
     },
     "execution_count": 8,
     "metadata": {},
     "output_type": "execute_result"
    },
    {
     "name": "stdout",
     "output_type": "stream",
     "text": [
      "-----------------------------------------------------------------------------\n",
      "                     📊Summary of the simulation📊                     \n",
      "-----------------------------------------------------------------------------\n",
      "Number of students who finished assignment on time 🥳                  0\n",
      "Number of students who Slept😴                                         10\n",
      "Number of students👦                                                   10\n",
      "Percentage of students who finished assignment on time (in %)         0.0\n",
      "Average time to finish assignment                                     301.66\n",
      "Number of power cuts🌑🌕                                                279\n",
      "-----------------------------------------------------------------------------\n",
      "🌕 Power is on at 0 minutes\n",
      "TIME=0 - 🙂 Student #0 started working.Work left=279 minutes\n",
      "TIME=0 - 🙂 Student #1 started working.Work left=258 minutes\n",
      "TIME=0 - 🙂 Student #2 started working.Work left=298 minutes\n",
      "TIME=0 - 🙂 Student #3 started working.Work left=242 minutes\n",
      "TIME=0 - 🙂 Student #4 started working.Work left=255 minutes\n",
      "TIME=0 - 🙂 Student #5 started working.Work left=244 minutes\n",
      "TIME=0 - 🙂 Student #6 started working.Work left=293 minutes\n",
      "TIME=0 - 🙂 Student #7 started working.Work left=253 minutes\n",
      "TIME=0 - 🙂 Student #8 started working.Work left=295 minutes\n",
      "TIME=0 - 🙂 Student #9 started working.Work left=248 minutes\n",
      "🌑 Power is off at 65 minutes\n",
      "TIME=65 - 😓 Student #0 interrupted by power cut. Task remaining=214 minutes\n",
      "TIME=65 - 😓 Student #1 interrupted by power cut. Task remaining=193 minutes\n",
      "TIME=65 - 😓 Student #2 interrupted by power cut. Task remaining=233 minutes\n",
      "TIME=65 - 😓 Student #3 interrupted by power cut. Task remaining=177 minutes\n",
      "TIME=65 - 😓 Student #4 interrupted by power cut. Task remaining=190 minutes\n",
      "TIME=65 - 😓 Student #5 interrupted by power cut. Task remaining=179 minutes\n",
      "TIME=65 - 😓 Student #6 interrupted by power cut. Task remaining=228 minutes\n",
      "TIME=65 - 😓 Student #7 interrupted by power cut. Task remaining=188 minutes\n",
      "TIME=65 - 😓 Student #8 interrupted by power cut. Task remaining=230 minutes\n",
      "TIME=65 - 😓 Student #9 interrupted by power cut. Task remaining=183 minutes\n",
      "TIME=70 - 😴 Student #0 slept. Assignment pending. Work left was=214 minutes\n",
      "TIME=70 - 😴 Student #2 slept. Assignment pending. Work left was=233 minutes\n",
      "TIME=70 - 😴 Student #4 slept. Assignment pending. Work left was=190 minutes\n",
      "TIME=70 - 😴 Student #5 slept. Assignment pending. Work left was=179 minutes\n",
      "TIME=70 - 😴 Student #7 slept. Assignment pending. Work left was=188 minutes\n",
      "TIME=70 - 😴 Student #8 slept. Assignment pending. Work left was=230 minutes\n",
      "🌕 Power is on at 80 minutes\n",
      "TIME=80 - 😃 Student #1 resumes working. Work left to do=193 minutes\n",
      "TIME=80 - 😃 Student #3 resumes working. Work left to do=177 minutes\n",
      "TIME=80 - 😃 Student #6 resumes working. Work left to do=228 minutes\n",
      "TIME=80 - 😃 Student #9 resumes working. Work left to do=183 minutes\n",
      "🌑 Power is off at 168 minutes\n",
      "TIME=168 - 😓 Student #1 interrupted by power cut. Task remaining=105 minutes\n",
      "TIME=168 - 😓 Student #3 interrupted by power cut. Task remaining=89 minutes\n",
      "TIME=168 - 😓 Student #6 interrupted by power cut. Task remaining=140 minutes\n",
      "TIME=168 - 😓 Student #9 interrupted by power cut. Task remaining=95 minutes\n",
      "TIME=173 - 😴 Student #1 slept. Assignment pending. Work left was=105 minutes\n",
      "TIME=173 - 😴 Student #3 slept. Assignment pending. Work left was=89 minutes\n",
      "TIME=173 - 😴 Student #6 slept. Assignment pending. Work left was=140 minutes\n",
      "TIME=173 - 😴 Student #9 slept. Assignment pending. Work left was=95 minutes\n",
      "🌕 Power is on at 180 minutes\n",
      "🌑 Power is off at 289 minutes\n",
      "🌕 Power is on at 304 minutes\n",
      "🌑 Power is off at 395 minutes\n",
      "🌕 Power is on at 406 minutes\n",
      "The time is 420 minutes\n",
      "The time is 420 minutes\n"
     ]
    },
    {
     "data": {
      "text/plain": [
       "<ConditionValue {<Process(timeduration) object at 0x1fed1fc6340>: None}>"
      ]
     },
     "execution_count": 8,
     "metadata": {},
     "output_type": "execute_result"
    },
    {
     "name": "stdout",
     "output_type": "stream",
     "text": [
      "\n",
      "\n"
     ]
    },
    {
     "data": {
      "text/plain": [
       "'Summary of the simulation'"
      ]
     },
     "execution_count": 8,
     "metadata": {},
     "output_type": "execute_result"
    },
    {
     "name": "stdout",
     "output_type": "stream",
     "text": [
      "-----------------------------------------------------------------------------\n",
      "                     📊Summary of the simulation📊                     \n",
      "-----------------------------------------------------------------------------\n",
      "Number of students who finished assignment on time 🥳                  0\n",
      "Number of students who Slept😴                                         10\n",
      "Number of students👦                                                   10\n",
      "Percentage of students who finished assignment on time (in %)         0.0\n",
      "Average time to finish assignment                                     301.66\n",
      "Number of power cuts🌑🌕                                                283\n",
      "-----------------------------------------------------------------------------\n",
      "🌕 Power is on at 0 minutes\n",
      "TIME=0 - 🙂 Student #0 started working.Work left=281 minutes\n",
      "TIME=0 - 🙂 Student #1 started working.Work left=266 minutes\n",
      "TIME=0 - 🙂 Student #2 started working.Work left=278 minutes\n",
      "TIME=0 - 🙂 Student #3 started working.Work left=258 minutes\n",
      "TIME=0 - 🙂 Student #4 started working.Work left=243 minutes\n",
      "TIME=0 - 🙂 Student #5 started working.Work left=276 minutes\n",
      "TIME=0 - 🙂 Student #6 started working.Work left=291 minutes\n",
      "TIME=0 - 🙂 Student #7 started working.Work left=287 minutes\n",
      "TIME=0 - 🙂 Student #8 started working.Work left=262 minutes\n",
      "TIME=0 - 🙂 Student #9 started working.Work left=296 minutes\n",
      "🌑 Power is off at 113 minutes\n",
      "TIME=113 - 😓 Student #0 interrupted by power cut. Task remaining=168 minutes\n",
      "TIME=113 - 😓 Student #1 interrupted by power cut. Task remaining=153 minutes\n",
      "TIME=113 - 😓 Student #2 interrupted by power cut. Task remaining=165 minutes\n",
      "TIME=113 - 😓 Student #3 interrupted by power cut. Task remaining=145 minutes\n",
      "TIME=113 - 😓 Student #4 interrupted by power cut. Task remaining=130 minutes\n",
      "TIME=113 - 😓 Student #5 interrupted by power cut. Task remaining=163 minutes\n",
      "TIME=113 - 😓 Student #6 interrupted by power cut. Task remaining=178 minutes\n",
      "TIME=113 - 😓 Student #7 interrupted by power cut. Task remaining=174 minutes\n",
      "TIME=113 - 😓 Student #8 interrupted by power cut. Task remaining=149 minutes\n",
      "TIME=113 - 😓 Student #9 interrupted by power cut. Task remaining=183 minutes\n",
      "TIME=118 - 😴 Student #1 slept. Assignment pending. Work left was=153 minutes\n",
      "TIME=118 - 😴 Student #3 slept. Assignment pending. Work left was=145 minutes\n",
      "TIME=118 - 😴 Student #4 slept. Assignment pending. Work left was=130 minutes\n",
      "TIME=118 - 😴 Student #5 slept. Assignment pending. Work left was=163 minutes\n",
      "TIME=118 - 😴 Student #8 slept. Assignment pending. Work left was=149 minutes\n",
      "TIME=118 - 😴 Student #9 slept. Assignment pending. Work left was=183 minutes\n",
      "🌕 Power is on at 125 minutes\n",
      "TIME=125 - 😃 Student #0 resumes working. Work left to do=168 minutes\n",
      "TIME=125 - 😃 Student #2 resumes working. Work left to do=165 minutes\n",
      "TIME=125 - 😃 Student #6 resumes working. Work left to do=178 minutes\n",
      "TIME=125 - 😃 Student #7 resumes working. Work left to do=174 minutes\n",
      "🌑 Power is off at 229 minutes\n",
      "TIME=229 - 😓 Student #0 interrupted by power cut. Task remaining=64 minutes\n",
      "TIME=229 - 😓 Student #2 interrupted by power cut. Task remaining=61 minutes\n",
      "TIME=229 - 😓 Student #6 interrupted by power cut. Task remaining=74 minutes\n",
      "TIME=229 - 😓 Student #7 interrupted by power cut. Task remaining=70 minutes\n",
      "TIME=234 - 😴 Student #0 slept. Assignment pending. Work left was=64 minutes\n",
      "TIME=234 - 😴 Student #6 slept. Assignment pending. Work left was=74 minutes\n",
      "🌕 Power is on at 243 minutes\n",
      "TIME=243 - 😃 Student #2 resumes working. Work left to do=61 minutes\n",
      "TIME=243 - 😃 Student #7 resumes working. Work left to do=70 minutes\n",
      "TIME=304 - 🥳 Student #2 finished working.\n",
      "TIME=313 - 🥳 Student #7 finished working.\n",
      "🌑 Power is off at 314 minutes\n",
      "🌕 Power is on at 326 minutes\n",
      "The time is 420 minutes\n",
      "The time is 420 minutes\n"
     ]
    },
    {
     "data": {
      "text/plain": [
       "<ConditionValue {<Process(timeduration) object at 0x1fed1fc6b80>: None}>"
      ]
     },
     "execution_count": 8,
     "metadata": {},
     "output_type": "execute_result"
    },
    {
     "name": "stdout",
     "output_type": "stream",
     "text": [
      "\n",
      "\n"
     ]
    },
    {
     "data": {
      "text/plain": [
       "'Summary of the simulation'"
      ]
     },
     "execution_count": 8,
     "metadata": {},
     "output_type": "execute_result"
    },
    {
     "name": "stdout",
     "output_type": "stream",
     "text": [
      "-----------------------------------------------------------------------------\n",
      "                     📊Summary of the simulation📊                     \n",
      "-----------------------------------------------------------------------------\n",
      "Number of students who finished assignment on time 🥳                  2\n",
      "Number of students who Slept😴                                         8\n",
      "Number of students👦                                                   10\n",
      "Percentage of students who finished assignment on time (in %)         20.0\n",
      "Average time to finish assignment                                     301.71\n",
      "Number of power cuts🌑🌕                                                286\n",
      "-----------------------------------------------------------------------------\n",
      "🌕 Power is on at 0 minutes\n",
      "TIME=0 - 🙂 Student #0 started working.Work left=267 minutes\n",
      "TIME=0 - 🙂 Student #1 started working.Work left=296 minutes\n",
      "TIME=0 - 🙂 Student #2 started working.Work left=279 minutes\n",
      "TIME=0 - 🙂 Student #3 started working.Work left=251 minutes\n",
      "TIME=0 - 🙂 Student #4 started working.Work left=277 minutes\n",
      "TIME=0 - 🙂 Student #5 started working.Work left=240 minutes\n",
      "TIME=0 - 🙂 Student #6 started working.Work left=255 minutes\n",
      "TIME=0 - 🙂 Student #7 started working.Work left=259 minutes\n",
      "TIME=0 - 🙂 Student #8 started working.Work left=242 minutes\n",
      "TIME=0 - 🙂 Student #9 started working.Work left=298 minutes\n",
      "🌑 Power is off at 74 minutes\n",
      "TIME=74 - 😓 Student #0 interrupted by power cut. Task remaining=193 minutes\n",
      "TIME=74 - 😓 Student #1 interrupted by power cut. Task remaining=222 minutes\n",
      "TIME=74 - 😓 Student #2 interrupted by power cut. Task remaining=205 minutes\n",
      "TIME=74 - 😓 Student #3 interrupted by power cut. Task remaining=177 minutes\n",
      "TIME=74 - 😓 Student #4 interrupted by power cut. Task remaining=203 minutes\n",
      "TIME=74 - 😓 Student #5 interrupted by power cut. Task remaining=166 minutes\n",
      "TIME=74 - 😓 Student #6 interrupted by power cut. Task remaining=181 minutes\n",
      "TIME=74 - 😓 Student #7 interrupted by power cut. Task remaining=185 minutes\n",
      "TIME=74 - 😓 Student #8 interrupted by power cut. Task remaining=168 minutes\n",
      "TIME=74 - 😓 Student #9 interrupted by power cut. Task remaining=224 minutes\n",
      "TIME=79 - 😴 Student #1 slept. Assignment pending. Work left was=222 minutes\n",
      "TIME=79 - 😴 Student #2 slept. Assignment pending. Work left was=205 minutes\n",
      "TIME=79 - 😴 Student #3 slept. Assignment pending. Work left was=177 minutes\n",
      "TIME=79 - 😴 Student #4 slept. Assignment pending. Work left was=203 minutes\n",
      "TIME=79 - 😴 Student #6 slept. Assignment pending. Work left was=181 minutes\n",
      "TIME=79 - 😴 Student #7 slept. Assignment pending. Work left was=185 minutes\n",
      "TIME=79 - 😴 Student #9 slept. Assignment pending. Work left was=224 minutes\n",
      "🌕 Power is on at 85 minutes\n",
      "TIME=85 - 😃 Student #0 resumes working. Work left to do=193 minutes\n",
      "TIME=85 - 😃 Student #5 resumes working. Work left to do=166 minutes\n",
      "TIME=85 - 😃 Student #8 resumes working. Work left to do=168 minutes\n",
      "🌑 Power is off at 187 minutes\n",
      "TIME=187 - 😓 Student #0 interrupted by power cut. Task remaining=91 minutes\n",
      "TIME=187 - 😓 Student #5 interrupted by power cut. Task remaining=64 minutes\n",
      "TIME=187 - 😓 Student #8 interrupted by power cut. Task remaining=66 minutes\n",
      "TIME=192 - 😴 Student #0 slept. Assignment pending. Work left was=91 minutes\n",
      "TIME=192 - 😴 Student #5 slept. Assignment pending. Work left was=64 minutes\n",
      "TIME=192 - 😴 Student #8 slept. Assignment pending. Work left was=66 minutes\n",
      "🌕 Power is on at 198 minutes\n",
      "🌑 Power is off at 315 minutes\n",
      "🌕 Power is on at 330 minutes\n",
      "🌑 Power is off at 403 minutes\n",
      "🌕 Power is on at 417 minutes\n",
      "The time is 420 minutes\n",
      "The time is 420 minutes\n"
     ]
    },
    {
     "data": {
      "text/plain": [
       "<ConditionValue {<Process(timeduration) object at 0x1fed1fbd7c0>: None}>"
      ]
     },
     "execution_count": 8,
     "metadata": {},
     "output_type": "execute_result"
    },
    {
     "name": "stdout",
     "output_type": "stream",
     "text": [
      "\n",
      "\n"
     ]
    },
    {
     "data": {
      "text/plain": [
       "'Summary of the simulation'"
      ]
     },
     "execution_count": 8,
     "metadata": {},
     "output_type": "execute_result"
    },
    {
     "name": "stdout",
     "output_type": "stream",
     "text": [
      "-----------------------------------------------------------------------------\n",
      "                     📊Summary of the simulation📊                     \n",
      "-----------------------------------------------------------------------------\n",
      "Number of students who finished assignment on time 🥳                  0\n",
      "Number of students who Slept😴                                         10\n",
      "Number of students👦                                                   10\n",
      "Percentage of students who finished assignment on time (in %)         0.0\n",
      "Average time to finish assignment                                     301.71\n",
      "Number of power cuts🌑🌕                                                290\n",
      "-----------------------------------------------------------------------------\n",
      "🌕 Power is on at 0 minutes\n",
      "TIME=0 - 🙂 Student #0 started working.Work left=291 minutes\n",
      "TIME=0 - 🙂 Student #1 started working.Work left=258 minutes\n",
      "TIME=0 - 🙂 Student #2 started working.Work left=246 minutes\n",
      "TIME=0 - 🙂 Student #3 started working.Work left=270 minutes\n",
      "TIME=0 - 🙂 Student #4 started working.Work left=284 minutes\n",
      "TIME=0 - 🙂 Student #5 started working.Work left=298 minutes\n",
      "TIME=0 - 🙂 Student #6 started working.Work left=271 minutes\n",
      "TIME=0 - 🙂 Student #7 started working.Work left=274 minutes\n",
      "TIME=0 - 🙂 Student #8 started working.Work left=254 minutes\n",
      "TIME=0 - 🙂 Student #9 started working.Work left=259 minutes\n",
      "🌑 Power is off at 99 minutes\n",
      "TIME=99 - 😓 Student #0 interrupted by power cut. Task remaining=192 minutes\n",
      "TIME=99 - 😓 Student #1 interrupted by power cut. Task remaining=159 minutes\n",
      "TIME=99 - 😓 Student #2 interrupted by power cut. Task remaining=147 minutes\n",
      "TIME=99 - 😓 Student #3 interrupted by power cut. Task remaining=171 minutes\n",
      "TIME=99 - 😓 Student #4 interrupted by power cut. Task remaining=185 minutes\n",
      "TIME=99 - 😓 Student #5 interrupted by power cut. Task remaining=199 minutes\n",
      "TIME=99 - 😓 Student #6 interrupted by power cut. Task remaining=172 minutes\n",
      "TIME=99 - 😓 Student #7 interrupted by power cut. Task remaining=175 minutes\n",
      "TIME=99 - 😓 Student #8 interrupted by power cut. Task remaining=155 minutes\n",
      "TIME=99 - 😓 Student #9 interrupted by power cut. Task remaining=160 minutes\n",
      "TIME=104 - 😴 Student #1 slept. Assignment pending. Work left was=159 minutes\n",
      "TIME=104 - 😴 Student #2 slept. Assignment pending. Work left was=147 minutes\n",
      "TIME=104 - 😴 Student #3 slept. Assignment pending. Work left was=171 minutes\n",
      "TIME=104 - 😴 Student #5 slept. Assignment pending. Work left was=199 minutes\n",
      "TIME=104 - 😴 Student #6 slept. Assignment pending. Work left was=172 minutes\n",
      "TIME=104 - 😴 Student #8 slept. Assignment pending. Work left was=155 minutes\n",
      "TIME=104 - 😴 Student #9 slept. Assignment pending. Work left was=160 minutes\n",
      "🌕 Power is on at 109 minutes\n",
      "TIME=109 - 😃 Student #0 resumes working. Work left to do=192 minutes\n",
      "TIME=109 - 😃 Student #4 resumes working. Work left to do=185 minutes\n",
      "TIME=109 - 😃 Student #7 resumes working. Work left to do=175 minutes\n",
      "🌑 Power is off at 176 minutes\n",
      "TIME=176 - 😓 Student #0 interrupted by power cut. Task remaining=125 minutes\n",
      "TIME=176 - 😓 Student #4 interrupted by power cut. Task remaining=118 minutes\n",
      "TIME=176 - 😓 Student #7 interrupted by power cut. Task remaining=108 minutes\n",
      "TIME=181 - 😴 Student #0 slept. Assignment pending. Work left was=125 minutes\n",
      "TIME=181 - 😴 Student #4 slept. Assignment pending. Work left was=118 minutes\n",
      "TIME=181 - 😴 Student #7 slept. Assignment pending. Work left was=108 minutes\n",
      "🌕 Power is on at 191 minutes\n",
      "🌑 Power is off at 305 minutes\n",
      "🌕 Power is on at 319 minutes\n",
      "🌑 Power is off at 416 minutes\n",
      "The time is 420 minutes\n",
      "The time is 420 minutes\n"
     ]
    },
    {
     "data": {
      "text/plain": [
       "<ConditionValue {<Process(timeduration) object at 0x1fed1fc6640>: None}>"
      ]
     },
     "execution_count": 8,
     "metadata": {},
     "output_type": "execute_result"
    },
    {
     "name": "stdout",
     "output_type": "stream",
     "text": [
      "\n",
      "\n"
     ]
    },
    {
     "data": {
      "text/plain": [
       "'Summary of the simulation'"
      ]
     },
     "execution_count": 8,
     "metadata": {},
     "output_type": "execute_result"
    },
    {
     "name": "stdout",
     "output_type": "stream",
     "text": [
      "-----------------------------------------------------------------------------\n",
      "                     📊Summary of the simulation📊                     \n",
      "-----------------------------------------------------------------------------\n",
      "Number of students who finished assignment on time 🥳                  0\n",
      "Number of students who Slept😴                                         10\n",
      "Number of students👦                                                   10\n",
      "Percentage of students who finished assignment on time (in %)         0.0\n",
      "Average time to finish assignment                                     301.71\n",
      "Number of power cuts🌑🌕                                                294\n",
      "-----------------------------------------------------------------------------\n",
      "🌕 Power is on at 0 minutes\n",
      "TIME=0 - 🙂 Student #0 started working.Work left=288 minutes\n",
      "TIME=0 - 🙂 Student #1 started working.Work left=254 minutes\n",
      "TIME=0 - 🙂 Student #2 started working.Work left=287 minutes\n",
      "TIME=0 - 🙂 Student #3 started working.Work left=263 minutes\n",
      "TIME=0 - 🙂 Student #4 started working.Work left=290 minutes\n",
      "TIME=0 - 🙂 Student #5 started working.Work left=260 minutes\n",
      "TIME=0 - 🙂 Student #6 started working.Work left=251 minutes\n",
      "TIME=0 - 🙂 Student #7 started working.Work left=293 minutes\n",
      "TIME=0 - 🙂 Student #8 started working.Work left=260 minutes\n",
      "TIME=0 - 🙂 Student #9 started working.Work left=278 minutes\n",
      "🌑 Power is off at 62 minutes\n",
      "TIME=62 - 😓 Student #0 interrupted by power cut. Task remaining=226 minutes\n",
      "TIME=62 - 😓 Student #1 interrupted by power cut. Task remaining=192 minutes\n",
      "TIME=62 - 😓 Student #2 interrupted by power cut. Task remaining=225 minutes\n",
      "TIME=62 - 😓 Student #3 interrupted by power cut. Task remaining=201 minutes\n",
      "TIME=62 - 😓 Student #4 interrupted by power cut. Task remaining=228 minutes\n",
      "TIME=62 - 😓 Student #5 interrupted by power cut. Task remaining=198 minutes\n",
      "TIME=62 - 😓 Student #6 interrupted by power cut. Task remaining=189 minutes\n",
      "TIME=62 - 😓 Student #7 interrupted by power cut. Task remaining=231 minutes\n",
      "TIME=62 - 😓 Student #8 interrupted by power cut. Task remaining=198 minutes\n",
      "TIME=62 - 😓 Student #9 interrupted by power cut. Task remaining=216 minutes\n",
      "TIME=67 - 😴 Student #1 slept. Assignment pending. Work left was=192 minutes\n",
      "TIME=67 - 😴 Student #3 slept. Assignment pending. Work left was=201 minutes\n",
      "TIME=67 - 😴 Student #4 slept. Assignment pending. Work left was=228 minutes\n",
      "TIME=67 - 😴 Student #5 slept. Assignment pending. Work left was=198 minutes\n",
      "TIME=67 - 😴 Student #6 slept. Assignment pending. Work left was=189 minutes\n",
      "TIME=67 - 😴 Student #7 slept. Assignment pending. Work left was=231 minutes\n",
      "TIME=67 - 😴 Student #8 slept. Assignment pending. Work left was=198 minutes\n",
      "🌕 Power is on at 76 minutes\n",
      "TIME=76 - 😃 Student #0 resumes working. Work left to do=226 minutes\n",
      "TIME=76 - 😃 Student #2 resumes working. Work left to do=225 minutes\n",
      "TIME=76 - 😃 Student #9 resumes working. Work left to do=216 minutes\n",
      "🌑 Power is off at 182 minutes\n",
      "TIME=182 - 😓 Student #0 interrupted by power cut. Task remaining=120 minutes\n",
      "TIME=182 - 😓 Student #2 interrupted by power cut. Task remaining=119 minutes\n",
      "TIME=182 - 😓 Student #9 interrupted by power cut. Task remaining=110 minutes\n",
      "TIME=187 - 😴 Student #0 slept. Assignment pending. Work left was=120 minutes\n",
      "TIME=187 - 😴 Student #9 slept. Assignment pending. Work left was=110 minutes\n",
      "🌕 Power is on at 195 minutes\n",
      "TIME=195 - 😃 Student #2 resumes working. Work left to do=119 minutes\n",
      "🌑 Power is off at 259 minutes\n",
      "TIME=259 - 😓 Student #2 interrupted by power cut. Task remaining=55 minutes\n",
      "🌕 Power is on at 271 minutes\n",
      "TIME=271 - 😃 Student #2 resumes working. Work left to do=55 minutes\n",
      "TIME=326 - 🥳 Student #2 finished working.\n",
      "🌑 Power is off at 389 minutes\n",
      "🌕 Power is on at 399 minutes\n",
      "The time is 420 minutes\n",
      "The time is 420 minutes\n"
     ]
    },
    {
     "data": {
      "text/plain": [
       "<ConditionValue {<Process(timeduration) object at 0x1fecfba3c70>: None}>"
      ]
     },
     "execution_count": 8,
     "metadata": {},
     "output_type": "execute_result"
    },
    {
     "name": "stdout",
     "output_type": "stream",
     "text": [
      "\n",
      "\n"
     ]
    },
    {
     "data": {
      "text/plain": [
       "'Summary of the simulation'"
      ]
     },
     "execution_count": 8,
     "metadata": {},
     "output_type": "execute_result"
    },
    {
     "name": "stdout",
     "output_type": "stream",
     "text": [
      "-----------------------------------------------------------------------------\n",
      "                     📊Summary of the simulation📊                     \n",
      "-----------------------------------------------------------------------------\n",
      "Number of students who finished assignment on time 🥳                  1\n",
      "Number of students who Slept😴                                         9\n",
      "Number of students👦                                                   10\n",
      "Percentage of students who finished assignment on time (in %)         10.0\n",
      "Average time to finish assignment                                     301.81\n",
      "Number of power cuts🌑🌕                                                298\n",
      "-----------------------------------------------------------------------------\n",
      "🌕 Power is on at 0 minutes\n",
      "TIME=0 - 🙂 Student #0 started working.Work left=286 minutes\n",
      "TIME=0 - 🙂 Student #1 started working.Work left=246 minutes\n",
      "TIME=0 - 🙂 Student #2 started working.Work left=277 minutes\n",
      "TIME=0 - 🙂 Student #3 started working.Work left=299 minutes\n",
      "TIME=0 - 🙂 Student #4 started working.Work left=279 minutes\n",
      "TIME=0 - 🙂 Student #5 started working.Work left=259 minutes\n",
      "TIME=0 - 🙂 Student #6 started working.Work left=286 minutes\n",
      "TIME=0 - 🙂 Student #7 started working.Work left=279 minutes\n",
      "TIME=0 - 🙂 Student #8 started working.Work left=261 minutes\n",
      "TIME=0 - 🙂 Student #9 started working.Work left=276 minutes\n",
      "🌑 Power is off at 113 minutes\n",
      "TIME=113 - 😓 Student #0 interrupted by power cut. Task remaining=173 minutes\n",
      "TIME=113 - 😓 Student #1 interrupted by power cut. Task remaining=133 minutes\n",
      "TIME=113 - 😓 Student #2 interrupted by power cut. Task remaining=164 minutes\n",
      "TIME=113 - 😓 Student #3 interrupted by power cut. Task remaining=186 minutes\n",
      "TIME=113 - 😓 Student #4 interrupted by power cut. Task remaining=166 minutes\n",
      "TIME=113 - 😓 Student #5 interrupted by power cut. Task remaining=146 minutes\n",
      "TIME=113 - 😓 Student #6 interrupted by power cut. Task remaining=173 minutes\n",
      "TIME=113 - 😓 Student #7 interrupted by power cut. Task remaining=166 minutes\n",
      "TIME=113 - 😓 Student #8 interrupted by power cut. Task remaining=148 minutes\n",
      "TIME=113 - 😓 Student #9 interrupted by power cut. Task remaining=163 minutes\n",
      "TIME=118 - 😴 Student #1 slept. Assignment pending. Work left was=133 minutes\n",
      "TIME=118 - 😴 Student #2 slept. Assignment pending. Work left was=164 minutes\n",
      "TIME=118 - 😴 Student #3 slept. Assignment pending. Work left was=186 minutes\n",
      "TIME=118 - 😴 Student #4 slept. Assignment pending. Work left was=166 minutes\n",
      "TIME=118 - 😴 Student #5 slept. Assignment pending. Work left was=146 minutes\n",
      "TIME=118 - 😴 Student #6 slept. Assignment pending. Work left was=173 minutes\n",
      "TIME=118 - 😴 Student #7 slept. Assignment pending. Work left was=166 minutes\n",
      "TIME=118 - 😴 Student #8 slept. Assignment pending. Work left was=148 minutes\n",
      "🌕 Power is on at 126 minutes\n",
      "TIME=126 - 😃 Student #0 resumes working. Work left to do=173 minutes\n",
      "TIME=126 - 😃 Student #9 resumes working. Work left to do=163 minutes\n",
      "🌑 Power is off at 204 minutes\n",
      "TIME=204 - 😓 Student #0 interrupted by power cut. Task remaining=95 minutes\n",
      "TIME=204 - 😓 Student #9 interrupted by power cut. Task remaining=85 minutes\n",
      "TIME=209 - 😴 Student #0 slept. Assignment pending. Work left was=95 minutes\n",
      "TIME=209 - 😴 Student #9 slept. Assignment pending. Work left was=85 minutes\n",
      "🌕 Power is on at 218 minutes\n",
      "🌑 Power is off at 285 minutes\n",
      "🌕 Power is on at 295 minutes\n",
      "🌑 Power is off at 394 minutes\n",
      "🌕 Power is on at 404 minutes\n",
      "The time is 420 minutes\n",
      "The time is 420 minutes\n"
     ]
    },
    {
     "data": {
      "text/plain": [
       "<ConditionValue {<Process(timeduration) object at 0x1fecfba3a90>: None}>"
      ]
     },
     "execution_count": 8,
     "metadata": {},
     "output_type": "execute_result"
    },
    {
     "name": "stdout",
     "output_type": "stream",
     "text": [
      "\n",
      "\n"
     ]
    },
    {
     "data": {
      "text/plain": [
       "'Summary of the simulation'"
      ]
     },
     "execution_count": 8,
     "metadata": {},
     "output_type": "execute_result"
    },
    {
     "name": "stdout",
     "output_type": "stream",
     "text": [
      "-----------------------------------------------------------------------------\n",
      "                     📊Summary of the simulation📊                     \n",
      "-----------------------------------------------------------------------------\n",
      "Number of students who finished assignment on time 🥳                  0\n",
      "Number of students who Slept😴                                         10\n",
      "Number of students👦                                                   10\n",
      "Percentage of students who finished assignment on time (in %)         0.0\n",
      "Average time to finish assignment                                     301.81\n",
      "Number of power cuts🌑🌕                                                302\n",
      "-----------------------------------------------------------------------------\n",
      "🌕 Power is on at 0 minutes\n",
      "TIME=0 - 🙂 Student #0 started working.Work left=281 minutes\n",
      "TIME=0 - 🙂 Student #1 started working.Work left=298 minutes\n",
      "TIME=0 - 🙂 Student #2 started working.Work left=273 minutes\n",
      "TIME=0 - 🙂 Student #3 started working.Work left=267 minutes\n",
      "TIME=0 - 🙂 Student #4 started working.Work left=294 minutes\n",
      "TIME=0 - 🙂 Student #5 started working.Work left=253 minutes\n",
      "TIME=0 - 🙂 Student #6 started working.Work left=285 minutes\n",
      "TIME=0 - 🙂 Student #7 started working.Work left=272 minutes\n",
      "TIME=0 - 🙂 Student #8 started working.Work left=242 minutes\n",
      "TIME=0 - 🙂 Student #9 started working.Work left=253 minutes\n",
      "🌑 Power is off at 67 minutes\n",
      "TIME=67 - 😓 Student #0 interrupted by power cut. Task remaining=214 minutes\n",
      "TIME=67 - 😓 Student #1 interrupted by power cut. Task remaining=231 minutes\n",
      "TIME=67 - 😓 Student #2 interrupted by power cut. Task remaining=206 minutes\n",
      "TIME=67 - 😓 Student #3 interrupted by power cut. Task remaining=200 minutes\n",
      "TIME=67 - 😓 Student #4 interrupted by power cut. Task remaining=227 minutes\n",
      "TIME=67 - 😓 Student #5 interrupted by power cut. Task remaining=186 minutes\n",
      "TIME=67 - 😓 Student #6 interrupted by power cut. Task remaining=218 minutes\n",
      "TIME=67 - 😓 Student #7 interrupted by power cut. Task remaining=205 minutes\n",
      "TIME=67 - 😓 Student #8 interrupted by power cut. Task remaining=175 minutes\n",
      "TIME=67 - 😓 Student #9 interrupted by power cut. Task remaining=186 minutes\n",
      "TIME=72 - 😴 Student #0 slept. Assignment pending. Work left was=214 minutes\n",
      "TIME=72 - 😴 Student #2 slept. Assignment pending. Work left was=206 minutes\n",
      "TIME=72 - 😴 Student #3 slept. Assignment pending. Work left was=200 minutes\n",
      "TIME=72 - 😴 Student #5 slept. Assignment pending. Work left was=186 minutes\n",
      "TIME=72 - 😴 Student #6 slept. Assignment pending. Work left was=218 minutes\n",
      "TIME=72 - 😴 Student #7 slept. Assignment pending. Work left was=205 minutes\n",
      "TIME=72 - 😴 Student #8 slept. Assignment pending. Work left was=175 minutes\n",
      "TIME=72 - 😴 Student #9 slept. Assignment pending. Work left was=186 minutes\n",
      "🌕 Power is on at 80 minutes\n",
      "TIME=80 - 😃 Student #1 resumes working. Work left to do=231 minutes\n",
      "TIME=80 - 😃 Student #4 resumes working. Work left to do=227 minutes\n",
      "🌑 Power is off at 145 minutes\n",
      "TIME=145 - 😓 Student #1 interrupted by power cut. Task remaining=166 minutes\n",
      "TIME=145 - 😓 Student #4 interrupted by power cut. Task remaining=162 minutes\n",
      "TIME=150 - 😴 Student #1 slept. Assignment pending. Work left was=166 minutes\n",
      "TIME=150 - 😴 Student #4 slept. Assignment pending. Work left was=162 minutes\n",
      "🌕 Power is on at 160 minutes\n",
      "🌑 Power is off at 233 minutes\n",
      "🌕 Power is on at 248 minutes\n",
      "🌑 Power is off at 310 minutes\n",
      "🌕 Power is on at 324 minutes\n",
      "The time is 420 minutes\n",
      "The time is 420 minutes\n"
     ]
    },
    {
     "data": {
      "text/plain": [
       "<ConditionValue {<Process(timeduration) object at 0x1fecfbb61c0>: None}>"
      ]
     },
     "execution_count": 8,
     "metadata": {},
     "output_type": "execute_result"
    },
    {
     "name": "stdout",
     "output_type": "stream",
     "text": [
      "\n",
      "\n"
     ]
    },
    {
     "data": {
      "text/plain": [
       "'Summary of the simulation'"
      ]
     },
     "execution_count": 8,
     "metadata": {},
     "output_type": "execute_result"
    },
    {
     "name": "stdout",
     "output_type": "stream",
     "text": [
      "-----------------------------------------------------------------------------\n",
      "                     📊Summary of the simulation📊                     \n",
      "-----------------------------------------------------------------------------\n",
      "Number of students who finished assignment on time 🥳                  0\n",
      "Number of students who Slept😴                                         10\n",
      "Number of students👦                                                   10\n",
      "Percentage of students who finished assignment on time (in %)         0.0\n",
      "Average time to finish assignment                                     301.81\n",
      "Number of power cuts🌑🌕                                                306\n",
      "-----------------------------------------------------------------------------\n",
      "🌕 Power is on at 0 minutes\n",
      "TIME=0 - 🙂 Student #0 started working.Work left=299 minutes\n",
      "TIME=0 - 🙂 Student #1 started working.Work left=253 minutes\n",
      "TIME=0 - 🙂 Student #2 started working.Work left=288 minutes\n",
      "TIME=0 - 🙂 Student #3 started working.Work left=297 minutes\n",
      "TIME=0 - 🙂 Student #4 started working.Work left=287 minutes\n",
      "TIME=0 - 🙂 Student #5 started working.Work left=274 minutes\n",
      "TIME=0 - 🙂 Student #6 started working.Work left=279 minutes\n",
      "TIME=0 - 🙂 Student #7 started working.Work left=251 minutes\n",
      "TIME=0 - 🙂 Student #8 started working.Work left=255 minutes\n",
      "TIME=0 - 🙂 Student #9 started working.Work left=268 minutes\n",
      "🌑 Power is off at 74 minutes\n",
      "TIME=74 - 😓 Student #0 interrupted by power cut. Task remaining=225 minutes\n",
      "TIME=74 - 😓 Student #1 interrupted by power cut. Task remaining=179 minutes\n",
      "TIME=74 - 😓 Student #2 interrupted by power cut. Task remaining=214 minutes\n",
      "TIME=74 - 😓 Student #3 interrupted by power cut. Task remaining=223 minutes\n",
      "TIME=74 - 😓 Student #4 interrupted by power cut. Task remaining=213 minutes\n",
      "TIME=74 - 😓 Student #5 interrupted by power cut. Task remaining=200 minutes\n",
      "TIME=74 - 😓 Student #6 interrupted by power cut. Task remaining=205 minutes\n",
      "TIME=74 - 😓 Student #7 interrupted by power cut. Task remaining=177 minutes\n",
      "TIME=74 - 😓 Student #8 interrupted by power cut. Task remaining=181 minutes\n",
      "TIME=74 - 😓 Student #9 interrupted by power cut. Task remaining=194 minutes\n",
      "TIME=79 - 😴 Student #0 slept. Assignment pending. Work left was=225 minutes\n",
      "TIME=79 - 😴 Student #2 slept. Assignment pending. Work left was=214 minutes\n",
      "TIME=79 - 😴 Student #3 slept. Assignment pending. Work left was=223 minutes\n",
      "TIME=79 - 😴 Student #4 slept. Assignment pending. Work left was=213 minutes\n",
      "TIME=79 - 😴 Student #5 slept. Assignment pending. Work left was=200 minutes\n",
      "TIME=79 - 😴 Student #6 slept. Assignment pending. Work left was=205 minutes\n",
      "TIME=79 - 😴 Student #7 slept. Assignment pending. Work left was=177 minutes\n",
      "TIME=79 - 😴 Student #8 slept. Assignment pending. Work left was=181 minutes\n",
      "TIME=79 - 😴 Student #9 slept. Assignment pending. Work left was=194 minutes\n",
      "🌕 Power is on at 86 minutes\n",
      "TIME=86 - 😃 Student #1 resumes working. Work left to do=179 minutes\n",
      "🌑 Power is off at 182 minutes\n",
      "TIME=182 - 😓 Student #1 interrupted by power cut. Task remaining=83 minutes\n",
      "TIME=187 - 😴 Student #1 slept. Assignment pending. Work left was=83 minutes\n",
      "🌕 Power is on at 194 minutes\n",
      "🌑 Power is off at 311 minutes\n",
      "🌕 Power is on at 321 minutes\n",
      "The time is 420 minutes\n",
      "The time is 420 minutes\n"
     ]
    },
    {
     "data": {
      "text/plain": [
       "<ConditionValue {<Process(timeduration) object at 0x1fed1fd9d30>: None}>"
      ]
     },
     "execution_count": 8,
     "metadata": {},
     "output_type": "execute_result"
    },
    {
     "name": "stdout",
     "output_type": "stream",
     "text": [
      "\n",
      "\n"
     ]
    },
    {
     "data": {
      "text/plain": [
       "'Summary of the simulation'"
      ]
     },
     "execution_count": 8,
     "metadata": {},
     "output_type": "execute_result"
    },
    {
     "name": "stdout",
     "output_type": "stream",
     "text": [
      "-----------------------------------------------------------------------------\n",
      "                     📊Summary of the simulation📊                     \n",
      "-----------------------------------------------------------------------------\n",
      "Number of students who finished assignment on time 🥳                  0\n",
      "Number of students who Slept😴                                         10\n",
      "Number of students👦                                                   10\n",
      "Percentage of students who finished assignment on time (in %)         0.0\n",
      "Average time to finish assignment                                     301.81\n",
      "Number of power cuts🌑🌕                                                309\n",
      "-----------------------------------------------------------------------------\n",
      "🌕 Power is on at 0 minutes\n",
      "TIME=0 - 🙂 Student #0 started working.Work left=284 minutes\n",
      "TIME=0 - 🙂 Student #1 started working.Work left=275 minutes\n",
      "TIME=0 - 🙂 Student #2 started working.Work left=300 minutes\n",
      "TIME=0 - 🙂 Student #3 started working.Work left=259 minutes\n",
      "TIME=0 - 🙂 Student #4 started working.Work left=281 minutes\n",
      "TIME=0 - 🙂 Student #5 started working.Work left=240 minutes\n",
      "TIME=0 - 🙂 Student #6 started working.Work left=250 minutes\n",
      "TIME=0 - 🙂 Student #7 started working.Work left=279 minutes\n",
      "TIME=0 - 🙂 Student #8 started working.Work left=294 minutes\n",
      "TIME=0 - 🙂 Student #9 started working.Work left=258 minutes\n",
      "🌑 Power is off at 94 minutes\n",
      "TIME=94 - 😓 Student #0 interrupted by power cut. Task remaining=190 minutes\n",
      "TIME=94 - 😓 Student #1 interrupted by power cut. Task remaining=181 minutes\n",
      "TIME=94 - 😓 Student #2 interrupted by power cut. Task remaining=206 minutes\n",
      "TIME=94 - 😓 Student #3 interrupted by power cut. Task remaining=165 minutes\n",
      "TIME=94 - 😓 Student #4 interrupted by power cut. Task remaining=187 minutes\n",
      "TIME=94 - 😓 Student #5 interrupted by power cut. Task remaining=146 minutes\n",
      "TIME=94 - 😓 Student #6 interrupted by power cut. Task remaining=156 minutes\n",
      "TIME=94 - 😓 Student #7 interrupted by power cut. Task remaining=185 minutes\n",
      "TIME=94 - 😓 Student #8 interrupted by power cut. Task remaining=200 minutes\n",
      "TIME=94 - 😓 Student #9 interrupted by power cut. Task remaining=164 minutes\n",
      "TIME=99 - 😴 Student #2 slept. Assignment pending. Work left was=206 minutes\n",
      "TIME=99 - 😴 Student #4 slept. Assignment pending. Work left was=187 minutes\n",
      "TIME=99 - 😴 Student #6 slept. Assignment pending. Work left was=156 minutes\n",
      "TIME=99 - 😴 Student #7 slept. Assignment pending. Work left was=185 minutes\n",
      "TIME=99 - 😴 Student #8 slept. Assignment pending. Work left was=200 minutes\n",
      "TIME=99 - 😴 Student #9 slept. Assignment pending. Work left was=164 minutes\n",
      "🌕 Power is on at 107 minutes\n",
      "TIME=107 - 😃 Student #0 resumes working. Work left to do=190 minutes\n",
      "TIME=107 - 😃 Student #1 resumes working. Work left to do=181 minutes\n",
      "TIME=107 - 😃 Student #3 resumes working. Work left to do=165 minutes\n",
      "TIME=107 - 😃 Student #5 resumes working. Work left to do=146 minutes\n",
      "🌑 Power is off at 224 minutes\n",
      "TIME=224 - 😓 Student #0 interrupted by power cut. Task remaining=73 minutes\n",
      "TIME=224 - 😓 Student #1 interrupted by power cut. Task remaining=64 minutes\n",
      "TIME=224 - 😓 Student #3 interrupted by power cut. Task remaining=48 minutes\n",
      "TIME=224 - 😓 Student #5 interrupted by power cut. Task remaining=29 minutes\n",
      "TIME=229 - 😴 Student #0 slept. Assignment pending. Work left was=73 minutes\n",
      "TIME=229 - 😴 Student #1 slept. Assignment pending. Work left was=64 minutes\n",
      "TIME=229 - 😴 Student #3 slept. Assignment pending. Work left was=48 minutes\n",
      "TIME=229 - 😴 Student #5 slept. Assignment pending. Work left was=29 minutes\n",
      "🌕 Power is on at 235 minutes\n",
      "🌑 Power is off at 295 minutes\n",
      "🌕 Power is on at 308 minutes\n",
      "The time is 420 minutes\n",
      "The time is 420 minutes\n"
     ]
    },
    {
     "data": {
      "text/plain": [
       "<ConditionValue {<Process(timeduration) object at 0x1fed1fc6070>: None}>"
      ]
     },
     "execution_count": 8,
     "metadata": {},
     "output_type": "execute_result"
    },
    {
     "name": "stdout",
     "output_type": "stream",
     "text": [
      "\n",
      "\n"
     ]
    },
    {
     "data": {
      "text/plain": [
       "'Summary of the simulation'"
      ]
     },
     "execution_count": 8,
     "metadata": {},
     "output_type": "execute_result"
    },
    {
     "name": "stdout",
     "output_type": "stream",
     "text": [
      "-----------------------------------------------------------------------------\n",
      "                     📊Summary of the simulation📊                     \n",
      "-----------------------------------------------------------------------------\n",
      "Number of students who finished assignment on time 🥳                  0\n",
      "Number of students who Slept😴                                         10\n",
      "Number of students👦                                                   10\n",
      "Percentage of students who finished assignment on time (in %)         0.0\n",
      "Average time to finish assignment                                     301.81\n",
      "Number of power cuts🌑🌕                                                312\n",
      "-----------------------------------------------------------------------------\n",
      "🌕 Power is on at 0 minutes\n",
      "TIME=0 - 🙂 Student #0 started working.Work left=290 minutes\n",
      "TIME=0 - 🙂 Student #1 started working.Work left=285 minutes\n",
      "TIME=0 - 🙂 Student #2 started working.Work left=274 minutes\n",
      "TIME=0 - 🙂 Student #3 started working.Work left=288 minutes\n",
      "TIME=0 - 🙂 Student #4 started working.Work left=258 minutes\n",
      "TIME=0 - 🙂 Student #5 started working.Work left=247 minutes\n",
      "TIME=0 - 🙂 Student #6 started working.Work left=272 minutes\n",
      "TIME=0 - 🙂 Student #7 started working.Work left=269 minutes\n",
      "TIME=0 - 🙂 Student #8 started working.Work left=271 minutes\n",
      "TIME=0 - 🙂 Student #9 started working.Work left=240 minutes\n",
      "🌑 Power is off at 111 minutes\n",
      "TIME=111 - 😓 Student #0 interrupted by power cut. Task remaining=179 minutes\n",
      "TIME=111 - 😓 Student #1 interrupted by power cut. Task remaining=174 minutes\n",
      "TIME=111 - 😓 Student #2 interrupted by power cut. Task remaining=163 minutes\n",
      "TIME=111 - 😓 Student #3 interrupted by power cut. Task remaining=177 minutes\n",
      "TIME=111 - 😓 Student #4 interrupted by power cut. Task remaining=147 minutes\n",
      "TIME=111 - 😓 Student #5 interrupted by power cut. Task remaining=136 minutes\n",
      "TIME=111 - 😓 Student #6 interrupted by power cut. Task remaining=161 minutes\n",
      "TIME=111 - 😓 Student #7 interrupted by power cut. Task remaining=158 minutes\n",
      "TIME=111 - 😓 Student #8 interrupted by power cut. Task remaining=160 minutes\n",
      "TIME=111 - 😓 Student #9 interrupted by power cut. Task remaining=129 minutes\n",
      "TIME=116 - 😴 Student #0 slept. Assignment pending. Work left was=179 minutes\n",
      "TIME=116 - 😴 Student #1 slept. Assignment pending. Work left was=174 minutes\n",
      "TIME=116 - 😴 Student #2 slept. Assignment pending. Work left was=163 minutes\n",
      "TIME=116 - 😴 Student #3 slept. Assignment pending. Work left was=177 minutes\n",
      "TIME=116 - 😴 Student #4 slept. Assignment pending. Work left was=147 minutes\n",
      "TIME=116 - 😴 Student #5 slept. Assignment pending. Work left was=136 minutes\n",
      "TIME=116 - 😴 Student #7 slept. Assignment pending. Work left was=158 minutes\n",
      "TIME=116 - 😴 Student #8 slept. Assignment pending. Work left was=160 minutes\n",
      "TIME=116 - 😴 Student #9 slept. Assignment pending. Work left was=129 minutes\n",
      "🌕 Power is on at 126 minutes\n",
      "TIME=126 - 😃 Student #6 resumes working. Work left to do=161 minutes\n",
      "🌑 Power is off at 189 minutes\n",
      "TIME=189 - 😓 Student #6 interrupted by power cut. Task remaining=98 minutes\n",
      "TIME=194 - 😴 Student #6 slept. Assignment pending. Work left was=98 minutes\n",
      "🌕 Power is on at 204 minutes\n",
      "🌑 Power is off at 314 minutes\n",
      "🌕 Power is on at 327 minutes\n",
      "🌑 Power is off at 391 minutes\n",
      "🌕 Power is on at 401 minutes\n",
      "The time is 420 minutes\n",
      "The time is 420 minutes\n"
     ]
    },
    {
     "data": {
      "text/plain": [
       "<ConditionValue {<Process(timeduration) object at 0x1fed1fc6220>: None}>"
      ]
     },
     "execution_count": 8,
     "metadata": {},
     "output_type": "execute_result"
    },
    {
     "name": "stdout",
     "output_type": "stream",
     "text": [
      "\n",
      "\n"
     ]
    },
    {
     "data": {
      "text/plain": [
       "'Summary of the simulation'"
      ]
     },
     "execution_count": 8,
     "metadata": {},
     "output_type": "execute_result"
    },
    {
     "name": "stdout",
     "output_type": "stream",
     "text": [
      "-----------------------------------------------------------------------------\n",
      "                     📊Summary of the simulation📊                     \n",
      "-----------------------------------------------------------------------------\n",
      "Number of students who finished assignment on time 🥳                  0\n",
      "Number of students who Slept😴                                         10\n",
      "Number of students👦                                                   10\n",
      "Percentage of students who finished assignment on time (in %)         0.0\n",
      "Average time to finish assignment                                     301.81\n",
      "Number of power cuts🌑🌕                                                316\n",
      "-----------------------------------------------------------------------------\n",
      "🌕 Power is on at 0 minutes\n",
      "TIME=0 - 🙂 Student #0 started working.Work left=256 minutes\n",
      "TIME=0 - 🙂 Student #1 started working.Work left=263 minutes\n",
      "TIME=0 - 🙂 Student #2 started working.Work left=277 minutes\n",
      "TIME=0 - 🙂 Student #3 started working.Work left=259 minutes\n",
      "TIME=0 - 🙂 Student #4 started working.Work left=269 minutes\n",
      "TIME=0 - 🙂 Student #5 started working.Work left=280 minutes\n",
      "TIME=0 - 🙂 Student #6 started working.Work left=279 minutes\n",
      "TIME=0 - 🙂 Student #7 started working.Work left=287 minutes\n",
      "TIME=0 - 🙂 Student #8 started working.Work left=243 minutes\n",
      "TIME=0 - 🙂 Student #9 started working.Work left=244 minutes\n",
      "🌑 Power is off at 83 minutes\n",
      "TIME=83 - 😓 Student #0 interrupted by power cut. Task remaining=173 minutes\n",
      "TIME=83 - 😓 Student #1 interrupted by power cut. Task remaining=180 minutes\n",
      "TIME=83 - 😓 Student #2 interrupted by power cut. Task remaining=194 minutes\n",
      "TIME=83 - 😓 Student #3 interrupted by power cut. Task remaining=176 minutes\n",
      "TIME=83 - 😓 Student #4 interrupted by power cut. Task remaining=186 minutes\n",
      "TIME=83 - 😓 Student #5 interrupted by power cut. Task remaining=197 minutes\n",
      "TIME=83 - 😓 Student #6 interrupted by power cut. Task remaining=196 minutes\n",
      "TIME=83 - 😓 Student #7 interrupted by power cut. Task remaining=204 minutes\n",
      "TIME=83 - 😓 Student #8 interrupted by power cut. Task remaining=160 minutes\n",
      "TIME=83 - 😓 Student #9 interrupted by power cut. Task remaining=161 minutes\n",
      "TIME=88 - 😴 Student #0 slept. Assignment pending. Work left was=173 minutes\n",
      "TIME=88 - 😴 Student #1 slept. Assignment pending. Work left was=180 minutes\n",
      "TIME=88 - 😴 Student #2 slept. Assignment pending. Work left was=194 minutes\n",
      "TIME=88 - 😴 Student #3 slept. Assignment pending. Work left was=176 minutes\n",
      "TIME=88 - 😴 Student #4 slept. Assignment pending. Work left was=186 minutes\n",
      "TIME=88 - 😴 Student #5 slept. Assignment pending. Work left was=197 minutes\n",
      "TIME=88 - 😴 Student #6 slept. Assignment pending. Work left was=196 minutes\n",
      "TIME=88 - 😴 Student #8 slept. Assignment pending. Work left was=160 minutes\n",
      "TIME=88 - 😴 Student #9 slept. Assignment pending. Work left was=161 minutes\n",
      "🌕 Power is on at 95 minutes\n",
      "TIME=95 - 😃 Student #7 resumes working. Work left to do=204 minutes\n",
      "🌑 Power is off at 184 minutes\n",
      "TIME=184 - 😓 Student #7 interrupted by power cut. Task remaining=115 minutes\n",
      "🌕 Power is on at 197 minutes\n",
      "TIME=197 - 😃 Student #7 resumes working. Work left to do=115 minutes\n",
      "🌑 Power is off at 307 minutes\n",
      "TIME=307 - 😓 Student #7 interrupted by power cut. Task remaining=5 minutes\n",
      "TIME=312 - 😴 Student #7 slept. Assignment pending. Work left was=5 minutes\n",
      "🌕 Power is on at 322 minutes\n",
      "🌑 Power is off at 418 minutes\n",
      "The time is 420 minutes\n",
      "The time is 420 minutes\n"
     ]
    },
    {
     "data": {
      "text/plain": [
       "<ConditionValue {<Process(timeduration) object at 0x1fecfb7ea90>: None}>"
      ]
     },
     "execution_count": 8,
     "metadata": {},
     "output_type": "execute_result"
    },
    {
     "name": "stdout",
     "output_type": "stream",
     "text": [
      "\n",
      "\n"
     ]
    },
    {
     "data": {
      "text/plain": [
       "'Summary of the simulation'"
      ]
     },
     "execution_count": 8,
     "metadata": {},
     "output_type": "execute_result"
    },
    {
     "name": "stdout",
     "output_type": "stream",
     "text": [
      "-----------------------------------------------------------------------------\n",
      "                     📊Summary of the simulation📊                     \n",
      "-----------------------------------------------------------------------------\n",
      "Number of students who finished assignment on time 🥳                  0\n",
      "Number of students who Slept😴                                         10\n",
      "Number of students👦                                                   10\n",
      "Percentage of students who finished assignment on time (in %)         0.0\n",
      "Average time to finish assignment                                     301.81\n",
      "Number of power cuts🌑🌕                                                320\n",
      "-----------------------------------------------------------------------------\n",
      "🌕 Power is on at 0 minutes\n",
      "TIME=0 - 🙂 Student #0 started working.Work left=241 minutes\n",
      "TIME=0 - 🙂 Student #1 started working.Work left=296 minutes\n",
      "TIME=0 - 🙂 Student #2 started working.Work left=283 minutes\n",
      "TIME=0 - 🙂 Student #3 started working.Work left=291 minutes\n",
      "TIME=0 - 🙂 Student #4 started working.Work left=266 minutes\n",
      "TIME=0 - 🙂 Student #5 started working.Work left=272 minutes\n",
      "TIME=0 - 🙂 Student #6 started working.Work left=291 minutes\n",
      "TIME=0 - 🙂 Student #7 started working.Work left=257 minutes\n",
      "TIME=0 - 🙂 Student #8 started working.Work left=261 minutes\n",
      "TIME=0 - 🙂 Student #9 started working.Work left=288 minutes\n",
      "🌑 Power is off at 67 minutes\n",
      "TIME=67 - 😓 Student #0 interrupted by power cut. Task remaining=174 minutes\n",
      "TIME=67 - 😓 Student #1 interrupted by power cut. Task remaining=229 minutes\n",
      "TIME=67 - 😓 Student #2 interrupted by power cut. Task remaining=216 minutes\n",
      "TIME=67 - 😓 Student #3 interrupted by power cut. Task remaining=224 minutes\n",
      "TIME=67 - 😓 Student #4 interrupted by power cut. Task remaining=199 minutes\n",
      "TIME=67 - 😓 Student #5 interrupted by power cut. Task remaining=205 minutes\n",
      "TIME=67 - 😓 Student #6 interrupted by power cut. Task remaining=224 minutes\n",
      "TIME=67 - 😓 Student #7 interrupted by power cut. Task remaining=190 minutes\n",
      "TIME=67 - 😓 Student #8 interrupted by power cut. Task remaining=194 minutes\n",
      "TIME=67 - 😓 Student #9 interrupted by power cut. Task remaining=221 minutes\n",
      "TIME=72 - 😴 Student #0 slept. Assignment pending. Work left was=174 minutes\n",
      "TIME=72 - 😴 Student #1 slept. Assignment pending. Work left was=229 minutes\n",
      "TIME=72 - 😴 Student #2 slept. Assignment pending. Work left was=216 minutes\n",
      "TIME=72 - 😴 Student #3 slept. Assignment pending. Work left was=224 minutes\n",
      "TIME=72 - 😴 Student #4 slept. Assignment pending. Work left was=199 minutes\n",
      "TIME=72 - 😴 Student #5 slept. Assignment pending. Work left was=205 minutes\n",
      "TIME=72 - 😴 Student #6 slept. Assignment pending. Work left was=224 minutes\n",
      "TIME=72 - 😴 Student #9 slept. Assignment pending. Work left was=221 minutes\n",
      "🌕 Power is on at 81 minutes\n",
      "TIME=81 - 😃 Student #7 resumes working. Work left to do=190 minutes\n",
      "TIME=81 - 😃 Student #8 resumes working. Work left to do=194 minutes\n",
      "🌑 Power is off at 174 minutes\n",
      "TIME=174 - 😓 Student #7 interrupted by power cut. Task remaining=97 minutes\n",
      "TIME=174 - 😓 Student #8 interrupted by power cut. Task remaining=101 minutes\n",
      "TIME=179 - 😴 Student #7 slept. Assignment pending. Work left was=97 minutes\n",
      "🌕 Power is on at 185 minutes\n",
      "TIME=185 - 😃 Student #8 resumes working. Work left to do=101 minutes\n",
      "TIME=286 - 🥳 Student #8 finished working.\n",
      "🌑 Power is off at 294 minutes\n",
      "🌕 Power is on at 308 minutes\n",
      "🌑 Power is off at 405 minutes\n",
      "🌕 Power is on at 416 minutes\n",
      "The time is 420 minutes\n",
      "The time is 420 minutes\n"
     ]
    },
    {
     "data": {
      "text/plain": [
       "<ConditionValue {<Process(timeduration) object at 0x1fed1fd9c70>: None}>"
      ]
     },
     "execution_count": 8,
     "metadata": {},
     "output_type": "execute_result"
    },
    {
     "name": "stdout",
     "output_type": "stream",
     "text": [
      "\n",
      "\n"
     ]
    },
    {
     "data": {
      "text/plain": [
       "'Summary of the simulation'"
      ]
     },
     "execution_count": 8,
     "metadata": {},
     "output_type": "execute_result"
    },
    {
     "name": "stdout",
     "output_type": "stream",
     "text": [
      "-----------------------------------------------------------------------------\n",
      "                     📊Summary of the simulation📊                     \n",
      "-----------------------------------------------------------------------------\n",
      "Number of students who finished assignment on time 🥳                  1\n",
      "Number of students who Slept😴                                         9\n",
      "Number of students👦                                                   10\n",
      "Percentage of students who finished assignment on time (in %)         10.0\n",
      "Average time to finish assignment                                     301.75\n",
      "Number of power cuts🌑🌕                                                324\n",
      "-----------------------------------------------------------------------------\n",
      "🌕 Power is on at 0 minutes\n",
      "TIME=0 - 🙂 Student #0 started working.Work left=264 minutes\n",
      "TIME=0 - 🙂 Student #1 started working.Work left=278 minutes\n",
      "TIME=0 - 🙂 Student #2 started working.Work left=243 minutes\n",
      "TIME=0 - 🙂 Student #3 started working.Work left=266 minutes\n",
      "TIME=0 - 🙂 Student #4 started working.Work left=254 minutes\n",
      "TIME=0 - 🙂 Student #5 started working.Work left=276 minutes\n",
      "TIME=0 - 🙂 Student #6 started working.Work left=279 minutes\n",
      "TIME=0 - 🙂 Student #7 started working.Work left=284 minutes\n",
      "TIME=0 - 🙂 Student #8 started working.Work left=285 minutes\n",
      "TIME=0 - 🙂 Student #9 started working.Work left=268 minutes\n",
      "🌑 Power is off at 90 minutes\n",
      "TIME=90 - 😓 Student #0 interrupted by power cut. Task remaining=174 minutes\n",
      "TIME=90 - 😓 Student #1 interrupted by power cut. Task remaining=188 minutes\n",
      "TIME=90 - 😓 Student #2 interrupted by power cut. Task remaining=153 minutes\n",
      "TIME=90 - 😓 Student #3 interrupted by power cut. Task remaining=176 minutes\n",
      "TIME=90 - 😓 Student #4 interrupted by power cut. Task remaining=164 minutes\n",
      "TIME=90 - 😓 Student #5 interrupted by power cut. Task remaining=186 minutes\n",
      "TIME=90 - 😓 Student #6 interrupted by power cut. Task remaining=189 minutes\n",
      "TIME=90 - 😓 Student #7 interrupted by power cut. Task remaining=194 minutes\n",
      "TIME=90 - 😓 Student #8 interrupted by power cut. Task remaining=195 minutes\n",
      "TIME=90 - 😓 Student #9 interrupted by power cut. Task remaining=178 minutes\n",
      "TIME=95 - 😴 Student #0 slept. Assignment pending. Work left was=174 minutes\n",
      "TIME=95 - 😴 Student #1 slept. Assignment pending. Work left was=188 minutes\n",
      "TIME=95 - 😴 Student #2 slept. Assignment pending. Work left was=153 minutes\n",
      "TIME=95 - 😴 Student #3 slept. Assignment pending. Work left was=176 minutes\n",
      "TIME=95 - 😴 Student #4 slept. Assignment pending. Work left was=164 minutes\n",
      "TIME=95 - 😴 Student #5 slept. Assignment pending. Work left was=186 minutes\n",
      "TIME=95 - 😴 Student #6 slept. Assignment pending. Work left was=189 minutes\n",
      "TIME=95 - 😴 Student #7 slept. Assignment pending. Work left was=194 minutes\n",
      "TIME=95 - 😴 Student #8 slept. Assignment pending. Work left was=195 minutes\n",
      "TIME=95 - 😴 Student #9 slept. Assignment pending. Work left was=178 minutes\n",
      "🌕 Power is on at 103 minutes\n",
      "🌑 Power is off at 202 minutes\n",
      "🌕 Power is on at 212 minutes\n",
      "🌑 Power is off at 281 minutes\n",
      "🌕 Power is on at 295 minutes\n",
      "🌑 Power is off at 410 minutes\n",
      "The time is 420 minutes\n",
      "The time is 420 minutes\n"
     ]
    },
    {
     "data": {
      "text/plain": [
       "<ConditionValue {<Process(timeduration) object at 0x1fed1fda280>: None}>"
      ]
     },
     "execution_count": 8,
     "metadata": {},
     "output_type": "execute_result"
    },
    {
     "name": "stdout",
     "output_type": "stream",
     "text": [
      "\n",
      "\n"
     ]
    },
    {
     "data": {
      "text/plain": [
       "'Summary of the simulation'"
      ]
     },
     "execution_count": 8,
     "metadata": {},
     "output_type": "execute_result"
    },
    {
     "name": "stdout",
     "output_type": "stream",
     "text": [
      "-----------------------------------------------------------------------------\n",
      "                     📊Summary of the simulation📊                     \n",
      "-----------------------------------------------------------------------------\n",
      "Number of students who finished assignment on time 🥳                  0\n",
      "Number of students who Slept😴                                         10\n",
      "Number of students👦                                                   10\n",
      "Percentage of students who finished assignment on time (in %)         0.0\n",
      "Average time to finish assignment                                     301.75\n",
      "Number of power cuts🌑🌕                                                328\n",
      "-----------------------------------------------------------------------------\n",
      "🌕 Power is on at 0 minutes\n",
      "TIME=0 - 🙂 Student #0 started working.Work left=250 minutes\n",
      "TIME=0 - 🙂 Student #1 started working.Work left=256 minutes\n",
      "TIME=0 - 🙂 Student #2 started working.Work left=242 minutes\n",
      "TIME=0 - 🙂 Student #3 started working.Work left=278 minutes\n",
      "TIME=0 - 🙂 Student #4 started working.Work left=270 minutes\n",
      "TIME=0 - 🙂 Student #5 started working.Work left=288 minutes\n",
      "TIME=0 - 🙂 Student #6 started working.Work left=278 minutes\n",
      "TIME=0 - 🙂 Student #7 started working.Work left=249 minutes\n",
      "TIME=0 - 🙂 Student #8 started working.Work left=251 minutes\n",
      "TIME=0 - 🙂 Student #9 started working.Work left=271 minutes\n",
      "🌑 Power is off at 87 minutes\n",
      "TIME=87 - 😓 Student #0 interrupted by power cut. Task remaining=163 minutes\n",
      "TIME=87 - 😓 Student #1 interrupted by power cut. Task remaining=169 minutes\n",
      "TIME=87 - 😓 Student #2 interrupted by power cut. Task remaining=155 minutes\n",
      "TIME=87 - 😓 Student #3 interrupted by power cut. Task remaining=191 minutes\n",
      "TIME=87 - 😓 Student #4 interrupted by power cut. Task remaining=183 minutes\n",
      "TIME=87 - 😓 Student #5 interrupted by power cut. Task remaining=201 minutes\n",
      "TIME=87 - 😓 Student #6 interrupted by power cut. Task remaining=191 minutes\n",
      "TIME=87 - 😓 Student #7 interrupted by power cut. Task remaining=162 minutes\n",
      "TIME=87 - 😓 Student #8 interrupted by power cut. Task remaining=164 minutes\n",
      "TIME=87 - 😓 Student #9 interrupted by power cut. Task remaining=184 minutes\n",
      "TIME=92 - 😴 Student #0 slept. Assignment pending. Work left was=163 minutes\n",
      "TIME=92 - 😴 Student #1 slept. Assignment pending. Work left was=169 minutes\n",
      "TIME=92 - 😴 Student #2 slept. Assignment pending. Work left was=155 minutes\n",
      "TIME=92 - 😴 Student #3 slept. Assignment pending. Work left was=191 minutes\n",
      "TIME=92 - 😴 Student #4 slept. Assignment pending. Work left was=183 minutes\n",
      "TIME=92 - 😴 Student #5 slept. Assignment pending. Work left was=201 minutes\n",
      "TIME=92 - 😴 Student #6 slept. Assignment pending. Work left was=191 minutes\n",
      "TIME=92 - 😴 Student #8 slept. Assignment pending. Work left was=164 minutes\n",
      "🌕 Power is on at 102 minutes\n",
      "TIME=102 - 😃 Student #7 resumes working. Work left to do=162 minutes\n",
      "TIME=102 - 😃 Student #9 resumes working. Work left to do=184 minutes\n",
      "🌑 Power is off at 208 minutes\n",
      "TIME=208 - 😓 Student #7 interrupted by power cut. Task remaining=56 minutes\n",
      "TIME=208 - 😓 Student #9 interrupted by power cut. Task remaining=78 minutes\n",
      "TIME=213 - 😴 Student #7 slept. Assignment pending. Work left was=56 minutes\n",
      "TIME=213 - 😴 Student #9 slept. Assignment pending. Work left was=78 minutes\n",
      "🌕 Power is on at 222 minutes\n",
      "🌑 Power is off at 297 minutes\n",
      "🌕 Power is on at 312 minutes\n",
      "🌑 Power is off at 407 minutes\n",
      "🌕 Power is on at 417 minutes\n",
      "The time is 420 minutes\n",
      "The time is 420 minutes\n"
     ]
    },
    {
     "data": {
      "text/plain": [
       "<ConditionValue {<Process(timeduration) object at 0x1fed1fda310>: None}>"
      ]
     },
     "execution_count": 8,
     "metadata": {},
     "output_type": "execute_result"
    },
    {
     "name": "stdout",
     "output_type": "stream",
     "text": [
      "\n",
      "\n"
     ]
    },
    {
     "data": {
      "text/plain": [
       "'Summary of the simulation'"
      ]
     },
     "execution_count": 8,
     "metadata": {},
     "output_type": "execute_result"
    },
    {
     "name": "stdout",
     "output_type": "stream",
     "text": [
      "-----------------------------------------------------------------------------\n",
      "                     📊Summary of the simulation📊                     \n",
      "-----------------------------------------------------------------------------\n",
      "Number of students who finished assignment on time 🥳                  0\n",
      "Number of students who Slept😴                                         10\n",
      "Number of students👦                                                   10\n",
      "Percentage of students who finished assignment on time (in %)         0.0\n",
      "Average time to finish assignment                                     301.75\n",
      "Number of power cuts🌑🌕                                                332\n",
      "-----------------------------------------------------------------------------\n",
      "🌕 Power is on at 0 minutes\n",
      "TIME=0 - 🙂 Student #0 started working.Work left=252 minutes\n",
      "TIME=0 - 🙂 Student #1 started working.Work left=272 minutes\n",
      "TIME=0 - 🙂 Student #2 started working.Work left=253 minutes\n",
      "TIME=0 - 🙂 Student #3 started working.Work left=248 minutes\n",
      "TIME=0 - 🙂 Student #4 started working.Work left=284 minutes\n",
      "TIME=0 - 🙂 Student #5 started working.Work left=272 minutes\n",
      "TIME=0 - 🙂 Student #6 started working.Work left=269 minutes\n",
      "TIME=0 - 🙂 Student #7 started working.Work left=252 minutes\n",
      "TIME=0 - 🙂 Student #8 started working.Work left=278 minutes\n",
      "TIME=0 - 🙂 Student #9 started working.Work left=249 minutes\n",
      "🌑 Power is off at 68 minutes\n",
      "TIME=68 - 😓 Student #0 interrupted by power cut. Task remaining=184 minutes\n",
      "TIME=68 - 😓 Student #1 interrupted by power cut. Task remaining=204 minutes\n",
      "TIME=68 - 😓 Student #2 interrupted by power cut. Task remaining=185 minutes\n",
      "TIME=68 - 😓 Student #3 interrupted by power cut. Task remaining=180 minutes\n",
      "TIME=68 - 😓 Student #4 interrupted by power cut. Task remaining=216 minutes\n",
      "TIME=68 - 😓 Student #5 interrupted by power cut. Task remaining=204 minutes\n",
      "TIME=68 - 😓 Student #6 interrupted by power cut. Task remaining=201 minutes\n",
      "TIME=68 - 😓 Student #7 interrupted by power cut. Task remaining=184 minutes\n",
      "TIME=68 - 😓 Student #8 interrupted by power cut. Task remaining=210 minutes\n",
      "TIME=68 - 😓 Student #9 interrupted by power cut. Task remaining=181 minutes\n",
      "TIME=73 - 😴 Student #0 slept. Assignment pending. Work left was=184 minutes\n",
      "TIME=73 - 😴 Student #1 slept. Assignment pending. Work left was=204 minutes\n",
      "TIME=73 - 😴 Student #2 slept. Assignment pending. Work left was=185 minutes\n",
      "TIME=73 - 😴 Student #3 slept. Assignment pending. Work left was=180 minutes\n",
      "TIME=73 - 😴 Student #4 slept. Assignment pending. Work left was=216 minutes\n",
      "TIME=73 - 😴 Student #5 slept. Assignment pending. Work left was=204 minutes\n",
      "TIME=73 - 😴 Student #6 slept. Assignment pending. Work left was=201 minutes\n",
      "TIME=73 - 😴 Student #7 slept. Assignment pending. Work left was=184 minutes\n",
      "TIME=73 - 😴 Student #9 slept. Assignment pending. Work left was=181 minutes\n",
      "🌕 Power is on at 78 minutes\n",
      "TIME=78 - 😃 Student #8 resumes working. Work left to do=210 minutes\n",
      "🌑 Power is off at 170 minutes\n",
      "TIME=170 - 😓 Student #8 interrupted by power cut. Task remaining=118 minutes\n",
      "TIME=175 - 😴 Student #8 slept. Assignment pending. Work left was=118 minutes\n",
      "🌕 Power is on at 185 minutes\n",
      "🌑 Power is off at 292 minutes\n",
      "🌕 Power is on at 303 minutes\n",
      "🌑 Power is off at 367 minutes\n",
      "🌕 Power is on at 381 minutes\n",
      "The time is 420 minutes\n",
      "The time is 420 minutes\n"
     ]
    },
    {
     "data": {
      "text/plain": [
       "<ConditionValue {<Process(timeduration) object at 0x1fecfc05820>: None}>"
      ]
     },
     "execution_count": 8,
     "metadata": {},
     "output_type": "execute_result"
    },
    {
     "name": "stdout",
     "output_type": "stream",
     "text": [
      "\n",
      "\n"
     ]
    },
    {
     "data": {
      "text/plain": [
       "'Summary of the simulation'"
      ]
     },
     "execution_count": 8,
     "metadata": {},
     "output_type": "execute_result"
    },
    {
     "name": "stdout",
     "output_type": "stream",
     "text": [
      "-----------------------------------------------------------------------------\n",
      "                     📊Summary of the simulation📊                     \n",
      "-----------------------------------------------------------------------------\n",
      "Number of students who finished assignment on time 🥳                  0\n",
      "Number of students who Slept😴                                         10\n",
      "Number of students👦                                                   10\n",
      "Percentage of students who finished assignment on time (in %)         0.0\n",
      "Average time to finish assignment                                     301.75\n",
      "Number of power cuts🌑🌕                                                336\n",
      "-----------------------------------------------------------------------------\n",
      "🌕 Power is on at 0 minutes\n",
      "TIME=0 - 🙂 Student #0 started working.Work left=252 minutes\n",
      "TIME=0 - 🙂 Student #1 started working.Work left=262 minutes\n",
      "TIME=0 - 🙂 Student #2 started working.Work left=300 minutes\n",
      "TIME=0 - 🙂 Student #3 started working.Work left=254 minutes\n",
      "TIME=0 - 🙂 Student #4 started working.Work left=246 minutes\n",
      "TIME=0 - 🙂 Student #5 started working.Work left=243 minutes\n",
      "TIME=0 - 🙂 Student #6 started working.Work left=272 minutes\n",
      "TIME=0 - 🙂 Student #7 started working.Work left=255 minutes\n",
      "TIME=0 - 🙂 Student #8 started working.Work left=253 minutes\n",
      "TIME=0 - 🙂 Student #9 started working.Work left=259 minutes\n",
      "🌑 Power is off at 90 minutes\n",
      "TIME=90 - 😓 Student #0 interrupted by power cut. Task remaining=162 minutes\n",
      "TIME=90 - 😓 Student #1 interrupted by power cut. Task remaining=172 minutes\n",
      "TIME=90 - 😓 Student #2 interrupted by power cut. Task remaining=210 minutes\n",
      "TIME=90 - 😓 Student #3 interrupted by power cut. Task remaining=164 minutes\n",
      "TIME=90 - 😓 Student #4 interrupted by power cut. Task remaining=156 minutes\n",
      "TIME=90 - 😓 Student #5 interrupted by power cut. Task remaining=153 minutes\n",
      "TIME=90 - 😓 Student #6 interrupted by power cut. Task remaining=182 minutes\n",
      "TIME=90 - 😓 Student #7 interrupted by power cut. Task remaining=165 minutes\n",
      "TIME=90 - 😓 Student #8 interrupted by power cut. Task remaining=163 minutes\n",
      "TIME=90 - 😓 Student #9 interrupted by power cut. Task remaining=169 minutes\n",
      "TIME=95 - 😴 Student #0 slept. Assignment pending. Work left was=162 minutes\n",
      "TIME=95 - 😴 Student #1 slept. Assignment pending. Work left was=172 minutes\n",
      "TIME=95 - 😴 Student #2 slept. Assignment pending. Work left was=210 minutes\n",
      "TIME=95 - 😴 Student #3 slept. Assignment pending. Work left was=164 minutes\n",
      "TIME=95 - 😴 Student #4 slept. Assignment pending. Work left was=156 minutes\n",
      "TIME=95 - 😴 Student #5 slept. Assignment pending. Work left was=153 minutes\n",
      "TIME=95 - 😴 Student #6 slept. Assignment pending. Work left was=182 minutes\n",
      "TIME=95 - 😴 Student #8 slept. Assignment pending. Work left was=163 minutes\n",
      "TIME=95 - 😴 Student #9 slept. Assignment pending. Work left was=169 minutes\n",
      "🌕 Power is on at 101 minutes\n",
      "TIME=101 - 😃 Student #7 resumes working. Work left to do=165 minutes\n",
      "🌑 Power is off at 170 minutes\n",
      "TIME=170 - 😓 Student #7 interrupted by power cut. Task remaining=96 minutes\n",
      "TIME=175 - 😴 Student #7 slept. Assignment pending. Work left was=96 minutes\n",
      "🌕 Power is on at 181 minutes\n",
      "🌑 Power is off at 254 minutes\n",
      "🌕 Power is on at 264 minutes\n",
      "🌑 Power is off at 358 minutes\n",
      "🌕 Power is on at 373 minutes\n",
      "The time is 420 minutes\n",
      "The time is 420 minutes\n"
     ]
    },
    {
     "data": {
      "text/plain": [
       "<ConditionValue {<Process(timeduration) object at 0x1fed1fb62e0>: None}>"
      ]
     },
     "execution_count": 8,
     "metadata": {},
     "output_type": "execute_result"
    },
    {
     "name": "stdout",
     "output_type": "stream",
     "text": [
      "\n",
      "\n"
     ]
    },
    {
     "data": {
      "text/plain": [
       "'Summary of the simulation'"
      ]
     },
     "execution_count": 8,
     "metadata": {},
     "output_type": "execute_result"
    },
    {
     "name": "stdout",
     "output_type": "stream",
     "text": [
      "-----------------------------------------------------------------------------\n",
      "                     📊Summary of the simulation📊                     \n",
      "-----------------------------------------------------------------------------\n",
      "Number of students who finished assignment on time 🥳                  0\n",
      "Number of students who Slept😴                                         10\n",
      "Number of students👦                                                   10\n",
      "Percentage of students who finished assignment on time (in %)         0.0\n",
      "Average time to finish assignment                                     301.75\n",
      "Number of power cuts🌑🌕                                                340\n",
      "-----------------------------------------------------------------------------\n",
      "🌕 Power is on at 0 minutes\n",
      "TIME=0 - 🙂 Student #0 started working.Work left=298 minutes\n",
      "TIME=0 - 🙂 Student #1 started working.Work left=282 minutes\n",
      "TIME=0 - 🙂 Student #2 started working.Work left=258 minutes\n",
      "TIME=0 - 🙂 Student #3 started working.Work left=260 minutes\n",
      "TIME=0 - 🙂 Student #4 started working.Work left=281 minutes\n",
      "TIME=0 - 🙂 Student #5 started working.Work left=246 minutes\n",
      "TIME=0 - 🙂 Student #6 started working.Work left=240 minutes\n",
      "TIME=0 - 🙂 Student #7 started working.Work left=297 minutes\n",
      "TIME=0 - 🙂 Student #8 started working.Work left=247 minutes\n",
      "TIME=0 - 🙂 Student #9 started working.Work left=267 minutes\n",
      "🌑 Power is off at 72 minutes\n",
      "TIME=72 - 😓 Student #0 interrupted by power cut. Task remaining=226 minutes\n",
      "TIME=72 - 😓 Student #1 interrupted by power cut. Task remaining=210 minutes\n",
      "TIME=72 - 😓 Student #2 interrupted by power cut. Task remaining=186 minutes\n",
      "TIME=72 - 😓 Student #3 interrupted by power cut. Task remaining=188 minutes\n",
      "TIME=72 - 😓 Student #4 interrupted by power cut. Task remaining=209 minutes\n",
      "TIME=72 - 😓 Student #5 interrupted by power cut. Task remaining=174 minutes\n",
      "TIME=72 - 😓 Student #6 interrupted by power cut. Task remaining=168 minutes\n",
      "TIME=72 - 😓 Student #7 interrupted by power cut. Task remaining=225 minutes\n",
      "TIME=72 - 😓 Student #8 interrupted by power cut. Task remaining=175 minutes\n",
      "TIME=72 - 😓 Student #9 interrupted by power cut. Task remaining=195 minutes\n",
      "TIME=77 - 😴 Student #0 slept. Assignment pending. Work left was=226 minutes\n",
      "TIME=77 - 😴 Student #1 slept. Assignment pending. Work left was=210 minutes\n",
      "TIME=77 - 😴 Student #2 slept. Assignment pending. Work left was=186 minutes\n",
      "TIME=77 - 😴 Student #3 slept. Assignment pending. Work left was=188 minutes\n",
      "TIME=77 - 😴 Student #4 slept. Assignment pending. Work left was=209 minutes\n",
      "TIME=77 - 😴 Student #5 slept. Assignment pending. Work left was=174 minutes\n",
      "TIME=77 - 😴 Student #6 slept. Assignment pending. Work left was=168 minutes\n",
      "TIME=77 - 😴 Student #7 slept. Assignment pending. Work left was=225 minutes\n",
      "TIME=77 - 😴 Student #9 slept. Assignment pending. Work left was=195 minutes\n",
      "🌕 Power is on at 85 minutes\n",
      "TIME=85 - 😃 Student #8 resumes working. Work left to do=175 minutes\n",
      "🌑 Power is off at 175 minutes\n",
      "TIME=175 - 😓 Student #8 interrupted by power cut. Task remaining=85 minutes\n",
      "🌕 Power is on at 186 minutes\n",
      "TIME=186 - 😃 Student #8 resumes working. Work left to do=85 minutes\n",
      "TIME=271 - 🥳 Student #8 finished working.\n",
      "🌑 Power is off at 275 minutes\n",
      "🌕 Power is on at 289 minutes\n",
      "🌑 Power is off at 366 minutes\n",
      "🌕 Power is on at 379 minutes\n",
      "The time is 420 minutes\n",
      "The time is 420 minutes\n"
     ]
    },
    {
     "data": {
      "text/plain": [
       "<ConditionValue {<Process(timeduration) object at 0x1fed1f90070>: None}>"
      ]
     },
     "execution_count": 8,
     "metadata": {},
     "output_type": "execute_result"
    },
    {
     "name": "stdout",
     "output_type": "stream",
     "text": [
      "\n",
      "\n"
     ]
    },
    {
     "data": {
      "text/plain": [
       "'Summary of the simulation'"
      ]
     },
     "execution_count": 8,
     "metadata": {},
     "output_type": "execute_result"
    },
    {
     "name": "stdout",
     "output_type": "stream",
     "text": [
      "-----------------------------------------------------------------------------\n",
      "                     📊Summary of the simulation📊                     \n",
      "-----------------------------------------------------------------------------\n",
      "Number of students who finished assignment on time 🥳                  1\n",
      "Number of students who Slept😴                                         9\n",
      "Number of students👦                                                   10\n",
      "Percentage of students who finished assignment on time (in %)         10.0\n",
      "Average time to finish assignment                                     301.63\n",
      "Number of power cuts🌑🌕                                                344\n",
      "-----------------------------------------------------------------------------\n",
      "🌕 Power is on at 0 minutes\n",
      "TIME=0 - 🙂 Student #0 started working.Work left=271 minutes\n",
      "TIME=0 - 🙂 Student #1 started working.Work left=289 minutes\n",
      "TIME=0 - 🙂 Student #2 started working.Work left=296 minutes\n",
      "TIME=0 - 🙂 Student #3 started working.Work left=271 minutes\n",
      "TIME=0 - 🙂 Student #4 started working.Work left=277 minutes\n",
      "TIME=0 - 🙂 Student #5 started working.Work left=280 minutes\n",
      "TIME=0 - 🙂 Student #6 started working.Work left=278 minutes\n",
      "TIME=0 - 🙂 Student #7 started working.Work left=285 minutes\n",
      "TIME=0 - 🙂 Student #8 started working.Work left=255 minutes\n",
      "TIME=0 - 🙂 Student #9 started working.Work left=268 minutes\n",
      "🌑 Power is off at 97 minutes\n",
      "TIME=97 - 😓 Student #0 interrupted by power cut. Task remaining=174 minutes\n",
      "TIME=97 - 😓 Student #1 interrupted by power cut. Task remaining=192 minutes\n",
      "TIME=97 - 😓 Student #2 interrupted by power cut. Task remaining=199 minutes\n",
      "TIME=97 - 😓 Student #3 interrupted by power cut. Task remaining=174 minutes\n",
      "TIME=97 - 😓 Student #4 interrupted by power cut. Task remaining=180 minutes\n",
      "TIME=97 - 😓 Student #5 interrupted by power cut. Task remaining=183 minutes\n",
      "TIME=97 - 😓 Student #6 interrupted by power cut. Task remaining=181 minutes\n",
      "TIME=97 - 😓 Student #7 interrupted by power cut. Task remaining=188 minutes\n",
      "TIME=97 - 😓 Student #8 interrupted by power cut. Task remaining=158 minutes\n",
      "TIME=97 - 😓 Student #9 interrupted by power cut. Task remaining=171 minutes\n",
      "TIME=102 - 😴 Student #0 slept. Assignment pending. Work left was=174 minutes\n",
      "TIME=102 - 😴 Student #1 slept. Assignment pending. Work left was=192 minutes\n",
      "TIME=102 - 😴 Student #3 slept. Assignment pending. Work left was=174 minutes\n",
      "TIME=102 - 😴 Student #4 slept. Assignment pending. Work left was=180 minutes\n",
      "TIME=102 - 😴 Student #5 slept. Assignment pending. Work left was=183 minutes\n",
      "TIME=102 - 😴 Student #6 slept. Assignment pending. Work left was=181 minutes\n",
      "TIME=102 - 😴 Student #7 slept. Assignment pending. Work left was=188 minutes\n",
      "TIME=102 - 😴 Student #8 slept. Assignment pending. Work left was=158 minutes\n",
      "TIME=102 - 😴 Student #9 slept. Assignment pending. Work left was=171 minutes\n",
      "🌕 Power is on at 109 minutes\n",
      "TIME=109 - 😃 Student #2 resumes working. Work left to do=199 minutes\n",
      "🌑 Power is off at 210 minutes\n",
      "TIME=210 - 😓 Student #2 interrupted by power cut. Task remaining=98 minutes\n",
      "TIME=215 - 😴 Student #2 slept. Assignment pending. Work left was=98 minutes\n",
      "🌕 Power is on at 224 minutes\n",
      "🌑 Power is off at 310 minutes\n",
      "🌕 Power is on at 321 minutes\n",
      "The time is 420 minutes\n",
      "The time is 420 minutes\n"
     ]
    },
    {
     "data": {
      "text/plain": [
       "<ConditionValue {<Process(timeduration) object at 0x1fed1fda070>: None}>"
      ]
     },
     "execution_count": 8,
     "metadata": {},
     "output_type": "execute_result"
    },
    {
     "name": "stdout",
     "output_type": "stream",
     "text": [
      "\n",
      "\n"
     ]
    },
    {
     "data": {
      "text/plain": [
       "'Summary of the simulation'"
      ]
     },
     "execution_count": 8,
     "metadata": {},
     "output_type": "execute_result"
    },
    {
     "name": "stdout",
     "output_type": "stream",
     "text": [
      "-----------------------------------------------------------------------------\n",
      "                     📊Summary of the simulation📊                     \n",
      "-----------------------------------------------------------------------------\n",
      "Number of students who finished assignment on time 🥳                  0\n",
      "Number of students who Slept😴                                         10\n",
      "Number of students👦                                                   10\n",
      "Percentage of students who finished assignment on time (in %)         0.0\n",
      "Average time to finish assignment                                     301.63\n",
      "Number of power cuts🌑🌕                                                347\n",
      "-----------------------------------------------------------------------------\n",
      "🌕 Power is on at 0 minutes\n",
      "TIME=0 - 🙂 Student #0 started working.Work left=277 minutes\n",
      "TIME=0 - 🙂 Student #1 started working.Work left=270 minutes\n",
      "TIME=0 - 🙂 Student #2 started working.Work left=300 minutes\n",
      "TIME=0 - 🙂 Student #3 started working.Work left=266 minutes\n",
      "TIME=0 - 🙂 Student #4 started working.Work left=263 minutes\n",
      "TIME=0 - 🙂 Student #5 started working.Work left=285 minutes\n",
      "TIME=0 - 🙂 Student #6 started working.Work left=244 minutes\n",
      "TIME=0 - 🙂 Student #7 started working.Work left=246 minutes\n",
      "TIME=0 - 🙂 Student #8 started working.Work left=261 minutes\n",
      "TIME=0 - 🙂 Student #9 started working.Work left=274 minutes\n",
      "🌑 Power is off at 112 minutes\n",
      "TIME=112 - 😓 Student #0 interrupted by power cut. Task remaining=165 minutes\n",
      "TIME=112 - 😓 Student #1 interrupted by power cut. Task remaining=158 minutes\n",
      "TIME=112 - 😓 Student #2 interrupted by power cut. Task remaining=188 minutes\n",
      "TIME=112 - 😓 Student #3 interrupted by power cut. Task remaining=154 minutes\n",
      "TIME=112 - 😓 Student #4 interrupted by power cut. Task remaining=151 minutes\n",
      "TIME=112 - 😓 Student #5 interrupted by power cut. Task remaining=173 minutes\n",
      "TIME=112 - 😓 Student #6 interrupted by power cut. Task remaining=132 minutes\n",
      "TIME=112 - 😓 Student #7 interrupted by power cut. Task remaining=134 minutes\n",
      "TIME=112 - 😓 Student #8 interrupted by power cut. Task remaining=149 minutes\n",
      "TIME=112 - 😓 Student #9 interrupted by power cut. Task remaining=162 minutes\n",
      "TIME=117 - 😴 Student #0 slept. Assignment pending. Work left was=165 minutes\n",
      "TIME=117 - 😴 Student #2 slept. Assignment pending. Work left was=188 minutes\n",
      "TIME=117 - 😴 Student #3 slept. Assignment pending. Work left was=154 minutes\n",
      "TIME=117 - 😴 Student #4 slept. Assignment pending. Work left was=151 minutes\n",
      "TIME=117 - 😴 Student #5 slept. Assignment pending. Work left was=173 minutes\n",
      "TIME=117 - 😴 Student #6 slept. Assignment pending. Work left was=132 minutes\n",
      "TIME=117 - 😴 Student #7 slept. Assignment pending. Work left was=134 minutes\n",
      "TIME=117 - 😴 Student #8 slept. Assignment pending. Work left was=149 minutes\n",
      "TIME=117 - 😴 Student #9 slept. Assignment pending. Work left was=162 minutes\n",
      "🌕 Power is on at 127 minutes\n",
      "TIME=127 - 😃 Student #1 resumes working. Work left to do=158 minutes\n",
      "🌑 Power is off at 210 minutes\n",
      "TIME=210 - 😓 Student #1 interrupted by power cut. Task remaining=75 minutes\n",
      "TIME=215 - 😴 Student #1 slept. Assignment pending. Work left was=75 minutes\n",
      "🌕 Power is on at 223 minutes\n",
      "🌑 Power is off at 338 minutes\n",
      "🌕 Power is on at 349 minutes\n",
      "The time is 420 minutes\n",
      "The time is 420 minutes\n"
     ]
    },
    {
     "data": {
      "text/plain": [
       "<ConditionValue {<Process(timeduration) object at 0x1fed1f90df0>: None}>"
      ]
     },
     "execution_count": 8,
     "metadata": {},
     "output_type": "execute_result"
    },
    {
     "name": "stdout",
     "output_type": "stream",
     "text": [
      "\n",
      "\n"
     ]
    },
    {
     "data": {
      "text/plain": [
       "'Summary of the simulation'"
      ]
     },
     "execution_count": 8,
     "metadata": {},
     "output_type": "execute_result"
    },
    {
     "name": "stdout",
     "output_type": "stream",
     "text": [
      "-----------------------------------------------------------------------------\n",
      "                     📊Summary of the simulation📊                     \n",
      "-----------------------------------------------------------------------------\n",
      "Number of students who finished assignment on time 🥳                  0\n",
      "Number of students who Slept😴                                         10\n",
      "Number of students👦                                                   10\n",
      "Percentage of students who finished assignment on time (in %)         0.0\n",
      "Average time to finish assignment                                     301.63\n",
      "Number of power cuts🌑🌕                                                350\n",
      "-----------------------------------------------------------------------------\n",
      "🌕 Power is on at 0 minutes\n",
      "TIME=0 - 🙂 Student #0 started working.Work left=282 minutes\n",
      "TIME=0 - 🙂 Student #1 started working.Work left=265 minutes\n",
      "TIME=0 - 🙂 Student #2 started working.Work left=264 minutes\n",
      "TIME=0 - 🙂 Student #3 started working.Work left=282 minutes\n",
      "TIME=0 - 🙂 Student #4 started working.Work left=246 minutes\n",
      "TIME=0 - 🙂 Student #5 started working.Work left=257 minutes\n",
      "TIME=0 - 🙂 Student #6 started working.Work left=260 minutes\n",
      "TIME=0 - 🙂 Student #7 started working.Work left=261 minutes\n",
      "TIME=0 - 🙂 Student #8 started working.Work left=263 minutes\n",
      "TIME=0 - 🙂 Student #9 started working.Work left=285 minutes\n",
      "🌑 Power is off at 69 minutes\n",
      "TIME=69 - 😓 Student #0 interrupted by power cut. Task remaining=213 minutes\n",
      "TIME=69 - 😓 Student #1 interrupted by power cut. Task remaining=196 minutes\n",
      "TIME=69 - 😓 Student #2 interrupted by power cut. Task remaining=195 minutes\n",
      "TIME=69 - 😓 Student #3 interrupted by power cut. Task remaining=213 minutes\n",
      "TIME=69 - 😓 Student #4 interrupted by power cut. Task remaining=177 minutes\n",
      "TIME=69 - 😓 Student #5 interrupted by power cut. Task remaining=188 minutes\n",
      "TIME=69 - 😓 Student #6 interrupted by power cut. Task remaining=191 minutes\n",
      "TIME=69 - 😓 Student #7 interrupted by power cut. Task remaining=192 minutes\n",
      "TIME=69 - 😓 Student #8 interrupted by power cut. Task remaining=194 minutes\n",
      "TIME=69 - 😓 Student #9 interrupted by power cut. Task remaining=216 minutes\n",
      "TIME=74 - 😴 Student #0 slept. Assignment pending. Work left was=213 minutes\n",
      "TIME=74 - 😴 Student #2 slept. Assignment pending. Work left was=195 minutes\n",
      "TIME=74 - 😴 Student #3 slept. Assignment pending. Work left was=213 minutes\n",
      "TIME=74 - 😴 Student #4 slept. Assignment pending. Work left was=177 minutes\n",
      "TIME=74 - 😴 Student #5 slept. Assignment pending. Work left was=188 minutes\n",
      "TIME=74 - 😴 Student #6 slept. Assignment pending. Work left was=191 minutes\n",
      "TIME=74 - 😴 Student #7 slept. Assignment pending. Work left was=192 minutes\n",
      "TIME=74 - 😴 Student #9 slept. Assignment pending. Work left was=216 minutes\n",
      "🌕 Power is on at 83 minutes\n",
      "TIME=83 - 😃 Student #1 resumes working. Work left to do=196 minutes\n",
      "TIME=83 - 😃 Student #8 resumes working. Work left to do=194 minutes\n",
      "🌑 Power is off at 153 minutes\n",
      "TIME=153 - 😓 Student #1 interrupted by power cut. Task remaining=126 minutes\n",
      "TIME=153 - 😓 Student #8 interrupted by power cut. Task remaining=124 minutes\n",
      "TIME=158 - 😴 Student #1 slept. Assignment pending. Work left was=126 minutes\n",
      "TIME=158 - 😴 Student #8 slept. Assignment pending. Work left was=124 minutes\n",
      "🌕 Power is on at 163 minutes\n",
      "🌑 Power is off at 278 minutes\n",
      "🌕 Power is on at 292 minutes\n",
      "🌑 Power is off at 365 minutes\n",
      "🌕 Power is on at 380 minutes\n",
      "The time is 420 minutes\n",
      "The time is 420 minutes\n"
     ]
    },
    {
     "data": {
      "text/plain": [
       "<ConditionValue {<Process(timeduration) object at 0x1fecfb480a0>: None}>"
      ]
     },
     "execution_count": 8,
     "metadata": {},
     "output_type": "execute_result"
    },
    {
     "name": "stdout",
     "output_type": "stream",
     "text": [
      "\n",
      "\n"
     ]
    },
    {
     "data": {
      "text/plain": [
       "'Summary of the simulation'"
      ]
     },
     "execution_count": 8,
     "metadata": {},
     "output_type": "execute_result"
    },
    {
     "name": "stdout",
     "output_type": "stream",
     "text": [
      "-----------------------------------------------------------------------------\n",
      "                     📊Summary of the simulation📊                     \n",
      "-----------------------------------------------------------------------------\n",
      "Number of students who finished assignment on time 🥳                  0\n",
      "Number of students who Slept😴                                         10\n",
      "Number of students👦                                                   10\n",
      "Percentage of students who finished assignment on time (in %)         0.0\n",
      "Average time to finish assignment                                     301.63\n",
      "Number of power cuts🌑🌕                                                354\n",
      "-----------------------------------------------------------------------------\n",
      "🌕 Power is on at 0 minutes\n",
      "TIME=0 - 🙂 Student #0 started working.Work left=268 minutes\n",
      "TIME=0 - 🙂 Student #1 started working.Work left=280 minutes\n",
      "TIME=0 - 🙂 Student #2 started working.Work left=276 minutes\n",
      "TIME=0 - 🙂 Student #3 started working.Work left=281 minutes\n",
      "TIME=0 - 🙂 Student #4 started working.Work left=260 minutes\n",
      "TIME=0 - 🙂 Student #5 started working.Work left=280 minutes\n",
      "TIME=0 - 🙂 Student #6 started working.Work left=242 minutes\n",
      "TIME=0 - 🙂 Student #7 started working.Work left=300 minutes\n",
      "TIME=0 - 🙂 Student #8 started working.Work left=296 minutes\n",
      "TIME=0 - 🙂 Student #9 started working.Work left=246 minutes\n",
      "🌑 Power is off at 72 minutes\n",
      "TIME=72 - 😓 Student #0 interrupted by power cut. Task remaining=196 minutes\n",
      "TIME=72 - 😓 Student #1 interrupted by power cut. Task remaining=208 minutes\n",
      "TIME=72 - 😓 Student #2 interrupted by power cut. Task remaining=204 minutes\n",
      "TIME=72 - 😓 Student #3 interrupted by power cut. Task remaining=209 minutes\n",
      "TIME=72 - 😓 Student #4 interrupted by power cut. Task remaining=188 minutes\n",
      "TIME=72 - 😓 Student #5 interrupted by power cut. Task remaining=208 minutes\n",
      "TIME=72 - 😓 Student #6 interrupted by power cut. Task remaining=170 minutes\n",
      "TIME=72 - 😓 Student #7 interrupted by power cut. Task remaining=228 minutes\n",
      "TIME=72 - 😓 Student #8 interrupted by power cut. Task remaining=224 minutes\n",
      "TIME=72 - 😓 Student #9 interrupted by power cut. Task remaining=174 minutes\n",
      "TIME=77 - 😴 Student #0 slept. Assignment pending. Work left was=196 minutes\n",
      "TIME=77 - 😴 Student #2 slept. Assignment pending. Work left was=204 minutes\n",
      "TIME=77 - 😴 Student #4 slept. Assignment pending. Work left was=188 minutes\n",
      "TIME=77 - 😴 Student #6 slept. Assignment pending. Work left was=170 minutes\n",
      "TIME=77 - 😴 Student #8 slept. Assignment pending. Work left was=224 minutes\n",
      "TIME=77 - 😴 Student #9 slept. Assignment pending. Work left was=174 minutes\n",
      "🌕 Power is on at 87 minutes\n",
      "TIME=87 - 😃 Student #1 resumes working. Work left to do=208 minutes\n",
      "TIME=87 - 😃 Student #3 resumes working. Work left to do=209 minutes\n",
      "TIME=87 - 😃 Student #5 resumes working. Work left to do=208 minutes\n",
      "TIME=87 - 😃 Student #7 resumes working. Work left to do=228 minutes\n",
      "🌑 Power is off at 192 minutes\n",
      "TIME=192 - 😓 Student #1 interrupted by power cut. Task remaining=103 minutes\n",
      "TIME=192 - 😓 Student #3 interrupted by power cut. Task remaining=104 minutes\n",
      "TIME=192 - 😓 Student #5 interrupted by power cut. Task remaining=103 minutes\n",
      "TIME=192 - 😓 Student #7 interrupted by power cut. Task remaining=123 minutes\n",
      "TIME=197 - 😴 Student #1 slept. Assignment pending. Work left was=103 minutes\n",
      "TIME=197 - 😴 Student #3 slept. Assignment pending. Work left was=104 minutes\n",
      "TIME=197 - 😴 Student #5 slept. Assignment pending. Work left was=103 minutes\n",
      "TIME=197 - 😴 Student #7 slept. Assignment pending. Work left was=123 minutes\n",
      "🌕 Power is on at 206 minutes\n",
      "🌑 Power is off at 321 minutes\n",
      "🌕 Power is on at 332 minutes\n",
      "🌑 Power is off at 401 minutes\n",
      "🌕 Power is on at 412 minutes\n",
      "The time is 420 minutes\n",
      "The time is 420 minutes\n"
     ]
    },
    {
     "data": {
      "text/plain": [
       "<ConditionValue {<Process(timeduration) object at 0x1fed1fd9ee0>: None}>"
      ]
     },
     "execution_count": 8,
     "metadata": {},
     "output_type": "execute_result"
    },
    {
     "name": "stdout",
     "output_type": "stream",
     "text": [
      "\n",
      "\n"
     ]
    },
    {
     "data": {
      "text/plain": [
       "'Summary of the simulation'"
      ]
     },
     "execution_count": 8,
     "metadata": {},
     "output_type": "execute_result"
    },
    {
     "name": "stdout",
     "output_type": "stream",
     "text": [
      "-----------------------------------------------------------------------------\n",
      "                     📊Summary of the simulation📊                     \n",
      "-----------------------------------------------------------------------------\n",
      "Number of students who finished assignment on time 🥳                  0\n",
      "Number of students who Slept😴                                         10\n",
      "Number of students👦                                                   10\n",
      "Percentage of students who finished assignment on time (in %)         0.0\n",
      "Average time to finish assignment                                     301.63\n",
      "Number of power cuts🌑🌕                                                358\n",
      "-----------------------------------------------------------------------------\n",
      "🌕 Power is on at 0 minutes\n",
      "TIME=0 - 🙂 Student #0 started working.Work left=245 minutes\n",
      "TIME=0 - 🙂 Student #1 started working.Work left=249 minutes\n",
      "TIME=0 - 🙂 Student #2 started working.Work left=248 minutes\n",
      "TIME=0 - 🙂 Student #3 started working.Work left=258 minutes\n",
      "TIME=0 - 🙂 Student #4 started working.Work left=287 minutes\n",
      "TIME=0 - 🙂 Student #5 started working.Work left=297 minutes\n",
      "TIME=0 - 🙂 Student #6 started working.Work left=264 minutes\n",
      "TIME=0 - 🙂 Student #7 started working.Work left=297 minutes\n",
      "TIME=0 - 🙂 Student #8 started working.Work left=282 minutes\n",
      "TIME=0 - 🙂 Student #9 started working.Work left=261 minutes\n",
      "🌑 Power is off at 64 minutes\n",
      "TIME=64 - 😓 Student #0 interrupted by power cut. Task remaining=181 minutes\n",
      "TIME=64 - 😓 Student #1 interrupted by power cut. Task remaining=185 minutes\n",
      "TIME=64 - 😓 Student #2 interrupted by power cut. Task remaining=184 minutes\n",
      "TIME=64 - 😓 Student #3 interrupted by power cut. Task remaining=194 minutes\n",
      "TIME=64 - 😓 Student #4 interrupted by power cut. Task remaining=223 minutes\n",
      "TIME=64 - 😓 Student #5 interrupted by power cut. Task remaining=233 minutes\n",
      "TIME=64 - 😓 Student #6 interrupted by power cut. Task remaining=200 minutes\n",
      "TIME=64 - 😓 Student #7 interrupted by power cut. Task remaining=233 minutes\n",
      "TIME=64 - 😓 Student #8 interrupted by power cut. Task remaining=218 minutes\n",
      "TIME=64 - 😓 Student #9 interrupted by power cut. Task remaining=197 minutes\n",
      "TIME=69 - 😴 Student #0 slept. Assignment pending. Work left was=181 minutes\n",
      "TIME=69 - 😴 Student #1 slept. Assignment pending. Work left was=185 minutes\n",
      "TIME=69 - 😴 Student #2 slept. Assignment pending. Work left was=184 minutes\n",
      "TIME=69 - 😴 Student #3 slept. Assignment pending. Work left was=194 minutes\n",
      "TIME=69 - 😴 Student #4 slept. Assignment pending. Work left was=223 minutes\n",
      "TIME=69 - 😴 Student #5 slept. Assignment pending. Work left was=233 minutes\n",
      "TIME=69 - 😴 Student #6 slept. Assignment pending. Work left was=200 minutes\n",
      "TIME=69 - 😴 Student #7 slept. Assignment pending. Work left was=233 minutes\n",
      "TIME=69 - 😴 Student #8 slept. Assignment pending. Work left was=218 minutes\n",
      "TIME=69 - 😴 Student #9 slept. Assignment pending. Work left was=197 minutes\n",
      "🌕 Power is on at 79 minutes\n",
      "🌑 Power is off at 160 minutes\n",
      "🌕 Power is on at 173 minutes\n",
      "🌑 Power is off at 272 minutes\n",
      "🌕 Power is on at 284 minutes\n",
      "🌑 Power is off at 378 minutes\n",
      "🌕 Power is on at 389 minutes\n",
      "The time is 420 minutes\n",
      "The time is 420 minutes\n"
     ]
    },
    {
     "data": {
      "text/plain": [
       "<ConditionValue {<Process(timeduration) object at 0x1fed201c1f0>: None}>"
      ]
     },
     "execution_count": 8,
     "metadata": {},
     "output_type": "execute_result"
    },
    {
     "name": "stdout",
     "output_type": "stream",
     "text": [
      "\n",
      "\n"
     ]
    },
    {
     "data": {
      "text/plain": [
       "'Summary of the simulation'"
      ]
     },
     "execution_count": 8,
     "metadata": {},
     "output_type": "execute_result"
    },
    {
     "name": "stdout",
     "output_type": "stream",
     "text": [
      "-----------------------------------------------------------------------------\n",
      "                     📊Summary of the simulation📊                     \n",
      "-----------------------------------------------------------------------------\n",
      "Number of students who finished assignment on time 🥳                  0\n",
      "Number of students who Slept😴                                         10\n",
      "Number of students👦                                                   10\n",
      "Percentage of students who finished assignment on time (in %)         0.0\n",
      "Average time to finish assignment                                     301.63\n",
      "Number of power cuts🌑🌕                                                362\n",
      "-----------------------------------------------------------------------------\n",
      "🌕 Power is on at 0 minutes\n",
      "TIME=0 - 🙂 Student #0 started working.Work left=272 minutes\n",
      "TIME=0 - 🙂 Student #1 started working.Work left=282 minutes\n",
      "TIME=0 - 🙂 Student #2 started working.Work left=256 minutes\n",
      "TIME=0 - 🙂 Student #3 started working.Work left=250 minutes\n",
      "TIME=0 - 🙂 Student #4 started working.Work left=274 minutes\n",
      "TIME=0 - 🙂 Student #5 started working.Work left=240 minutes\n",
      "TIME=0 - 🙂 Student #6 started working.Work left=253 minutes\n",
      "TIME=0 - 🙂 Student #7 started working.Work left=241 minutes\n",
      "TIME=0 - 🙂 Student #8 started working.Work left=286 minutes\n",
      "TIME=0 - 🙂 Student #9 started working.Work left=283 minutes\n",
      "🌑 Power is off at 87 minutes\n",
      "TIME=87 - 😓 Student #0 interrupted by power cut. Task remaining=185 minutes\n",
      "TIME=87 - 😓 Student #1 interrupted by power cut. Task remaining=195 minutes\n",
      "TIME=87 - 😓 Student #2 interrupted by power cut. Task remaining=169 minutes\n",
      "TIME=87 - 😓 Student #3 interrupted by power cut. Task remaining=163 minutes\n",
      "TIME=87 - 😓 Student #4 interrupted by power cut. Task remaining=187 minutes\n",
      "TIME=87 - 😓 Student #5 interrupted by power cut. Task remaining=153 minutes\n",
      "TIME=87 - 😓 Student #6 interrupted by power cut. Task remaining=166 minutes\n",
      "TIME=87 - 😓 Student #7 interrupted by power cut. Task remaining=154 minutes\n",
      "TIME=87 - 😓 Student #8 interrupted by power cut. Task remaining=199 minutes\n",
      "TIME=87 - 😓 Student #9 interrupted by power cut. Task remaining=196 minutes\n",
      "TIME=92 - 😴 Student #0 slept. Assignment pending. Work left was=185 minutes\n",
      "TIME=92 - 😴 Student #1 slept. Assignment pending. Work left was=195 minutes\n",
      "TIME=92 - 😴 Student #3 slept. Assignment pending. Work left was=163 minutes\n",
      "TIME=92 - 😴 Student #4 slept. Assignment pending. Work left was=187 minutes\n",
      "TIME=92 - 😴 Student #5 slept. Assignment pending. Work left was=153 minutes\n",
      "TIME=92 - 😴 Student #6 slept. Assignment pending. Work left was=166 minutes\n",
      "TIME=92 - 😴 Student #7 slept. Assignment pending. Work left was=154 minutes\n",
      "TIME=92 - 😴 Student #8 slept. Assignment pending. Work left was=199 minutes\n",
      "TIME=92 - 😴 Student #9 slept. Assignment pending. Work left was=196 minutes\n",
      "🌕 Power is on at 97 minutes\n",
      "TIME=97 - 😃 Student #2 resumes working. Work left to do=169 minutes\n",
      "🌑 Power is off at 195 minutes\n",
      "TIME=195 - 😓 Student #2 interrupted by power cut. Task remaining=71 minutes\n",
      "TIME=200 - 😴 Student #2 slept. Assignment pending. Work left was=71 minutes\n",
      "🌕 Power is on at 205 minutes\n",
      "🌑 Power is off at 298 minutes\n",
      "🌕 Power is on at 310 minutes\n",
      "🌑 Power is off at 377 minutes\n",
      "🌕 Power is on at 391 minutes\n",
      "The time is 420 minutes\n",
      "The time is 420 minutes\n"
     ]
    },
    {
     "data": {
      "text/plain": [
       "<ConditionValue {<Process(timeduration) object at 0x1fed201ca30>: None}>"
      ]
     },
     "execution_count": 8,
     "metadata": {},
     "output_type": "execute_result"
    },
    {
     "name": "stdout",
     "output_type": "stream",
     "text": [
      "\n",
      "\n"
     ]
    },
    {
     "data": {
      "text/plain": [
       "'Summary of the simulation'"
      ]
     },
     "execution_count": 8,
     "metadata": {},
     "output_type": "execute_result"
    },
    {
     "name": "stdout",
     "output_type": "stream",
     "text": [
      "-----------------------------------------------------------------------------\n",
      "                     📊Summary of the simulation📊                     \n",
      "-----------------------------------------------------------------------------\n",
      "Number of students who finished assignment on time 🥳                  0\n",
      "Number of students who Slept😴                                         10\n",
      "Number of students👦                                                   10\n",
      "Percentage of students who finished assignment on time (in %)         0.0\n",
      "Average time to finish assignment                                     301.63\n",
      "Number of power cuts🌑🌕                                                366\n",
      "-----------------------------------------------------------------------------\n",
      "🌕 Power is on at 0 minutes\n",
      "TIME=0 - 🙂 Student #0 started working.Work left=268 minutes\n",
      "TIME=0 - 🙂 Student #1 started working.Work left=277 minutes\n",
      "TIME=0 - 🙂 Student #2 started working.Work left=258 minutes\n",
      "TIME=0 - 🙂 Student #3 started working.Work left=243 minutes\n",
      "TIME=0 - 🙂 Student #4 started working.Work left=243 minutes\n",
      "TIME=0 - 🙂 Student #5 started working.Work left=277 minutes\n",
      "TIME=0 - 🙂 Student #6 started working.Work left=272 minutes\n",
      "TIME=0 - 🙂 Student #7 started working.Work left=260 minutes\n",
      "TIME=0 - 🙂 Student #8 started working.Work left=276 minutes\n",
      "TIME=0 - 🙂 Student #9 started working.Work left=300 minutes\n",
      "🌑 Power is off at 90 minutes\n",
      "TIME=90 - 😓 Student #0 interrupted by power cut. Task remaining=178 minutes\n",
      "TIME=90 - 😓 Student #1 interrupted by power cut. Task remaining=187 minutes\n",
      "TIME=90 - 😓 Student #2 interrupted by power cut. Task remaining=168 minutes\n",
      "TIME=90 - 😓 Student #3 interrupted by power cut. Task remaining=153 minutes\n",
      "TIME=90 - 😓 Student #4 interrupted by power cut. Task remaining=153 minutes\n",
      "TIME=90 - 😓 Student #5 interrupted by power cut. Task remaining=187 minutes\n",
      "TIME=90 - 😓 Student #6 interrupted by power cut. Task remaining=182 minutes\n",
      "TIME=90 - 😓 Student #7 interrupted by power cut. Task remaining=170 minutes\n",
      "TIME=90 - 😓 Student #8 interrupted by power cut. Task remaining=186 minutes\n",
      "TIME=90 - 😓 Student #9 interrupted by power cut. Task remaining=210 minutes\n",
      "TIME=95 - 😴 Student #0 slept. Assignment pending. Work left was=178 minutes\n",
      "TIME=95 - 😴 Student #1 slept. Assignment pending. Work left was=187 minutes\n",
      "TIME=95 - 😴 Student #2 slept. Assignment pending. Work left was=168 minutes\n",
      "TIME=95 - 😴 Student #3 slept. Assignment pending. Work left was=153 minutes\n",
      "TIME=95 - 😴 Student #4 slept. Assignment pending. Work left was=153 minutes\n",
      "TIME=95 - 😴 Student #5 slept. Assignment pending. Work left was=187 minutes\n",
      "TIME=95 - 😴 Student #6 slept. Assignment pending. Work left was=182 minutes\n",
      "TIME=95 - 😴 Student #7 slept. Assignment pending. Work left was=170 minutes\n",
      "TIME=95 - 😴 Student #8 slept. Assignment pending. Work left was=186 minutes\n",
      "TIME=95 - 😴 Student #9 slept. Assignment pending. Work left was=210 minutes\n",
      "🌕 Power is on at 105 minutes\n",
      "🌑 Power is off at 192 minutes\n",
      "🌕 Power is on at 207 minutes\n",
      "🌑 Power is off at 295 minutes\n",
      "🌕 Power is on at 305 minutes\n",
      "🌑 Power is off at 406 minutes\n",
      "🌕 Power is on at 417 minutes\n",
      "The time is 420 minutes\n",
      "The time is 420 minutes\n"
     ]
    },
    {
     "data": {
      "text/plain": [
       "<ConditionValue {<Process(timeduration) object at 0x1fecfbba640>: None}>"
      ]
     },
     "execution_count": 8,
     "metadata": {},
     "output_type": "execute_result"
    },
    {
     "name": "stdout",
     "output_type": "stream",
     "text": [
      "\n",
      "\n"
     ]
    },
    {
     "data": {
      "text/plain": [
       "'Summary of the simulation'"
      ]
     },
     "execution_count": 8,
     "metadata": {},
     "output_type": "execute_result"
    },
    {
     "name": "stdout",
     "output_type": "stream",
     "text": [
      "-----------------------------------------------------------------------------\n",
      "                     📊Summary of the simulation📊                     \n",
      "-----------------------------------------------------------------------------\n",
      "Number of students who finished assignment on time 🥳                  0\n",
      "Number of students who Slept😴                                         10\n",
      "Number of students👦                                                   10\n",
      "Percentage of students who finished assignment on time (in %)         0.0\n",
      "Average time to finish assignment                                     301.63\n",
      "Number of power cuts🌑🌕                                                370\n",
      "-----------------------------------------------------------------------------\n",
      "🌕 Power is on at 0 minutes\n",
      "TIME=0 - 🙂 Student #0 started working.Work left=255 minutes\n",
      "TIME=0 - 🙂 Student #1 started working.Work left=245 minutes\n",
      "TIME=0 - 🙂 Student #2 started working.Work left=298 minutes\n",
      "TIME=0 - 🙂 Student #3 started working.Work left=241 minutes\n",
      "TIME=0 - 🙂 Student #4 started working.Work left=253 minutes\n",
      "TIME=0 - 🙂 Student #5 started working.Work left=255 minutes\n",
      "TIME=0 - 🙂 Student #6 started working.Work left=297 minutes\n",
      "TIME=0 - 🙂 Student #7 started working.Work left=286 minutes\n",
      "TIME=0 - 🙂 Student #8 started working.Work left=278 minutes\n",
      "TIME=0 - 🙂 Student #9 started working.Work left=241 minutes\n",
      "🌑 Power is off at 99 minutes\n",
      "TIME=99 - 😓 Student #0 interrupted by power cut. Task remaining=156 minutes\n",
      "TIME=99 - 😓 Student #1 interrupted by power cut. Task remaining=146 minutes\n",
      "TIME=99 - 😓 Student #2 interrupted by power cut. Task remaining=199 minutes\n",
      "TIME=99 - 😓 Student #3 interrupted by power cut. Task remaining=142 minutes\n",
      "TIME=99 - 😓 Student #4 interrupted by power cut. Task remaining=154 minutes\n",
      "TIME=99 - 😓 Student #5 interrupted by power cut. Task remaining=156 minutes\n",
      "TIME=99 - 😓 Student #6 interrupted by power cut. Task remaining=198 minutes\n",
      "TIME=99 - 😓 Student #7 interrupted by power cut. Task remaining=187 minutes\n",
      "TIME=99 - 😓 Student #8 interrupted by power cut. Task remaining=179 minutes\n",
      "TIME=99 - 😓 Student #9 interrupted by power cut. Task remaining=142 minutes\n",
      "TIME=104 - 😴 Student #0 slept. Assignment pending. Work left was=156 minutes\n",
      "TIME=104 - 😴 Student #1 slept. Assignment pending. Work left was=146 minutes\n",
      "TIME=104 - 😴 Student #2 slept. Assignment pending. Work left was=199 minutes\n",
      "TIME=104 - 😴 Student #3 slept. Assignment pending. Work left was=142 minutes\n",
      "TIME=104 - 😴 Student #4 slept. Assignment pending. Work left was=154 minutes\n",
      "TIME=104 - 😴 Student #5 slept. Assignment pending. Work left was=156 minutes\n",
      "TIME=104 - 😴 Student #6 slept. Assignment pending. Work left was=198 minutes\n",
      "TIME=104 - 😴 Student #7 slept. Assignment pending. Work left was=187 minutes\n",
      "TIME=104 - 😴 Student #8 slept. Assignment pending. Work left was=179 minutes\n",
      "TIME=104 - 😴 Student #9 slept. Assignment pending. Work left was=142 minutes\n",
      "🌕 Power is on at 110 minutes\n",
      "🌑 Power is off at 230 minutes\n",
      "🌕 Power is on at 244 minutes\n",
      "🌑 Power is off at 363 minutes\n",
      "🌕 Power is on at 377 minutes\n",
      "The time is 420 minutes\n",
      "The time is 420 minutes\n"
     ]
    },
    {
     "data": {
      "text/plain": [
       "<ConditionValue {<Process(timeduration) object at 0x1fed2031bb0>: None}>"
      ]
     },
     "execution_count": 8,
     "metadata": {},
     "output_type": "execute_result"
    },
    {
     "name": "stdout",
     "output_type": "stream",
     "text": [
      "\n",
      "\n"
     ]
    },
    {
     "data": {
      "text/plain": [
       "'Summary of the simulation'"
      ]
     },
     "execution_count": 8,
     "metadata": {},
     "output_type": "execute_result"
    },
    {
     "name": "stdout",
     "output_type": "stream",
     "text": [
      "-----------------------------------------------------------------------------\n",
      "                     📊Summary of the simulation📊                     \n",
      "-----------------------------------------------------------------------------\n",
      "Number of students who finished assignment on time 🥳                  0\n",
      "Number of students who Slept😴                                         10\n",
      "Number of students👦                                                   10\n",
      "Percentage of students who finished assignment on time (in %)         0.0\n",
      "Average time to finish assignment                                     301.63\n",
      "Number of power cuts🌑🌕                                                373\n",
      "-----------------------------------------------------------------------------\n",
      "🌕 Power is on at 0 minutes\n",
      "TIME=0 - 🙂 Student #0 started working.Work left=251 minutes\n",
      "TIME=0 - 🙂 Student #1 started working.Work left=284 minutes\n",
      "TIME=0 - 🙂 Student #2 started working.Work left=262 minutes\n",
      "TIME=0 - 🙂 Student #3 started working.Work left=265 minutes\n",
      "TIME=0 - 🙂 Student #4 started working.Work left=248 minutes\n",
      "TIME=0 - 🙂 Student #5 started working.Work left=293 minutes\n",
      "TIME=0 - 🙂 Student #6 started working.Work left=240 minutes\n",
      "TIME=0 - 🙂 Student #7 started working.Work left=261 minutes\n",
      "TIME=0 - 🙂 Student #8 started working.Work left=266 minutes\n",
      "TIME=0 - 🙂 Student #9 started working.Work left=240 minutes\n",
      "🌑 Power is off at 85 minutes\n",
      "TIME=85 - 😓 Student #0 interrupted by power cut. Task remaining=166 minutes\n",
      "TIME=85 - 😓 Student #1 interrupted by power cut. Task remaining=199 minutes\n",
      "TIME=85 - 😓 Student #2 interrupted by power cut. Task remaining=177 minutes\n",
      "TIME=85 - 😓 Student #3 interrupted by power cut. Task remaining=180 minutes\n",
      "TIME=85 - 😓 Student #4 interrupted by power cut. Task remaining=163 minutes\n",
      "TIME=85 - 😓 Student #5 interrupted by power cut. Task remaining=208 minutes\n",
      "TIME=85 - 😓 Student #6 interrupted by power cut. Task remaining=155 minutes\n",
      "TIME=85 - 😓 Student #7 interrupted by power cut. Task remaining=176 minutes\n",
      "TIME=85 - 😓 Student #8 interrupted by power cut. Task remaining=181 minutes\n",
      "TIME=85 - 😓 Student #9 interrupted by power cut. Task remaining=155 minutes\n",
      "TIME=90 - 😴 Student #0 slept. Assignment pending. Work left was=166 minutes\n",
      "TIME=90 - 😴 Student #1 slept. Assignment pending. Work left was=199 minutes\n",
      "TIME=90 - 😴 Student #2 slept. Assignment pending. Work left was=177 minutes\n",
      "TIME=90 - 😴 Student #3 slept. Assignment pending. Work left was=180 minutes\n",
      "TIME=90 - 😴 Student #4 slept. Assignment pending. Work left was=163 minutes\n",
      "TIME=90 - 😴 Student #5 slept. Assignment pending. Work left was=208 minutes\n",
      "TIME=90 - 😴 Student #6 slept. Assignment pending. Work left was=155 minutes\n",
      "TIME=90 - 😴 Student #7 slept. Assignment pending. Work left was=176 minutes\n",
      "TIME=90 - 😴 Student #8 slept. Assignment pending. Work left was=181 minutes\n",
      "TIME=90 - 😴 Student #9 slept. Assignment pending. Work left was=155 minutes\n",
      "🌕 Power is on at 98 minutes\n",
      "🌑 Power is off at 191 minutes\n",
      "🌕 Power is on at 201 minutes\n",
      "🌑 Power is off at 309 minutes\n",
      "🌕 Power is on at 321 minutes\n",
      "The time is 420 minutes\n",
      "The time is 420 minutes\n"
     ]
    },
    {
     "data": {
      "text/plain": [
       "<ConditionValue {<Process(timeduration) object at 0x1fed2013490>: None}>"
      ]
     },
     "execution_count": 8,
     "metadata": {},
     "output_type": "execute_result"
    },
    {
     "name": "stdout",
     "output_type": "stream",
     "text": [
      "\n",
      "\n"
     ]
    },
    {
     "data": {
      "text/plain": [
       "'Summary of the simulation'"
      ]
     },
     "execution_count": 8,
     "metadata": {},
     "output_type": "execute_result"
    },
    {
     "name": "stdout",
     "output_type": "stream",
     "text": [
      "-----------------------------------------------------------------------------\n",
      "                     📊Summary of the simulation📊                     \n",
      "-----------------------------------------------------------------------------\n",
      "Number of students who finished assignment on time 🥳                  0\n",
      "Number of students who Slept😴                                         10\n",
      "Number of students👦                                                   10\n",
      "Percentage of students who finished assignment on time (in %)         0.0\n",
      "Average time to finish assignment                                     301.63\n",
      "Number of power cuts🌑🌕                                                376\n",
      "-----------------------------------------------------------------------------\n",
      "🌕 Power is on at 0 minutes\n",
      "TIME=0 - 🙂 Student #0 started working.Work left=280 minutes\n",
      "TIME=0 - 🙂 Student #1 started working.Work left=259 minutes\n",
      "TIME=0 - 🙂 Student #2 started working.Work left=240 minutes\n",
      "TIME=0 - 🙂 Student #3 started working.Work left=261 minutes\n",
      "TIME=0 - 🙂 Student #4 started working.Work left=252 minutes\n",
      "TIME=0 - 🙂 Student #5 started working.Work left=293 minutes\n",
      "TIME=0 - 🙂 Student #6 started working.Work left=240 minutes\n",
      "TIME=0 - 🙂 Student #7 started working.Work left=267 minutes\n",
      "TIME=0 - 🙂 Student #8 started working.Work left=260 minutes\n",
      "TIME=0 - 🙂 Student #9 started working.Work left=256 minutes\n",
      "🌑 Power is off at 119 minutes\n",
      "TIME=119 - 😓 Student #0 interrupted by power cut. Task remaining=161 minutes\n",
      "TIME=119 - 😓 Student #1 interrupted by power cut. Task remaining=140 minutes\n",
      "TIME=119 - 😓 Student #2 interrupted by power cut. Task remaining=121 minutes\n",
      "TIME=119 - 😓 Student #3 interrupted by power cut. Task remaining=142 minutes\n",
      "TIME=119 - 😓 Student #4 interrupted by power cut. Task remaining=133 minutes\n",
      "TIME=119 - 😓 Student #5 interrupted by power cut. Task remaining=174 minutes\n",
      "TIME=119 - 😓 Student #6 interrupted by power cut. Task remaining=121 minutes\n",
      "TIME=119 - 😓 Student #7 interrupted by power cut. Task remaining=148 minutes\n",
      "TIME=119 - 😓 Student #8 interrupted by power cut. Task remaining=141 minutes\n",
      "TIME=119 - 😓 Student #9 interrupted by power cut. Task remaining=137 minutes\n",
      "TIME=124 - 😴 Student #0 slept. Assignment pending. Work left was=161 minutes\n",
      "TIME=124 - 😴 Student #1 slept. Assignment pending. Work left was=140 minutes\n",
      "TIME=124 - 😴 Student #2 slept. Assignment pending. Work left was=121 minutes\n",
      "TIME=124 - 😴 Student #3 slept. Assignment pending. Work left was=142 minutes\n",
      "TIME=124 - 😴 Student #4 slept. Assignment pending. Work left was=133 minutes\n",
      "TIME=124 - 😴 Student #5 slept. Assignment pending. Work left was=174 minutes\n",
      "TIME=124 - 😴 Student #6 slept. Assignment pending. Work left was=121 minutes\n",
      "TIME=124 - 😴 Student #7 slept. Assignment pending. Work left was=148 minutes\n",
      "TIME=124 - 😴 Student #8 slept. Assignment pending. Work left was=141 minutes\n",
      "TIME=124 - 😴 Student #9 slept. Assignment pending. Work left was=137 minutes\n",
      "🌕 Power is on at 129 minutes\n",
      "🌑 Power is off at 224 minutes\n",
      "🌕 Power is on at 234 minutes\n",
      "🌑 Power is off at 349 minutes\n",
      "🌕 Power is on at 359 minutes\n",
      "The time is 420 minutes\n",
      "The time is 420 minutes\n"
     ]
    },
    {
     "data": {
      "text/plain": [
       "<ConditionValue {<Process(timeduration) object at 0x1fed2013be0>: None}>"
      ]
     },
     "execution_count": 8,
     "metadata": {},
     "output_type": "execute_result"
    },
    {
     "name": "stdout",
     "output_type": "stream",
     "text": [
      "\n",
      "\n"
     ]
    },
    {
     "data": {
      "text/plain": [
       "'Summary of the simulation'"
      ]
     },
     "execution_count": 8,
     "metadata": {},
     "output_type": "execute_result"
    },
    {
     "name": "stdout",
     "output_type": "stream",
     "text": [
      "-----------------------------------------------------------------------------\n",
      "                     📊Summary of the simulation📊                     \n",
      "-----------------------------------------------------------------------------\n",
      "Number of students who finished assignment on time 🥳                  0\n",
      "Number of students who Slept😴                                         10\n",
      "Number of students👦                                                   10\n",
      "Percentage of students who finished assignment on time (in %)         0.0\n",
      "Average time to finish assignment                                     301.63\n",
      "Number of power cuts🌑🌕                                                379\n",
      "-----------------------------------------------------------------------------\n",
      "🌕 Power is on at 0 minutes\n",
      "TIME=0 - 🙂 Student #0 started working.Work left=247 minutes\n",
      "TIME=0 - 🙂 Student #1 started working.Work left=269 minutes\n",
      "TIME=0 - 🙂 Student #2 started working.Work left=245 minutes\n",
      "TIME=0 - 🙂 Student #3 started working.Work left=289 minutes\n",
      "TIME=0 - 🙂 Student #4 started working.Work left=240 minutes\n",
      "TIME=0 - 🙂 Student #5 started working.Work left=296 minutes\n",
      "TIME=0 - 🙂 Student #6 started working.Work left=262 minutes\n",
      "TIME=0 - 🙂 Student #7 started working.Work left=267 minutes\n",
      "TIME=0 - 🙂 Student #8 started working.Work left=261 minutes\n",
      "TIME=0 - 🙂 Student #9 started working.Work left=251 minutes\n",
      "🌑 Power is off at 110 minutes\n",
      "TIME=110 - 😓 Student #0 interrupted by power cut. Task remaining=137 minutes\n",
      "TIME=110 - 😓 Student #1 interrupted by power cut. Task remaining=159 minutes\n",
      "TIME=110 - 😓 Student #2 interrupted by power cut. Task remaining=135 minutes\n",
      "TIME=110 - 😓 Student #3 interrupted by power cut. Task remaining=179 minutes\n",
      "TIME=110 - 😓 Student #4 interrupted by power cut. Task remaining=130 minutes\n",
      "TIME=110 - 😓 Student #5 interrupted by power cut. Task remaining=186 minutes\n",
      "TIME=110 - 😓 Student #6 interrupted by power cut. Task remaining=152 minutes\n",
      "TIME=110 - 😓 Student #7 interrupted by power cut. Task remaining=157 minutes\n",
      "TIME=110 - 😓 Student #8 interrupted by power cut. Task remaining=151 minutes\n",
      "TIME=110 - 😓 Student #9 interrupted by power cut. Task remaining=141 minutes\n",
      "TIME=115 - 😴 Student #0 slept. Assignment pending. Work left was=137 minutes\n",
      "TIME=115 - 😴 Student #1 slept. Assignment pending. Work left was=159 minutes\n",
      "TIME=115 - 😴 Student #2 slept. Assignment pending. Work left was=135 minutes\n",
      "TIME=115 - 😴 Student #3 slept. Assignment pending. Work left was=179 minutes\n",
      "TIME=115 - 😴 Student #4 slept. Assignment pending. Work left was=130 minutes\n",
      "TIME=115 - 😴 Student #5 slept. Assignment pending. Work left was=186 minutes\n",
      "TIME=115 - 😴 Student #6 slept. Assignment pending. Work left was=152 minutes\n",
      "TIME=115 - 😴 Student #7 slept. Assignment pending. Work left was=157 minutes\n",
      "TIME=115 - 😴 Student #8 slept. Assignment pending. Work left was=151 minutes\n",
      "TIME=115 - 😴 Student #9 slept. Assignment pending. Work left was=141 minutes\n",
      "🌕 Power is on at 123 minutes\n",
      "🌑 Power is off at 222 minutes\n",
      "🌕 Power is on at 237 minutes\n",
      "🌑 Power is off at 304 minutes\n",
      "🌕 Power is on at 317 minutes\n",
      "🌑 Power is off at 391 minutes\n",
      "🌕 Power is on at 401 minutes\n",
      "The time is 420 minutes\n",
      "The time is 420 minutes\n"
     ]
    },
    {
     "data": {
      "text/plain": [
       "<ConditionValue {<Process(timeduration) object at 0x1fed201c8e0>: None}>"
      ]
     },
     "execution_count": 8,
     "metadata": {},
     "output_type": "execute_result"
    },
    {
     "name": "stdout",
     "output_type": "stream",
     "text": [
      "\n",
      "\n"
     ]
    },
    {
     "data": {
      "text/plain": [
       "'Summary of the simulation'"
      ]
     },
     "execution_count": 8,
     "metadata": {},
     "output_type": "execute_result"
    },
    {
     "name": "stdout",
     "output_type": "stream",
     "text": [
      "-----------------------------------------------------------------------------\n",
      "                     📊Summary of the simulation📊                     \n",
      "-----------------------------------------------------------------------------\n",
      "Number of students who finished assignment on time 🥳                  0\n",
      "Number of students who Slept😴                                         10\n",
      "Number of students👦                                                   10\n",
      "Percentage of students who finished assignment on time (in %)         0.0\n",
      "Average time to finish assignment                                     301.63\n",
      "Number of power cuts🌑🌕                                                383\n",
      "-----------------------------------------------------------------------------\n",
      "[9, 10, 9, 9, 9, 9, 7, 8, 7, 8, 7, 9, 7, 10, 7, 7, 7, 5, 5, 6, 7, 3, 7, 2, 6, 3, 6, 6, 7, 3, 6, 3, 3, 2, 1, 3, 3, 2, 2, 2, 3, 1, 1, 2, 3, 1, 0, 1, 1, 2, 1, 0, 2, 2, 1, 1, 1, 1, 1, 1, 1, 0, 0, 0, 0, 2, 0, 0, 1, 2, 0, 0, 0, 2, 0, 0, 1, 0, 0, 0, 0, 0, 0, 1, 0, 0, 0, 0, 1, 0, 0, 0, 0, 0, 0, 0, 0, 0, 0, 0]\n",
      "[0.01, 0.02, 0.03, 0.04, 0.05, 0.060000000000000005, 0.07, 0.08, 0.09, 0.09999999999999999, 0.10999999999999999, 0.11999999999999998, 0.12999999999999998, 0.13999999999999999, 0.15, 0.16, 0.17, 0.18000000000000002, 0.19000000000000003, 0.20000000000000004, 0.21000000000000005, 0.22000000000000006, 0.23000000000000007, 0.24000000000000007, 0.25000000000000006, 0.26000000000000006, 0.2700000000000001, 0.2800000000000001, 0.2900000000000001, 0.3000000000000001, 0.3100000000000001, 0.3200000000000001, 0.3300000000000001, 0.34000000000000014, 0.35000000000000014, 0.36000000000000015, 0.37000000000000016, 0.38000000000000017, 0.3900000000000002, 0.4000000000000002, 0.4100000000000002, 0.4200000000000002, 0.4300000000000002, 0.4400000000000002, 0.45000000000000023, 0.46000000000000024, 0.47000000000000025, 0.48000000000000026, 0.49000000000000027, 0.5000000000000002, 0.5100000000000002, 0.5200000000000002, 0.5300000000000002, 0.5400000000000003, 0.5500000000000003, 0.5600000000000003, 0.5700000000000003, 0.5800000000000003, 0.5900000000000003, 0.6000000000000003, 0.6100000000000003, 0.6200000000000003, 0.6300000000000003, 0.6400000000000003, 0.6500000000000004, 0.6600000000000004, 0.6700000000000004, 0.6800000000000004, 0.6900000000000004, 0.7000000000000004, 0.7100000000000004, 0.7200000000000004, 0.7300000000000004, 0.7400000000000004, 0.7500000000000004, 0.7600000000000005, 0.7700000000000005, 0.7800000000000005, 0.7900000000000005, 0.8000000000000005, 0.8100000000000005, 0.8200000000000005, 0.8300000000000005, 0.8400000000000005, 0.8500000000000005, 0.8600000000000005, 0.8700000000000006, 0.8800000000000006, 0.8900000000000006, 0.9000000000000006, 0.9100000000000006, 0.9200000000000006, 0.9300000000000006, 0.9400000000000006, 0.9500000000000006, 0.9600000000000006, 0.9700000000000006, 0.9800000000000006, 0.9900000000000007, 1.0000000000000007]\n",
      "-----------------------------------------------------------------------------\n",
      "Average number of students who finished assignment on time 🥳 (100 iterations): 2.69\n"
     ]
    },
    {
     "data": {
      "text/plain": [
       "<Figure size 720x360 with 0 Axes>"
      ]
     },
     "execution_count": 8,
     "metadata": {},
     "output_type": "execute_result"
    },
    {
     "data": {
      "text/plain": [
       "[<matplotlib.lines.Line2D at 0x1fed205ffa0>]"
      ]
     },
     "execution_count": 8,
     "metadata": {},
     "output_type": "execute_result"
    },
    {
     "data": {
      "image/png": "[encoded data removed]",
      "text/plain": [
       "<Figure size 720x360 with 1 Axes>"
      ]
     },
     "metadata": {
      "needs_background": "light"
     },
     "output_type": "display_data"
    }
   ],
   "source": [
    "''' Library imports '''\n",
    "import random\n",
    "\n",
    "import matplotlib.pyplot as plt\n",
    "import simpy\n",
    "\n",
    "'''Defining the constants'''\n",
    "\n",
    "# Unit of time = minutes\n",
    "\n",
    "NUMBER_OF_STUDENTS = 10  # Number of students in the simulation\n",
    "TIME_FOR_SUBMISSION = 7 * 60  # Time for submission in minutes for each student\n",
    "\n",
    "# Number of students who finished assignment\n",
    "NUMBER_OF_STUDENTS_FINISHED_ASSIGNMENT = 0\n",
    "NUMBER_OF_POWER_CUTS = 0  # Number of power cuts\n",
    "TIME_TAKEN_TO_SUBMIT = []  # List of time taken to submit for each student\n",
    "COUNTER_STUDENT_ENVIRONMENT = 0\n",
    "\n",
    "\n",
    "def Average(lst):\n",
    "    \"\"\"\n",
    "        Calculates the average of the list\n",
    "\n",
    "        Parameters:\n",
    "            lst : list\n",
    "\n",
    "        Returns: \n",
    "            float\n",
    "    \"\"\"\n",
    "    try:\n",
    "        return round(sum(lst) / len(lst), 2)\n",
    "    except ZeroDivisionError:\n",
    "        return 0\n",
    "\n",
    "\n",
    "def Power_Toggle(env):\n",
    "    \"\"\"\n",
    "        Simulates the power cut event\n",
    "\n",
    "        env : simpy.Environment\n",
    "    \"\"\"\n",
    "    global POWER_DOWN_EVENT  # Event that is triggered when power is cut\n",
    "    global POWER_UP_EVENT  # Event that is triggered when power is back on\n",
    "    global NUMBER_OF_POWER_CUTS\n",
    "\n",
    "    while True:  # Infinite loop\n",
    "        print(f\"🌕 Power is on at {env.now} minutes\")\n",
    "        yield env.timeout(random.randint(60, 2 * 60))\n",
    "        POWER_DOWN_EVENT.succeed()  # Power is down now\n",
    "        POWER_UP_EVENT = simpy.Event(env)\n",
    "        NUMBER_OF_POWER_CUTS += 1\n",
    "\n",
    "        print(f\"🌑 Power is off at {env.now} minutes\")\n",
    "        # power down for 10-15 minutes\n",
    "        yield env.timeout(random.randint(10, 15))\n",
    "        POWER_UP_EVENT.succeed()  # Power is back on now\n",
    "        POWER_DOWN_EVENT = simpy.Event(env)\n",
    "\n",
    "\n",
    "def timeduration(env):\n",
    "    \"\"\"\n",
    "        Generates the time duration of the simulation \n",
    "\n",
    "        Parameters:\n",
    "            env : simpy.Environment \n",
    "\n",
    "        Returns: \n",
    "            Nothing\n",
    "    \"\"\"\n",
    "    yield env.timeout(TIME_FOR_SUBMISSION)\n",
    "    print(f\"The time is {env.now} minutes\")\n",
    "\n",
    "\n",
    "class Student:\n",
    "    \"\"\"\n",
    "        Class to model the behavior of each student in the simulation \n",
    "\n",
    "        Parameters:\n",
    "            self : simpy.Environment\n",
    "            env : simpy.Environment\n",
    "            id : int\n",
    "            SLEEP_PROBABILITY : float\n",
    "\n",
    "        Returns :\n",
    "            simpy.Process\n",
    "    \"\"\"\n",
    "\n",
    "    def __init__(self, env, id, SLEEP_PROBABILITY):\n",
    "        \"\"\" Initialize the student class \"\"\"\n",
    "\n",
    "        # work reqd for each student in minutes (4-5 hours)\n",
    "        self.REQD_WORK = random.randint(4 * 60, 5 * 60)\n",
    "        self.env = env  # environment\n",
    "        self.id = id  # student id (unique)\n",
    "        self.behavior_process = env.process(\n",
    "            self.behavior())  # student behavior\n",
    "        self.SLEEP_PROBABILITY = SLEEP_PROBABILITY  # probability of falling asleep\n",
    "\n",
    "    def behavior(self):\n",
    "        \"\"\" Modelling a Student behavior \"\"\"\n",
    "\n",
    "        # counter for the number of students that finished the assignment on time\n",
    "        global NUMBER_OF_STUDENTS_FINISHED_ASSIGNMENT\n",
    "        global NUMBER_OF_POWER_CUTS\n",
    "        global TIME_TAKEN_TO_SUBMIT\n",
    "        global COUNTER_STUDENT_ENVIRONMENT\n",
    "\n",
    "        print(\n",
    "            f\"TIME={self.env.now} - 🙂 Student #{self.id} started working.Work left={self.REQD_WORK} minutes\"\n",
    "        )\n",
    "\n",
    "        while True:\n",
    "            START_TIME = env.now  # start time of the student\n",
    "\n",
    "            # Student completes the work\n",
    "            timeout_event = env.timeout(self.REQD_WORK)\n",
    "            # wait for completing assignment event or power down event\n",
    "            ret = yield timeout_event | POWER_DOWN_EVENT\n",
    "\n",
    "            if timeout_event in ret:  # Student completes the work\n",
    "                COUNTER_STUDENT_ENVIRONMENT += 1\n",
    "                NUMBER_OF_STUDENTS_FINISHED_ASSIGNMENT += 1\n",
    "                print(\n",
    "                    f\"TIME={self.env.now} - 🥳 Student #{self.id} finished working.\")\n",
    "\n",
    "                TIME_TAKEN_TO_SUBMIT.append(\n",
    "                    self.env.now)  # Time taken to submit\n",
    "\n",
    "                if COUNTER_STUDENT_ENVIRONMENT == NUMBER_OF_STUDENTS:\n",
    "                    # If all students finished the assignment on time\n",
    "                    ALL_FINISHED.succeed()\n",
    "\n",
    "                return\n",
    "\n",
    "            else:  # Power cut event\n",
    "                # deduct the time taken by the student to complete the work\n",
    "                self.REQD_WORK -= (self.env.now - START_TIME)\n",
    "\n",
    "                print(\n",
    "                    f\"TIME={self.env.now} - 😓 Student #{self.id} interrupted by power cut. Task remaining={self.REQD_WORK} minutes\"\n",
    "                )  # print the time when the student is interrupted\n",
    "\n",
    "                yield POWER_DOWN_EVENT  # wait for power to come back\n",
    "\n",
    "                if random.uniform(0, 1) <= self.SLEEP_PROBABILITY:\n",
    "                    # if the student falls asleep\n",
    "                    COUNTER_STUDENT_ENVIRONMENT += 1\n",
    "                    # wait for 5 minutes for power to come back\n",
    "                    yield env.timeout(5)\n",
    "\n",
    "                    print(\n",
    "                        f\"TIME={self.env.now} - 😴 Student #{self.id} slept. Assignment pending. Work left was={self.REQD_WORK} minutes\"\n",
    "                    )\n",
    "\n",
    "                    if COUNTER_STUDENT_ENVIRONMENT == NUMBER_OF_STUDENTS:\n",
    "                        ALL_FINISHED.succeed()  # If all students finished the assignment on time\n",
    "                    return\n",
    "\n",
    "                else:\n",
    "                    # if the student wakes up ans resumes working\n",
    "                    yield POWER_UP_EVENT\n",
    "                    print(\n",
    "                        f\"TIME={self.env.now} - 😃 Student #{self.id} resumes working. Work left to do={self.REQD_WORK} minutes\"\n",
    "                    )\n",
    "\n",
    "\n",
    "''' Main simpy function code '''\n",
    "Student_process = []  # list of student processes\n",
    "\n",
    "N = []  # list of number of students who finished assignment\n",
    "RANGE_OF_PROBABILITY = []  # list of range of probability of sleeping\n",
    "SLEEP_PROBABILITY = 0.00  # Probability of a student sleeping\n",
    "\n",
    "for p in range(100):\n",
    "    SLEEP_PROBABILITY+=0.01\n",
    "    NUMBER_OF_STUDENTS_FINISHED_ASSIGNMENT = 0\n",
    "\n",
    "    env = simpy.Environment()  # create the environment\n",
    "\n",
    "    # Event that is triggered when power is cut\n",
    "    POWER_DOWN_EVENT = simpy.Event(env)\n",
    "    # Event that is triggered when power is back on\n",
    "    POWER_UP_EVENT = simpy.Event(env)\n",
    "\n",
    "    Power_Toggle_process = env.process(\n",
    "        Power_Toggle(env))  # power toggle process\n",
    "    timeduration_process = env.process(\n",
    "        timeduration(env))  # timeduration process\n",
    "\n",
    "    for id in range(NUMBER_OF_STUDENTS):\n",
    "        Student_obj = Student(env, id, SLEEP_PROBABILITY)\n",
    "        Student_process.append(Student_obj.behavior_process)\n",
    "\n",
    "    # Event that is triggered when all students finished the assignment\n",
    "    ALL_FINISHED = simpy.Event(env)\n",
    "    TIME_OVER = env.process(timeduration(env))  # time duration process\n",
    "\n",
    "    # run the simulation until all students finished the assignment or time duration is over\n",
    "    env.run(until=ALL_FINISHED | TIME_OVER)\n",
    "    NUMBER_OF_STUDENTS_SLEPT = NUMBER_OF_STUDENTS - \\\n",
    "        NUMBER_OF_STUDENTS_FINISHED_ASSIGNMENT\n",
    "\n",
    "    N.append(NUMBER_OF_STUDENTS_FINISHED_ASSIGNMENT)\n",
    "    RANGE_OF_PROBABILITY.append(SLEEP_PROBABILITY)\n",
    "\n",
    "    print('\\n')\n",
    "\n",
    "    '''Summary of the simulation'''\n",
    "\n",
    "    dict = {\n",
    "        \"Number of students who finished assignment on time 🥳\": NUMBER_OF_STUDENTS_FINISHED_ASSIGNMENT,\n",
    "        \"Number of students who Slept😴\": NUMBER_OF_STUDENTS_SLEPT,\n",
    "        \"Number of students👦\": NUMBER_OF_STUDENTS,\n",
    "        \"Percentage of students who finished assignment on time (in %)\": (NUMBER_OF_STUDENTS_FINISHED_ASSIGNMENT / NUMBER_OF_STUDENTS)*100,\n",
    "        \"Average time to finish assignment\": Average(TIME_TAKEN_TO_SUBMIT),\n",
    "        \"Number of power cuts🌑🌕\": NUMBER_OF_POWER_CUTS,\n",
    "    }\n",
    "\n",
    "    print('-----------------------------------------------------------------------------')\n",
    "    print('{:<20} {:<20} {:<20}'.format(\n",
    "        \" \", \"📊Summary of the simulation📊\", \" \"))\n",
    "    print('-----------------------------------------------------------------------------')\n",
    "\n",
    "    for key, value in dict.items():\n",
    "        print(f\"{key:<{70}}{value}\")\n",
    "\n",
    "    print('-----------------------------------------------------------------------------')\n",
    "\n",
    "print(N)\n",
    "print(RANGE_OF_PROBABILITY)\n",
    "print('-----------------------------------------------------------------------------')\n",
    "print(\"Average number of students who finished assignment on time 🥳 (100 iterations):\", Average(N))\n",
    "\n",
    "plt.figure(figsize=(10, 5))\n",
    "plt.plot(RANGE_OF_PROBABILITY, N, 'ro')\n",
    "plt.show()\n"
   ]
  },
  {
   "cell_type": "code",
   "execution_count": 31,
   "metadata": {},
   "outputs": [
    {
     "data": {
      "application/javascript": "\n        if (window._pyforest_update_imports_cell) { window._pyforest_update_imports_cell('import numpy as np'); }\n    ",
      "text/plain": [
       "<IPython.core.display.Javascript object>"
      ]
     },
     "metadata": {},
     "output_type": "display_data"
    },
    {
     "data": {
      "image/png": "[encoded data removed]",
      "text/plain": [
       "<Figure size 720x720 with 1 Axes>"
      ]
     },
     "metadata": {
      "needs_background": "light"
     },
     "output_type": "display_data"
    }
   ],
   "source": [
    "plt.figure(figsize=(10, 10))\n",
    "plt.plot(RANGE_OF_PROBABILITY, N,marker='o', linestyle='--', color='green')\n",
    "plt.title(\"Number of students who finished assignment on time  vs. Sleep Probability\")\n",
    "plt.xlabel(\"Sleep Probability\")\n",
    "plt.ylabel(\"Number of students who finished assignment on time \")\n",
    "plt.xlim(0, 1)\n",
    "plt.xticks(np.arange(0, 1, 0.1))\n",
    "plt.yticks(range(0, 10, 1))\n",
    "plt.ylim(-1, NUMBER_OF_STUDENTS+1)\n",
    "plt.grid()\n",
    "plt.show();"
   ]
  },
  {
   "cell_type": "code",
   "execution_count": 10,
   "metadata": {},
   "outputs": [
    {
     "data": {
      "text/plain": [
       "<matplotlib.collections.PathCollection at 0x1fed21073a0>"
      ]
     },
     "execution_count": 10,
     "metadata": {},
     "output_type": "execute_result"
    },
    {
     "data": {
      "image/png": "[encoded data removed]",
      "text/plain": [
       "<Figure size 432x288 with 1 Axes>"
      ]
     },
     "metadata": {
      "needs_background": "light"
     },
     "output_type": "display_data"
    }
   ],
   "source": [
    "plt.scatter(RANGE_OF_PROBABILITY, N)"
   ]
  },
  {
   "cell_type": "code",
   "execution_count": 13,
   "metadata": {},
   "outputs": [
    {
     "data": {
      "text/plain": [
       "(array([34., 18., 12.,  9.,  0.,  2.,  5., 10.,  2.,  8.]),\n",
       " array([ 0.,  1.,  2.,  3.,  4.,  5.,  6.,  7.,  8.,  9., 10.]),\n",
       " <BarContainer object of 10 artists>)"
      ]
     },
     "execution_count": 13,
     "metadata": {},
     "output_type": "execute_result"
    },
    {
     "data": {
      "image/png": "[encoded data removed]",
      "text/plain": [
       "<Figure size 432x288 with 1 Axes>"
      ]
     },
     "metadata": {
      "needs_background": "light"
     },
     "output_type": "display_data"
    }
   ],
   "source": [
    "plt.hist(N, bins=10)"
   ]
  },
  {
   "cell_type": "code",
   "execution_count": 14,
   "metadata": {},
   "outputs": [
    {
     "data": {
      "text/plain": [
       "[<matplotlib.lines.Line2D at 0x1fed2096310>]"
      ]
     },
     "execution_count": 14,
     "metadata": {},
     "output_type": "execute_result"
    },
    {
     "data": {
      "image/png": "[encoded data removed]",
      "text/plain": [
       "<Figure size 432x288 with 1 Axes>"
      ]
     },
     "metadata": {
      "needs_background": "light"
     },
     "output_type": "display_data"
    }
   ],
   "source": [
    "plt.step(RANGE_OF_PROBABILITY, N)"
   ]
  },
  {
   "cell_type": "code",
   "execution_count": 15,
   "metadata": {},
   "outputs": [
    {
     "data": {
      "text/plain": [
       "<matplotlib.collections.PolyCollection at 0x1fed1ee4f40>"
      ]
     },
     "execution_count": 15,
     "metadata": {},
     "output_type": "execute_result"
    },
    {
     "data": {
      "image/png": "[encoded data removed]",
      "text/plain": [
       "<Figure size 432x288 with 1 Axes>"
      ]
     },
     "metadata": {
      "needs_background": "light"
     },
     "output_type": "display_data"
    }
   ],
   "source": [
    "plt.fill_between(RANGE_OF_PROBABILITY, N)"
   ]
  },
  {
   "cell_type": "code",
   "execution_count": 16,
   "metadata": {},
   "outputs": [
    {
     "data": {
      "text/plain": [
       "<StemContainer object of 3 artists>"
      ]
     },
     "execution_count": 16,
     "metadata": {},
     "output_type": "execute_result"
    },
    {
     "data": {
      "image/png": "[encoded data removed]",
      "text/plain": [
       "<Figure size 432x288 with 1 Axes>"
      ]
     },
     "metadata": {
      "needs_background": "light"
     },
     "output_type": "display_data"
    }
   ],
   "source": [
    "plt.stem(RANGE_OF_PROBABILITY, N)"
   ]
  },
  {
   "cell_type": "code",
   "execution_count": 20,
   "metadata": {},
   "outputs": [
    {
     "data": {
      "text/plain": [
       "([<matplotlib.patches.Wedge at 0x1fed22bdc10>,\n",
       "  <matplotlib.patches.Wedge at 0x1fed22cb1f0>,\n",
       "  <matplotlib.patches.Wedge at 0x1fed22cb5b0>,\n",
       "  <matplotlib.patches.Wedge at 0x1fed22cba90>,\n",
       "  <matplotlib.patches.Wedge at 0x1fed22cbf70>,\n",
       "  <matplotlib.patches.Wedge at 0x1fed22da430>,\n",
       "  <matplotlib.patches.Wedge at 0x1fed22da910>,\n",
       "  <matplotlib.patches.Wedge at 0x1fed22dadf0>,\n",
       "  <matplotlib.patches.Wedge at 0x1fed22e6310>,\n",
       "  <matplotlib.patches.Wedge at 0x1fed22e67f0>,\n",
       "  <matplotlib.patches.Wedge at 0x1fed2297880>,\n",
       "  <matplotlib.patches.Wedge at 0x1fed22f61c0>,\n",
       "  <matplotlib.patches.Wedge at 0x1fed22f66a0>,\n",
       "  <matplotlib.patches.Wedge at 0x1fed22f6b80>,\n",
       "  <matplotlib.patches.Wedge at 0x1fed23030a0>,\n",
       "  <matplotlib.patches.Wedge at 0x1fed23035b0>,\n",
       "  <matplotlib.patches.Wedge at 0x1fed2303a90>,\n",
       "  <matplotlib.patches.Wedge at 0x1fed2303f70>,\n",
       "  <matplotlib.patches.Wedge at 0x1fed2310490>,\n",
       "  <matplotlib.patches.Wedge at 0x1fed2310970>,\n",
       "  <matplotlib.patches.Wedge at 0x1fed2310e50>,\n",
       "  <matplotlib.patches.Wedge at 0x1fed231e370>,\n",
       "  <matplotlib.patches.Wedge at 0x1fed231e850>,\n",
       "  <matplotlib.patches.Wedge at 0x1fed231ed30>,\n",
       "  <matplotlib.patches.Wedge at 0x1fed232b250>,\n",
       "  <matplotlib.patches.Wedge at 0x1fed232b730>,\n",
       "  <matplotlib.patches.Wedge at 0x1fed232bc10>,\n",
       "  <matplotlib.patches.Wedge at 0x1fed2339130>,\n",
       "  <matplotlib.patches.Wedge at 0x1fed2339610>,\n",
       "  <matplotlib.patches.Wedge at 0x1fed2339af0>,\n",
       "  <matplotlib.patches.Wedge at 0x1fed2339fd0>,\n",
       "  <matplotlib.patches.Wedge at 0x1fed23474f0>,\n",
       "  <matplotlib.patches.Wedge at 0x1fed23479d0>,\n",
       "  <matplotlib.patches.Wedge at 0x1fed2347eb0>,\n",
       "  <matplotlib.patches.Wedge at 0x1fed23513d0>,\n",
       "  <matplotlib.patches.Wedge at 0x1fed23518b0>,\n",
       "  <matplotlib.patches.Wedge at 0x1fed2351d90>,\n",
       "  <matplotlib.patches.Wedge at 0x1fed23602b0>,\n",
       "  <matplotlib.patches.Wedge at 0x1fed2360790>,\n",
       "  <matplotlib.patches.Wedge at 0x1fed2360c70>,\n",
       "  <matplotlib.patches.Wedge at 0x1fed236e190>,\n",
       "  <matplotlib.patches.Wedge at 0x1fed236e670>,\n",
       "  <matplotlib.patches.Wedge at 0x1fed236eb50>,\n",
       "  <matplotlib.patches.Wedge at 0x1fed236efd0>,\n",
       "  <matplotlib.patches.Wedge at 0x1fed237b550>,\n",
       "  <matplotlib.patches.Wedge at 0x1fed237ba30>,\n",
       "  <matplotlib.patches.Wedge at 0x1fed237bf10>,\n",
       "  <matplotlib.patches.Wedge at 0x1fed22a5cd0>,\n",
       "  <matplotlib.patches.Wedge at 0x1fed23896d0>,\n",
       "  <matplotlib.patches.Wedge at 0x1fed2389bb0>,\n",
       "  <matplotlib.patches.Wedge at 0x1fed23980d0>,\n",
       "  <matplotlib.patches.Wedge at 0x1fed23985b0>,\n",
       "  <matplotlib.patches.Wedge at 0x1fed2398a90>,\n",
       "  <matplotlib.patches.Wedge at 0x1fed2398f70>,\n",
       "  <matplotlib.patches.Wedge at 0x1fed2370490>,\n",
       "  <matplotlib.patches.Wedge at 0x1fed2370970>,\n",
       "  <matplotlib.patches.Wedge at 0x1fed2370e50>,\n",
       "  <matplotlib.patches.Wedge at 0x1fed23b1370>,\n",
       "  <matplotlib.patches.Wedge at 0x1fed23b1850>,\n",
       "  <matplotlib.patches.Wedge at 0x1fed23b1d30>,\n",
       "  <matplotlib.patches.Wedge at 0x1fed23c0250>,\n",
       "  <matplotlib.patches.Wedge at 0x1fed23c0730>,\n",
       "  <matplotlib.patches.Wedge at 0x1fed23c0c10>,\n",
       "  <matplotlib.patches.Wedge at 0x1fed23cd130>,\n",
       "  <matplotlib.patches.Wedge at 0x1fed23cd610>,\n",
       "  <matplotlib.patches.Wedge at 0x1fed23cdaf0>,\n",
       "  <matplotlib.patches.Wedge at 0x1fed23cdfd0>,\n",
       "  <matplotlib.patches.Wedge at 0x1fed23db4f0>,\n",
       "  <matplotlib.patches.Wedge at 0x1fed23db9d0>,\n",
       "  <matplotlib.patches.Wedge at 0x1fed23dbeb0>,\n",
       "  <matplotlib.patches.Wedge at 0x1fed23e73d0>,\n",
       "  <matplotlib.patches.Wedge at 0x1fed23e78b0>,\n",
       "  <matplotlib.patches.Wedge at 0x1fed23e7d90>,\n",
       "  <matplotlib.patches.Wedge at 0x1fed23f52b0>,\n",
       "  <matplotlib.patches.Wedge at 0x1fed23f5790>,\n",
       "  <matplotlib.patches.Wedge at 0x1fed23f5c70>,\n",
       "  <matplotlib.patches.Wedge at 0x1fed2404190>,\n",
       "  <matplotlib.patches.Wedge at 0x1fed2404670>,\n",
       "  <matplotlib.patches.Wedge at 0x1fed2404b50>,\n",
       "  <matplotlib.patches.Wedge at 0x1fed2404fd0>,\n",
       "  <matplotlib.patches.Wedge at 0x1fed2410550>,\n",
       "  <matplotlib.patches.Wedge at 0x1fed2410a30>,\n",
       "  <matplotlib.patches.Wedge at 0x1fed2410f10>,\n",
       "  <matplotlib.patches.Wedge at 0x1fed241e430>,\n",
       "  <matplotlib.patches.Wedge at 0x1fed241e910>,\n",
       "  <matplotlib.patches.Wedge at 0x1fed241edf0>,\n",
       "  <matplotlib.patches.Wedge at 0x1fed242a310>,\n",
       "  <matplotlib.patches.Wedge at 0x1fed242a7f0>,\n",
       "  <matplotlib.patches.Wedge at 0x1fed242acd0>,\n",
       "  <matplotlib.patches.Wedge at 0x1fed24371f0>,\n",
       "  <matplotlib.patches.Wedge at 0x1fed24376d0>,\n",
       "  <matplotlib.patches.Wedge at 0x1fed2437bb0>,\n",
       "  <matplotlib.patches.Wedge at 0x1fed24450d0>,\n",
       "  <matplotlib.patches.Wedge at 0x1fed24455b0>,\n",
       "  <matplotlib.patches.Wedge at 0x1fed2445a90>,\n",
       "  <matplotlib.patches.Wedge at 0x1fed2445f70>,\n",
       "  <matplotlib.patches.Wedge at 0x1fed2453490>,\n",
       "  <matplotlib.patches.Wedge at 0x1fed2453970>,\n",
       "  <matplotlib.patches.Wedge at 0x1fed2453e50>,\n",
       "  <matplotlib.patches.Wedge at 0x1fed245f370>],\n",
       " [Text(1.0939292404979593, 0.11540717821503989, '0.01'),\n",
       "  Text(1.0417091415090736, 0.3533299654663173, '0.02'),\n",
       "  Text(0.9384072494469796, 0.5739266801476949, '0.03'),\n",
       "  Text(0.7979854966835647, 0.7571123741444759, '0.04'),\n",
       "  Text(0.6224291236680343, 0.9069630565849102, '0.05'),\n",
       "  Text(0.41946772764792534, 1.0168809298348978, '0.060000000000000005'),\n",
       "  Text(0.22325470930886235, 1.0771059997843366, '0.07'),\n",
       "  Text(0.032112080272125046, 1.0995311793217128, '0.08'),\n",
       "  Text(-0.16001350732593211, 1.0882994429260975, '0.09'),\n",
       "  Text(-0.34724104267636285, 1.0437545967712107, '0.09999999999999999'),\n",
       "  Text(-0.5238394455368425, 0.967260169395832, '0.10999999999999999'),\n",
       "  Text(-0.6944133691203115, 0.8531061321939833, '0.11999999999999998'),\n",
       "  Text(-0.8408110286340835, 0.7092508823591934, '0.12999999999999998'),\n",
       "  Text(-0.9641848117298386, 0.5294786575769566, '0.13999999999999999'),\n",
       "  Text(-1.0496771735065116, 0.3289039851071754, '0.15'),\n",
       "  Text(-1.0892152705085067, 0.1536557662148764, '0.16'),\n",
       "  Text(-1.0996999460400487, -0.0256910233255568, '0.17'),\n",
       "  Text(-1.0853294496069013, -0.1790530251517151, '0.18000000000000002'),\n",
       "  Text(-1.0570725287609266, -0.3042986508990472, '0.19000000000000003'),\n",
       "  Text(-1.0093769518440892, -0.43721638702813437, '0.20000000000000004'),\n",
       "  Text(-0.9316406190407857, -0.5848467807497122, '0.21000000000000005'),\n",
       "  Text(-0.8571465025256142, -0.6894199541702485, '0.22000000000000006'),\n",
       "  Text(-0.7709747056533404, -0.7846005373709256, '0.23000000000000007'),\n",
       "  Text(-0.6844029443352092, -0.8611577148149442, '0.24000000000000007'),\n",
       "  Text(-0.6010767779767422, -0.921252792113597, '0.25000000000000006'),\n",
       "  Text(-0.501105707320455, -0.9792308563821234, '0.26000000000000006'),\n",
       "  Text(-0.3956035598746368, -1.0264004206032433, '0.2700000000000001'),\n",
       "  Text(-0.24835005538490568, -1.0715979889820224, '0.2800000000000001'),\n",
       "  Text(-0.08342306640972022, -1.0968320710075903, '0.2900000000000001'),\n",
       "  Text(0.04495085439721707, -1.0990811711101962, '0.3000000000000001'),\n",
       "  Text(0.16001355508871987, -1.0882994359034968, '0.3100000000000001'),\n",
       "  Text(0.27331006703474864, -1.0655053295302945, '0.3200000000000001'),\n",
       "  Text(0.3472410884841864, -1.0437545815316538, '0.3300000000000001'),\n",
       "  Text(0.4075635218463475, -1.0217103188576506, '0.34000000000000014'),\n",
       "  Text(0.44310307192789794, -1.0068066684562933, '0.35000000000000014'),\n",
       "  Text(0.48963566927942215, -0.9850161985314214, '0.36000000000000015'),\n",
       "  Text(0.557400332682905, -0.9483168611413524, '0.37000000000000016'),\n",
       "  Text(0.6117947466069696, -0.9141702182986022, '0.38000000000000017'),\n",
       "  Text(0.6538173583269773, -0.8846032228916719, '0.3900000000000002'),\n",
       "  Text(0.6944134015689453, -0.8531061057813659, '0.4000000000000002'),\n",
       "  Text(0.743017715188727, -0.8111255605118877, '0.4100000000000002'),\n",
       "  Text(0.7800851752110574, -0.7755431125449663, '0.4200000000000002'),\n",
       "  Text(0.7979855393259084, -0.7571123292000593, '0.4300000000000002'),\n",
       "  Text(0.8240168325427997, -0.7286949016468632, '0.4400000000000002'),\n",
       "  Text(0.8651395154761842, -0.6793626562901683, '0.45000000000000023'),\n",
       "  Text(0.8959206633148301, -0.6382210941715378, '0.46000000000000024'),\n",
       "  Text(0.9033130411293036, -0.6277145447779025, '0.47000000000000025'),\n",
       "  Text(0.9105822138908006, -0.6171223798775479, '0.48000000000000026'),\n",
       "  Text(0.9247469953540316, -0.5956869938010153, '0.49000000000000027'),\n",
       "  Text(0.9450458964571903, -0.5629282845882109, '0.5000000000000002'),\n",
       "  Text(0.9641848291579758, -0.5294786258401799, '0.5100000000000002'),\n",
       "  Text(0.970302600797032, -0.5181822680162992, '0.5200000000000002'),\n",
       "  Text(0.982140301944207, -0.49537907434301476, '0.5300000000000002'),\n",
       "  Text(1.0042021153628802, -0.44897451096996255, '0.5400000000000003'),\n",
       "  Text(1.0193130359070506, -0.4135225928893752, '0.5500000000000003'),\n",
       "  Text(1.0286929952223074, -0.38960328743551165, '0.5600000000000003'),\n",
       "  Text(1.0375117499601836, -0.3654714334863362, '0.5700000000000003'),\n",
       "  Text(1.0457644890394828, -0.34114019620090186, '0.5800000000000003'),\n",
       "  Text(1.0534467101694647, -0.316622849512053, '0.5900000000000003'),\n",
       "  Text(1.0605542223060733, -0.2919327688848242, '0.6000000000000003'),\n",
       "  Text(1.0670831479383673, -0.26708342401943347, '0.6100000000000003'),\n",
       "  Text(1.0701295153490462, -0.254603260738773, '0.6200000000000003'),\n",
       "  Text(1.0701295153490462, -0.254603260738773, '0.6300000000000003'),\n",
       "  Text(1.0701295153490462, -0.254603260738773, '0.6400000000000003'),\n",
       "  Text(1.0701295153490462, -0.254603260738773, '0.6500000000000004'),\n",
       "  Text(1.0757839819090007, -0.22954046324780128, '0.6600000000000004'),\n",
       "  Text(1.0808515533527987, -0.2043524397085644, '0.6700000000000004'),\n",
       "  Text(1.0808515533527987, -0.2043524397085644, '0.6800000000000004'),\n",
       "  Text(1.0831643769131543, -0.19171575987992842, '0.6900000000000004'),\n",
       "  Text(1.0892152741050791, -0.15365574071995333, '0.7000000000000004'),\n",
       "  Text(1.0925068605766493, -0.12817472290960433, '0.7100000000000004'),\n",
       "  Text(1.0925068605766493, -0.12817472290960433, '0.7200000000000004'),\n",
       "  Text(1.0925068605766493, -0.12817472290960433, '0.7300000000000004'),\n",
       "  Text(1.0952024287474986, -0.10262377924038923, '0.7400000000000004'),\n",
       "  Text(1.0973005080474931, -0.07701684905729067, '0.7500000000000004'),\n",
       "  Text(1.0973005080474931, -0.07701684905729067, '0.7600000000000005'),\n",
       "  Text(1.09812511892934, -0.06419675362838173, '0.7700000000000005'),\n",
       "  Text(1.0987999538671989, -0.051367902248798405, '0.7800000000000005'),\n",
       "  Text(1.0987999538671989, -0.051367902248798405, '0.7900000000000005'),\n",
       "  Text(1.0987999538671989, -0.051367902248798405, '0.8000000000000005'),\n",
       "  Text(1.0987999538671989, -0.051367902248798405, '0.8100000000000005'),\n",
       "  Text(1.0987999538671989, -0.051367902248798405, '0.8200000000000005'),\n",
       "  Text(1.0987999538671989, -0.051367902248798405, '0.8300000000000005'),\n",
       "  Text(1.0993249208186984, -0.03853204467664431, '0.8400000000000005'),\n",
       "  Text(1.099699948182325, -0.025690931625613714, '0.8500000000000005'),\n",
       "  Text(1.099699948182325, -0.025690931625613714, '0.8600000000000005'),\n",
       "  Text(1.099699948182325, -0.025690931625613714, '0.8700000000000006'),\n",
       "  Text(1.099699948182325, -0.025690931625613714, '0.8800000000000006'),\n",
       "  Text(1.0999249848071884, -0.012846314526211251, '0.8900000000000006'),\n",
       "  Text(1.0999999999999988, 5.471313570795772e-08, '0.9000000000000006'),\n",
       "  Text(1.0999999999999988, 5.471313570795772e-08, '0.9100000000000006'),\n",
       "  Text(1.0999999999999988, 5.471313570795772e-08, '0.9200000000000006'),\n",
       "  Text(1.0999999999999988, 5.471313570795772e-08, '0.9300000000000006'),\n",
       "  Text(1.0999999999999988, 5.471313570795772e-08, '0.9400000000000006'),\n",
       "  Text(1.0999999999999988, 5.471313570795772e-08, '0.9500000000000006'),\n",
       "  Text(1.0999999999999988, 5.471313570795772e-08, '0.9600000000000006'),\n",
       "  Text(1.0999999999999988, 5.471313570795772e-08, '0.9700000000000006'),\n",
       "  Text(1.0999999999999988, 5.471313570795772e-08, '0.9800000000000006'),\n",
       "  Text(1.0999999999999988, 5.471313570795772e-08, '0.9900000000000007'),\n",
       "  Text(1.0999999999999988, 5.471313570795772e-08, '1.0000000000000007')])"
      ]
     },
     "execution_count": 20,
     "metadata": {},
     "output_type": "execute_result"
    },
    {
     "data": {
      "image/png": "[encoded data removed]",
      "text/plain": [
       "<Figure size 432x288 with 1 Axes>"
      ]
     },
     "metadata": {},
     "output_type": "display_data"
    }
   ],
   "source": [
    "plt.pie(N, labels=RANGE_OF_PROBABILITY)"
   ]
  },
  {
   "cell_type": "code",
   "execution_count": null,
   "metadata": {},
   "outputs": [],
   "source": []
  }
 ],
 "metadata": {
  "interpreter": {
   "hash": "c0f70214c0dd213f07f54ee5d6e0ea644bdbba35113c9bfe8aaa0d1db03ad5dd"
  },
  "kernelspec": {
   "display_name": "Python 3.9.7 ('base')",
   "language": "python",
   "name": "python3"
  },
  "language_info": {
   "codemirror_mode": {
    "name": "ipython",
    "version": 3
   },
   "file_extension": ".py",
   "mimetype": "text/x-python",
   "name": "python",
   "nbconvert_exporter": "python",
   "pygments_lexer": "ipython3",
   "version": "3.9.7"
  },
  "orig_nbformat": 4
 },
 "nbformat": 4,
 "nbformat_minor": 2
}
